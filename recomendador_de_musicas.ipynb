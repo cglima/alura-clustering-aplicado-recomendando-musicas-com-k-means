{
 "cells": [
  {
   "attachments": {},
   "cell_type": "markdown",
   "metadata": {},
   "source": [
    "# Aula 01 - Jornada musical"
   ]
  },
  {
   "attachments": {},
   "cell_type": "markdown",
   "metadata": {},
   "source": [
    "## Dicionário dos dados"
   ]
  },
  {
   "attachments": {},
   "cell_type": "markdown",
   "metadata": {},
   "source": [
    "## Análise dos dados"
   ]
  },
  {
   "cell_type": "code",
   "execution_count": 1,
   "metadata": {},
   "outputs": [],
   "source": [
    "import pandas as pd\n",
    "import numpy as np"
   ]
  },
  {
   "cell_type": "code",
   "execution_count": 2,
   "metadata": {},
   "outputs": [],
   "source": [
    "dados = pd.read_csv('./Dados/Dados_totais.csv')\n",
    "dados_generos = pd.read_csv('./Dados/data_by_genres.csv')\n",
    "dados_anos = pd.read_csv('./Dados/data_by_year.csv')"
   ]
  },
  {
   "cell_type": "code",
   "execution_count": 3,
   "metadata": {},
   "outputs": [
    {
     "data": {
      "text/html": [
       "<div>\n",
       "<style scoped>\n",
       "    .dataframe tbody tr th:only-of-type {\n",
       "        vertical-align: middle;\n",
       "    }\n",
       "\n",
       "    .dataframe tbody tr th {\n",
       "        vertical-align: top;\n",
       "    }\n",
       "\n",
       "    .dataframe thead th {\n",
       "        text-align: right;\n",
       "    }\n",
       "</style>\n",
       "<table border=\"1\" class=\"dataframe\">\n",
       "  <thead>\n",
       "    <tr style=\"text-align: right;\">\n",
       "      <th></th>\n",
       "      <th>valence</th>\n",
       "      <th>year</th>\n",
       "      <th>acousticness</th>\n",
       "      <th>artists</th>\n",
       "      <th>danceability</th>\n",
       "      <th>duration_ms</th>\n",
       "      <th>energy</th>\n",
       "      <th>explicit</th>\n",
       "      <th>id</th>\n",
       "      <th>instrumentalness</th>\n",
       "      <th>key</th>\n",
       "      <th>liveness</th>\n",
       "      <th>loudness</th>\n",
       "      <th>mode</th>\n",
       "      <th>name</th>\n",
       "      <th>popularity</th>\n",
       "      <th>speechiness</th>\n",
       "      <th>tempo</th>\n",
       "      <th>artists_song</th>\n",
       "    </tr>\n",
       "  </thead>\n",
       "  <tbody>\n",
       "    <tr>\n",
       "      <th>0</th>\n",
       "      <td>0.285</td>\n",
       "      <td>2000</td>\n",
       "      <td>0.00239</td>\n",
       "      <td>Coldplay</td>\n",
       "      <td>0.429</td>\n",
       "      <td>266773</td>\n",
       "      <td>0.661</td>\n",
       "      <td>0</td>\n",
       "      <td>3AJwUDP919kvQ9QcozQPxg</td>\n",
       "      <td>0.000121</td>\n",
       "      <td>11</td>\n",
       "      <td>0.2340</td>\n",
       "      <td>-7.227</td>\n",
       "      <td>1</td>\n",
       "      <td>Yellow</td>\n",
       "      <td>84</td>\n",
       "      <td>0.0281</td>\n",
       "      <td>173.372</td>\n",
       "      <td>Coldplay - Yellow</td>\n",
       "    </tr>\n",
       "    <tr>\n",
       "      <th>1</th>\n",
       "      <td>0.613</td>\n",
       "      <td>2000</td>\n",
       "      <td>0.14300</td>\n",
       "      <td>OutKast</td>\n",
       "      <td>0.843</td>\n",
       "      <td>270507</td>\n",
       "      <td>0.806</td>\n",
       "      <td>1</td>\n",
       "      <td>0I3q5fE6wg7LIfHGngUTnV</td>\n",
       "      <td>0.000000</td>\n",
       "      <td>4</td>\n",
       "      <td>0.0771</td>\n",
       "      <td>-5.946</td>\n",
       "      <td>0</td>\n",
       "      <td>Ms. Jackson</td>\n",
       "      <td>80</td>\n",
       "      <td>0.2690</td>\n",
       "      <td>94.948</td>\n",
       "      <td>OutKast - Ms. Jackson</td>\n",
       "    </tr>\n",
       "  </tbody>\n",
       "</table>\n",
       "</div>"
      ],
      "text/plain": [
       "   valence  year  acousticness   artists  danceability  duration_ms  energy  \\\n",
       "0    0.285  2000       0.00239  Coldplay         0.429       266773   0.661   \n",
       "1    0.613  2000       0.14300   OutKast         0.843       270507   0.806   \n",
       "\n",
       "   explicit                      id  instrumentalness  key  liveness  \\\n",
       "0         0  3AJwUDP919kvQ9QcozQPxg          0.000121   11    0.2340   \n",
       "1         1  0I3q5fE6wg7LIfHGngUTnV          0.000000    4    0.0771   \n",
       "\n",
       "   loudness  mode         name  popularity  speechiness    tempo  \\\n",
       "0    -7.227     1       Yellow          84       0.0281  173.372   \n",
       "1    -5.946     0  Ms. Jackson          80       0.2690   94.948   \n",
       "\n",
       "            artists_song  \n",
       "0      Coldplay - Yellow  \n",
       "1  OutKast - Ms. Jackson  "
      ]
     },
     "execution_count": 3,
     "metadata": {},
     "output_type": "execute_result"
    }
   ],
   "source": [
    "dados.head(2)"
   ]
  },
  {
   "cell_type": "code",
   "execution_count": 4,
   "metadata": {},
   "outputs": [
    {
     "data": {
      "text/plain": [
       "array([2000, 2001, 2002, 2003, 2004, 2005, 2006, 2007, 2008, 2009, 2010,\n",
       "       2011, 2012, 2013, 2014, 2015, 2016, 2017, 2018, 2019, 2020],\n",
       "      dtype=int64)"
      ]
     },
     "execution_count": 4,
     "metadata": {},
     "output_type": "execute_result"
    }
   ],
   "source": [
    "dados[\"year\"].unique()"
   ]
  },
  {
   "cell_type": "code",
   "execution_count": 5,
   "metadata": {},
   "outputs": [
    {
     "data": {
      "text/plain": [
       "(20311, 19)"
      ]
     },
     "execution_count": 5,
     "metadata": {},
     "output_type": "execute_result"
    }
   ],
   "source": [
    "dados.shape"
   ]
  },
  {
   "cell_type": "code",
   "execution_count": 6,
   "metadata": {},
   "outputs": [
    {
     "data": {
      "text/html": [
       "<div>\n",
       "<style scoped>\n",
       "    .dataframe tbody tr th:only-of-type {\n",
       "        vertical-align: middle;\n",
       "    }\n",
       "\n",
       "    .dataframe tbody tr th {\n",
       "        vertical-align: top;\n",
       "    }\n",
       "\n",
       "    .dataframe thead th {\n",
       "        text-align: right;\n",
       "    }\n",
       "</style>\n",
       "<table border=\"1\" class=\"dataframe\">\n",
       "  <thead>\n",
       "    <tr style=\"text-align: right;\">\n",
       "      <th></th>\n",
       "      <th>valence</th>\n",
       "      <th>year</th>\n",
       "      <th>acousticness</th>\n",
       "      <th>artists</th>\n",
       "      <th>danceability</th>\n",
       "      <th>duration_ms</th>\n",
       "      <th>energy</th>\n",
       "      <th>id</th>\n",
       "      <th>instrumentalness</th>\n",
       "      <th>liveness</th>\n",
       "      <th>loudness</th>\n",
       "      <th>name</th>\n",
       "      <th>popularity</th>\n",
       "      <th>speechiness</th>\n",
       "      <th>tempo</th>\n",
       "      <th>artists_song</th>\n",
       "    </tr>\n",
       "  </thead>\n",
       "  <tbody>\n",
       "    <tr>\n",
       "      <th>0</th>\n",
       "      <td>0.285</td>\n",
       "      <td>2000</td>\n",
       "      <td>0.00239</td>\n",
       "      <td>Coldplay</td>\n",
       "      <td>0.429</td>\n",
       "      <td>266773</td>\n",
       "      <td>0.661</td>\n",
       "      <td>3AJwUDP919kvQ9QcozQPxg</td>\n",
       "      <td>0.000121</td>\n",
       "      <td>0.2340</td>\n",
       "      <td>-7.227</td>\n",
       "      <td>Yellow</td>\n",
       "      <td>84</td>\n",
       "      <td>0.0281</td>\n",
       "      <td>173.372</td>\n",
       "      <td>Coldplay - Yellow</td>\n",
       "    </tr>\n",
       "    <tr>\n",
       "      <th>1</th>\n",
       "      <td>0.613</td>\n",
       "      <td>2000</td>\n",
       "      <td>0.14300</td>\n",
       "      <td>OutKast</td>\n",
       "      <td>0.843</td>\n",
       "      <td>270507</td>\n",
       "      <td>0.806</td>\n",
       "      <td>0I3q5fE6wg7LIfHGngUTnV</td>\n",
       "      <td>0.000000</td>\n",
       "      <td>0.0771</td>\n",
       "      <td>-5.946</td>\n",
       "      <td>Ms. Jackson</td>\n",
       "      <td>80</td>\n",
       "      <td>0.2690</td>\n",
       "      <td>94.948</td>\n",
       "      <td>OutKast - Ms. Jackson</td>\n",
       "    </tr>\n",
       "  </tbody>\n",
       "</table>\n",
       "</div>"
      ],
      "text/plain": [
       "   valence  year  acousticness   artists  danceability  duration_ms  energy  \\\n",
       "0    0.285  2000       0.00239  Coldplay         0.429       266773   0.661   \n",
       "1    0.613  2000       0.14300   OutKast         0.843       270507   0.806   \n",
       "\n",
       "                       id  instrumentalness  liveness  loudness         name  \\\n",
       "0  3AJwUDP919kvQ9QcozQPxg          0.000121    0.2340    -7.227       Yellow   \n",
       "1  0I3q5fE6wg7LIfHGngUTnV          0.000000    0.0771    -5.946  Ms. Jackson   \n",
       "\n",
       "   popularity  speechiness    tempo           artists_song  \n",
       "0          84       0.0281  173.372      Coldplay - Yellow  \n",
       "1          80       0.2690   94.948  OutKast - Ms. Jackson  "
      ]
     },
     "execution_count": 6,
     "metadata": {},
     "output_type": "execute_result"
    }
   ],
   "source": [
    "dados = dados.drop([\"explicit\", \"key\", \"mode\"], axis=1)\n",
    "dados.head(2)"
   ]
  },
  {
   "cell_type": "code",
   "execution_count": 7,
   "metadata": {},
   "outputs": [
    {
     "data": {
      "text/plain": [
       "(20311, 16)"
      ]
     },
     "execution_count": 7,
     "metadata": {},
     "output_type": "execute_result"
    }
   ],
   "source": [
    "dados.shape"
   ]
  },
  {
   "cell_type": "code",
   "execution_count": 8,
   "metadata": {},
   "outputs": [
    {
     "data": {
      "text/plain": [
       "valence             0\n",
       "year                0\n",
       "acousticness        0\n",
       "artists             0\n",
       "danceability        0\n",
       "duration_ms         0\n",
       "energy              0\n",
       "id                  0\n",
       "instrumentalness    0\n",
       "liveness            0\n",
       "loudness            0\n",
       "name                0\n",
       "popularity          0\n",
       "speechiness         0\n",
       "tempo               0\n",
       "artists_song        0\n",
       "dtype: int64"
      ]
     },
     "execution_count": 8,
     "metadata": {},
     "output_type": "execute_result"
    }
   ],
   "source": [
    "dados.isnull().sum()"
   ]
  },
  {
   "cell_type": "code",
   "execution_count": 9,
   "metadata": {},
   "outputs": [
    {
     "data": {
      "text/plain": [
       "valence             0\n",
       "year                0\n",
       "acousticness        0\n",
       "artists             0\n",
       "danceability        0\n",
       "duration_ms         0\n",
       "energy              0\n",
       "id                  0\n",
       "instrumentalness    0\n",
       "liveness            0\n",
       "loudness            0\n",
       "name                0\n",
       "popularity          0\n",
       "speechiness         0\n",
       "tempo               0\n",
       "artists_song        0\n",
       "dtype: int64"
      ]
     },
     "execution_count": 9,
     "metadata": {},
     "output_type": "execute_result"
    }
   ],
   "source": [
    "dados.isna().sum()"
   ]
  },
  {
   "cell_type": "code",
   "execution_count": 10,
   "metadata": {},
   "outputs": [
    {
     "data": {
      "text/html": [
       "<div>\n",
       "<style scoped>\n",
       "    .dataframe tbody tr th:only-of-type {\n",
       "        vertical-align: middle;\n",
       "    }\n",
       "\n",
       "    .dataframe tbody tr th {\n",
       "        vertical-align: top;\n",
       "    }\n",
       "\n",
       "    .dataframe thead th {\n",
       "        text-align: right;\n",
       "    }\n",
       "</style>\n",
       "<table border=\"1\" class=\"dataframe\">\n",
       "  <thead>\n",
       "    <tr style=\"text-align: right;\">\n",
       "      <th></th>\n",
       "      <th>mode</th>\n",
       "      <th>genres</th>\n",
       "      <th>acousticness</th>\n",
       "      <th>danceability</th>\n",
       "      <th>duration_ms</th>\n",
       "      <th>energy</th>\n",
       "      <th>instrumentalness</th>\n",
       "      <th>liveness</th>\n",
       "      <th>loudness</th>\n",
       "      <th>speechiness</th>\n",
       "      <th>tempo</th>\n",
       "      <th>valence</th>\n",
       "      <th>popularity</th>\n",
       "      <th>key</th>\n",
       "    </tr>\n",
       "  </thead>\n",
       "  <tbody>\n",
       "    <tr>\n",
       "      <th>0</th>\n",
       "      <td>1</td>\n",
       "      <td>21st century classical</td>\n",
       "      <td>0.979333</td>\n",
       "      <td>0.162883</td>\n",
       "      <td>1.602977e+05</td>\n",
       "      <td>0.071317</td>\n",
       "      <td>0.606834</td>\n",
       "      <td>0.3616</td>\n",
       "      <td>-31.514333</td>\n",
       "      <td>0.040567</td>\n",
       "      <td>75.336500</td>\n",
       "      <td>0.103783</td>\n",
       "      <td>27.833333</td>\n",
       "      <td>6</td>\n",
       "    </tr>\n",
       "    <tr>\n",
       "      <th>1</th>\n",
       "      <td>1</td>\n",
       "      <td>432hz</td>\n",
       "      <td>0.494780</td>\n",
       "      <td>0.299333</td>\n",
       "      <td>1.048887e+06</td>\n",
       "      <td>0.450678</td>\n",
       "      <td>0.477762</td>\n",
       "      <td>0.1310</td>\n",
       "      <td>-16.854000</td>\n",
       "      <td>0.076817</td>\n",
       "      <td>120.285667</td>\n",
       "      <td>0.221750</td>\n",
       "      <td>52.500000</td>\n",
       "      <td>5</td>\n",
       "    </tr>\n",
       "  </tbody>\n",
       "</table>\n",
       "</div>"
      ],
      "text/plain": [
       "   mode                  genres  acousticness  danceability   duration_ms  \\\n",
       "0     1  21st century classical      0.979333      0.162883  1.602977e+05   \n",
       "1     1                   432hz      0.494780      0.299333  1.048887e+06   \n",
       "\n",
       "     energy  instrumentalness  liveness   loudness  speechiness       tempo  \\\n",
       "0  0.071317          0.606834    0.3616 -31.514333     0.040567   75.336500   \n",
       "1  0.450678          0.477762    0.1310 -16.854000     0.076817  120.285667   \n",
       "\n",
       "    valence  popularity  key  \n",
       "0  0.103783   27.833333    6  \n",
       "1  0.221750   52.500000    5  "
      ]
     },
     "execution_count": 10,
     "metadata": {},
     "output_type": "execute_result"
    }
   ],
   "source": [
    "dados_generos.head(2)"
   ]
  },
  {
   "cell_type": "code",
   "execution_count": 11,
   "metadata": {},
   "outputs": [],
   "source": [
    "dados_generos = dados_generos.drop([\"mode\", \"key\"], axis=1)"
   ]
  },
  {
   "cell_type": "code",
   "execution_count": 12,
   "metadata": {},
   "outputs": [
    {
     "data": {
      "text/html": [
       "<div>\n",
       "<style scoped>\n",
       "    .dataframe tbody tr th:only-of-type {\n",
       "        vertical-align: middle;\n",
       "    }\n",
       "\n",
       "    .dataframe tbody tr th {\n",
       "        vertical-align: top;\n",
       "    }\n",
       "\n",
       "    .dataframe thead th {\n",
       "        text-align: right;\n",
       "    }\n",
       "</style>\n",
       "<table border=\"1\" class=\"dataframe\">\n",
       "  <thead>\n",
       "    <tr style=\"text-align: right;\">\n",
       "      <th></th>\n",
       "      <th>genres</th>\n",
       "      <th>acousticness</th>\n",
       "      <th>danceability</th>\n",
       "      <th>duration_ms</th>\n",
       "      <th>energy</th>\n",
       "      <th>instrumentalness</th>\n",
       "      <th>liveness</th>\n",
       "      <th>loudness</th>\n",
       "      <th>speechiness</th>\n",
       "      <th>tempo</th>\n",
       "      <th>valence</th>\n",
       "      <th>popularity</th>\n",
       "    </tr>\n",
       "  </thead>\n",
       "  <tbody>\n",
       "    <tr>\n",
       "      <th>0</th>\n",
       "      <td>21st century classical</td>\n",
       "      <td>0.979333</td>\n",
       "      <td>0.162883</td>\n",
       "      <td>1.602977e+05</td>\n",
       "      <td>0.071317</td>\n",
       "      <td>0.606834</td>\n",
       "      <td>0.3616</td>\n",
       "      <td>-31.514333</td>\n",
       "      <td>0.040567</td>\n",
       "      <td>75.336500</td>\n",
       "      <td>0.103783</td>\n",
       "      <td>27.833333</td>\n",
       "    </tr>\n",
       "    <tr>\n",
       "      <th>1</th>\n",
       "      <td>432hz</td>\n",
       "      <td>0.494780</td>\n",
       "      <td>0.299333</td>\n",
       "      <td>1.048887e+06</td>\n",
       "      <td>0.450678</td>\n",
       "      <td>0.477762</td>\n",
       "      <td>0.1310</td>\n",
       "      <td>-16.854000</td>\n",
       "      <td>0.076817</td>\n",
       "      <td>120.285667</td>\n",
       "      <td>0.221750</td>\n",
       "      <td>52.500000</td>\n",
       "    </tr>\n",
       "  </tbody>\n",
       "</table>\n",
       "</div>"
      ],
      "text/plain": [
       "                   genres  acousticness  danceability   duration_ms    energy  \\\n",
       "0  21st century classical      0.979333      0.162883  1.602977e+05  0.071317   \n",
       "1                   432hz      0.494780      0.299333  1.048887e+06  0.450678   \n",
       "\n",
       "   instrumentalness  liveness   loudness  speechiness       tempo   valence  \\\n",
       "0          0.606834    0.3616 -31.514333     0.040567   75.336500  0.103783   \n",
       "1          0.477762    0.1310 -16.854000     0.076817  120.285667  0.221750   \n",
       "\n",
       "   popularity  \n",
       "0   27.833333  \n",
       "1   52.500000  "
      ]
     },
     "execution_count": 12,
     "metadata": {},
     "output_type": "execute_result"
    }
   ],
   "source": [
    "dados_generos.head(2)"
   ]
  },
  {
   "cell_type": "code",
   "execution_count": 13,
   "metadata": {},
   "outputs": [
    {
     "data": {
      "text/plain": [
       "genres              0\n",
       "acousticness        0\n",
       "danceability        0\n",
       "duration_ms         0\n",
       "energy              0\n",
       "instrumentalness    0\n",
       "liveness            0\n",
       "loudness            0\n",
       "speechiness         0\n",
       "tempo               0\n",
       "valence             0\n",
       "popularity          0\n",
       "dtype: int64"
      ]
     },
     "execution_count": 13,
     "metadata": {},
     "output_type": "execute_result"
    }
   ],
   "source": [
    "dados_generos.isnull().sum()"
   ]
  },
  {
   "cell_type": "code",
   "execution_count": 14,
   "metadata": {},
   "outputs": [
    {
     "data": {
      "text/plain": [
       "genres              0\n",
       "acousticness        0\n",
       "danceability        0\n",
       "duration_ms         0\n",
       "energy              0\n",
       "instrumentalness    0\n",
       "liveness            0\n",
       "loudness            0\n",
       "speechiness         0\n",
       "tempo               0\n",
       "valence             0\n",
       "popularity          0\n",
       "dtype: int64"
      ]
     },
     "execution_count": 14,
     "metadata": {},
     "output_type": "execute_result"
    }
   ],
   "source": [
    "dados_generos.isna().sum()"
   ]
  },
  {
   "cell_type": "code",
   "execution_count": 15,
   "metadata": {},
   "outputs": [
    {
     "data": {
      "text/html": [
       "<div>\n",
       "<style scoped>\n",
       "    .dataframe tbody tr th:only-of-type {\n",
       "        vertical-align: middle;\n",
       "    }\n",
       "\n",
       "    .dataframe tbody tr th {\n",
       "        vertical-align: top;\n",
       "    }\n",
       "\n",
       "    .dataframe thead th {\n",
       "        text-align: right;\n",
       "    }\n",
       "</style>\n",
       "<table border=\"1\" class=\"dataframe\">\n",
       "  <thead>\n",
       "    <tr style=\"text-align: right;\">\n",
       "      <th></th>\n",
       "      <th>mode</th>\n",
       "      <th>year</th>\n",
       "      <th>acousticness</th>\n",
       "      <th>danceability</th>\n",
       "      <th>duration_ms</th>\n",
       "      <th>energy</th>\n",
       "      <th>instrumentalness</th>\n",
       "      <th>liveness</th>\n",
       "      <th>loudness</th>\n",
       "      <th>speechiness</th>\n",
       "      <th>tempo</th>\n",
       "      <th>valence</th>\n",
       "      <th>popularity</th>\n",
       "      <th>key</th>\n",
       "    </tr>\n",
       "  </thead>\n",
       "  <tbody>\n",
       "    <tr>\n",
       "      <th>0</th>\n",
       "      <td>1</td>\n",
       "      <td>1921</td>\n",
       "      <td>0.886896</td>\n",
       "      <td>0.418597</td>\n",
       "      <td>260537.166667</td>\n",
       "      <td>0.231815</td>\n",
       "      <td>0.344878</td>\n",
       "      <td>0.205710</td>\n",
       "      <td>-17.048667</td>\n",
       "      <td>0.073662</td>\n",
       "      <td>101.531493</td>\n",
       "      <td>0.379327</td>\n",
       "      <td>0.653333</td>\n",
       "      <td>2</td>\n",
       "    </tr>\n",
       "    <tr>\n",
       "      <th>1</th>\n",
       "      <td>1</td>\n",
       "      <td>1922</td>\n",
       "      <td>0.938592</td>\n",
       "      <td>0.482042</td>\n",
       "      <td>165469.746479</td>\n",
       "      <td>0.237815</td>\n",
       "      <td>0.434195</td>\n",
       "      <td>0.240720</td>\n",
       "      <td>-19.275282</td>\n",
       "      <td>0.116655</td>\n",
       "      <td>100.884521</td>\n",
       "      <td>0.535549</td>\n",
       "      <td>0.140845</td>\n",
       "      <td>10</td>\n",
       "    </tr>\n",
       "    <tr>\n",
       "      <th>2</th>\n",
       "      <td>1</td>\n",
       "      <td>1923</td>\n",
       "      <td>0.957247</td>\n",
       "      <td>0.577341</td>\n",
       "      <td>177942.362162</td>\n",
       "      <td>0.262406</td>\n",
       "      <td>0.371733</td>\n",
       "      <td>0.227462</td>\n",
       "      <td>-14.129211</td>\n",
       "      <td>0.093949</td>\n",
       "      <td>114.010730</td>\n",
       "      <td>0.625492</td>\n",
       "      <td>5.389189</td>\n",
       "      <td>0</td>\n",
       "    </tr>\n",
       "    <tr>\n",
       "      <th>3</th>\n",
       "      <td>1</td>\n",
       "      <td>1924</td>\n",
       "      <td>0.940200</td>\n",
       "      <td>0.549894</td>\n",
       "      <td>191046.707627</td>\n",
       "      <td>0.344347</td>\n",
       "      <td>0.581701</td>\n",
       "      <td>0.235219</td>\n",
       "      <td>-14.231343</td>\n",
       "      <td>0.092089</td>\n",
       "      <td>120.689572</td>\n",
       "      <td>0.663725</td>\n",
       "      <td>0.661017</td>\n",
       "      <td>10</td>\n",
       "    </tr>\n",
       "    <tr>\n",
       "      <th>4</th>\n",
       "      <td>1</td>\n",
       "      <td>1925</td>\n",
       "      <td>0.962607</td>\n",
       "      <td>0.573863</td>\n",
       "      <td>184986.924460</td>\n",
       "      <td>0.278594</td>\n",
       "      <td>0.418297</td>\n",
       "      <td>0.237668</td>\n",
       "      <td>-14.146414</td>\n",
       "      <td>0.111918</td>\n",
       "      <td>115.521921</td>\n",
       "      <td>0.621929</td>\n",
       "      <td>2.604317</td>\n",
       "      <td>5</td>\n",
       "    </tr>\n",
       "  </tbody>\n",
       "</table>\n",
       "</div>"
      ],
      "text/plain": [
       "   mode  year  acousticness  danceability    duration_ms    energy  \\\n",
       "0     1  1921      0.886896      0.418597  260537.166667  0.231815   \n",
       "1     1  1922      0.938592      0.482042  165469.746479  0.237815   \n",
       "2     1  1923      0.957247      0.577341  177942.362162  0.262406   \n",
       "3     1  1924      0.940200      0.549894  191046.707627  0.344347   \n",
       "4     1  1925      0.962607      0.573863  184986.924460  0.278594   \n",
       "\n",
       "   instrumentalness  liveness   loudness  speechiness       tempo   valence  \\\n",
       "0          0.344878  0.205710 -17.048667     0.073662  101.531493  0.379327   \n",
       "1          0.434195  0.240720 -19.275282     0.116655  100.884521  0.535549   \n",
       "2          0.371733  0.227462 -14.129211     0.093949  114.010730  0.625492   \n",
       "3          0.581701  0.235219 -14.231343     0.092089  120.689572  0.663725   \n",
       "4          0.418297  0.237668 -14.146414     0.111918  115.521921  0.621929   \n",
       "\n",
       "   popularity  key  \n",
       "0    0.653333    2  \n",
       "1    0.140845   10  \n",
       "2    5.389189    0  \n",
       "3    0.661017   10  \n",
       "4    2.604317    5  "
      ]
     },
     "execution_count": 15,
     "metadata": {},
     "output_type": "execute_result"
    }
   ],
   "source": [
    "dados_anos.head()"
   ]
  },
  {
   "cell_type": "code",
   "execution_count": 16,
   "metadata": {},
   "outputs": [
    {
     "data": {
      "text/plain": [
       "array([1921, 1922, 1923, 1924, 1925, 1926, 1927, 1928, 1929, 1930, 1931,\n",
       "       1932, 1933, 1934, 1935, 1936, 1937, 1938, 1939, 1940, 1941, 1942,\n",
       "       1943, 1944, 1945, 1946, 1947, 1948, 1949, 1950, 1951, 1952, 1953,\n",
       "       1954, 1955, 1956, 1957, 1958, 1959, 1960, 1961, 1962, 1963, 1964,\n",
       "       1965, 1966, 1967, 1968, 1969, 1970, 1971, 1972, 1973, 1974, 1975,\n",
       "       1976, 1977, 1978, 1979, 1980, 1981, 1982, 1983, 1984, 1985, 1986,\n",
       "       1987, 1988, 1989, 1990, 1991, 1992, 1993, 1994, 1995, 1996, 1997,\n",
       "       1998, 1999, 2000, 2001, 2002, 2003, 2004, 2005, 2006, 2007, 2008,\n",
       "       2009, 2010, 2011, 2012, 2013, 2014, 2015, 2016, 2017, 2018, 2019,\n",
       "       2020], dtype=int64)"
      ]
     },
     "execution_count": 16,
     "metadata": {},
     "output_type": "execute_result"
    }
   ],
   "source": [
    "dados_anos[\"year\"].unique()"
   ]
  },
  {
   "cell_type": "code",
   "execution_count": 17,
   "metadata": {},
   "outputs": [
    {
     "data": {
      "text/plain": [
       "array([2000, 2001, 2002, 2003, 2004, 2005, 2006, 2007, 2008, 2009, 2010,\n",
       "       2011, 2012, 2013, 2014, 2015, 2016, 2017, 2018, 2019, 2020],\n",
       "      dtype=int64)"
      ]
     },
     "execution_count": 17,
     "metadata": {},
     "output_type": "execute_result"
    }
   ],
   "source": [
    "dados_anos = dados_anos[dados_anos[\"year\"]>= 2000]\n",
    "dados_anos[\"year\"].unique()"
   ]
  },
  {
   "cell_type": "code",
   "execution_count": 18,
   "metadata": {},
   "outputs": [
    {
     "data": {
      "text/html": [
       "<div>\n",
       "<style scoped>\n",
       "    .dataframe tbody tr th:only-of-type {\n",
       "        vertical-align: middle;\n",
       "    }\n",
       "\n",
       "    .dataframe tbody tr th {\n",
       "        vertical-align: top;\n",
       "    }\n",
       "\n",
       "    .dataframe thead th {\n",
       "        text-align: right;\n",
       "    }\n",
       "</style>\n",
       "<table border=\"1\" class=\"dataframe\">\n",
       "  <thead>\n",
       "    <tr style=\"text-align: right;\">\n",
       "      <th></th>\n",
       "      <th>year</th>\n",
       "      <th>acousticness</th>\n",
       "      <th>danceability</th>\n",
       "      <th>duration_ms</th>\n",
       "      <th>energy</th>\n",
       "      <th>instrumentalness</th>\n",
       "      <th>liveness</th>\n",
       "      <th>loudness</th>\n",
       "      <th>speechiness</th>\n",
       "      <th>tempo</th>\n",
       "      <th>valence</th>\n",
       "      <th>popularity</th>\n",
       "    </tr>\n",
       "  </thead>\n",
       "  <tbody>\n",
       "    <tr>\n",
       "      <th>79</th>\n",
       "      <td>2000</td>\n",
       "      <td>0.289323</td>\n",
       "      <td>0.590918</td>\n",
       "      <td>242724.642638</td>\n",
       "      <td>0.625413</td>\n",
       "      <td>0.101168</td>\n",
       "      <td>0.197686</td>\n",
       "      <td>-8.247766</td>\n",
       "      <td>0.089205</td>\n",
       "      <td>118.999323</td>\n",
       "      <td>0.559475</td>\n",
       "      <td>46.684049</td>\n",
       "    </tr>\n",
       "    <tr>\n",
       "      <th>80</th>\n",
       "      <td>2001</td>\n",
       "      <td>0.286842</td>\n",
       "      <td>0.583318</td>\n",
       "      <td>240307.796010</td>\n",
       "      <td>0.626986</td>\n",
       "      <td>0.107214</td>\n",
       "      <td>0.187026</td>\n",
       "      <td>-8.305095</td>\n",
       "      <td>0.089182</td>\n",
       "      <td>117.765399</td>\n",
       "      <td>0.541479</td>\n",
       "      <td>48.750125</td>\n",
       "    </tr>\n",
       "  </tbody>\n",
       "</table>\n",
       "</div>"
      ],
      "text/plain": [
       "    year  acousticness  danceability    duration_ms    energy  \\\n",
       "79  2000      0.289323      0.590918  242724.642638  0.625413   \n",
       "80  2001      0.286842      0.583318  240307.796010  0.626986   \n",
       "\n",
       "    instrumentalness  liveness  loudness  speechiness       tempo   valence  \\\n",
       "79          0.101168  0.197686 -8.247766     0.089205  118.999323  0.559475   \n",
       "80          0.107214  0.187026 -8.305095     0.089182  117.765399  0.541479   \n",
       "\n",
       "    popularity  \n",
       "79   46.684049  \n",
       "80   48.750125  "
      ]
     },
     "execution_count": 18,
     "metadata": {},
     "output_type": "execute_result"
    }
   ],
   "source": [
    "dados_anos = dados_anos.drop([\"mode\", \"key\"], axis=1)\n",
    "dados_anos.head(2)"
   ]
  },
  {
   "cell_type": "code",
   "execution_count": 19,
   "metadata": {},
   "outputs": [
    {
     "data": {
      "text/html": [
       "<div>\n",
       "<style scoped>\n",
       "    .dataframe tbody tr th:only-of-type {\n",
       "        vertical-align: middle;\n",
       "    }\n",
       "\n",
       "    .dataframe tbody tr th {\n",
       "        vertical-align: top;\n",
       "    }\n",
       "\n",
       "    .dataframe thead th {\n",
       "        text-align: right;\n",
       "    }\n",
       "</style>\n",
       "<table border=\"1\" class=\"dataframe\">\n",
       "  <thead>\n",
       "    <tr style=\"text-align: right;\">\n",
       "      <th></th>\n",
       "      <th>index</th>\n",
       "      <th>year</th>\n",
       "      <th>acousticness</th>\n",
       "      <th>danceability</th>\n",
       "      <th>duration_ms</th>\n",
       "      <th>energy</th>\n",
       "      <th>instrumentalness</th>\n",
       "      <th>liveness</th>\n",
       "      <th>loudness</th>\n",
       "      <th>speechiness</th>\n",
       "      <th>tempo</th>\n",
       "      <th>valence</th>\n",
       "      <th>popularity</th>\n",
       "    </tr>\n",
       "  </thead>\n",
       "  <tbody>\n",
       "    <tr>\n",
       "      <th>0</th>\n",
       "      <td>79</td>\n",
       "      <td>2000</td>\n",
       "      <td>0.289323</td>\n",
       "      <td>0.590918</td>\n",
       "      <td>242724.642638</td>\n",
       "      <td>0.625413</td>\n",
       "      <td>0.101168</td>\n",
       "      <td>0.197686</td>\n",
       "      <td>-8.247766</td>\n",
       "      <td>0.089205</td>\n",
       "      <td>118.999323</td>\n",
       "      <td>0.559475</td>\n",
       "      <td>46.684049</td>\n",
       "    </tr>\n",
       "    <tr>\n",
       "      <th>1</th>\n",
       "      <td>80</td>\n",
       "      <td>2001</td>\n",
       "      <td>0.286842</td>\n",
       "      <td>0.583318</td>\n",
       "      <td>240307.796010</td>\n",
       "      <td>0.626986</td>\n",
       "      <td>0.107214</td>\n",
       "      <td>0.187026</td>\n",
       "      <td>-8.305095</td>\n",
       "      <td>0.089182</td>\n",
       "      <td>117.765399</td>\n",
       "      <td>0.541479</td>\n",
       "      <td>48.750125</td>\n",
       "    </tr>\n",
       "    <tr>\n",
       "      <th>2</th>\n",
       "      <td>81</td>\n",
       "      <td>2002</td>\n",
       "      <td>0.282624</td>\n",
       "      <td>0.576160</td>\n",
       "      <td>239503.283000</td>\n",
       "      <td>0.641270</td>\n",
       "      <td>0.088048</td>\n",
       "      <td>0.193911</td>\n",
       "      <td>-7.686640</td>\n",
       "      <td>0.084308</td>\n",
       "      <td>119.239738</td>\n",
       "      <td>0.542397</td>\n",
       "      <td>48.655500</td>\n",
       "    </tr>\n",
       "    <tr>\n",
       "      <th>3</th>\n",
       "      <td>82</td>\n",
       "      <td>2003</td>\n",
       "      <td>0.256471</td>\n",
       "      <td>0.575763</td>\n",
       "      <td>244670.575230</td>\n",
       "      <td>0.660165</td>\n",
       "      <td>0.083049</td>\n",
       "      <td>0.196976</td>\n",
       "      <td>-7.485545</td>\n",
       "      <td>0.093926</td>\n",
       "      <td>120.914622</td>\n",
       "      <td>0.530504</td>\n",
       "      <td>48.626407</td>\n",
       "    </tr>\n",
       "    <tr>\n",
       "      <th>4</th>\n",
       "      <td>83</td>\n",
       "      <td>2004</td>\n",
       "      <td>0.280559</td>\n",
       "      <td>0.567680</td>\n",
       "      <td>237378.708037</td>\n",
       "      <td>0.648868</td>\n",
       "      <td>0.077934</td>\n",
       "      <td>0.202199</td>\n",
       "      <td>-7.601655</td>\n",
       "      <td>0.094239</td>\n",
       "      <td>121.290346</td>\n",
       "      <td>0.524489</td>\n",
       "      <td>49.273143</td>\n",
       "    </tr>\n",
       "    <tr>\n",
       "      <th>5</th>\n",
       "      <td>84</td>\n",
       "      <td>2005</td>\n",
       "      <td>0.255764</td>\n",
       "      <td>0.572281</td>\n",
       "      <td>237229.588205</td>\n",
       "      <td>0.653209</td>\n",
       "      <td>0.090194</td>\n",
       "      <td>0.190082</td>\n",
       "      <td>-7.466159</td>\n",
       "      <td>0.093334</td>\n",
       "      <td>121.617967</td>\n",
       "      <td>0.532531</td>\n",
       "      <td>50.953333</td>\n",
       "    </tr>\n",
       "    <tr>\n",
       "      <th>6</th>\n",
       "      <td>85</td>\n",
       "      <td>2006</td>\n",
       "      <td>0.279986</td>\n",
       "      <td>0.568230</td>\n",
       "      <td>234042.914359</td>\n",
       "      <td>0.650326</td>\n",
       "      <td>0.077701</td>\n",
       "      <td>0.188289</td>\n",
       "      <td>-7.265501</td>\n",
       "      <td>0.085847</td>\n",
       "      <td>121.798615</td>\n",
       "      <td>0.520028</td>\n",
       "      <td>51.313846</td>\n",
       "    </tr>\n",
       "    <tr>\n",
       "      <th>7</th>\n",
       "      <td>86</td>\n",
       "      <td>2007</td>\n",
       "      <td>0.254081</td>\n",
       "      <td>0.563414</td>\n",
       "      <td>241049.962564</td>\n",
       "      <td>0.668305</td>\n",
       "      <td>0.072957</td>\n",
       "      <td>0.196127</td>\n",
       "      <td>-7.044536</td>\n",
       "      <td>0.084347</td>\n",
       "      <td>124.087516</td>\n",
       "      <td>0.516794</td>\n",
       "      <td>51.075897</td>\n",
       "    </tr>\n",
       "    <tr>\n",
       "      <th>8</th>\n",
       "      <td>87</td>\n",
       "      <td>2008</td>\n",
       "      <td>0.249192</td>\n",
       "      <td>0.579193</td>\n",
       "      <td>240107.315601</td>\n",
       "      <td>0.671461</td>\n",
       "      <td>0.063662</td>\n",
       "      <td>0.198431</td>\n",
       "      <td>-6.843804</td>\n",
       "      <td>0.077356</td>\n",
       "      <td>123.509934</td>\n",
       "      <td>0.527542</td>\n",
       "      <td>50.630179</td>\n",
       "    </tr>\n",
       "    <tr>\n",
       "      <th>9</th>\n",
       "      <td>88</td>\n",
       "      <td>2009</td>\n",
       "      <td>0.261929</td>\n",
       "      <td>0.564190</td>\n",
       "      <td>238140.013265</td>\n",
       "      <td>0.670749</td>\n",
       "      <td>0.075872</td>\n",
       "      <td>0.205252</td>\n",
       "      <td>-7.046015</td>\n",
       "      <td>0.085458</td>\n",
       "      <td>123.463808</td>\n",
       "      <td>0.507170</td>\n",
       "      <td>51.440816</td>\n",
       "    </tr>\n",
       "    <tr>\n",
       "      <th>10</th>\n",
       "      <td>89</td>\n",
       "      <td>2010</td>\n",
       "      <td>0.242687</td>\n",
       "      <td>0.572488</td>\n",
       "      <td>242811.804563</td>\n",
       "      <td>0.681778</td>\n",
       "      <td>0.082981</td>\n",
       "      <td>0.199701</td>\n",
       "      <td>-6.909904</td>\n",
       "      <td>0.081031</td>\n",
       "      <td>123.570215</td>\n",
       "      <td>0.520895</td>\n",
       "      <td>52.730159</td>\n",
       "    </tr>\n",
       "    <tr>\n",
       "      <th>11</th>\n",
       "      <td>90</td>\n",
       "      <td>2011</td>\n",
       "      <td>0.273183</td>\n",
       "      <td>0.552867</td>\n",
       "      <td>236998.787308</td>\n",
       "      <td>0.648301</td>\n",
       "      <td>0.103772</td>\n",
       "      <td>0.203309</td>\n",
       "      <td>-7.574986</td>\n",
       "      <td>0.087479</td>\n",
       "      <td>121.483997</td>\n",
       "      <td>0.472454</td>\n",
       "      <td>53.307387</td>\n",
       "    </tr>\n",
       "    <tr>\n",
       "      <th>12</th>\n",
       "      <td>91</td>\n",
       "      <td>2012</td>\n",
       "      <td>0.249953</td>\n",
       "      <td>0.570882</td>\n",
       "      <td>245807.457584</td>\n",
       "      <td>0.656571</td>\n",
       "      <td>0.085206</td>\n",
       "      <td>0.189733</td>\n",
       "      <td>-7.260550</td>\n",
       "      <td>0.081742</td>\n",
       "      <td>121.781736</td>\n",
       "      <td>0.462709</td>\n",
       "      <td>52.655013</td>\n",
       "    </tr>\n",
       "    <tr>\n",
       "      <th>13</th>\n",
       "      <td>92</td>\n",
       "      <td>2013</td>\n",
       "      <td>0.257488</td>\n",
       "      <td>0.571148</td>\n",
       "      <td>242267.661437</td>\n",
       "      <td>0.645597</td>\n",
       "      <td>0.098365</td>\n",
       "      <td>0.199631</td>\n",
       "      <td>-7.472039</td>\n",
       "      <td>0.093849</td>\n",
       "      <td>120.806829</td>\n",
       "      <td>0.454741</td>\n",
       "      <td>54.047065</td>\n",
       "    </tr>\n",
       "    <tr>\n",
       "      <th>14</th>\n",
       "      <td>93</td>\n",
       "      <td>2014</td>\n",
       "      <td>0.249313</td>\n",
       "      <td>0.589948</td>\n",
       "      <td>233728.314713</td>\n",
       "      <td>0.648795</td>\n",
       "      <td>0.076570</td>\n",
       "      <td>0.191822</td>\n",
       "      <td>-7.067440</td>\n",
       "      <td>0.084061</td>\n",
       "      <td>122.305263</td>\n",
       "      <td>0.463049</td>\n",
       "      <td>55.543142</td>\n",
       "    </tr>\n",
       "    <tr>\n",
       "      <th>15</th>\n",
       "      <td>94</td>\n",
       "      <td>2015</td>\n",
       "      <td>0.253952</td>\n",
       "      <td>0.593774</td>\n",
       "      <td>230029.046606</td>\n",
       "      <td>0.627064</td>\n",
       "      <td>0.106787</td>\n",
       "      <td>0.188856</td>\n",
       "      <td>-7.625639</td>\n",
       "      <td>0.096779</td>\n",
       "      <td>120.115411</td>\n",
       "      <td>0.432098</td>\n",
       "      <td>56.700608</td>\n",
       "    </tr>\n",
       "    <tr>\n",
       "      <th>16</th>\n",
       "      <td>95</td>\n",
       "      <td>2016</td>\n",
       "      <td>0.284171</td>\n",
       "      <td>0.600202</td>\n",
       "      <td>221396.510295</td>\n",
       "      <td>0.592855</td>\n",
       "      <td>0.093984</td>\n",
       "      <td>0.181170</td>\n",
       "      <td>-8.061056</td>\n",
       "      <td>0.104313</td>\n",
       "      <td>118.652630</td>\n",
       "      <td>0.431532</td>\n",
       "      <td>59.647190</td>\n",
       "    </tr>\n",
       "    <tr>\n",
       "      <th>17</th>\n",
       "      <td>96</td>\n",
       "      <td>2017</td>\n",
       "      <td>0.286099</td>\n",
       "      <td>0.612217</td>\n",
       "      <td>211115.696787</td>\n",
       "      <td>0.590421</td>\n",
       "      <td>0.097091</td>\n",
       "      <td>0.191713</td>\n",
       "      <td>-8.312630</td>\n",
       "      <td>0.110536</td>\n",
       "      <td>117.202740</td>\n",
       "      <td>0.416476</td>\n",
       "      <td>63.263554</td>\n",
       "    </tr>\n",
       "    <tr>\n",
       "      <th>18</th>\n",
       "      <td>97</td>\n",
       "      <td>2018</td>\n",
       "      <td>0.267633</td>\n",
       "      <td>0.663500</td>\n",
       "      <td>206001.007133</td>\n",
       "      <td>0.602435</td>\n",
       "      <td>0.054217</td>\n",
       "      <td>0.176326</td>\n",
       "      <td>-7.168785</td>\n",
       "      <td>0.127176</td>\n",
       "      <td>121.922308</td>\n",
       "      <td>0.447921</td>\n",
       "      <td>63.296243</td>\n",
       "    </tr>\n",
       "    <tr>\n",
       "      <th>19</th>\n",
       "      <td>98</td>\n",
       "      <td>2019</td>\n",
       "      <td>0.278299</td>\n",
       "      <td>0.644814</td>\n",
       "      <td>201024.788096</td>\n",
       "      <td>0.593224</td>\n",
       "      <td>0.077640</td>\n",
       "      <td>0.172616</td>\n",
       "      <td>-7.722192</td>\n",
       "      <td>0.121043</td>\n",
       "      <td>120.235644</td>\n",
       "      <td>0.458818</td>\n",
       "      <td>65.256542</td>\n",
       "    </tr>\n",
       "    <tr>\n",
       "      <th>20</th>\n",
       "      <td>99</td>\n",
       "      <td>2020</td>\n",
       "      <td>0.219931</td>\n",
       "      <td>0.692904</td>\n",
       "      <td>193728.397537</td>\n",
       "      <td>0.631232</td>\n",
       "      <td>0.016376</td>\n",
       "      <td>0.178535</td>\n",
       "      <td>-6.595067</td>\n",
       "      <td>0.141384</td>\n",
       "      <td>124.283129</td>\n",
       "      <td>0.501048</td>\n",
       "      <td>64.301970</td>\n",
       "    </tr>\n",
       "  </tbody>\n",
       "</table>\n",
       "</div>"
      ],
      "text/plain": [
       "    index  year  acousticness  danceability    duration_ms    energy  \\\n",
       "0      79  2000      0.289323      0.590918  242724.642638  0.625413   \n",
       "1      80  2001      0.286842      0.583318  240307.796010  0.626986   \n",
       "2      81  2002      0.282624      0.576160  239503.283000  0.641270   \n",
       "3      82  2003      0.256471      0.575763  244670.575230  0.660165   \n",
       "4      83  2004      0.280559      0.567680  237378.708037  0.648868   \n",
       "5      84  2005      0.255764      0.572281  237229.588205  0.653209   \n",
       "6      85  2006      0.279986      0.568230  234042.914359  0.650326   \n",
       "7      86  2007      0.254081      0.563414  241049.962564  0.668305   \n",
       "8      87  2008      0.249192      0.579193  240107.315601  0.671461   \n",
       "9      88  2009      0.261929      0.564190  238140.013265  0.670749   \n",
       "10     89  2010      0.242687      0.572488  242811.804563  0.681778   \n",
       "11     90  2011      0.273183      0.552867  236998.787308  0.648301   \n",
       "12     91  2012      0.249953      0.570882  245807.457584  0.656571   \n",
       "13     92  2013      0.257488      0.571148  242267.661437  0.645597   \n",
       "14     93  2014      0.249313      0.589948  233728.314713  0.648795   \n",
       "15     94  2015      0.253952      0.593774  230029.046606  0.627064   \n",
       "16     95  2016      0.284171      0.600202  221396.510295  0.592855   \n",
       "17     96  2017      0.286099      0.612217  211115.696787  0.590421   \n",
       "18     97  2018      0.267633      0.663500  206001.007133  0.602435   \n",
       "19     98  2019      0.278299      0.644814  201024.788096  0.593224   \n",
       "20     99  2020      0.219931      0.692904  193728.397537  0.631232   \n",
       "\n",
       "    instrumentalness  liveness  loudness  speechiness       tempo   valence  \\\n",
       "0           0.101168  0.197686 -8.247766     0.089205  118.999323  0.559475   \n",
       "1           0.107214  0.187026 -8.305095     0.089182  117.765399  0.541479   \n",
       "2           0.088048  0.193911 -7.686640     0.084308  119.239738  0.542397   \n",
       "3           0.083049  0.196976 -7.485545     0.093926  120.914622  0.530504   \n",
       "4           0.077934  0.202199 -7.601655     0.094239  121.290346  0.524489   \n",
       "5           0.090194  0.190082 -7.466159     0.093334  121.617967  0.532531   \n",
       "6           0.077701  0.188289 -7.265501     0.085847  121.798615  0.520028   \n",
       "7           0.072957  0.196127 -7.044536     0.084347  124.087516  0.516794   \n",
       "8           0.063662  0.198431 -6.843804     0.077356  123.509934  0.527542   \n",
       "9           0.075872  0.205252 -7.046015     0.085458  123.463808  0.507170   \n",
       "10          0.082981  0.199701 -6.909904     0.081031  123.570215  0.520895   \n",
       "11          0.103772  0.203309 -7.574986     0.087479  121.483997  0.472454   \n",
       "12          0.085206  0.189733 -7.260550     0.081742  121.781736  0.462709   \n",
       "13          0.098365  0.199631 -7.472039     0.093849  120.806829  0.454741   \n",
       "14          0.076570  0.191822 -7.067440     0.084061  122.305263  0.463049   \n",
       "15          0.106787  0.188856 -7.625639     0.096779  120.115411  0.432098   \n",
       "16          0.093984  0.181170 -8.061056     0.104313  118.652630  0.431532   \n",
       "17          0.097091  0.191713 -8.312630     0.110536  117.202740  0.416476   \n",
       "18          0.054217  0.176326 -7.168785     0.127176  121.922308  0.447921   \n",
       "19          0.077640  0.172616 -7.722192     0.121043  120.235644  0.458818   \n",
       "20          0.016376  0.178535 -6.595067     0.141384  124.283129  0.501048   \n",
       "\n",
       "    popularity  \n",
       "0    46.684049  \n",
       "1    48.750125  \n",
       "2    48.655500  \n",
       "3    48.626407  \n",
       "4    49.273143  \n",
       "5    50.953333  \n",
       "6    51.313846  \n",
       "7    51.075897  \n",
       "8    50.630179  \n",
       "9    51.440816  \n",
       "10   52.730159  \n",
       "11   53.307387  \n",
       "12   52.655013  \n",
       "13   54.047065  \n",
       "14   55.543142  \n",
       "15   56.700608  \n",
       "16   59.647190  \n",
       "17   63.263554  \n",
       "18   63.296243  \n",
       "19   65.256542  \n",
       "20   64.301970  "
      ]
     },
     "execution_count": 19,
     "metadata": {},
     "output_type": "execute_result"
    }
   ],
   "source": [
    "dados_anos.reset_index()"
   ]
  },
  {
   "cell_type": "code",
   "execution_count": 20,
   "metadata": {},
   "outputs": [
    {
     "data": {
      "text/plain": [
       "genres              0\n",
       "acousticness        0\n",
       "danceability        0\n",
       "duration_ms         0\n",
       "energy              0\n",
       "instrumentalness    0\n",
       "liveness            0\n",
       "loudness            0\n",
       "speechiness         0\n",
       "tempo               0\n",
       "valence             0\n",
       "popularity          0\n",
       "dtype: int64"
      ]
     },
     "execution_count": 20,
     "metadata": {},
     "output_type": "execute_result"
    }
   ],
   "source": [
    "dados_generos.isnull().sum()"
   ]
  },
  {
   "cell_type": "code",
   "execution_count": 21,
   "metadata": {},
   "outputs": [
    {
     "data": {
      "text/plain": [
       "genres              0\n",
       "acousticness        0\n",
       "danceability        0\n",
       "duration_ms         0\n",
       "energy              0\n",
       "instrumentalness    0\n",
       "liveness            0\n",
       "loudness            0\n",
       "speechiness         0\n",
       "tempo               0\n",
       "valence             0\n",
       "popularity          0\n",
       "dtype: int64"
      ]
     },
     "execution_count": 21,
     "metadata": {},
     "output_type": "execute_result"
    }
   ],
   "source": [
    "dados_generos.isna().sum()"
   ]
  },
  {
   "attachments": {},
   "cell_type": "markdown",
   "metadata": {},
   "source": [
    "## Análise gráfica\n"
   ]
  },
  {
   "cell_type": "code",
   "execution_count": 22,
   "metadata": {},
   "outputs": [],
   "source": [
    "import plotly.express as px"
   ]
  },
  {
   "cell_type": "code",
   "execution_count": 24,
   "metadata": {},
   "outputs": [
    {
     "data": {
      "application/vnd.plotly.v1+json": {
       "config": {
        "plotlyServerURL": "https://plot.ly"
       },
       "data": [
        {
         "hovertemplate": "year=%{x}<br>loudness=%{y}<extra></extra>",
         "legendgroup": "",
         "line": {
          "color": "#636efa",
          "dash": "solid"
         },
         "marker": {
          "symbol": "circle"
         },
         "mode": "lines+markers",
         "name": "",
         "orientation": "v",
         "showlegend": false,
         "type": "scatter",
         "x": [
          2000,
          2001,
          2002,
          2003,
          2004,
          2005,
          2006,
          2007,
          2008,
          2009,
          2010,
          2011,
          2012,
          2013,
          2014,
          2015,
          2016,
          2017,
          2018,
          2019,
          2020
         ],
         "xaxis": "x",
         "y": [
          -8.247765848670758,
          -8.305095261845384,
          -7.686639500000013,
          -7.485545035823955,
          -7.601655137334684,
          -7.46615897435897,
          -7.265500512820514,
          -7.044535897435892,
          -6.8438040920716166,
          -7.0460147959183645,
          -6.9099042658730125,
          -7.574986117997006,
          -7.260549614395888,
          -7.472039473684207,
          -7.06743990024938,
          -7.625639311043569,
          -8.061056204785759,
          -8.31262951807228,
          -7.168785068949124,
          -7.722191893278596,
          -6.595066995073878
         ],
         "yaxis": "y"
        }
       ],
       "layout": {
        "legend": {
         "tracegroupgap": 0
        },
        "template": {
         "data": {
          "bar": [
           {
            "error_x": {
             "color": "#2a3f5f"
            },
            "error_y": {
             "color": "#2a3f5f"
            },
            "marker": {
             "line": {
              "color": "#E5ECF6",
              "width": 0.5
             },
             "pattern": {
              "fillmode": "overlay",
              "size": 10,
              "solidity": 0.2
             }
            },
            "type": "bar"
           }
          ],
          "barpolar": [
           {
            "marker": {
             "line": {
              "color": "#E5ECF6",
              "width": 0.5
             },
             "pattern": {
              "fillmode": "overlay",
              "size": 10,
              "solidity": 0.2
             }
            },
            "type": "barpolar"
           }
          ],
          "carpet": [
           {
            "aaxis": {
             "endlinecolor": "#2a3f5f",
             "gridcolor": "white",
             "linecolor": "white",
             "minorgridcolor": "white",
             "startlinecolor": "#2a3f5f"
            },
            "baxis": {
             "endlinecolor": "#2a3f5f",
             "gridcolor": "white",
             "linecolor": "white",
             "minorgridcolor": "white",
             "startlinecolor": "#2a3f5f"
            },
            "type": "carpet"
           }
          ],
          "choropleth": [
           {
            "colorbar": {
             "outlinewidth": 0,
             "ticks": ""
            },
            "type": "choropleth"
           }
          ],
          "contour": [
           {
            "colorbar": {
             "outlinewidth": 0,
             "ticks": ""
            },
            "colorscale": [
             [
              0,
              "#0d0887"
             ],
             [
              0.1111111111111111,
              "#46039f"
             ],
             [
              0.2222222222222222,
              "#7201a8"
             ],
             [
              0.3333333333333333,
              "#9c179e"
             ],
             [
              0.4444444444444444,
              "#bd3786"
             ],
             [
              0.5555555555555556,
              "#d8576b"
             ],
             [
              0.6666666666666666,
              "#ed7953"
             ],
             [
              0.7777777777777778,
              "#fb9f3a"
             ],
             [
              0.8888888888888888,
              "#fdca26"
             ],
             [
              1,
              "#f0f921"
             ]
            ],
            "type": "contour"
           }
          ],
          "contourcarpet": [
           {
            "colorbar": {
             "outlinewidth": 0,
             "ticks": ""
            },
            "type": "contourcarpet"
           }
          ],
          "heatmap": [
           {
            "colorbar": {
             "outlinewidth": 0,
             "ticks": ""
            },
            "colorscale": [
             [
              0,
              "#0d0887"
             ],
             [
              0.1111111111111111,
              "#46039f"
             ],
             [
              0.2222222222222222,
              "#7201a8"
             ],
             [
              0.3333333333333333,
              "#9c179e"
             ],
             [
              0.4444444444444444,
              "#bd3786"
             ],
             [
              0.5555555555555556,
              "#d8576b"
             ],
             [
              0.6666666666666666,
              "#ed7953"
             ],
             [
              0.7777777777777778,
              "#fb9f3a"
             ],
             [
              0.8888888888888888,
              "#fdca26"
             ],
             [
              1,
              "#f0f921"
             ]
            ],
            "type": "heatmap"
           }
          ],
          "heatmapgl": [
           {
            "colorbar": {
             "outlinewidth": 0,
             "ticks": ""
            },
            "colorscale": [
             [
              0,
              "#0d0887"
             ],
             [
              0.1111111111111111,
              "#46039f"
             ],
             [
              0.2222222222222222,
              "#7201a8"
             ],
             [
              0.3333333333333333,
              "#9c179e"
             ],
             [
              0.4444444444444444,
              "#bd3786"
             ],
             [
              0.5555555555555556,
              "#d8576b"
             ],
             [
              0.6666666666666666,
              "#ed7953"
             ],
             [
              0.7777777777777778,
              "#fb9f3a"
             ],
             [
              0.8888888888888888,
              "#fdca26"
             ],
             [
              1,
              "#f0f921"
             ]
            ],
            "type": "heatmapgl"
           }
          ],
          "histogram": [
           {
            "marker": {
             "pattern": {
              "fillmode": "overlay",
              "size": 10,
              "solidity": 0.2
             }
            },
            "type": "histogram"
           }
          ],
          "histogram2d": [
           {
            "colorbar": {
             "outlinewidth": 0,
             "ticks": ""
            },
            "colorscale": [
             [
              0,
              "#0d0887"
             ],
             [
              0.1111111111111111,
              "#46039f"
             ],
             [
              0.2222222222222222,
              "#7201a8"
             ],
             [
              0.3333333333333333,
              "#9c179e"
             ],
             [
              0.4444444444444444,
              "#bd3786"
             ],
             [
              0.5555555555555556,
              "#d8576b"
             ],
             [
              0.6666666666666666,
              "#ed7953"
             ],
             [
              0.7777777777777778,
              "#fb9f3a"
             ],
             [
              0.8888888888888888,
              "#fdca26"
             ],
             [
              1,
              "#f0f921"
             ]
            ],
            "type": "histogram2d"
           }
          ],
          "histogram2dcontour": [
           {
            "colorbar": {
             "outlinewidth": 0,
             "ticks": ""
            },
            "colorscale": [
             [
              0,
              "#0d0887"
             ],
             [
              0.1111111111111111,
              "#46039f"
             ],
             [
              0.2222222222222222,
              "#7201a8"
             ],
             [
              0.3333333333333333,
              "#9c179e"
             ],
             [
              0.4444444444444444,
              "#bd3786"
             ],
             [
              0.5555555555555556,
              "#d8576b"
             ],
             [
              0.6666666666666666,
              "#ed7953"
             ],
             [
              0.7777777777777778,
              "#fb9f3a"
             ],
             [
              0.8888888888888888,
              "#fdca26"
             ],
             [
              1,
              "#f0f921"
             ]
            ],
            "type": "histogram2dcontour"
           }
          ],
          "mesh3d": [
           {
            "colorbar": {
             "outlinewidth": 0,
             "ticks": ""
            },
            "type": "mesh3d"
           }
          ],
          "parcoords": [
           {
            "line": {
             "colorbar": {
              "outlinewidth": 0,
              "ticks": ""
             }
            },
            "type": "parcoords"
           }
          ],
          "pie": [
           {
            "automargin": true,
            "type": "pie"
           }
          ],
          "scatter": [
           {
            "fillpattern": {
             "fillmode": "overlay",
             "size": 10,
             "solidity": 0.2
            },
            "type": "scatter"
           }
          ],
          "scatter3d": [
           {
            "line": {
             "colorbar": {
              "outlinewidth": 0,
              "ticks": ""
             }
            },
            "marker": {
             "colorbar": {
              "outlinewidth": 0,
              "ticks": ""
             }
            },
            "type": "scatter3d"
           }
          ],
          "scattercarpet": [
           {
            "marker": {
             "colorbar": {
              "outlinewidth": 0,
              "ticks": ""
             }
            },
            "type": "scattercarpet"
           }
          ],
          "scattergeo": [
           {
            "marker": {
             "colorbar": {
              "outlinewidth": 0,
              "ticks": ""
             }
            },
            "type": "scattergeo"
           }
          ],
          "scattergl": [
           {
            "marker": {
             "colorbar": {
              "outlinewidth": 0,
              "ticks": ""
             }
            },
            "type": "scattergl"
           }
          ],
          "scattermapbox": [
           {
            "marker": {
             "colorbar": {
              "outlinewidth": 0,
              "ticks": ""
             }
            },
            "type": "scattermapbox"
           }
          ],
          "scatterpolar": [
           {
            "marker": {
             "colorbar": {
              "outlinewidth": 0,
              "ticks": ""
             }
            },
            "type": "scatterpolar"
           }
          ],
          "scatterpolargl": [
           {
            "marker": {
             "colorbar": {
              "outlinewidth": 0,
              "ticks": ""
             }
            },
            "type": "scatterpolargl"
           }
          ],
          "scatterternary": [
           {
            "marker": {
             "colorbar": {
              "outlinewidth": 0,
              "ticks": ""
             }
            },
            "type": "scatterternary"
           }
          ],
          "surface": [
           {
            "colorbar": {
             "outlinewidth": 0,
             "ticks": ""
            },
            "colorscale": [
             [
              0,
              "#0d0887"
             ],
             [
              0.1111111111111111,
              "#46039f"
             ],
             [
              0.2222222222222222,
              "#7201a8"
             ],
             [
              0.3333333333333333,
              "#9c179e"
             ],
             [
              0.4444444444444444,
              "#bd3786"
             ],
             [
              0.5555555555555556,
              "#d8576b"
             ],
             [
              0.6666666666666666,
              "#ed7953"
             ],
             [
              0.7777777777777778,
              "#fb9f3a"
             ],
             [
              0.8888888888888888,
              "#fdca26"
             ],
             [
              1,
              "#f0f921"
             ]
            ],
            "type": "surface"
           }
          ],
          "table": [
           {
            "cells": {
             "fill": {
              "color": "#EBF0F8"
             },
             "line": {
              "color": "white"
             }
            },
            "header": {
             "fill": {
              "color": "#C8D4E3"
             },
             "line": {
              "color": "white"
             }
            },
            "type": "table"
           }
          ]
         },
         "layout": {
          "annotationdefaults": {
           "arrowcolor": "#2a3f5f",
           "arrowhead": 0,
           "arrowwidth": 1
          },
          "autotypenumbers": "strict",
          "coloraxis": {
           "colorbar": {
            "outlinewidth": 0,
            "ticks": ""
           }
          },
          "colorscale": {
           "diverging": [
            [
             0,
             "#8e0152"
            ],
            [
             0.1,
             "#c51b7d"
            ],
            [
             0.2,
             "#de77ae"
            ],
            [
             0.3,
             "#f1b6da"
            ],
            [
             0.4,
             "#fde0ef"
            ],
            [
             0.5,
             "#f7f7f7"
            ],
            [
             0.6,
             "#e6f5d0"
            ],
            [
             0.7,
             "#b8e186"
            ],
            [
             0.8,
             "#7fbc41"
            ],
            [
             0.9,
             "#4d9221"
            ],
            [
             1,
             "#276419"
            ]
           ],
           "sequential": [
            [
             0,
             "#0d0887"
            ],
            [
             0.1111111111111111,
             "#46039f"
            ],
            [
             0.2222222222222222,
             "#7201a8"
            ],
            [
             0.3333333333333333,
             "#9c179e"
            ],
            [
             0.4444444444444444,
             "#bd3786"
            ],
            [
             0.5555555555555556,
             "#d8576b"
            ],
            [
             0.6666666666666666,
             "#ed7953"
            ],
            [
             0.7777777777777778,
             "#fb9f3a"
            ],
            [
             0.8888888888888888,
             "#fdca26"
            ],
            [
             1,
             "#f0f921"
            ]
           ],
           "sequentialminus": [
            [
             0,
             "#0d0887"
            ],
            [
             0.1111111111111111,
             "#46039f"
            ],
            [
             0.2222222222222222,
             "#7201a8"
            ],
            [
             0.3333333333333333,
             "#9c179e"
            ],
            [
             0.4444444444444444,
             "#bd3786"
            ],
            [
             0.5555555555555556,
             "#d8576b"
            ],
            [
             0.6666666666666666,
             "#ed7953"
            ],
            [
             0.7777777777777778,
             "#fb9f3a"
            ],
            [
             0.8888888888888888,
             "#fdca26"
            ],
            [
             1,
             "#f0f921"
            ]
           ]
          },
          "colorway": [
           "#636efa",
           "#EF553B",
           "#00cc96",
           "#ab63fa",
           "#FFA15A",
           "#19d3f3",
           "#FF6692",
           "#B6E880",
           "#FF97FF",
           "#FECB52"
          ],
          "font": {
           "color": "#2a3f5f"
          },
          "geo": {
           "bgcolor": "white",
           "lakecolor": "white",
           "landcolor": "#E5ECF6",
           "showlakes": true,
           "showland": true,
           "subunitcolor": "white"
          },
          "hoverlabel": {
           "align": "left"
          },
          "hovermode": "closest",
          "mapbox": {
           "style": "light"
          },
          "paper_bgcolor": "white",
          "plot_bgcolor": "#E5ECF6",
          "polar": {
           "angularaxis": {
            "gridcolor": "white",
            "linecolor": "white",
            "ticks": ""
           },
           "bgcolor": "#E5ECF6",
           "radialaxis": {
            "gridcolor": "white",
            "linecolor": "white",
            "ticks": ""
           }
          },
          "scene": {
           "xaxis": {
            "backgroundcolor": "#E5ECF6",
            "gridcolor": "white",
            "gridwidth": 2,
            "linecolor": "white",
            "showbackground": true,
            "ticks": "",
            "zerolinecolor": "white"
           },
           "yaxis": {
            "backgroundcolor": "#E5ECF6",
            "gridcolor": "white",
            "gridwidth": 2,
            "linecolor": "white",
            "showbackground": true,
            "ticks": "",
            "zerolinecolor": "white"
           },
           "zaxis": {
            "backgroundcolor": "#E5ECF6",
            "gridcolor": "white",
            "gridwidth": 2,
            "linecolor": "white",
            "showbackground": true,
            "ticks": "",
            "zerolinecolor": "white"
           }
          },
          "shapedefaults": {
           "line": {
            "color": "#2a3f5f"
           }
          },
          "ternary": {
           "aaxis": {
            "gridcolor": "white",
            "linecolor": "white",
            "ticks": ""
           },
           "baxis": {
            "gridcolor": "white",
            "linecolor": "white",
            "ticks": ""
           },
           "bgcolor": "#E5ECF6",
           "caxis": {
            "gridcolor": "white",
            "linecolor": "white",
            "ticks": ""
           }
          },
          "title": {
           "x": 0.05
          },
          "xaxis": {
           "automargin": true,
           "gridcolor": "white",
           "linecolor": "white",
           "ticks": "",
           "title": {
            "standoff": 15
           },
           "zerolinecolor": "white",
           "zerolinewidth": 2
          },
          "yaxis": {
           "automargin": true,
           "gridcolor": "white",
           "linecolor": "white",
           "ticks": "",
           "title": {
            "standoff": 15
           },
           "zerolinecolor": "white",
           "zerolinewidth": 2
          }
         }
        },
        "title": {
         "text": "Variação do loudness conforme os anos"
        },
        "xaxis": {
         "anchor": "y",
         "domain": [
          0,
          1
         ],
         "title": {
          "text": "year"
         }
        },
        "yaxis": {
         "anchor": "x",
         "domain": [
          0,
          1
         ],
         "title": {
          "text": "loudness"
         }
        }
       }
      }
     },
     "metadata": {},
     "output_type": "display_data"
    }
   ],
   "source": [
    "fig = px.line(dados_anos, x=\"year\", y=\"loudness\", markers=True, title=\"Variação do loudness conforme os anos\")\n",
    "fig.show()"
   ]
  },
  {
   "cell_type": "code",
   "execution_count": 25,
   "metadata": {},
   "outputs": [],
   "source": [
    "import plotly.graph_objects as go"
   ]
  },
  {
   "cell_type": "code",
   "execution_count": 26,
   "metadata": {},
   "outputs": [
    {
     "data": {
      "application/vnd.plotly.v1+json": {
       "config": {
        "plotlyServerURL": "https://plot.ly"
       },
       "data": [
        {
         "name": "Acousticness",
         "type": "scatter",
         "x": [
          2000,
          2001,
          2002,
          2003,
          2004,
          2005,
          2006,
          2007,
          2008,
          2009,
          2010,
          2011,
          2012,
          2013,
          2014,
          2015,
          2016,
          2017,
          2018,
          2019,
          2020
         ],
         "y": [
          0.2893227005163599,
          0.2868424748428934,
          0.282624289885001,
          0.2564705181729783,
          0.2805589466225845,
          0.2557635068666665,
          0.2799863520256408,
          0.2540809575538463,
          0.2491917627212275,
          0.261928619096939,
          0.2426866435515872,
          0.2731826625185919,
          0.2499530443804624,
          0.2574880859564779,
          0.249312645880299,
          0.2539522577102332,
          0.2841710299554814,
          0.2860990665261043,
          0.2676329907750836,
          0.2782985863365824,
          0.2199308880935964
         ]
        },
        {
         "name": "Valence",
         "type": "scatter",
         "x": [
          2000,
          2001,
          2002,
          2003,
          2004,
          2005,
          2006,
          2007,
          2008,
          2009,
          2010,
          2011,
          2012,
          2013,
          2014,
          2015,
          2016,
          2017,
          2018,
          2019,
          2020
         ],
         "y": [
          0.5594754601226991,
          0.541479107231919,
          0.5423971500000008,
          0.5305042476970324,
          0.5244885554425227,
          0.5325309230769236,
          0.5200283076923078,
          0.5167938461538473,
          0.5275418925831203,
          0.5071696617346935,
          0.5208951587301589,
          0.4724536787307882,
          0.4627090128534706,
          0.4547411943319834,
          0.4630487780548628,
          0.4320983687943254,
          0.4315320589872012,
          0.4164763112449793,
          0.4479212743699474,
          0.4588176295536167,
          0.5010478078817729
         ]
        },
        {
         "name": "Danceability",
         "type": "scatter",
         "x": [
          2000,
          2001,
          2002,
          2003,
          2004,
          2005,
          2006,
          2007,
          2008,
          2009,
          2010,
          2011,
          2012,
          2013,
          2014,
          2015,
          2016,
          2017,
          2018,
          2019,
          2020
         ],
         "y": [
          0.590918047034764,
          0.5833178553615969,
          0.5761602999999997,
          0.5757633060388944,
          0.5676803662258397,
          0.5722805641025652,
          0.5682301538461539,
          0.5634143589743592,
          0.5791928388746803,
          0.5641903571428577,
          0.5724883432539687,
          0.5528669806643526,
          0.5708818508997433,
          0.5711480263157896,
          0.5899476807980057,
          0.5937740628166152,
          0.6002023928770179,
          0.6122170180722886,
          0.6635004755111744,
          0.6448141097998967,
          0.6929043349753701
         ]
        },
        {
         "name": "Energy",
         "type": "scatter",
         "x": [
          2000,
          2001,
          2002,
          2003,
          2004,
          2005,
          2006,
          2007,
          2008,
          2009,
          2010,
          2011,
          2012,
          2013,
          2014,
          2015,
          2016,
          2017,
          2018,
          2019,
          2020
         ],
         "y": [
          0.6254128323108387,
          0.6269855221945144,
          0.6412697960000012,
          0.6601652610030712,
          0.6488679450661226,
          0.653208511282051,
          0.6503262820512825,
          0.6683047743589737,
          0.6714608207672623,
          0.6707487551020408,
          0.6817778026289684,
          0.6483008934060499,
          0.6565714601542408,
          0.6455968914473688,
          0.6487954437905223,
          0.6270642715298895,
          0.5928552316082347,
          0.5904210208835337,
          0.6024346220161672,
          0.5932240360184717,
          0.6312316354679793
         ]
        },
        {
         "name": "Instrumentalness",
         "type": "scatter",
         "x": [
          2000,
          2001,
          2002,
          2003,
          2004,
          2005,
          2006,
          2007,
          2008,
          2009,
          2010,
          2011,
          2012,
          2013,
          2014,
          2015,
          2016,
          2017,
          2018,
          2019,
          2020
         ],
         "y": [
          0.1011677687934559,
          0.1072140189925186,
          0.0880483503149999,
          0.0830492746673491,
          0.0779340349084435,
          0.0901943611846154,
          0.0777014718769231,
          0.0729572680512819,
          0.0636620903171356,
          0.0758720736836735,
          0.0829805682192461,
          0.103772332166584,
          0.0852055206786631,
          0.0983650539170038,
          0.0765695548379051,
          0.1067868780547114,
          0.0939843871174179,
          0.0970906090662649,
          0.0542171216690441,
          0.0776402469728064,
          0.0163755243054187
         ]
        },
        {
         "name": "Liveness",
         "type": "scatter",
         "x": [
          2000,
          2001,
          2002,
          2003,
          2004,
          2005,
          2006,
          2007,
          2008,
          2009,
          2010,
          2011,
          2012,
          2013,
          2014,
          2015,
          2016,
          2017,
          2018,
          2019,
          2020
         ],
         "y": [
          0.1976860429447853,
          0.1870256359102248,
          0.1939111999999998,
          0.196976305015353,
          0.2021994404883014,
          0.1900816256410258,
          0.1882892820512821,
          0.1961265641025642,
          0.1984314066496162,
          0.2052522959183674,
          0.1997006448412699,
          0.2033088249876056,
          0.1897330077120824,
          0.1996308198380571,
          0.1918215960099752,
          0.1888564336372847,
          0.181169894268225,
          0.1917126004016064,
          0.1763255349500711,
          0.1726164186762446,
          0.1785354187192117
         ]
        },
        {
         "name": "Speechiness",
         "type": "scatter",
         "x": [
          2000,
          2001,
          2002,
          2003,
          2004,
          2005,
          2006,
          2007,
          2008,
          2009,
          2010,
          2011,
          2012,
          2013,
          2014,
          2015,
          2016,
          2017,
          2018,
          2019,
          2020
         ],
         "y": [
          0.0892054192229039,
          0.0891822942643391,
          0.0843075999999999,
          0.0939257420675538,
          0.0942388097660224,
          0.093333692307692,
          0.0858467692307692,
          0.0843473333333333,
          0.077356368286445,
          0.0854578061224489,
          0.0810314980158731,
          0.087479276152702,
          0.081742467866324,
          0.0938488866396761,
          0.0840605486284289,
          0.0967792299898684,
          0.1043132999443518,
          0.1105364959839356,
          0.1271755587256302,
          0.1210433555669573,
          0.1413836945812805
         ]
        }
       ],
       "layout": {
        "template": {
         "data": {
          "bar": [
           {
            "error_x": {
             "color": "#2a3f5f"
            },
            "error_y": {
             "color": "#2a3f5f"
            },
            "marker": {
             "line": {
              "color": "#E5ECF6",
              "width": 0.5
             },
             "pattern": {
              "fillmode": "overlay",
              "size": 10,
              "solidity": 0.2
             }
            },
            "type": "bar"
           }
          ],
          "barpolar": [
           {
            "marker": {
             "line": {
              "color": "#E5ECF6",
              "width": 0.5
             },
             "pattern": {
              "fillmode": "overlay",
              "size": 10,
              "solidity": 0.2
             }
            },
            "type": "barpolar"
           }
          ],
          "carpet": [
           {
            "aaxis": {
             "endlinecolor": "#2a3f5f",
             "gridcolor": "white",
             "linecolor": "white",
             "minorgridcolor": "white",
             "startlinecolor": "#2a3f5f"
            },
            "baxis": {
             "endlinecolor": "#2a3f5f",
             "gridcolor": "white",
             "linecolor": "white",
             "minorgridcolor": "white",
             "startlinecolor": "#2a3f5f"
            },
            "type": "carpet"
           }
          ],
          "choropleth": [
           {
            "colorbar": {
             "outlinewidth": 0,
             "ticks": ""
            },
            "type": "choropleth"
           }
          ],
          "contour": [
           {
            "colorbar": {
             "outlinewidth": 0,
             "ticks": ""
            },
            "colorscale": [
             [
              0,
              "#0d0887"
             ],
             [
              0.1111111111111111,
              "#46039f"
             ],
             [
              0.2222222222222222,
              "#7201a8"
             ],
             [
              0.3333333333333333,
              "#9c179e"
             ],
             [
              0.4444444444444444,
              "#bd3786"
             ],
             [
              0.5555555555555556,
              "#d8576b"
             ],
             [
              0.6666666666666666,
              "#ed7953"
             ],
             [
              0.7777777777777778,
              "#fb9f3a"
             ],
             [
              0.8888888888888888,
              "#fdca26"
             ],
             [
              1,
              "#f0f921"
             ]
            ],
            "type": "contour"
           }
          ],
          "contourcarpet": [
           {
            "colorbar": {
             "outlinewidth": 0,
             "ticks": ""
            },
            "type": "contourcarpet"
           }
          ],
          "heatmap": [
           {
            "colorbar": {
             "outlinewidth": 0,
             "ticks": ""
            },
            "colorscale": [
             [
              0,
              "#0d0887"
             ],
             [
              0.1111111111111111,
              "#46039f"
             ],
             [
              0.2222222222222222,
              "#7201a8"
             ],
             [
              0.3333333333333333,
              "#9c179e"
             ],
             [
              0.4444444444444444,
              "#bd3786"
             ],
             [
              0.5555555555555556,
              "#d8576b"
             ],
             [
              0.6666666666666666,
              "#ed7953"
             ],
             [
              0.7777777777777778,
              "#fb9f3a"
             ],
             [
              0.8888888888888888,
              "#fdca26"
             ],
             [
              1,
              "#f0f921"
             ]
            ],
            "type": "heatmap"
           }
          ],
          "heatmapgl": [
           {
            "colorbar": {
             "outlinewidth": 0,
             "ticks": ""
            },
            "colorscale": [
             [
              0,
              "#0d0887"
             ],
             [
              0.1111111111111111,
              "#46039f"
             ],
             [
              0.2222222222222222,
              "#7201a8"
             ],
             [
              0.3333333333333333,
              "#9c179e"
             ],
             [
              0.4444444444444444,
              "#bd3786"
             ],
             [
              0.5555555555555556,
              "#d8576b"
             ],
             [
              0.6666666666666666,
              "#ed7953"
             ],
             [
              0.7777777777777778,
              "#fb9f3a"
             ],
             [
              0.8888888888888888,
              "#fdca26"
             ],
             [
              1,
              "#f0f921"
             ]
            ],
            "type": "heatmapgl"
           }
          ],
          "histogram": [
           {
            "marker": {
             "pattern": {
              "fillmode": "overlay",
              "size": 10,
              "solidity": 0.2
             }
            },
            "type": "histogram"
           }
          ],
          "histogram2d": [
           {
            "colorbar": {
             "outlinewidth": 0,
             "ticks": ""
            },
            "colorscale": [
             [
              0,
              "#0d0887"
             ],
             [
              0.1111111111111111,
              "#46039f"
             ],
             [
              0.2222222222222222,
              "#7201a8"
             ],
             [
              0.3333333333333333,
              "#9c179e"
             ],
             [
              0.4444444444444444,
              "#bd3786"
             ],
             [
              0.5555555555555556,
              "#d8576b"
             ],
             [
              0.6666666666666666,
              "#ed7953"
             ],
             [
              0.7777777777777778,
              "#fb9f3a"
             ],
             [
              0.8888888888888888,
              "#fdca26"
             ],
             [
              1,
              "#f0f921"
             ]
            ],
            "type": "histogram2d"
           }
          ],
          "histogram2dcontour": [
           {
            "colorbar": {
             "outlinewidth": 0,
             "ticks": ""
            },
            "colorscale": [
             [
              0,
              "#0d0887"
             ],
             [
              0.1111111111111111,
              "#46039f"
             ],
             [
              0.2222222222222222,
              "#7201a8"
             ],
             [
              0.3333333333333333,
              "#9c179e"
             ],
             [
              0.4444444444444444,
              "#bd3786"
             ],
             [
              0.5555555555555556,
              "#d8576b"
             ],
             [
              0.6666666666666666,
              "#ed7953"
             ],
             [
              0.7777777777777778,
              "#fb9f3a"
             ],
             [
              0.8888888888888888,
              "#fdca26"
             ],
             [
              1,
              "#f0f921"
             ]
            ],
            "type": "histogram2dcontour"
           }
          ],
          "mesh3d": [
           {
            "colorbar": {
             "outlinewidth": 0,
             "ticks": ""
            },
            "type": "mesh3d"
           }
          ],
          "parcoords": [
           {
            "line": {
             "colorbar": {
              "outlinewidth": 0,
              "ticks": ""
             }
            },
            "type": "parcoords"
           }
          ],
          "pie": [
           {
            "automargin": true,
            "type": "pie"
           }
          ],
          "scatter": [
           {
            "fillpattern": {
             "fillmode": "overlay",
             "size": 10,
             "solidity": 0.2
            },
            "type": "scatter"
           }
          ],
          "scatter3d": [
           {
            "line": {
             "colorbar": {
              "outlinewidth": 0,
              "ticks": ""
             }
            },
            "marker": {
             "colorbar": {
              "outlinewidth": 0,
              "ticks": ""
             }
            },
            "type": "scatter3d"
           }
          ],
          "scattercarpet": [
           {
            "marker": {
             "colorbar": {
              "outlinewidth": 0,
              "ticks": ""
             }
            },
            "type": "scattercarpet"
           }
          ],
          "scattergeo": [
           {
            "marker": {
             "colorbar": {
              "outlinewidth": 0,
              "ticks": ""
             }
            },
            "type": "scattergeo"
           }
          ],
          "scattergl": [
           {
            "marker": {
             "colorbar": {
              "outlinewidth": 0,
              "ticks": ""
             }
            },
            "type": "scattergl"
           }
          ],
          "scattermapbox": [
           {
            "marker": {
             "colorbar": {
              "outlinewidth": 0,
              "ticks": ""
             }
            },
            "type": "scattermapbox"
           }
          ],
          "scatterpolar": [
           {
            "marker": {
             "colorbar": {
              "outlinewidth": 0,
              "ticks": ""
             }
            },
            "type": "scatterpolar"
           }
          ],
          "scatterpolargl": [
           {
            "marker": {
             "colorbar": {
              "outlinewidth": 0,
              "ticks": ""
             }
            },
            "type": "scatterpolargl"
           }
          ],
          "scatterternary": [
           {
            "marker": {
             "colorbar": {
              "outlinewidth": 0,
              "ticks": ""
             }
            },
            "type": "scatterternary"
           }
          ],
          "surface": [
           {
            "colorbar": {
             "outlinewidth": 0,
             "ticks": ""
            },
            "colorscale": [
             [
              0,
              "#0d0887"
             ],
             [
              0.1111111111111111,
              "#46039f"
             ],
             [
              0.2222222222222222,
              "#7201a8"
             ],
             [
              0.3333333333333333,
              "#9c179e"
             ],
             [
              0.4444444444444444,
              "#bd3786"
             ],
             [
              0.5555555555555556,
              "#d8576b"
             ],
             [
              0.6666666666666666,
              "#ed7953"
             ],
             [
              0.7777777777777778,
              "#fb9f3a"
             ],
             [
              0.8888888888888888,
              "#fdca26"
             ],
             [
              1,
              "#f0f921"
             ]
            ],
            "type": "surface"
           }
          ],
          "table": [
           {
            "cells": {
             "fill": {
              "color": "#EBF0F8"
             },
             "line": {
              "color": "white"
             }
            },
            "header": {
             "fill": {
              "color": "#C8D4E3"
             },
             "line": {
              "color": "white"
             }
            },
            "type": "table"
           }
          ]
         },
         "layout": {
          "annotationdefaults": {
           "arrowcolor": "#2a3f5f",
           "arrowhead": 0,
           "arrowwidth": 1
          },
          "autotypenumbers": "strict",
          "coloraxis": {
           "colorbar": {
            "outlinewidth": 0,
            "ticks": ""
           }
          },
          "colorscale": {
           "diverging": [
            [
             0,
             "#8e0152"
            ],
            [
             0.1,
             "#c51b7d"
            ],
            [
             0.2,
             "#de77ae"
            ],
            [
             0.3,
             "#f1b6da"
            ],
            [
             0.4,
             "#fde0ef"
            ],
            [
             0.5,
             "#f7f7f7"
            ],
            [
             0.6,
             "#e6f5d0"
            ],
            [
             0.7,
             "#b8e186"
            ],
            [
             0.8,
             "#7fbc41"
            ],
            [
             0.9,
             "#4d9221"
            ],
            [
             1,
             "#276419"
            ]
           ],
           "sequential": [
            [
             0,
             "#0d0887"
            ],
            [
             0.1111111111111111,
             "#46039f"
            ],
            [
             0.2222222222222222,
             "#7201a8"
            ],
            [
             0.3333333333333333,
             "#9c179e"
            ],
            [
             0.4444444444444444,
             "#bd3786"
            ],
            [
             0.5555555555555556,
             "#d8576b"
            ],
            [
             0.6666666666666666,
             "#ed7953"
            ],
            [
             0.7777777777777778,
             "#fb9f3a"
            ],
            [
             0.8888888888888888,
             "#fdca26"
            ],
            [
             1,
             "#f0f921"
            ]
           ],
           "sequentialminus": [
            [
             0,
             "#0d0887"
            ],
            [
             0.1111111111111111,
             "#46039f"
            ],
            [
             0.2222222222222222,
             "#7201a8"
            ],
            [
             0.3333333333333333,
             "#9c179e"
            ],
            [
             0.4444444444444444,
             "#bd3786"
            ],
            [
             0.5555555555555556,
             "#d8576b"
            ],
            [
             0.6666666666666666,
             "#ed7953"
            ],
            [
             0.7777777777777778,
             "#fb9f3a"
            ],
            [
             0.8888888888888888,
             "#fdca26"
            ],
            [
             1,
             "#f0f921"
            ]
           ]
          },
          "colorway": [
           "#636efa",
           "#EF553B",
           "#00cc96",
           "#ab63fa",
           "#FFA15A",
           "#19d3f3",
           "#FF6692",
           "#B6E880",
           "#FF97FF",
           "#FECB52"
          ],
          "font": {
           "color": "#2a3f5f"
          },
          "geo": {
           "bgcolor": "white",
           "lakecolor": "white",
           "landcolor": "#E5ECF6",
           "showlakes": true,
           "showland": true,
           "subunitcolor": "white"
          },
          "hoverlabel": {
           "align": "left"
          },
          "hovermode": "closest",
          "mapbox": {
           "style": "light"
          },
          "paper_bgcolor": "white",
          "plot_bgcolor": "#E5ECF6",
          "polar": {
           "angularaxis": {
            "gridcolor": "white",
            "linecolor": "white",
            "ticks": ""
           },
           "bgcolor": "#E5ECF6",
           "radialaxis": {
            "gridcolor": "white",
            "linecolor": "white",
            "ticks": ""
           }
          },
          "scene": {
           "xaxis": {
            "backgroundcolor": "#E5ECF6",
            "gridcolor": "white",
            "gridwidth": 2,
            "linecolor": "white",
            "showbackground": true,
            "ticks": "",
            "zerolinecolor": "white"
           },
           "yaxis": {
            "backgroundcolor": "#E5ECF6",
            "gridcolor": "white",
            "gridwidth": 2,
            "linecolor": "white",
            "showbackground": true,
            "ticks": "",
            "zerolinecolor": "white"
           },
           "zaxis": {
            "backgroundcolor": "#E5ECF6",
            "gridcolor": "white",
            "gridwidth": 2,
            "linecolor": "white",
            "showbackground": true,
            "ticks": "",
            "zerolinecolor": "white"
           }
          },
          "shapedefaults": {
           "line": {
            "color": "#2a3f5f"
           }
          },
          "ternary": {
           "aaxis": {
            "gridcolor": "white",
            "linecolor": "white",
            "ticks": ""
           },
           "baxis": {
            "gridcolor": "white",
            "linecolor": "white",
            "ticks": ""
           },
           "bgcolor": "#E5ECF6",
           "caxis": {
            "gridcolor": "white",
            "linecolor": "white",
            "ticks": ""
           }
          },
          "title": {
           "x": 0.05
          },
          "xaxis": {
           "automargin": true,
           "gridcolor": "white",
           "linecolor": "white",
           "ticks": "",
           "title": {
            "standoff": 15
           },
           "zerolinecolor": "white",
           "zerolinewidth": 2
          },
          "yaxis": {
           "automargin": true,
           "gridcolor": "white",
           "linecolor": "white",
           "ticks": "",
           "title": {
            "standoff": 15
           },
           "zerolinecolor": "white",
           "zerolinewidth": 2
          }
         }
        }
       }
      }
     },
     "metadata": {},
     "output_type": "display_data"
    }
   ],
   "source": [
    "fig = go.Figure()\n",
    "\n",
    "fig.add_trace(go.Scatter(x=dados_anos['year'], y=dados_anos['acousticness'],\n",
    "                        name='Acousticness'))\n",
    "fig.add_trace(go.Scatter(x=dados_anos['year'], y=dados_anos['valence'],\n",
    "                        name='Valence'))\n",
    "fig.add_trace(go.Scatter(x=dados_anos['year'], y=dados_anos['danceability'],\n",
    "                        name='Danceability'))\n",
    "fig.add_trace(go.Scatter(x=dados_anos['year'], y=dados_anos['energy'],\n",
    "                        name='Energy'))\n",
    "fig.add_trace(go.Scatter(x=dados_anos['year'], y=dados_anos['instrumentalness'],\n",
    "                        name='Instrumentalness'))\n",
    "fig.add_trace(go.Scatter(x=dados_anos['year'], y=dados_anos['liveness'],\n",
    "                        name='Liveness'))\n",
    "fig.add_trace(go.Scatter(x=dados_anos['year'], y=dados_anos['speechiness'],\n",
    "                        name='Speechiness'))\n",
    "\n",
    "fig.show()"
   ]
  },
  {
   "cell_type": "code",
   "execution_count": 27,
   "metadata": {},
   "outputs": [
    {
     "data": {
      "application/vnd.plotly.v1+json": {
       "config": {
        "plotlyServerURL": "https://plot.ly"
       },
       "data": [
        {
         "coloraxis": "coloraxis",
         "hovertemplate": "x: %{x}<br>y: %{y}<br>color: %{z}<extra></extra>",
         "name": "0",
         "texttemplate": "%{z}",
         "type": "heatmap",
         "x": [
          "valence",
          "year",
          "acousticness",
          "danceability",
          "duration_ms",
          "energy",
          "instrumentalness",
          "liveness",
          "loudness",
          "popularity",
          "speechiness",
          "tempo"
         ],
         "xaxis": "x",
         "y": [
          "valence",
          "year",
          "acousticness",
          "danceability",
          "duration_ms",
          "energy",
          "instrumentalness",
          "liveness",
          "loudness",
          "popularity",
          "speechiness",
          "tempo"
         ],
         "yaxis": "y",
         "z": [
          [
           1,
           -0.11152818996552269,
           -0.17906507578880113,
           0.4706016928505381,
           -0.19255117869290994,
           0.35029199798428345,
           -0.2557841048653347,
           0.02221366049722543,
           0.3378977669900986,
           -0.02666406634639214,
           0.08252614933102408,
           0.07315334866798318
          ],
          [
           -0.11152818996552269,
           1,
           -0.011224012558530316,
           0.17440028973064198,
           -0.14627395555186518,
           -0.06995658525945365,
           -0.13203456252176587,
           -0.04295002368784964,
           0.052483197651396335,
           0.5520537744643068,
           0.12405143773766447,
           0.02311722172289499
          ],
          [
           -0.17906507578880113,
           -0.011224012558530316,
           1,
           -0.1758942916516538,
           -0.05596681465486787,
           -0.7091107964699702,
           0.29973973152822125,
           -0.09844289738151028,
           -0.6036127005064934,
           -0.03187901141421101,
           -0.12082482277726948,
           -0.15474122793050457
          ],
          [
           0.4706016928505381,
           0.17440028973064198,
           -0.1758942916516538,
           1,
           -0.15971497774585897,
           0.08735820678113757,
           -0.3142998559030547,
           -0.0696597044523255,
           0.2679343205070181,
           0.1809607849711362,
           0.2267015756782655,
           -0.09486499562608043
          ],
          [
           -0.19255117869290994,
           -0.14627395555186518,
           -0.05596681465486787,
           -0.15971497774585897,
           1,
           0.014565108670534132,
           0.07164598789913075,
           0.052743206410793615,
           -0.017003038059048684,
           -0.10932110003241752,
           -0.02851359221465405,
           -0.028602148844984
          ],
          [
           0.35029199798428345,
           -0.06995658525945365,
           -0.7091107964699702,
           0.08735820678113757,
           0.014565108670534132,
           1,
           -0.3164682501295295,
           0.17387777376175623,
           0.7595724242928918,
           -0.028459539491050623,
           0.11401773090551177,
           0.1916455676981815
          ],
          [
           -0.2557841048653347,
           -0.13203456252176587,
           0.29973973152822125,
           -0.3142998559030547,
           0.07164598789913075,
           -0.3164682501295295,
           1,
           -0.06234712806061889,
           -0.5588938236531733,
           -0.12504620012490858,
           -0.1371187140191706,
           -0.09444020881622293
          ],
          [
           0.02221366049722543,
           -0.04295002368784964,
           -0.09844289738151028,
           -0.0696597044523255,
           0.052743206410793615,
           0.17387777376175623,
           -0.06234712806061889,
           1,
           0.09144172661855732,
           -0.06860593075406679,
           0.11955070410710385,
           0.014857567069808593
          ],
          [
           0.3378977669900986,
           0.052483197651396335,
           -0.6036127005064934,
           0.2679343205070181,
           -0.017003038059048684,
           0.7595724242928918,
           -0.5588938236531733,
           0.09144172661855732,
           1,
           0.09292468076617552,
           0.07902873344113712,
           0.18045939002871472
          ],
          [
           -0.02666406634639214,
           0.5520537744643068,
           -0.03187901141421101,
           0.1809607849711362,
           -0.10932110003241752,
           -0.028459539491050623,
           -0.12504620012490858,
           -0.06860593075406679,
           0.09292468076617552,
           1,
           0.057125553208252515,
           -0.00033755419876421543
          ],
          [
           0.08252614933102408,
           0.12405143773766447,
           -0.12082482277726948,
           0.2267015756782655,
           -0.02851359221465405,
           0.11401773090551177,
           -0.1371187140191706,
           0.11955070410710385,
           0.07902873344113712,
           0.057125553208252515,
           1,
           0.04062153175888837
          ],
          [
           0.07315334866798318,
           0.02311722172289499,
           -0.15474122793050457,
           -0.09486499562608043,
           -0.028602148844984,
           0.1916455676981815,
           -0.09444020881622293,
           0.014857567069808593,
           0.18045939002871472,
           -0.00033755419876421543,
           0.04062153175888837,
           1
          ]
         ]
        }
       ],
       "layout": {
        "coloraxis": {
         "colorscale": [
          [
           0,
           "#0d0887"
          ],
          [
           0.1111111111111111,
           "#46039f"
          ],
          [
           0.2222222222222222,
           "#7201a8"
          ],
          [
           0.3333333333333333,
           "#9c179e"
          ],
          [
           0.4444444444444444,
           "#bd3786"
          ],
          [
           0.5555555555555556,
           "#d8576b"
          ],
          [
           0.6666666666666666,
           "#ed7953"
          ],
          [
           0.7777777777777778,
           "#fb9f3a"
          ],
          [
           0.8888888888888888,
           "#fdca26"
          ],
          [
           1,
           "#f0f921"
          ]
         ]
        },
        "margin": {
         "t": 60
        },
        "template": {
         "data": {
          "bar": [
           {
            "error_x": {
             "color": "#2a3f5f"
            },
            "error_y": {
             "color": "#2a3f5f"
            },
            "marker": {
             "line": {
              "color": "#E5ECF6",
              "width": 0.5
             },
             "pattern": {
              "fillmode": "overlay",
              "size": 10,
              "solidity": 0.2
             }
            },
            "type": "bar"
           }
          ],
          "barpolar": [
           {
            "marker": {
             "line": {
              "color": "#E5ECF6",
              "width": 0.5
             },
             "pattern": {
              "fillmode": "overlay",
              "size": 10,
              "solidity": 0.2
             }
            },
            "type": "barpolar"
           }
          ],
          "carpet": [
           {
            "aaxis": {
             "endlinecolor": "#2a3f5f",
             "gridcolor": "white",
             "linecolor": "white",
             "minorgridcolor": "white",
             "startlinecolor": "#2a3f5f"
            },
            "baxis": {
             "endlinecolor": "#2a3f5f",
             "gridcolor": "white",
             "linecolor": "white",
             "minorgridcolor": "white",
             "startlinecolor": "#2a3f5f"
            },
            "type": "carpet"
           }
          ],
          "choropleth": [
           {
            "colorbar": {
             "outlinewidth": 0,
             "ticks": ""
            },
            "type": "choropleth"
           }
          ],
          "contour": [
           {
            "colorbar": {
             "outlinewidth": 0,
             "ticks": ""
            },
            "colorscale": [
             [
              0,
              "#0d0887"
             ],
             [
              0.1111111111111111,
              "#46039f"
             ],
             [
              0.2222222222222222,
              "#7201a8"
             ],
             [
              0.3333333333333333,
              "#9c179e"
             ],
             [
              0.4444444444444444,
              "#bd3786"
             ],
             [
              0.5555555555555556,
              "#d8576b"
             ],
             [
              0.6666666666666666,
              "#ed7953"
             ],
             [
              0.7777777777777778,
              "#fb9f3a"
             ],
             [
              0.8888888888888888,
              "#fdca26"
             ],
             [
              1,
              "#f0f921"
             ]
            ],
            "type": "contour"
           }
          ],
          "contourcarpet": [
           {
            "colorbar": {
             "outlinewidth": 0,
             "ticks": ""
            },
            "type": "contourcarpet"
           }
          ],
          "heatmap": [
           {
            "colorbar": {
             "outlinewidth": 0,
             "ticks": ""
            },
            "colorscale": [
             [
              0,
              "#0d0887"
             ],
             [
              0.1111111111111111,
              "#46039f"
             ],
             [
              0.2222222222222222,
              "#7201a8"
             ],
             [
              0.3333333333333333,
              "#9c179e"
             ],
             [
              0.4444444444444444,
              "#bd3786"
             ],
             [
              0.5555555555555556,
              "#d8576b"
             ],
             [
              0.6666666666666666,
              "#ed7953"
             ],
             [
              0.7777777777777778,
              "#fb9f3a"
             ],
             [
              0.8888888888888888,
              "#fdca26"
             ],
             [
              1,
              "#f0f921"
             ]
            ],
            "type": "heatmap"
           }
          ],
          "heatmapgl": [
           {
            "colorbar": {
             "outlinewidth": 0,
             "ticks": ""
            },
            "colorscale": [
             [
              0,
              "#0d0887"
             ],
             [
              0.1111111111111111,
              "#46039f"
             ],
             [
              0.2222222222222222,
              "#7201a8"
             ],
             [
              0.3333333333333333,
              "#9c179e"
             ],
             [
              0.4444444444444444,
              "#bd3786"
             ],
             [
              0.5555555555555556,
              "#d8576b"
             ],
             [
              0.6666666666666666,
              "#ed7953"
             ],
             [
              0.7777777777777778,
              "#fb9f3a"
             ],
             [
              0.8888888888888888,
              "#fdca26"
             ],
             [
              1,
              "#f0f921"
             ]
            ],
            "type": "heatmapgl"
           }
          ],
          "histogram": [
           {
            "marker": {
             "pattern": {
              "fillmode": "overlay",
              "size": 10,
              "solidity": 0.2
             }
            },
            "type": "histogram"
           }
          ],
          "histogram2d": [
           {
            "colorbar": {
             "outlinewidth": 0,
             "ticks": ""
            },
            "colorscale": [
             [
              0,
              "#0d0887"
             ],
             [
              0.1111111111111111,
              "#46039f"
             ],
             [
              0.2222222222222222,
              "#7201a8"
             ],
             [
              0.3333333333333333,
              "#9c179e"
             ],
             [
              0.4444444444444444,
              "#bd3786"
             ],
             [
              0.5555555555555556,
              "#d8576b"
             ],
             [
              0.6666666666666666,
              "#ed7953"
             ],
             [
              0.7777777777777778,
              "#fb9f3a"
             ],
             [
              0.8888888888888888,
              "#fdca26"
             ],
             [
              1,
              "#f0f921"
             ]
            ],
            "type": "histogram2d"
           }
          ],
          "histogram2dcontour": [
           {
            "colorbar": {
             "outlinewidth": 0,
             "ticks": ""
            },
            "colorscale": [
             [
              0,
              "#0d0887"
             ],
             [
              0.1111111111111111,
              "#46039f"
             ],
             [
              0.2222222222222222,
              "#7201a8"
             ],
             [
              0.3333333333333333,
              "#9c179e"
             ],
             [
              0.4444444444444444,
              "#bd3786"
             ],
             [
              0.5555555555555556,
              "#d8576b"
             ],
             [
              0.6666666666666666,
              "#ed7953"
             ],
             [
              0.7777777777777778,
              "#fb9f3a"
             ],
             [
              0.8888888888888888,
              "#fdca26"
             ],
             [
              1,
              "#f0f921"
             ]
            ],
            "type": "histogram2dcontour"
           }
          ],
          "mesh3d": [
           {
            "colorbar": {
             "outlinewidth": 0,
             "ticks": ""
            },
            "type": "mesh3d"
           }
          ],
          "parcoords": [
           {
            "line": {
             "colorbar": {
              "outlinewidth": 0,
              "ticks": ""
             }
            },
            "type": "parcoords"
           }
          ],
          "pie": [
           {
            "automargin": true,
            "type": "pie"
           }
          ],
          "scatter": [
           {
            "fillpattern": {
             "fillmode": "overlay",
             "size": 10,
             "solidity": 0.2
            },
            "type": "scatter"
           }
          ],
          "scatter3d": [
           {
            "line": {
             "colorbar": {
              "outlinewidth": 0,
              "ticks": ""
             }
            },
            "marker": {
             "colorbar": {
              "outlinewidth": 0,
              "ticks": ""
             }
            },
            "type": "scatter3d"
           }
          ],
          "scattercarpet": [
           {
            "marker": {
             "colorbar": {
              "outlinewidth": 0,
              "ticks": ""
             }
            },
            "type": "scattercarpet"
           }
          ],
          "scattergeo": [
           {
            "marker": {
             "colorbar": {
              "outlinewidth": 0,
              "ticks": ""
             }
            },
            "type": "scattergeo"
           }
          ],
          "scattergl": [
           {
            "marker": {
             "colorbar": {
              "outlinewidth": 0,
              "ticks": ""
             }
            },
            "type": "scattergl"
           }
          ],
          "scattermapbox": [
           {
            "marker": {
             "colorbar": {
              "outlinewidth": 0,
              "ticks": ""
             }
            },
            "type": "scattermapbox"
           }
          ],
          "scatterpolar": [
           {
            "marker": {
             "colorbar": {
              "outlinewidth": 0,
              "ticks": ""
             }
            },
            "type": "scatterpolar"
           }
          ],
          "scatterpolargl": [
           {
            "marker": {
             "colorbar": {
              "outlinewidth": 0,
              "ticks": ""
             }
            },
            "type": "scatterpolargl"
           }
          ],
          "scatterternary": [
           {
            "marker": {
             "colorbar": {
              "outlinewidth": 0,
              "ticks": ""
             }
            },
            "type": "scatterternary"
           }
          ],
          "surface": [
           {
            "colorbar": {
             "outlinewidth": 0,
             "ticks": ""
            },
            "colorscale": [
             [
              0,
              "#0d0887"
             ],
             [
              0.1111111111111111,
              "#46039f"
             ],
             [
              0.2222222222222222,
              "#7201a8"
             ],
             [
              0.3333333333333333,
              "#9c179e"
             ],
             [
              0.4444444444444444,
              "#bd3786"
             ],
             [
              0.5555555555555556,
              "#d8576b"
             ],
             [
              0.6666666666666666,
              "#ed7953"
             ],
             [
              0.7777777777777778,
              "#fb9f3a"
             ],
             [
              0.8888888888888888,
              "#fdca26"
             ],
             [
              1,
              "#f0f921"
             ]
            ],
            "type": "surface"
           }
          ],
          "table": [
           {
            "cells": {
             "fill": {
              "color": "#EBF0F8"
             },
             "line": {
              "color": "white"
             }
            },
            "header": {
             "fill": {
              "color": "#C8D4E3"
             },
             "line": {
              "color": "white"
             }
            },
            "type": "table"
           }
          ]
         },
         "layout": {
          "annotationdefaults": {
           "arrowcolor": "#2a3f5f",
           "arrowhead": 0,
           "arrowwidth": 1
          },
          "autotypenumbers": "strict",
          "coloraxis": {
           "colorbar": {
            "outlinewidth": 0,
            "ticks": ""
           }
          },
          "colorscale": {
           "diverging": [
            [
             0,
             "#8e0152"
            ],
            [
             0.1,
             "#c51b7d"
            ],
            [
             0.2,
             "#de77ae"
            ],
            [
             0.3,
             "#f1b6da"
            ],
            [
             0.4,
             "#fde0ef"
            ],
            [
             0.5,
             "#f7f7f7"
            ],
            [
             0.6,
             "#e6f5d0"
            ],
            [
             0.7,
             "#b8e186"
            ],
            [
             0.8,
             "#7fbc41"
            ],
            [
             0.9,
             "#4d9221"
            ],
            [
             1,
             "#276419"
            ]
           ],
           "sequential": [
            [
             0,
             "#0d0887"
            ],
            [
             0.1111111111111111,
             "#46039f"
            ],
            [
             0.2222222222222222,
             "#7201a8"
            ],
            [
             0.3333333333333333,
             "#9c179e"
            ],
            [
             0.4444444444444444,
             "#bd3786"
            ],
            [
             0.5555555555555556,
             "#d8576b"
            ],
            [
             0.6666666666666666,
             "#ed7953"
            ],
            [
             0.7777777777777778,
             "#fb9f3a"
            ],
            [
             0.8888888888888888,
             "#fdca26"
            ],
            [
             1,
             "#f0f921"
            ]
           ],
           "sequentialminus": [
            [
             0,
             "#0d0887"
            ],
            [
             0.1111111111111111,
             "#46039f"
            ],
            [
             0.2222222222222222,
             "#7201a8"
            ],
            [
             0.3333333333333333,
             "#9c179e"
            ],
            [
             0.4444444444444444,
             "#bd3786"
            ],
            [
             0.5555555555555556,
             "#d8576b"
            ],
            [
             0.6666666666666666,
             "#ed7953"
            ],
            [
             0.7777777777777778,
             "#fb9f3a"
            ],
            [
             0.8888888888888888,
             "#fdca26"
            ],
            [
             1,
             "#f0f921"
            ]
           ]
          },
          "colorway": [
           "#636efa",
           "#EF553B",
           "#00cc96",
           "#ab63fa",
           "#FFA15A",
           "#19d3f3",
           "#FF6692",
           "#B6E880",
           "#FF97FF",
           "#FECB52"
          ],
          "font": {
           "color": "#2a3f5f"
          },
          "geo": {
           "bgcolor": "white",
           "lakecolor": "white",
           "landcolor": "#E5ECF6",
           "showlakes": true,
           "showland": true,
           "subunitcolor": "white"
          },
          "hoverlabel": {
           "align": "left"
          },
          "hovermode": "closest",
          "mapbox": {
           "style": "light"
          },
          "paper_bgcolor": "white",
          "plot_bgcolor": "#E5ECF6",
          "polar": {
           "angularaxis": {
            "gridcolor": "white",
            "linecolor": "white",
            "ticks": ""
           },
           "bgcolor": "#E5ECF6",
           "radialaxis": {
            "gridcolor": "white",
            "linecolor": "white",
            "ticks": ""
           }
          },
          "scene": {
           "xaxis": {
            "backgroundcolor": "#E5ECF6",
            "gridcolor": "white",
            "gridwidth": 2,
            "linecolor": "white",
            "showbackground": true,
            "ticks": "",
            "zerolinecolor": "white"
           },
           "yaxis": {
            "backgroundcolor": "#E5ECF6",
            "gridcolor": "white",
            "gridwidth": 2,
            "linecolor": "white",
            "showbackground": true,
            "ticks": "",
            "zerolinecolor": "white"
           },
           "zaxis": {
            "backgroundcolor": "#E5ECF6",
            "gridcolor": "white",
            "gridwidth": 2,
            "linecolor": "white",
            "showbackground": true,
            "ticks": "",
            "zerolinecolor": "white"
           }
          },
          "shapedefaults": {
           "line": {
            "color": "#2a3f5f"
           }
          },
          "ternary": {
           "aaxis": {
            "gridcolor": "white",
            "linecolor": "white",
            "ticks": ""
           },
           "baxis": {
            "gridcolor": "white",
            "linecolor": "white",
            "ticks": ""
           },
           "bgcolor": "#E5ECF6",
           "caxis": {
            "gridcolor": "white",
            "linecolor": "white",
            "ticks": ""
           }
          },
          "title": {
           "x": 0.05
          },
          "xaxis": {
           "automargin": true,
           "gridcolor": "white",
           "linecolor": "white",
           "ticks": "",
           "title": {
            "standoff": 15
           },
           "zerolinecolor": "white",
           "zerolinewidth": 2
          },
          "yaxis": {
           "automargin": true,
           "gridcolor": "white",
           "linecolor": "white",
           "ticks": "",
           "title": {
            "standoff": 15
           },
           "zerolinecolor": "white",
           "zerolinewidth": 2
          }
         }
        },
        "xaxis": {
         "anchor": "y",
         "constrain": "domain",
         "domain": [
          0,
          1
         ],
         "scaleanchor": "y"
        },
        "yaxis": {
         "anchor": "x",
         "autorange": "reversed",
         "constrain": "domain",
         "domain": [
          0,
          1
         ]
        }
       }
      }
     },
     "metadata": {},
     "output_type": "display_data"
    }
   ],
   "source": [
    "fig = px.imshow(dados.corr(), text_auto=True)\n",
    "fig.show()"
   ]
  },
  {
   "attachments": {},
   "cell_type": "markdown",
   "metadata": {},
   "source": [
    "# Aula 02 - Clusterização por gênero"
   ]
  },
  {
   "attachments": {},
   "cell_type": "markdown",
   "metadata": {},
   "source": [
    "## PCA e StandardScaler"
   ]
  },
  {
   "cell_type": "code",
   "execution_count": 28,
   "metadata": {},
   "outputs": [
    {
     "data": {
      "text/html": [
       "<div>\n",
       "<style scoped>\n",
       "    .dataframe tbody tr th:only-of-type {\n",
       "        vertical-align: middle;\n",
       "    }\n",
       "\n",
       "    .dataframe tbody tr th {\n",
       "        vertical-align: top;\n",
       "    }\n",
       "\n",
       "    .dataframe thead th {\n",
       "        text-align: right;\n",
       "    }\n",
       "</style>\n",
       "<table border=\"1\" class=\"dataframe\">\n",
       "  <thead>\n",
       "    <tr style=\"text-align: right;\">\n",
       "      <th></th>\n",
       "      <th>genres</th>\n",
       "      <th>acousticness</th>\n",
       "      <th>danceability</th>\n",
       "      <th>duration_ms</th>\n",
       "      <th>energy</th>\n",
       "      <th>instrumentalness</th>\n",
       "      <th>liveness</th>\n",
       "      <th>loudness</th>\n",
       "      <th>speechiness</th>\n",
       "      <th>tempo</th>\n",
       "      <th>valence</th>\n",
       "      <th>popularity</th>\n",
       "    </tr>\n",
       "  </thead>\n",
       "  <tbody>\n",
       "    <tr>\n",
       "      <th>0</th>\n",
       "      <td>21st century classical</td>\n",
       "      <td>0.979333</td>\n",
       "      <td>0.162883</td>\n",
       "      <td>1.602977e+05</td>\n",
       "      <td>0.071317</td>\n",
       "      <td>0.606834</td>\n",
       "      <td>0.361600</td>\n",
       "      <td>-31.514333</td>\n",
       "      <td>0.040567</td>\n",
       "      <td>75.336500</td>\n",
       "      <td>0.103783</td>\n",
       "      <td>27.833333</td>\n",
       "    </tr>\n",
       "    <tr>\n",
       "      <th>1</th>\n",
       "      <td>432hz</td>\n",
       "      <td>0.494780</td>\n",
       "      <td>0.299333</td>\n",
       "      <td>1.048887e+06</td>\n",
       "      <td>0.450678</td>\n",
       "      <td>0.477762</td>\n",
       "      <td>0.131000</td>\n",
       "      <td>-16.854000</td>\n",
       "      <td>0.076817</td>\n",
       "      <td>120.285667</td>\n",
       "      <td>0.221750</td>\n",
       "      <td>52.500000</td>\n",
       "    </tr>\n",
       "    <tr>\n",
       "      <th>2</th>\n",
       "      <td>8-bit</td>\n",
       "      <td>0.762000</td>\n",
       "      <td>0.712000</td>\n",
       "      <td>1.151770e+05</td>\n",
       "      <td>0.818000</td>\n",
       "      <td>0.876000</td>\n",
       "      <td>0.126000</td>\n",
       "      <td>-9.180000</td>\n",
       "      <td>0.047000</td>\n",
       "      <td>133.444000</td>\n",
       "      <td>0.975000</td>\n",
       "      <td>48.000000</td>\n",
       "    </tr>\n",
       "    <tr>\n",
       "      <th>3</th>\n",
       "      <td>[]</td>\n",
       "      <td>0.651417</td>\n",
       "      <td>0.529093</td>\n",
       "      <td>2.328809e+05</td>\n",
       "      <td>0.419146</td>\n",
       "      <td>0.205309</td>\n",
       "      <td>0.218696</td>\n",
       "      <td>-12.288965</td>\n",
       "      <td>0.107872</td>\n",
       "      <td>112.857352</td>\n",
       "      <td>0.513604</td>\n",
       "      <td>20.859882</td>\n",
       "    </tr>\n",
       "    <tr>\n",
       "      <th>4</th>\n",
       "      <td>a cappella</td>\n",
       "      <td>0.676557</td>\n",
       "      <td>0.538961</td>\n",
       "      <td>1.906285e+05</td>\n",
       "      <td>0.316434</td>\n",
       "      <td>0.003003</td>\n",
       "      <td>0.172254</td>\n",
       "      <td>-12.479387</td>\n",
       "      <td>0.082851</td>\n",
       "      <td>112.110362</td>\n",
       "      <td>0.448249</td>\n",
       "      <td>45.820071</td>\n",
       "    </tr>\n",
       "    <tr>\n",
       "      <th>...</th>\n",
       "      <td>...</td>\n",
       "      <td>...</td>\n",
       "      <td>...</td>\n",
       "      <td>...</td>\n",
       "      <td>...</td>\n",
       "      <td>...</td>\n",
       "      <td>...</td>\n",
       "      <td>...</td>\n",
       "      <td>...</td>\n",
       "      <td>...</td>\n",
       "      <td>...</td>\n",
       "      <td>...</td>\n",
       "    </tr>\n",
       "    <tr>\n",
       "      <th>2968</th>\n",
       "      <td>zolo</td>\n",
       "      <td>0.222625</td>\n",
       "      <td>0.547082</td>\n",
       "      <td>2.580991e+05</td>\n",
       "      <td>0.610240</td>\n",
       "      <td>0.143872</td>\n",
       "      <td>0.204206</td>\n",
       "      <td>-11.295878</td>\n",
       "      <td>0.061088</td>\n",
       "      <td>125.494919</td>\n",
       "      <td>0.596155</td>\n",
       "      <td>33.778943</td>\n",
       "    </tr>\n",
       "    <tr>\n",
       "      <th>2969</th>\n",
       "      <td>zouglou</td>\n",
       "      <td>0.161000</td>\n",
       "      <td>0.863000</td>\n",
       "      <td>2.063200e+05</td>\n",
       "      <td>0.909000</td>\n",
       "      <td>0.000000</td>\n",
       "      <td>0.108000</td>\n",
       "      <td>-5.985000</td>\n",
       "      <td>0.081300</td>\n",
       "      <td>119.038000</td>\n",
       "      <td>0.845000</td>\n",
       "      <td>58.000000</td>\n",
       "    </tr>\n",
       "    <tr>\n",
       "      <th>2970</th>\n",
       "      <td>zouk</td>\n",
       "      <td>0.263261</td>\n",
       "      <td>0.748889</td>\n",
       "      <td>3.060728e+05</td>\n",
       "      <td>0.622444</td>\n",
       "      <td>0.257227</td>\n",
       "      <td>0.089678</td>\n",
       "      <td>-10.289222</td>\n",
       "      <td>0.038778</td>\n",
       "      <td>101.965222</td>\n",
       "      <td>0.824111</td>\n",
       "      <td>46.666667</td>\n",
       "    </tr>\n",
       "    <tr>\n",
       "      <th>2971</th>\n",
       "      <td>zurich indie</td>\n",
       "      <td>0.993000</td>\n",
       "      <td>0.705667</td>\n",
       "      <td>1.984173e+05</td>\n",
       "      <td>0.172667</td>\n",
       "      <td>0.468633</td>\n",
       "      <td>0.179667</td>\n",
       "      <td>-11.453333</td>\n",
       "      <td>0.348667</td>\n",
       "      <td>91.278000</td>\n",
       "      <td>0.739000</td>\n",
       "      <td>0.000000</td>\n",
       "    </tr>\n",
       "    <tr>\n",
       "      <th>2972</th>\n",
       "      <td>zydeco</td>\n",
       "      <td>0.421038</td>\n",
       "      <td>0.629409</td>\n",
       "      <td>1.716717e+05</td>\n",
       "      <td>0.609369</td>\n",
       "      <td>0.019248</td>\n",
       "      <td>0.255877</td>\n",
       "      <td>-9.854825</td>\n",
       "      <td>0.050491</td>\n",
       "      <td>126.366087</td>\n",
       "      <td>0.808544</td>\n",
       "      <td>30.261905</td>\n",
       "    </tr>\n",
       "  </tbody>\n",
       "</table>\n",
       "<p>2973 rows × 12 columns</p>\n",
       "</div>"
      ],
      "text/plain": [
       "                      genres  acousticness  danceability   duration_ms  \\\n",
       "0     21st century classical      0.979333      0.162883  1.602977e+05   \n",
       "1                      432hz      0.494780      0.299333  1.048887e+06   \n",
       "2                      8-bit      0.762000      0.712000  1.151770e+05   \n",
       "3                         []      0.651417      0.529093  2.328809e+05   \n",
       "4                 a cappella      0.676557      0.538961  1.906285e+05   \n",
       "...                      ...           ...           ...           ...   \n",
       "2968                    zolo      0.222625      0.547082  2.580991e+05   \n",
       "2969                 zouglou      0.161000      0.863000  2.063200e+05   \n",
       "2970                    zouk      0.263261      0.748889  3.060728e+05   \n",
       "2971            zurich indie      0.993000      0.705667  1.984173e+05   \n",
       "2972                  zydeco      0.421038      0.629409  1.716717e+05   \n",
       "\n",
       "        energy  instrumentalness  liveness   loudness  speechiness  \\\n",
       "0     0.071317          0.606834  0.361600 -31.514333     0.040567   \n",
       "1     0.450678          0.477762  0.131000 -16.854000     0.076817   \n",
       "2     0.818000          0.876000  0.126000  -9.180000     0.047000   \n",
       "3     0.419146          0.205309  0.218696 -12.288965     0.107872   \n",
       "4     0.316434          0.003003  0.172254 -12.479387     0.082851   \n",
       "...        ...               ...       ...        ...          ...   \n",
       "2968  0.610240          0.143872  0.204206 -11.295878     0.061088   \n",
       "2969  0.909000          0.000000  0.108000  -5.985000     0.081300   \n",
       "2970  0.622444          0.257227  0.089678 -10.289222     0.038778   \n",
       "2971  0.172667          0.468633  0.179667 -11.453333     0.348667   \n",
       "2972  0.609369          0.019248  0.255877  -9.854825     0.050491   \n",
       "\n",
       "           tempo   valence  popularity  \n",
       "0      75.336500  0.103783   27.833333  \n",
       "1     120.285667  0.221750   52.500000  \n",
       "2     133.444000  0.975000   48.000000  \n",
       "3     112.857352  0.513604   20.859882  \n",
       "4     112.110362  0.448249   45.820071  \n",
       "...          ...       ...         ...  \n",
       "2968  125.494919  0.596155   33.778943  \n",
       "2969  119.038000  0.845000   58.000000  \n",
       "2970  101.965222  0.824111   46.666667  \n",
       "2971   91.278000  0.739000    0.000000  \n",
       "2972  126.366087  0.808544   30.261905  \n",
       "\n",
       "[2973 rows x 12 columns]"
      ]
     },
     "execution_count": 28,
     "metadata": {},
     "output_type": "execute_result"
    }
   ],
   "source": [
    "dados_generos"
   ]
  },
  {
   "cell_type": "code",
   "execution_count": 29,
   "metadata": {},
   "outputs": [
    {
     "data": {
      "text/plain": [
       "2973"
      ]
     },
     "execution_count": 29,
     "metadata": {},
     "output_type": "execute_result"
    }
   ],
   "source": [
    "dados_generos['genres'].value_counts().sum()"
   ]
  },
  {
   "cell_type": "code",
   "execution_count": 30,
   "metadata": {},
   "outputs": [
    {
     "data": {
      "text/html": [
       "<div>\n",
       "<style scoped>\n",
       "    .dataframe tbody tr th:only-of-type {\n",
       "        vertical-align: middle;\n",
       "    }\n",
       "\n",
       "    .dataframe tbody tr th {\n",
       "        vertical-align: top;\n",
       "    }\n",
       "\n",
       "    .dataframe thead th {\n",
       "        text-align: right;\n",
       "    }\n",
       "</style>\n",
       "<table border=\"1\" class=\"dataframe\">\n",
       "  <thead>\n",
       "    <tr style=\"text-align: right;\">\n",
       "      <th></th>\n",
       "      <th>acousticness</th>\n",
       "      <th>danceability</th>\n",
       "      <th>duration_ms</th>\n",
       "      <th>energy</th>\n",
       "      <th>instrumentalness</th>\n",
       "      <th>liveness</th>\n",
       "      <th>loudness</th>\n",
       "      <th>speechiness</th>\n",
       "      <th>tempo</th>\n",
       "      <th>valence</th>\n",
       "      <th>popularity</th>\n",
       "    </tr>\n",
       "  </thead>\n",
       "  <tbody>\n",
       "    <tr>\n",
       "      <th>0</th>\n",
       "      <td>0.979333</td>\n",
       "      <td>0.162883</td>\n",
       "      <td>1.602977e+05</td>\n",
       "      <td>0.071317</td>\n",
       "      <td>0.606834</td>\n",
       "      <td>0.361600</td>\n",
       "      <td>-31.514333</td>\n",
       "      <td>0.040567</td>\n",
       "      <td>75.336500</td>\n",
       "      <td>0.103783</td>\n",
       "      <td>27.833333</td>\n",
       "    </tr>\n",
       "    <tr>\n",
       "      <th>1</th>\n",
       "      <td>0.494780</td>\n",
       "      <td>0.299333</td>\n",
       "      <td>1.048887e+06</td>\n",
       "      <td>0.450678</td>\n",
       "      <td>0.477762</td>\n",
       "      <td>0.131000</td>\n",
       "      <td>-16.854000</td>\n",
       "      <td>0.076817</td>\n",
       "      <td>120.285667</td>\n",
       "      <td>0.221750</td>\n",
       "      <td>52.500000</td>\n",
       "    </tr>\n",
       "    <tr>\n",
       "      <th>2</th>\n",
       "      <td>0.762000</td>\n",
       "      <td>0.712000</td>\n",
       "      <td>1.151770e+05</td>\n",
       "      <td>0.818000</td>\n",
       "      <td>0.876000</td>\n",
       "      <td>0.126000</td>\n",
       "      <td>-9.180000</td>\n",
       "      <td>0.047000</td>\n",
       "      <td>133.444000</td>\n",
       "      <td>0.975000</td>\n",
       "      <td>48.000000</td>\n",
       "    </tr>\n",
       "    <tr>\n",
       "      <th>3</th>\n",
       "      <td>0.651417</td>\n",
       "      <td>0.529093</td>\n",
       "      <td>2.328809e+05</td>\n",
       "      <td>0.419146</td>\n",
       "      <td>0.205309</td>\n",
       "      <td>0.218696</td>\n",
       "      <td>-12.288965</td>\n",
       "      <td>0.107872</td>\n",
       "      <td>112.857352</td>\n",
       "      <td>0.513604</td>\n",
       "      <td>20.859882</td>\n",
       "    </tr>\n",
       "    <tr>\n",
       "      <th>4</th>\n",
       "      <td>0.676557</td>\n",
       "      <td>0.538961</td>\n",
       "      <td>1.906285e+05</td>\n",
       "      <td>0.316434</td>\n",
       "      <td>0.003003</td>\n",
       "      <td>0.172254</td>\n",
       "      <td>-12.479387</td>\n",
       "      <td>0.082851</td>\n",
       "      <td>112.110362</td>\n",
       "      <td>0.448249</td>\n",
       "      <td>45.820071</td>\n",
       "    </tr>\n",
       "    <tr>\n",
       "      <th>...</th>\n",
       "      <td>...</td>\n",
       "      <td>...</td>\n",
       "      <td>...</td>\n",
       "      <td>...</td>\n",
       "      <td>...</td>\n",
       "      <td>...</td>\n",
       "      <td>...</td>\n",
       "      <td>...</td>\n",
       "      <td>...</td>\n",
       "      <td>...</td>\n",
       "      <td>...</td>\n",
       "    </tr>\n",
       "    <tr>\n",
       "      <th>2968</th>\n",
       "      <td>0.222625</td>\n",
       "      <td>0.547082</td>\n",
       "      <td>2.580991e+05</td>\n",
       "      <td>0.610240</td>\n",
       "      <td>0.143872</td>\n",
       "      <td>0.204206</td>\n",
       "      <td>-11.295878</td>\n",
       "      <td>0.061088</td>\n",
       "      <td>125.494919</td>\n",
       "      <td>0.596155</td>\n",
       "      <td>33.778943</td>\n",
       "    </tr>\n",
       "    <tr>\n",
       "      <th>2969</th>\n",
       "      <td>0.161000</td>\n",
       "      <td>0.863000</td>\n",
       "      <td>2.063200e+05</td>\n",
       "      <td>0.909000</td>\n",
       "      <td>0.000000</td>\n",
       "      <td>0.108000</td>\n",
       "      <td>-5.985000</td>\n",
       "      <td>0.081300</td>\n",
       "      <td>119.038000</td>\n",
       "      <td>0.845000</td>\n",
       "      <td>58.000000</td>\n",
       "    </tr>\n",
       "    <tr>\n",
       "      <th>2970</th>\n",
       "      <td>0.263261</td>\n",
       "      <td>0.748889</td>\n",
       "      <td>3.060728e+05</td>\n",
       "      <td>0.622444</td>\n",
       "      <td>0.257227</td>\n",
       "      <td>0.089678</td>\n",
       "      <td>-10.289222</td>\n",
       "      <td>0.038778</td>\n",
       "      <td>101.965222</td>\n",
       "      <td>0.824111</td>\n",
       "      <td>46.666667</td>\n",
       "    </tr>\n",
       "    <tr>\n",
       "      <th>2971</th>\n",
       "      <td>0.993000</td>\n",
       "      <td>0.705667</td>\n",
       "      <td>1.984173e+05</td>\n",
       "      <td>0.172667</td>\n",
       "      <td>0.468633</td>\n",
       "      <td>0.179667</td>\n",
       "      <td>-11.453333</td>\n",
       "      <td>0.348667</td>\n",
       "      <td>91.278000</td>\n",
       "      <td>0.739000</td>\n",
       "      <td>0.000000</td>\n",
       "    </tr>\n",
       "    <tr>\n",
       "      <th>2972</th>\n",
       "      <td>0.421038</td>\n",
       "      <td>0.629409</td>\n",
       "      <td>1.716717e+05</td>\n",
       "      <td>0.609369</td>\n",
       "      <td>0.019248</td>\n",
       "      <td>0.255877</td>\n",
       "      <td>-9.854825</td>\n",
       "      <td>0.050491</td>\n",
       "      <td>126.366087</td>\n",
       "      <td>0.808544</td>\n",
       "      <td>30.261905</td>\n",
       "    </tr>\n",
       "  </tbody>\n",
       "</table>\n",
       "<p>2973 rows × 11 columns</p>\n",
       "</div>"
      ],
      "text/plain": [
       "      acousticness  danceability   duration_ms    energy  instrumentalness  \\\n",
       "0         0.979333      0.162883  1.602977e+05  0.071317          0.606834   \n",
       "1         0.494780      0.299333  1.048887e+06  0.450678          0.477762   \n",
       "2         0.762000      0.712000  1.151770e+05  0.818000          0.876000   \n",
       "3         0.651417      0.529093  2.328809e+05  0.419146          0.205309   \n",
       "4         0.676557      0.538961  1.906285e+05  0.316434          0.003003   \n",
       "...            ...           ...           ...       ...               ...   \n",
       "2968      0.222625      0.547082  2.580991e+05  0.610240          0.143872   \n",
       "2969      0.161000      0.863000  2.063200e+05  0.909000          0.000000   \n",
       "2970      0.263261      0.748889  3.060728e+05  0.622444          0.257227   \n",
       "2971      0.993000      0.705667  1.984173e+05  0.172667          0.468633   \n",
       "2972      0.421038      0.629409  1.716717e+05  0.609369          0.019248   \n",
       "\n",
       "      liveness   loudness  speechiness       tempo   valence  popularity  \n",
       "0     0.361600 -31.514333     0.040567   75.336500  0.103783   27.833333  \n",
       "1     0.131000 -16.854000     0.076817  120.285667  0.221750   52.500000  \n",
       "2     0.126000  -9.180000     0.047000  133.444000  0.975000   48.000000  \n",
       "3     0.218696 -12.288965     0.107872  112.857352  0.513604   20.859882  \n",
       "4     0.172254 -12.479387     0.082851  112.110362  0.448249   45.820071  \n",
       "...        ...        ...          ...         ...       ...         ...  \n",
       "2968  0.204206 -11.295878     0.061088  125.494919  0.596155   33.778943  \n",
       "2969  0.108000  -5.985000     0.081300  119.038000  0.845000   58.000000  \n",
       "2970  0.089678 -10.289222     0.038778  101.965222  0.824111   46.666667  \n",
       "2971  0.179667 -11.453333     0.348667   91.278000  0.739000    0.000000  \n",
       "2972  0.255877  -9.854825     0.050491  126.366087  0.808544   30.261905  \n",
       "\n",
       "[2973 rows x 11 columns]"
      ]
     },
     "execution_count": 30,
     "metadata": {},
     "output_type": "execute_result"
    }
   ],
   "source": [
    "dados_generos1 = dados_generos.drop('genres', axis=1)\n",
    "dados_generos1"
   ]
  },
  {
   "cell_type": "code",
   "execution_count": 31,
   "metadata": {},
   "outputs": [],
   "source": [
    "from sklearn.pipeline import Pipeline\n",
    "from sklearn.preprocessing import StandardScaler\n",
    "from sklearn.decomposition import PCA"
   ]
  },
  {
   "cell_type": "code",
   "execution_count": 32,
   "metadata": {},
   "outputs": [],
   "source": [
    "SEED = 1224\n",
    "np.random.seed(1224)\n",
    "\n",
    "pca_pipeline = Pipeline([('scaler', StandardScaler()), ('PCA', PCA(n_components=2, random_state=SEED))])"
   ]
  },
  {
   "cell_type": "code",
   "execution_count": 35,
   "metadata": {},
   "outputs": [],
   "source": [
    "genre_embedding_pca = pca_pipeline.fit_transform(dados_generos1)\n",
    "projection = pd.DataFrame(columns=['x', 'y'], data=genre_embedding_pca)"
   ]
  },
  {
   "cell_type": "code",
   "execution_count": 36,
   "metadata": {},
   "outputs": [
    {
     "data": {
      "text/html": [
       "<div>\n",
       "<style scoped>\n",
       "    .dataframe tbody tr th:only-of-type {\n",
       "        vertical-align: middle;\n",
       "    }\n",
       "\n",
       "    .dataframe tbody tr th {\n",
       "        vertical-align: top;\n",
       "    }\n",
       "\n",
       "    .dataframe thead th {\n",
       "        text-align: right;\n",
       "    }\n",
       "</style>\n",
       "<table border=\"1\" class=\"dataframe\">\n",
       "  <thead>\n",
       "    <tr style=\"text-align: right;\">\n",
       "      <th></th>\n",
       "      <th>x</th>\n",
       "      <th>y</th>\n",
       "    </tr>\n",
       "  </thead>\n",
       "  <tbody>\n",
       "    <tr>\n",
       "      <th>0</th>\n",
       "      <td>5.910268</td>\n",
       "      <td>-0.011146</td>\n",
       "    </tr>\n",
       "    <tr>\n",
       "      <th>1</th>\n",
       "      <td>2.787093</td>\n",
       "      <td>4.498483</td>\n",
       "    </tr>\n",
       "    <tr>\n",
       "      <th>2</th>\n",
       "      <td>-0.757538</td>\n",
       "      <td>-1.258495</td>\n",
       "    </tr>\n",
       "    <tr>\n",
       "      <th>3</th>\n",
       "      <td>1.020521</td>\n",
       "      <td>-0.931690</td>\n",
       "    </tr>\n",
       "    <tr>\n",
       "      <th>4</th>\n",
       "      <td>0.753911</td>\n",
       "      <td>-0.999861</td>\n",
       "    </tr>\n",
       "    <tr>\n",
       "      <th>...</th>\n",
       "      <td>...</td>\n",
       "      <td>...</td>\n",
       "    </tr>\n",
       "    <tr>\n",
       "      <th>2968</th>\n",
       "      <td>-0.475136</td>\n",
       "      <td>-0.017126</td>\n",
       "    </tr>\n",
       "    <tr>\n",
       "      <th>2969</th>\n",
       "      <td>-3.026756</td>\n",
       "      <td>-1.304983</td>\n",
       "    </tr>\n",
       "    <tr>\n",
       "      <th>2970</th>\n",
       "      <td>-0.832511</td>\n",
       "      <td>-1.089726</td>\n",
       "    </tr>\n",
       "    <tr>\n",
       "      <th>2971</th>\n",
       "      <td>1.774790</td>\n",
       "      <td>-3.695233</td>\n",
       "    </tr>\n",
       "    <tr>\n",
       "      <th>2972</th>\n",
       "      <td>-1.028069</td>\n",
       "      <td>-1.390709</td>\n",
       "    </tr>\n",
       "  </tbody>\n",
       "</table>\n",
       "<p>2973 rows × 2 columns</p>\n",
       "</div>"
      ],
      "text/plain": [
       "             x         y\n",
       "0     5.910268 -0.011146\n",
       "1     2.787093  4.498483\n",
       "2    -0.757538 -1.258495\n",
       "3     1.020521 -0.931690\n",
       "4     0.753911 -0.999861\n",
       "...        ...       ...\n",
       "2968 -0.475136 -0.017126\n",
       "2969 -3.026756 -1.304983\n",
       "2970 -0.832511 -1.089726\n",
       "2971  1.774790 -3.695233\n",
       "2972 -1.028069 -1.390709\n",
       "\n",
       "[2973 rows x 2 columns]"
      ]
     },
     "execution_count": 36,
     "metadata": {},
     "output_type": "execute_result"
    }
   ],
   "source": [
    "projection"
   ]
  },
  {
   "attachments": {},
   "cell_type": "markdown",
   "metadata": {},
   "source": [
    "## K-means - nao supervisionado"
   ]
  },
  {
   "cell_type": "code",
   "execution_count": 37,
   "metadata": {},
   "outputs": [],
   "source": [
    "from sklearn.cluster import KMeans"
   ]
  },
  {
   "cell_type": "code",
   "execution_count": 40,
   "metadata": {},
   "outputs": [
    {
     "name": "stdout",
     "output_type": "stream",
     "text": [
      "Initialization complete\n",
      "Iteration 0, inertia 4523.5678155436935.\n",
      "Iteration 1, inertia 3668.985552156026.\n",
      "Iteration 2, inertia 3624.730925711822.\n",
      "Iteration 3, inertia 3602.495813758816.\n",
      "Iteration 4, inertia 3588.060791240491.\n",
      "Iteration 5, inertia 3575.439570259306.\n",
      "Iteration 6, inertia 3566.3761311630205.\n",
      "Iteration 7, inertia 3562.5917284574934.\n",
      "Iteration 8, inertia 3560.3144677009336.\n",
      "Iteration 9, inertia 3558.885495152648.\n",
      "Iteration 10, inertia 3558.002748934053.\n",
      "Iteration 11, inertia 3557.729554775494.\n",
      "Converged at iteration 11: center shift 9.319981044865235e-05 within tolerance 0.0002709886847099651.\n",
      "Initialization complete\n",
      "Iteration 0, inertia 3650.5166847646524.\n",
      "Iteration 1, inertia 3552.891536564818.\n",
      "Iteration 2, inertia 3528.942542123225.\n",
      "Iteration 3, inertia 3518.8491320487137.\n",
      "Iteration 4, inertia 3512.6717916139764.\n",
      "Iteration 5, inertia 3509.1741078247464.\n",
      "Iteration 6, inertia 3506.388333551378.\n",
      "Iteration 7, inertia 3505.0910743094096.\n",
      "Iteration 8, inertia 3504.646511738496.\n",
      "Converged at iteration 8: center shift 7.503519990461596e-05 within tolerance 0.0002709886847099651.\n",
      "Initialization complete\n",
      "Iteration 0, inertia 4414.321464862242.\n",
      "Iteration 1, inertia 4264.089604762602.\n",
      "Iteration 2, inertia 4086.2164718564027.\n",
      "Iteration 3, inertia 3913.504002164456.\n",
      "Iteration 4, inertia 3808.466247621814.\n",
      "Iteration 5, inertia 3745.661059736384.\n",
      "Iteration 6, inertia 3695.2334705998965.\n",
      "Iteration 7, inertia 3657.903410695546.\n",
      "Iteration 8, inertia 3632.643745814846.\n",
      "Iteration 9, inertia 3614.3881006065635.\n",
      "Iteration 10, inertia 3596.1084839860464.\n",
      "Iteration 11, inertia 3579.5250440963982.\n",
      "Iteration 12, inertia 3568.0798454948786.\n",
      "Iteration 13, inertia 3560.711493131843.\n",
      "Iteration 14, inertia 3555.678927842751.\n",
      "Iteration 15, inertia 3551.0457527019785.\n",
      "Iteration 16, inertia 3547.8151952209173.\n",
      "Iteration 17, inertia 3544.585854658797.\n",
      "Iteration 18, inertia 3541.224901948921.\n",
      "Iteration 19, inertia 3537.220755314519.\n",
      "Iteration 20, inertia 3533.48111268281.\n",
      "Iteration 21, inertia 3530.831391869196.\n",
      "Iteration 22, inertia 3528.2990382894964.\n",
      "Iteration 23, inertia 3525.962848818207.\n",
      "Iteration 24, inertia 3523.3024936096926.\n",
      "Iteration 25, inertia 3521.237182684658.\n",
      "Iteration 26, inertia 3519.7176960588367.\n",
      "Iteration 27, inertia 3518.2921892437657.\n",
      "Iteration 28, inertia 3517.6503461161287.\n",
      "Iteration 29, inertia 3517.2919908996887.\n",
      "Iteration 30, inertia 3516.8130739026587.\n",
      "Iteration 31, inertia 3516.080736548992.\n",
      "Iteration 32, inertia 3515.6638221959656.\n",
      "Converged at iteration 32: center shift 5.32555530919376e-05 within tolerance 0.0002709886847099651.\n",
      "Initialization complete\n",
      "Iteration 0, inertia 4454.784085215452.\n",
      "Iteration 1, inertia 3768.5660406957.\n",
      "Iteration 2, inertia 3646.0793671699225.\n",
      "Iteration 3, inertia 3588.105254626545.\n",
      "Iteration 4, inertia 3563.8174545934403.\n",
      "Iteration 5, inertia 3553.0609261815325.\n",
      "Iteration 6, inertia 3547.572109608473.\n",
      "Iteration 7, inertia 3544.586617139576.\n",
      "Iteration 8, inertia 3542.319966113141.\n",
      "Iteration 9, inertia 3541.4918298267976.\n",
      "Iteration 10, inertia 3541.163552531022.\n",
      "Converged at iteration 10: center shift 0.00011361514233643248 within tolerance 0.0002709886847099651.\n",
      "Initialization complete\n",
      "Iteration 0, inertia 4292.02057543604.\n",
      "Iteration 1, inertia 3675.2033628822414.\n",
      "Iteration 2, inertia 3600.2652059024554.\n",
      "Iteration 3, inertia 3567.1040066791993.\n",
      "Iteration 4, inertia 3555.9954996232564.\n",
      "Iteration 5, inertia 3551.722437119645.\n",
      "Iteration 6, inertia 3549.458798532758.\n",
      "Iteration 7, inertia 3547.6816324276397.\n",
      "Iteration 8, inertia 3546.140998056876.\n",
      "Iteration 9, inertia 3545.1814280411963.\n",
      "Iteration 10, inertia 3544.566048655197.\n",
      "Converged at iteration 10: center shift 0.00021718608215508958 within tolerance 0.0002709886847099651.\n",
      "Initialization complete\n",
      "Iteration 0, inertia 5229.73413392396.\n",
      "Iteration 1, inertia 3901.9140754163427.\n",
      "Iteration 2, inertia 3684.1389561104716.\n",
      "Iteration 3, inertia 3625.764292048267.\n",
      "Iteration 4, inertia 3598.678831280843.\n",
      "Iteration 5, inertia 3577.3463481397475.\n",
      "Iteration 6, inertia 3558.4703786807654.\n",
      "Iteration 7, inertia 3543.761390560818.\n",
      "Iteration 8, inertia 3531.7513344899444.\n",
      "Iteration 9, inertia 3523.392200683915.\n",
      "Iteration 10, inertia 3517.4587511672516.\n",
      "Iteration 11, inertia 3511.3577748406838.\n",
      "Iteration 12, inertia 3507.907320236839.\n",
      "Iteration 13, inertia 3506.4491270909666.\n",
      "Iteration 14, inertia 3505.530597167013.\n",
      "Iteration 15, inertia 3505.1682965099244.\n",
      "Iteration 16, inertia 3504.812793213709.\n",
      "Converged at iteration 16: center shift 0.0001597919151576584 within tolerance 0.0002709886847099651.\n",
      "Initialization complete\n",
      "Iteration 0, inertia 4258.464385644749.\n",
      "Iteration 1, inertia 3757.8259124946785.\n",
      "Iteration 2, inertia 3651.0581454035564.\n",
      "Iteration 3, inertia 3609.354504537885.\n",
      "Iteration 4, inertia 3585.8938498036455.\n",
      "Iteration 5, inertia 3570.941804662223.\n",
      "Iteration 6, inertia 3564.037650400695.\n",
      "Iteration 7, inertia 3561.299526128387.\n",
      "Iteration 8, inertia 3559.858925115211.\n",
      "Iteration 9, inertia 3558.9549261156685.\n",
      "Iteration 10, inertia 3558.6446576486637.\n",
      "Iteration 11, inertia 3558.2505645806095.\n",
      "Converged at iteration 11: center shift 0.00017503536183740377 within tolerance 0.0002709886847099651.\n",
      "Initialization complete\n",
      "Iteration 0, inertia 4718.52613599966.\n",
      "Iteration 1, inertia 3758.150709122474.\n",
      "Iteration 2, inertia 3624.92273858543.\n",
      "Iteration 3, inertia 3583.4004505143466.\n",
      "Iteration 4, inertia 3564.5252982782113.\n",
      "Iteration 5, inertia 3555.2726539991495.\n",
      "Iteration 6, inertia 3551.323203354954.\n",
      "Iteration 7, inertia 3548.777394285318.\n",
      "Iteration 8, inertia 3546.706487706705.\n",
      "Iteration 9, inertia 3544.9408089123194.\n",
      "Iteration 10, inertia 3541.6029264340505.\n",
      "Iteration 11, inertia 3538.2954164325865.\n",
      "Iteration 12, inertia 3535.998606311377.\n",
      "Iteration 13, inertia 3534.366436997932.\n",
      "Iteration 14, inertia 3532.1532885577485.\n",
      "Iteration 15, inertia 3529.0219599372676.\n",
      "Iteration 16, inertia 3523.7411194979713.\n",
      "Iteration 17, inertia 3519.0747925846927.\n",
      "Iteration 18, inertia 3516.6810828301436.\n",
      "Iteration 19, inertia 3515.6736954984462.\n",
      "Iteration 20, inertia 3514.111059964465.\n",
      "Iteration 21, inertia 3511.926542778686.\n",
      "Iteration 22, inertia 3509.9239973639305.\n",
      "Iteration 23, inertia 3508.6659460439278.\n",
      "Iteration 24, inertia 3507.576714118868.\n",
      "Iteration 25, inertia 3506.338287272817.\n",
      "Iteration 26, inertia 3505.3138272242386.\n",
      "Iteration 27, inertia 3504.8047979287235.\n",
      "Iteration 28, inertia 3504.5524335160253.\n",
      "Converged at iteration 28: center shift 0.00012946374322485491 within tolerance 0.0002709886847099651.\n",
      "Initialization complete\n",
      "Iteration 0, inertia 5726.817439830054.\n",
      "Iteration 1, inertia 4002.8186163759956.\n",
      "Iteration 2, inertia 3677.0228130303394.\n",
      "Iteration 3, inertia 3594.0235945734953.\n",
      "Iteration 4, inertia 3568.0392461810375.\n",
      "Iteration 5, inertia 3559.404764239551.\n",
      "Iteration 6, inertia 3554.535649933388.\n",
      "Iteration 7, inertia 3550.900008643044.\n",
      "Iteration 8, inertia 3547.931977312033.\n",
      "Iteration 9, inertia 3546.186206463714.\n",
      "Iteration 10, inertia 3544.5930799012153.\n",
      "Iteration 11, inertia 3544.1573100085784.\n",
      "Iteration 12, inertia 3543.9417539989763.\n",
      "Converged at iteration 12: center shift 0.00010369698781415033 within tolerance 0.0002709886847099651.\n",
      "Initialization complete\n",
      "Iteration 0, inertia 4375.718400720179.\n",
      "Iteration 1, inertia 3663.3718697369345.\n",
      "Iteration 2, inertia 3584.8228907672706.\n",
      "Iteration 3, inertia 3560.552577179446.\n",
      "Iteration 4, inertia 3552.653553654188.\n",
      "Iteration 5, inertia 3550.986332207136.\n",
      "Iteration 6, inertia 3548.8412998255117.\n",
      "Iteration 7, inertia 3546.343296544783.\n",
      "Iteration 8, inertia 3544.272114110866.\n",
      "Iteration 9, inertia 3541.083241117696.\n",
      "Iteration 10, inertia 3538.7037862544644.\n",
      "Iteration 11, inertia 3536.9610470989637.\n",
      "Iteration 12, inertia 3535.1468370885545.\n",
      "Iteration 13, inertia 3533.543366253351.\n",
      "Iteration 14, inertia 3530.7882440270664.\n",
      "Iteration 15, inertia 3527.1960244191637.\n",
      "Iteration 16, inertia 3522.5419691521674.\n",
      "Iteration 17, inertia 3518.2447958096427.\n",
      "Iteration 18, inertia 3516.634314469538.\n",
      "Iteration 19, inertia 3515.6221060844696.\n",
      "Iteration 20, inertia 3513.997398179621.\n",
      "Iteration 21, inertia 3511.1887036707767.\n",
      "Iteration 22, inertia 3509.9782526878844.\n",
      "Iteration 23, inertia 3508.7925003676373.\n",
      "Iteration 24, inertia 3507.6587975550815.\n",
      "Iteration 25, inertia 3506.365172128436.\n",
      "Iteration 26, inertia 3505.3138272242386.\n",
      "Iteration 27, inertia 3504.804797928724.\n",
      "Iteration 28, inertia 3504.5524335160253.\n",
      "Converged at iteration 28: center shift 0.00012946374322485884 within tolerance 0.0002709886847099651.\n"
     ]
    }
   ],
   "source": [
    "kmeans_pca = KMeans(n_clusters=5, verbose=True, random_state=SEED)\n",
    "\n",
    "kmeans_pca.fit(projection)\n",
    "\n",
    "dados_generos['cluster_pca'] = kmeans_pca.predict(projection)\n",
    "projection['cluster_pca'] = kmeans_pca.predict(projection)"
   ]
  },
  {
   "cell_type": "code",
   "execution_count": 41,
   "metadata": {},
   "outputs": [
    {
     "data": {
      "text/html": [
       "<div>\n",
       "<style scoped>\n",
       "    .dataframe tbody tr th:only-of-type {\n",
       "        vertical-align: middle;\n",
       "    }\n",
       "\n",
       "    .dataframe tbody tr th {\n",
       "        vertical-align: top;\n",
       "    }\n",
       "\n",
       "    .dataframe thead th {\n",
       "        text-align: right;\n",
       "    }\n",
       "</style>\n",
       "<table border=\"1\" class=\"dataframe\">\n",
       "  <thead>\n",
       "    <tr style=\"text-align: right;\">\n",
       "      <th></th>\n",
       "      <th>x</th>\n",
       "      <th>y</th>\n",
       "      <th>cluster_pca</th>\n",
       "    </tr>\n",
       "  </thead>\n",
       "  <tbody>\n",
       "    <tr>\n",
       "      <th>0</th>\n",
       "      <td>5.910268</td>\n",
       "      <td>-0.011146</td>\n",
       "      <td>3</td>\n",
       "    </tr>\n",
       "    <tr>\n",
       "      <th>1</th>\n",
       "      <td>2.787093</td>\n",
       "      <td>4.498483</td>\n",
       "      <td>3</td>\n",
       "    </tr>\n",
       "    <tr>\n",
       "      <th>2</th>\n",
       "      <td>-0.757538</td>\n",
       "      <td>-1.258495</td>\n",
       "      <td>4</td>\n",
       "    </tr>\n",
       "    <tr>\n",
       "      <th>3</th>\n",
       "      <td>1.020521</td>\n",
       "      <td>-0.931690</td>\n",
       "      <td>1</td>\n",
       "    </tr>\n",
       "    <tr>\n",
       "      <th>4</th>\n",
       "      <td>0.753911</td>\n",
       "      <td>-0.999861</td>\n",
       "      <td>1</td>\n",
       "    </tr>\n",
       "    <tr>\n",
       "      <th>...</th>\n",
       "      <td>...</td>\n",
       "      <td>...</td>\n",
       "      <td>...</td>\n",
       "    </tr>\n",
       "    <tr>\n",
       "      <th>2968</th>\n",
       "      <td>-0.475136</td>\n",
       "      <td>-0.017126</td>\n",
       "      <td>2</td>\n",
       "    </tr>\n",
       "    <tr>\n",
       "      <th>2969</th>\n",
       "      <td>-3.026756</td>\n",
       "      <td>-1.304983</td>\n",
       "      <td>4</td>\n",
       "    </tr>\n",
       "    <tr>\n",
       "      <th>2970</th>\n",
       "      <td>-0.832511</td>\n",
       "      <td>-1.089726</td>\n",
       "      <td>4</td>\n",
       "    </tr>\n",
       "    <tr>\n",
       "      <th>2971</th>\n",
       "      <td>1.774790</td>\n",
       "      <td>-3.695233</td>\n",
       "      <td>1</td>\n",
       "    </tr>\n",
       "    <tr>\n",
       "      <th>2972</th>\n",
       "      <td>-1.028069</td>\n",
       "      <td>-1.390709</td>\n",
       "      <td>4</td>\n",
       "    </tr>\n",
       "  </tbody>\n",
       "</table>\n",
       "<p>2973 rows × 3 columns</p>\n",
       "</div>"
      ],
      "text/plain": [
       "             x         y  cluster_pca\n",
       "0     5.910268 -0.011146            3\n",
       "1     2.787093  4.498483            3\n",
       "2    -0.757538 -1.258495            4\n",
       "3     1.020521 -0.931690            1\n",
       "4     0.753911 -0.999861            1\n",
       "...        ...       ...          ...\n",
       "2968 -0.475136 -0.017126            2\n",
       "2969 -3.026756 -1.304983            4\n",
       "2970 -0.832511 -1.089726            4\n",
       "2971  1.774790 -3.695233            1\n",
       "2972 -1.028069 -1.390709            4\n",
       "\n",
       "[2973 rows x 3 columns]"
      ]
     },
     "execution_count": 41,
     "metadata": {},
     "output_type": "execute_result"
    }
   ],
   "source": [
    "projection"
   ]
  },
  {
   "cell_type": "code",
   "execution_count": 42,
   "metadata": {},
   "outputs": [],
   "source": [
    "projection['generos'] = dados_generos['genres']"
   ]
  },
  {
   "cell_type": "code",
   "execution_count": 43,
   "metadata": {},
   "outputs": [
    {
     "data": {
      "text/html": [
       "<div>\n",
       "<style scoped>\n",
       "    .dataframe tbody tr th:only-of-type {\n",
       "        vertical-align: middle;\n",
       "    }\n",
       "\n",
       "    .dataframe tbody tr th {\n",
       "        vertical-align: top;\n",
       "    }\n",
       "\n",
       "    .dataframe thead th {\n",
       "        text-align: right;\n",
       "    }\n",
       "</style>\n",
       "<table border=\"1\" class=\"dataframe\">\n",
       "  <thead>\n",
       "    <tr style=\"text-align: right;\">\n",
       "      <th></th>\n",
       "      <th>x</th>\n",
       "      <th>y</th>\n",
       "      <th>cluster_pca</th>\n",
       "      <th>generos</th>\n",
       "    </tr>\n",
       "  </thead>\n",
       "  <tbody>\n",
       "    <tr>\n",
       "      <th>0</th>\n",
       "      <td>5.910268</td>\n",
       "      <td>-0.011146</td>\n",
       "      <td>3</td>\n",
       "      <td>21st century classical</td>\n",
       "    </tr>\n",
       "    <tr>\n",
       "      <th>1</th>\n",
       "      <td>2.787093</td>\n",
       "      <td>4.498483</td>\n",
       "      <td>3</td>\n",
       "      <td>432hz</td>\n",
       "    </tr>\n",
       "    <tr>\n",
       "      <th>2</th>\n",
       "      <td>-0.757538</td>\n",
       "      <td>-1.258495</td>\n",
       "      <td>4</td>\n",
       "      <td>8-bit</td>\n",
       "    </tr>\n",
       "    <tr>\n",
       "      <th>3</th>\n",
       "      <td>1.020521</td>\n",
       "      <td>-0.931690</td>\n",
       "      <td>1</td>\n",
       "      <td>[]</td>\n",
       "    </tr>\n",
       "    <tr>\n",
       "      <th>4</th>\n",
       "      <td>0.753911</td>\n",
       "      <td>-0.999861</td>\n",
       "      <td>1</td>\n",
       "      <td>a cappella</td>\n",
       "    </tr>\n",
       "    <tr>\n",
       "      <th>...</th>\n",
       "      <td>...</td>\n",
       "      <td>...</td>\n",
       "      <td>...</td>\n",
       "      <td>...</td>\n",
       "    </tr>\n",
       "    <tr>\n",
       "      <th>2968</th>\n",
       "      <td>-0.475136</td>\n",
       "      <td>-0.017126</td>\n",
       "      <td>2</td>\n",
       "      <td>zolo</td>\n",
       "    </tr>\n",
       "    <tr>\n",
       "      <th>2969</th>\n",
       "      <td>-3.026756</td>\n",
       "      <td>-1.304983</td>\n",
       "      <td>4</td>\n",
       "      <td>zouglou</td>\n",
       "    </tr>\n",
       "    <tr>\n",
       "      <th>2970</th>\n",
       "      <td>-0.832511</td>\n",
       "      <td>-1.089726</td>\n",
       "      <td>4</td>\n",
       "      <td>zouk</td>\n",
       "    </tr>\n",
       "    <tr>\n",
       "      <th>2971</th>\n",
       "      <td>1.774790</td>\n",
       "      <td>-3.695233</td>\n",
       "      <td>1</td>\n",
       "      <td>zurich indie</td>\n",
       "    </tr>\n",
       "    <tr>\n",
       "      <th>2972</th>\n",
       "      <td>-1.028069</td>\n",
       "      <td>-1.390709</td>\n",
       "      <td>4</td>\n",
       "      <td>zydeco</td>\n",
       "    </tr>\n",
       "  </tbody>\n",
       "</table>\n",
       "<p>2973 rows × 4 columns</p>\n",
       "</div>"
      ],
      "text/plain": [
       "             x         y  cluster_pca                 generos\n",
       "0     5.910268 -0.011146            3  21st century classical\n",
       "1     2.787093  4.498483            3                   432hz\n",
       "2    -0.757538 -1.258495            4                   8-bit\n",
       "3     1.020521 -0.931690            1                      []\n",
       "4     0.753911 -0.999861            1              a cappella\n",
       "...        ...       ...          ...                     ...\n",
       "2968 -0.475136 -0.017126            2                    zolo\n",
       "2969 -3.026756 -1.304983            4                 zouglou\n",
       "2970 -0.832511 -1.089726            4                    zouk\n",
       "2971  1.774790 -3.695233            1            zurich indie\n",
       "2972 -1.028069 -1.390709            4                  zydeco\n",
       "\n",
       "[2973 rows x 4 columns]"
      ]
     },
     "execution_count": 43,
     "metadata": {},
     "output_type": "execute_result"
    }
   ],
   "source": [
    "projection"
   ]
  },
  {
   "cell_type": "markdown",
   "metadata": {},
   "source": [
    "## Plotando o Clustering"
   ]
  },
  {
   "cell_type": "code",
   "execution_count": 44,
   "metadata": {},
   "outputs": [
    {
     "data": {
      "application/vnd.plotly.v1+json": {
       "config": {
        "plotlyServerURL": "https://plot.ly"
       },
       "data": [
        {
         "customdata": [
          [
           "21st century classical"
          ],
          [
           "432hz"
          ],
          [
           "8-bit"
          ],
          [
           "[]"
          ],
          [
           "a cappella"
          ],
          [
           "abstract"
          ],
          [
           "abstract beats"
          ],
          [
           "abstract hip hop"
          ],
          [
           "accordeon"
          ],
          [
           "accordion"
          ],
          [
           "acid house"
          ],
          [
           "acid rock"
          ],
          [
           "acid trance"
          ],
          [
           "acousmatic"
          ],
          [
           "acoustic blues"
          ],
          [
           "acoustic pop"
          ],
          [
           "acoustic punk"
          ],
          [
           "acoustic rock"
          ],
          [
           "action rock"
          ],
          [
           "adoracion"
          ],
          [
           "adult standards"
          ],
          [
           "adventista"
          ],
          [
           "afghan pop"
          ],
          [
           "afghan traditional"
          ],
          [
           "african percussion"
          ],
          [
           "african reggae"
          ],
          [
           "african rock"
          ],
          [
           "african-american classical"
          ],
          [
           "afro dancehall"
          ],
          [
           "afro house"
          ],
          [
           "afro psych"
          ],
          [
           "afro soul"
          ],
          [
           "afro-funk"
          ],
          [
           "afrobeat"
          ],
          [
           "afrofuturism"
          ],
          [
           "afrofuturismo brasileiro"
          ],
          [
           "afropop"
          ],
          [
           "afroswing"
          ],
          [
           "aggrotech"
          ],
          [
           "alabama indie"
          ],
          [
           "alabama metal"
          ],
          [
           "alabama rap"
          ],
          [
           "alaska indie"
          ],
          [
           "albanian pop"
          ],
          [
           "albany ny indie"
          ],
          [
           "alberta country"
          ],
          [
           "alberta hip hop"
          ],
          [
           "album rock"
          ],
          [
           "albuquerque indie"
          ],
          [
           "alt-idol"
          ],
          [
           "alte"
          ],
          [
           "alternative americana"
          ],
          [
           "alternative country"
          ],
          [
           "alternative dance"
          ],
          [
           "alternative emo"
          ],
          [
           "alternative hip hop"
          ],
          [
           "alternative metal"
          ],
          [
           "alternative pop"
          ],
          [
           "alternative pop rock"
          ],
          [
           "alternative r&b"
          ],
          [
           "alternative rock"
          ],
          [
           "alternative roots rock"
          ],
          [
           "ambeat"
          ],
          [
           "ambient"
          ],
          [
           "ambient black metal"
          ],
          [
           "ambient folk"
          ],
          [
           "ambient house"
          ],
          [
           "ambient idm"
          ],
          [
           "ambient industrial"
          ],
          [
           "ambient pop"
          ],
          [
           "ambient techno"
          ],
          [
           "ambient worship"
          ],
          [
           "american 21st century classical"
          ],
          [
           "american choir"
          ],
          [
           "american classical piano"
          ],
          [
           "american contemporary classical"
          ],
          [
           "american early music"
          ],
          [
           "american folk revival"
          ],
          [
           "american metalcore"
          ],
          [
           "american modern classical"
          ],
          [
           "american oi"
          ],
          [
           "american orchestra"
          ],
          [
           "american post-rock"
          ],
          [
           "american primitive"
          ],
          [
           "american romanticism"
          ],
          [
           "american shoegaze"
          ],
          [
           "anadolu rock"
          ],
          [
           "anarcho-punk"
          ],
          [
           "anglican liturgy"
          ],
          [
           "animal singing"
          ],
          [
           "anime"
          ],
          [
           "anime latino"
          ],
          [
           "anime rock"
          ],
          [
           "anime score"
          ],
          [
           "ann arbor indie"
          ],
          [
           "anthem emo"
          ],
          [
           "anthem worship"
          ],
          [
           "anti-folk"
          ],
          [
           "antilliaanse folklore"
          ],
          [
           "antiviral pop"
          ],
          [
           "appalachian folk"
          ],
          [
           "arab folk"
          ],
          [
           "arab groove"
          ],
          [
           "arab pop"
          ],
          [
           "arabesk"
          ],
          [
           "arabic hip hop"
          ],
          [
           "arabic jazz"
          ],
          [
           "argentine ambient"
          ],
          [
           "argentine hardcore"
          ],
          [
           "argentine heavy metal"
          ],
          [
           "argentine hip hop"
          ],
          [
           "argentine indie"
          ],
          [
           "argentine metal"
          ],
          [
           "argentine punk"
          ],
          [
           "argentine reggae"
          ],
          [
           "argentine rock"
          ],
          [
           "argentine telepop"
          ],
          [
           "arizona punk"
          ],
          [
           "arkansas country"
          ],
          [
           "arkansas hip hop"
          ],
          [
           "arkansas indie"
          ],
          [
           "armenian folk"
          ],
          [
           "art pop"
          ],
          [
           "art punk"
          ],
          [
           "art rock"
          ],
          [
           "art song"
          ],
          [
           "asbury park indie"
          ],
          [
           "asheville indie"
          ],
          [
           "asian american hip hop"
          ],
          [
           "asmr"
          ],
          [
           "athens indie"
          ],
          [
           "atl hip hop"
          ],
          [
           "atl trap"
          ],
          [
           "atlanta indie"
          ],
          [
           "atlanta metal"
          ],
          [
           "atlanta punk"
          ],
          [
           "atmosphere"
          ],
          [
           "atmospheric black metal"
          ],
          [
           "atmospheric dnb"
          ],
          [
           "atmospheric post-metal"
          ],
          [
           "atmospheric post-rock"
          ],
          [
           "atmospheric sludge"
          ],
          [
           "auckland indie"
          ],
          [
           "audiophile vocal"
          ],
          [
           "aussietronica"
          ],
          [
           "austin americana"
          ],
          [
           "austin singer-songwriter"
          ],
          [
           "austindie"
          ],
          [
           "australian alternative pop"
          ],
          [
           "australian alternative rock"
          ],
          [
           "australian ambient"
          ],
          [
           "australian children's music"
          ],
          [
           "australian choir"
          ],
          [
           "australian classical"
          ],
          [
           "australian classical piano"
          ],
          [
           "australian country"
          ],
          [
           "australian dance"
          ],
          [
           "australian electropop"
          ],
          [
           "australian garage punk"
          ],
          [
           "australian hip hop"
          ],
          [
           "australian house"
          ],
          [
           "australian indie"
          ],
          [
           "australian indie folk"
          ],
          [
           "australian indie rock"
          ],
          [
           "australian indigenous"
          ],
          [
           "australian metal"
          ],
          [
           "australian metalcore"
          ],
          [
           "australian pop"
          ],
          [
           "australian post-hardcore"
          ],
          [
           "australian post-punk"
          ],
          [
           "australian psych"
          ],
          [
           "australian r&b"
          ],
          [
           "australian reggae fusion"
          ],
          [
           "australian rock"
          ],
          [
           "australian singer-songwriter"
          ],
          [
           "australian ska"
          ],
          [
           "australian talent show"
          ],
          [
           "australian trap"
          ],
          [
           "australian underground hip hop"
          ],
          [
           "austrian choir"
          ],
          [
           "austrian classical piano"
          ],
          [
           "austrian orchestra"
          ],
          [
           "austrian pop"
          ],
          [
           "austro-german modernism"
          ],
          [
           "austropop"
          ],
          [
           "autoharp"
          ],
          [
           "autonomous black metal"
          ],
          [
           "avant-garde"
          ],
          [
           "avant-garde jazz"
          ],
          [
           "avant-garde metal"
          ],
          [
           "axe"
          ],
          [
           "azeri traditional"
          ],
          [
           "azonto"
          ],
          [
           "azontobeats"
          ],
          [
           "bachata"
          ],
          [
           "bachata dominicana"
          ],
          [
           "background music"
          ],
          [
           "background piano"
          ],
          [
           "baglama"
          ],
          [
           "bahai"
          ],
          [
           "bahamian folk"
          ],
          [
           "bahamian pop"
          ],
          [
           "baiao"
          ],
          [
           "bajki"
          ],
          [
           "bakersfield sound"
          ],
          [
           "balearic"
          ],
          [
           "balkan brass"
          ],
          [
           "balkan classical piano"
          ],
          [
           "ballet class"
          ],
          [
           "ballroom"
          ],
          [
           "baltic classical"
          ],
          [
           "baltimore hip hop"
          ],
          [
           "baltimore indie"
          ],
          [
           "banda"
          ],
          [
           "banda caliente"
          ],
          [
           "banda carnavalera"
          ],
          [
           "bandinhas"
          ],
          [
           "bandolim"
          ],
          [
           "bandoneon"
          ],
          [
           "bangla"
          ],
          [
           "banjo"
          ],
          [
           "bansuri"
          ],
          [
           "barbadian pop"
          ],
          [
           "barbershop"
          ],
          [
           "bard"
          ],
          [
           "barnmusik"
          ],
          [
           "barockinterpreten"
          ],
          [
           "baroque"
          ],
          [
           "baroque brass"
          ],
          [
           "baroque ensemble"
          ],
          [
           "baroque pop"
          ],
          [
           "baroque singing"
          ],
          [
           "baroque violin"
          ],
          [
           "baroque woodwind"
          ],
          [
           "bass house"
          ],
          [
           "bass music"
          ],
          [
           "bass trap"
          ],
          [
           "basshall"
          ],
          [
           "bassline"
          ],
          [
           "bath indie"
          ],
          [
           "baton rouge indie"
          ],
          [
           "baton rouge rap"
          ],
          [
           "battle rap"
          ],
          [
           "bay area hip hop"
          ],
          [
           "bay area indie"
          ],
          [
           "bboy"
          ],
          [
           "bc underground hip hop"
          ],
          [
           "beach music"
          ],
          [
           "beat italiano"
          ],
          [
           "beat poetry"
          ],
          [
           "beatboxing"
          ],
          [
           "beatlesque"
          ],
          [
           "bebop"
          ],
          [
           "bedroom pop"
          ],
          [
           "bedroom soul"
          ],
          [
           "belarusian indie"
          ],
          [
           "belarusian pop"
          ],
          [
           "belarusian rock"
          ],
          [
           "belgian classical piano"
          ],
          [
           "belgian contemporary classical"
          ],
          [
           "belgian dance"
          ],
          [
           "belgian edm"
          ],
          [
           "belgian hardcore"
          ],
          [
           "belgian indie"
          ],
          [
           "belgian indie rock"
          ],
          [
           "belgian jazz"
          ],
          [
           "belgian new wave"
          ],
          [
           "belgian pop"
          ],
          [
           "belgian rock"
          ],
          [
           "belgian singer-songwriter"
          ],
          [
           "belgian techno"
          ],
          [
           "belly dance"
          ],
          [
           "bengali folk"
          ],
          [
           "beninese pop"
          ],
          [
           "bergen indie"
          ],
          [
           "berlin minimal techno"
          ],
          [
           "berlin school"
          ],
          [
           "bhajan"
          ],
          [
           "bhangra"
          ],
          [
           "bible"
          ],
          [
           "big band"
          ],
          [
           "big beat"
          ],
          [
           "big room"
          ],
          [
           "binaural"
          ],
          [
           "birdsong"
          ],
          [
           "birmingham grime"
          ],
          [
           "birmingham hip hop"
          ],
          [
           "birmingham metal"
          ],
          [
           "bitpop"
          ],
          [
           "black 'n' roll"
          ],
          [
           "black comedy"
          ],
          [
           "black metal"
          ],
          [
           "black punk"
          ],
          [
           "black thrash"
          ],
          [
           "blackened crust"
          ],
          [
           "blackgaze"
          ],
          [
           "bleep techno"
          ],
          [
           "bluegrass"
          ],
          [
           "bluegrass fiddle"
          ],
          [
           "bluegrass gospel"
          ],
          [
           "blues"
          ],
          [
           "blues latinoamericano"
          ],
          [
           "blues mexicano"
          ],
          [
           "blues rock"
          ],
          [
           "bmore"
          ],
          [
           "bolero"
          ],
          [
           "bolero cubano"
          ],
          [
           "boogaloo"
          ],
          [
           "boogie"
          ],
          [
           "boogie-woogie"
          ],
          [
           "boom bap"
          ],
          [
           "boom bap brasileiro"
          ],
          [
           "bossa nova"
          ],
          [
           "bossa nova jazz"
          ],
          [
           "boston folk"
          ],
          [
           "boston hardcore"
          ],
          [
           "boston hip hop"
          ],
          [
           "boston indie"
          ],
          [
           "boston metal"
          ],
          [
           "boston punk"
          ],
          [
           "boston rock"
          ],
          [
           "bounce"
          ],
          [
           "bouncy house"
          ],
          [
           "bouzouki"
          ],
          [
           "bow pop"
          ],
          [
           "boy band"
          ],
          [
           "boy pop"
          ],
          [
           "boy soprano"
          ],
          [
           "brain waves"
          ],
          [
           "braindance"
          ],
          [
           "brass band"
          ],
          [
           "brass ensemble"
          ],
          [
           "brass quintet"
          ],
          [
           "brazilian boogie"
          ],
          [
           "brazilian classical"
          ],
          [
           "brazilian classical piano"
          ],
          [
           "brazilian contemporary classical"
          ],
          [
           "brazilian edm"
          ],
          [
           "brazilian groove metal"
          ],
          [
           "brazilian hip hop"
          ],
          [
           "brazilian indie"
          ],
          [
           "brazilian jazz"
          ],
          [
           "brazilian metal"
          ],
          [
           "brazilian modern jazz"
          ],
          [
           "brazilian percussion"
          ],
          [
           "brazilian punk"
          ],
          [
           "brazilian reggae"
          ],
          [
           "brazilian rock"
          ],
          [
           "brazilian ska"
          ],
          [
           "brazilian soul"
          ],
          [
           "brazilian thrash metal"
          ],
          [
           "breakbeat"
          ],
          [
           "breakcore"
          ],
          [
           "brega"
          ],
          [
           "breton folk"
          ],
          [
           "brighton indie"
          ],
          [
           "brill building pop"
          ],
          [
           "brisbane indie"
          ],
          [
           "bristol electronic"
          ],
          [
           "bristol indie"
          ],
          [
           "brit funk"
          ],
          [
           "british alternative rock"
          ],
          [
           "british black metal"
          ],
          [
           "british blues"
          ],
          [
           "british children's music"
          ],
          [
           "british choir"
          ],
          [
           "british classical piano"
          ],
          [
           "british comedy"
          ],
          [
           "british contemporary classical"
          ],
          [
           "british dance band"
          ],
          [
           "british death metal"
          ],
          [
           "british experimental"
          ],
          [
           "british folk"
          ],
          [
           "british grindcore"
          ],
          [
           "british indie rock"
          ],
          [
           "british industrial"
          ],
          [
           "british invasion"
          ],
          [
           "british jazz"
          ],
          [
           "british modern classical"
          ],
          [
           "british orchestra"
          ],
          [
           "british post-rock"
          ],
          [
           "british power metal"
          ],
          [
           "british singer-songwriter"
          ],
          [
           "british soul"
          ],
          [
           "british soundtrack"
          ],
          [
           "britpop"
          ],
          [
           "broadway"
          ],
          [
           "broken beat"
          ],
          [
           "bronx hip hop"
          ],
          [
           "brooklyn drill"
          ],
          [
           "brooklyn indie"
          ],
          [
           "brostep"
          ],
          [
           "brutal death metal"
          ],
          [
           "brutal deathcore"
          ],
          [
           "bubble trance"
          ],
          [
           "bubblegrunge"
          ],
          [
           "bubblegum dance"
          ],
          [
           "bubblegum pop"
          ],
          [
           "buffalo hip hop"
          ],
          [
           "buffalo ny indie"
          ],
          [
           "buffalo ny metal"
          ],
          [
           "bulgarian experimental"
          ],
          [
           "burmese traditional"
          ],
          [
           "bush ballad"
          ],
          [
           "c-pop"
          ],
          [
           "c86"
          ],
          [
           "cabaret"
          ],
          [
           "cajun"
          ],
          [
           "calgary indie"
          ],
          [
           "cali rap"
          ],
          [
           "calming instrumental"
          ],
          [
           "calypso"
          ],
          [
           "cambodian rock"
          ],
          [
           "cambridge choir"
          ],
          [
           "cambridgeshire indie"
          ],
          [
           "cameroonian pop"
          ],
          [
           "canadian americana"
          ],
          [
           "canadian blues"
          ],
          [
           "canadian ccm"
          ],
          [
           "canadian celtic"
          ],
          [
           "canadian children's music"
          ],
          [
           "canadian choir"
          ],
          [
           "canadian classical"
          ],
          [
           "canadian classical piano"
          ],
          [
           "canadian comedy"
          ],
          [
           "canadian contemporary country"
          ],
          [
           "canadian contemporary r&b"
          ],
          [
           "canadian country"
          ],
          [
           "canadian electronic"
          ],
          [
           "canadian electropop"
          ],
          [
           "canadian experimental"
          ],
          [
           "canadian folk"
          ],
          [
           "canadian hardcore"
          ],
          [
           "canadian hip hop"
          ],
          [
           "canadian house"
          ],
          [
           "canadian indie"
          ],
          [
           "canadian indie folk"
          ],
          [
           "canadian indigenous"
          ],
          [
           "canadian indigenous hip hop"
          ],
          [
           "canadian latin"
          ],
          [
           "canadian metal"
          ],
          [
           "canadian metalcore"
          ],
          [
           "canadian modern jazz"
          ],
          [
           "canadian pop"
          ],
          [
           "canadian pop punk"
          ],
          [
           "canadian post-hardcore"
          ],
          [
           "canadian post-rock"
          ],
          [
           "canadian psychedelic"
          ],
          [
           "canadian punk"
          ],
          [
           "canadian rock"
          ],
          [
           "canadian rockabilly"
          ],
          [
           "canadian singer-songwriter"
          ],
          [
           "canadian soundtrack"
          ],
          [
           "cancion melodica"
          ],
          [
           "candy pop"
          ],
          [
           "cantautor"
          ],
          [
           "cante flamenco"
          ],
          [
           "canterbury scene"
          ],
          [
           "canto popular uruguayo"
          ],
          [
           "cantopop"
          ],
          [
           "canzone d'autore"
          ],
          [
           "canzone genovese"
          ],
          [
           "canzone napoletana"
          ],
          [
           "cape town indie"
          ],
          [
           "cape verdean folk"
          ],
          [
           "capoeira"
          ],
          [
           "caracas indie"
          ],
          [
           "carnatic"
          ],
          [
           "carnatic instrumental"
          ],
          [
           "carnatic vocal"
          ],
          [
           "cartoon"
          ],
          [
           "cathedral choir"
          ],
          [
           "caucasian classical"
          ],
          [
           "caucasian classical piano"
          ],
          [
           "ccm"
          ],
          [
           "cedm"
          ],
          [
           "cello"
          ],
          [
           "celtic"
          ],
          [
           "celtic harp"
          ],
          [
           "celtic metal"
          ],
          [
           "celtic punk"
          ],
          [
           "celtic rock"
          ],
          [
           "cha-cha-cha"
          ],
          [
           "chakra"
          ],
          [
           "chamame"
          ],
          [
           "chamber choir"
          ],
          [
           "chamber ensemble"
          ],
          [
           "chamber folk"
          ],
          [
           "chamber orchestra"
          ],
          [
           "chamber pop"
          ],
          [
           "chamber psych"
          ],
          [
           "champeta"
          ],
          [
           "channel islands indie"
          ],
          [
           "channel pop"
          ],
          [
           "chanson"
          ],
          [
           "chanson paillarde"
          ],
          [
           "chaotic hardcore"
          ],
          [
           "charanga"
          ],
          [
           "charango"
          ],
          [
           "charlotte nc indie"
          ],
          [
           "charlottesville indie"
          ],
          [
           "chattanooga indie"
          ],
          [
           "chicago blues"
          ],
          [
           "chicago drill"
          ],
          [
           "chicago hardcore"
          ],
          [
           "chicago house"
          ],
          [
           "chicago indie"
          ],
          [
           "chicago pop punk"
          ],
          [
           "chicago punk"
          ],
          [
           "chicago rap"
          ],
          [
           "chicago soul"
          ],
          [
           "chicano punk"
          ],
          [
           "chicano rap"
          ],
          [
           "chicha"
          ],
          [
           "chihuahua indie"
          ],
          [
           "children's choir"
          ],
          [
           "children's folk"
          ],
          [
           "children's music"
          ],
          [
           "children's story"
          ],
          [
           "chilean hardcore"
          ],
          [
           "chilean indie"
          ],
          [
           "chilean rock"
          ],
          [
           "chilena"
          ],
          [
           "chill beats"
          ],
          [
           "chill guitar"
          ],
          [
           "chill lounge"
          ],
          [
           "chill out"
          ],
          [
           "chill pop"
          ],
          [
           "chill r&b"
          ],
          [
           "chillhop"
          ],
          [
           "chillstep"
          ],
          [
           "chillwave"
          ],
          [
           "chinese audiophile"
          ],
          [
           "chinese classical"
          ],
          [
           "chinese classical performance"
          ],
          [
           "chinese classical piano"
          ],
          [
           "chinese electropop"
          ],
          [
           "chinese hip hop"
          ],
          [
           "chinese idol pop"
          ],
          [
           "chinese indie"
          ],
          [
           "chinese indie rock"
          ],
          [
           "chinese instrumental"
          ],
          [
           "chinese jazz"
          ],
          [
           "chinese r&b"
          ],
          [
           "chinese soundtrack"
          ],
          [
           "chinese traditional"
          ],
          [
           "chiptune"
          ],
          [
           "chopped and screwed"
          ],
          [
           "choral"
          ],
          [
           "choro"
          ],
          [
           "christchurch indie"
          ],
          [
           "christelijk"
          ],
          [
           "christian a cappella"
          ],
          [
           "christian alternative rock"
          ],
          [
           "christian dance"
          ],
          [
           "christian hard rock"
          ],
          [
           "christian hardcore"
          ],
          [
           "christian hip hop"
          ],
          [
           "christian indie"
          ],
          [
           "christian metal"
          ],
          [
           "christian metalcore"
          ],
          [
           "christian music"
          ],
          [
           "christian pop"
          ],
          [
           "christian power metal"
          ],
          [
           "christian punk"
          ],
          [
           "christian relaxative"
          ],
          [
           "christian rock"
          ],
          [
           "christian trap"
          ],
          [
           "christian uplift"
          ],
          [
           "christmas instrumental"
          ],
          [
           "christmas product"
          ],
          [
           "chunchaca"
          ],
          [
           "chutney"
          ],
          [
           "cincinnati rap"
          ],
          [
           "cinematic post-rock"
          ],
          [
           "circuit"
          ],
          [
           "circus"
          ],
          [
           "classic afrobeat"
          ],
          [
           "classic arab pop"
          ],
          [
           "classic australian country"
          ],
          [
           "classic belgian pop"
          ],
          [
           "classic bhangra"
          ],
          [
           "classic bollywood"
          ],
          [
           "classic canadian rock"
          ],
          [
           "classic cantopop"
          ],
          [
           "classic colombian pop"
          ],
          [
           "classic country pop"
          ],
          [
           "classic czech pop"
          ],
          [
           "classic danish pop"
          ],
          [
           "classic dubstep"
          ],
          [
           "classic eurovision"
          ],
          [
           "classic finnish pop"
          ],
          [
           "classic french pop"
          ],
          [
           "classic garage rock"
          ],
          [
           "classic girl group"
          ],
          [
           "classic greek pop"
          ],
          [
           "classic hardstyle"
          ],
          [
           "classic icelandic pop"
          ],
          [
           "classic indo pop"
          ],
          [
           "classic iskelma"
          ],
          [
           "classic israeli pop"
          ],
          [
           "classic italian folk pop"
          ],
          [
           "classic italian pop"
          ],
          [
           "classic j-rock"
          ],
          [
           "classic japanese jazz"
          ],
          [
           "classic korean pop"
          ],
          [
           "classic latvian pop"
          ],
          [
           "classic mandopop"
          ],
          [
           "classic norwegian pop"
          ],
          [
           "classic opm"
          ],
          [
           "classic pakistani pop"
          ],
          [
           "classic persian pop"
          ],
          [
           "classic peruvian pop"
          ],
          [
           "classic polish pop"
          ],
          [
           "classic praise"
          ],
          [
           "classic psychedelic rock"
          ],
          [
           "classic punjabi pop"
          ],
          [
           "classic rock"
          ],
          [
           "classic russian pop"
          ],
          [
           "classic russian rock"
          ],
          [
           "classic schlager"
          ],
          [
           "classic soul"
          ],
          [
           "classic soundtrack"
          ],
          [
           "classic swedish pop"
          ],
          [
           "classic thai pop"
          ],
          [
           "classic tunisian pop"
          ],
          [
           "classic turkish pop"
          ],
          [
           "classic uk pop"
          ],
          [
           "classic venezuelan pop"
          ],
          [
           "classical"
          ],
          [
           "classical accordion"
          ],
          [
           "classical baritone"
          ],
          [
           "classical bass"
          ],
          [
           "classical cello"
          ],
          [
           "classical clarinet"
          ],
          [
           "classical contralto"
          ],
          [
           "classical countertenor"
          ],
          [
           "classical era"
          ],
          [
           "classical flute"
          ],
          [
           "classical guitar"
          ],
          [
           "classical harp"
          ],
          [
           "classical horn"
          ],
          [
           "classical mandolin"
          ],
          [
           "classical mezzo-soprano"
          ],
          [
           "classical oboe"
          ],
          [
           "classical organ"
          ],
          [
           "classical performance"
          ],
          [
           "classical piano"
          ],
          [
           "classical piano duo"
          ],
          [
           "classical piano trio"
          ],
          [
           "classical saxophone"
          ],
          [
           "classical soprano"
          ],
          [
           "classical tenor"
          ],
          [
           "classical trumpet"
          ],
          [
           "classify"
          ],
          [
           "clawhammer banjo"
          ],
          [
           "clean comedy"
          ],
          [
           "cleveland metal"
          ],
          [
           "coco"
          ],
          [
           "collage pop"
          ],
          [
           "college a cappella"
          ],
          [
           "colombian hip hop"
          ],
          [
           "colombian pop"
          ],
          [
           "colombian rock"
          ],
          [
           "columbus ohio indie"
          ],
          [
           "comedy"
          ],
          [
           "comedy rap"
          ],
          [
           "comedy rock"
          ],
          [
           "comic"
          ],
          [
           "comic metal"
          ],
          [
           "commons"
          ],
          [
           "complextro"
          ],
          [
           "compositional ambient"
          ],
          [
           "concepcion indie"
          ],
          [
           "concert band"
          ],
          [
           "connecticut hardcore"
          ],
          [
           "connecticut indie"
          ],
          [
           "conscious hip hop"
          ],
          [
           "contemporary choir"
          ],
          [
           "contemporary classical"
          ],
          [
           "contemporary classical piano"
          ],
          [
           "contemporary country"
          ],
          [
           "contemporary folk"
          ],
          [
           "contemporary gospel"
          ],
          [
           "contemporary jazz"
          ],
          [
           "contemporary post-bop"
          ],
          [
           "contemporary vocal jazz"
          ],
          [
           "contrabass"
          ],
          [
           "cool jazz"
          ],
          [
           "copla"
          ],
          [
           "cornish folk"
          ],
          [
           "cornwall indie"
          ],
          [
           "corrido"
          ],
          [
           "corridos cristianos"
          ],
          [
           "corridos tumbados"
          ],
          [
           "corrosion"
          ],
          [
           "cosmic american"
          ],
          [
           "cosmic post-rock"
          ],
          [
           "country"
          ],
          [
           "country blues"
          ],
          [
           "country boogie"
          ],
          [
           "country dawn"
          ],
          [
           "country gospel"
          ],
          [
           "country pop"
          ],
          [
           "country rap"
          ],
          [
           "country road"
          ],
          [
           "country rock"
          ],
          [
           "coverchill"
          ],
          [
           "cowboy western"
          ],
          [
           "cowpunk"
          ],
          [
           "crack rock steady"
          ],
          [
           "croatian folk"
          ],
          [
           "croatian pop"
          ],
          [
           "croatian rock"
          ],
          [
           "crossover thrash"
          ],
          [
           "crunk"
          ],
          [
           "crust punk"
          ],
          [
           "cuarteto"
          ],
          [
           "cuatro venezolano"
          ],
          [
           "cuban alternative"
          ],
          [
           "cuban rumba"
          ],
          [
           "cubaton"
          ],
          [
           "cumbia"
          ],
          [
           "cumbia andina mexicana"
          ],
          [
           "cumbia chilena"
          ],
          [
           "cumbia colombiana regia"
          ],
          [
           "cumbia ecuatoriana"
          ],
          [
           "cumbia funk"
          ],
          [
           "cumbia lagunera"
          ],
          [
           "cumbia paraguaya"
          ],
          [
           "cumbia peruana"
          ],
          [
           "cumbia pop"
          ],
          [
           "cumbia ranchera"
          ],
          [
           "cumbia salvadorena"
          ],
          [
           "cumbia santafesina"
          ],
          [
           "cumbia sonidera"
          ],
          [
           "cumbia villera"
          ],
          [
           "cyberpunk"
          ],
          [
           "cymraeg"
          ],
          [
           "cypriot pop"
          ],
          [
           "czech classical"
          ],
          [
           "czech classical piano"
          ],
          [
           "czech contemporary classical"
          ],
          [
           "d-beat"
          ],
          [
           "dabke"
          ],
          [
           "dakke dak"
          ],
          [
           "dallas indie"
          ],
          [
           "dance pop"
          ],
          [
           "dance rock"
          ],
          [
           "dance-punk"
          ],
          [
           "dancehall"
          ],
          [
           "dangdut"
          ],
          [
           "danish alternative rock"
          ],
          [
           "danish classical"
          ],
          [
           "danish electronic"
          ],
          [
           "danish electropop"
          ],
          [
           "danish hip hop"
          ],
          [
           "danish jazz"
          ],
          [
           "danish metal"
          ],
          [
           "danish pop"
          ],
          [
           "danish pop rock"
          ],
          [
           "danish post-punk"
          ],
          [
           "danish punk"
          ],
          [
           "danish rock"
          ],
          [
           "danish singer-songwriter"
          ],
          [
           "dansband"
          ],
          [
           "danseband"
          ],
          [
           "dansktop"
          ],
          [
           "danspunk"
          ],
          [
           "dark cabaret"
          ],
          [
           "dark clubbing"
          ],
          [
           "dark disco"
          ],
          [
           "dark hardcore"
          ],
          [
           "dark jazz"
          ],
          [
           "dark minimal techno"
          ],
          [
           "dark post-punk"
          ],
          [
           "dark techno"
          ],
          [
           "dark trap"
          ],
          [
           "dark wave"
          ],
          [
           "darksynth"
          ],
          [
           "dayton indie"
          ],
          [
           "dc hardcore"
          ],
          [
           "dc indie"
          ],
          [
           "death 'n' roll"
          ],
          [
           "death metal"
          ],
          [
           "deathcore"
          ],
          [
           "deathgrass"
          ],
          [
           "deathgrind"
          ],
          [
           "deathrash"
          ],
          [
           "deathrock"
          ],
          [
           "deathstep"
          ],
          [
           "deep acoustic pop"
          ],
          [
           "deep adult standards"
          ],
          [
           "deep big room"
          ],
          [
           "deep ccm"
          ],
          [
           "deep christian rock"
          ],
          [
           "deep classic garage rock"
          ],
          [
           "deep comedy"
          ],
          [
           "deep contemporary country"
          ],
          [
           "deep dance pop"
          ],
          [
           "deep delta blues"
          ],
          [
           "deep disco"
          ],
          [
           "deep disco house"
          ],
          [
           "deep dnb"
          ],
          [
           "deep east coast hip hop"
          ],
          [
           "deep euro house"
          ],
          [
           "deep flow"
          ],
          [
           "deep free jazz"
          ],
          [
           "deep freestyle"
          ],
          [
           "deep full on"
          ],
          [
           "deep funk"
          ],
          [
           "deep g funk"
          ],
          [
           "deep gothic post-punk"
          ],
          [
           "deep groove house"
          ],
          [
           "deep house"
          ],
          [
           "deep idm"
          ],
          [
           "deep indian pop"
          ],
          [
           "deep indie singer-songwriter"
          ],
          [
           "deep latin alternative"
          ],
          [
           "deep latin christian"
          ],
          [
           "deep melodic metalcore"
          ],
          [
           "deep minimal techno"
          ],
          [
           "deep motown"
          ],
          [
           "deep new americana"
          ],
          [
           "deep new wave"
          ],
          [
           "deep norteno"
          ],
          [
           "deep northern soul"
          ],
          [
           "deep pop edm"
          ],
          [
           "deep progressive house"
          ],
          [
           "deep psychobilly"
          ],
          [
           "deep punk rock"
          ],
          [
           "deep r&b"
          ],
          [
           "deep ragga"
          ],
          [
           "deep regional mexican"
          ],
          [
           "deep smooth jazz"
          ],
          [
           "deep soft rock"
          ],
          [
           "deep soul house"
          ],
          [
           "deep soundtrack"
          ],
          [
           "deep southern soul"
          ],
          [
           "deep southern trap"
          ],
          [
           "deep space rock"
          ],
          [
           "deep talent show"
          ],
          [
           "deep tech house"
          ],
          [
           "deep techno"
          ],
          [
           "deep tropical house"
          ],
          [
           "deep underground hip hop"
          ],
          [
           "deep uplifting trance"
          ],
          [
           "delta blues"
          ],
          [
           "dembow"
          ],
          [
           "denpa-kei"
          ],
          [
           "denton tx indie"
          ],
          [
           "denver indie"
          ],
          [
           "depressive black metal"
          ],
          [
           "derby indie"
          ],
          [
           "desert blues"
          ],
          [
           "desi hip hop"
          ],
          [
           "desi pop"
          ],
          [
           "destroy techno"
          ],
          [
           "detroit hip hop"
          ],
          [
           "detroit house"
          ],
          [
           "detroit techno"
          ],
          [
           "detroit trap"
          ],
          [
           "detske pisnicky"
          ],
          [
           "detskie pesni"
          ],
          [
           "devon indie"
          ],
          [
           "dfw rap"
          ],
          [
           "dhrupad"
          ],
          [
           "digital hardcore"
          ],
          [
           "dinner jazz"
          ],
          [
           "dirty south rap"
          ],
          [
           "dirty texas rap"
          ],
          [
           "disco"
          ],
          [
           "disco house"
          ],
          [
           "disney"
          ],
          [
           "diva house"
          ],
          [
           "dixieland"
          ],
          [
           "diy emo"
          ],
          [
           "djent"
          ],
          [
           "dmv rap"
          ],
          [
           "dominican pop"
          ],
          [
           "dong-yo"
          ],
          [
           "doo-wop"
          ],
          [
           "doom metal"
          ],
          [
           "double drumming"
          ],
          [
           "downtempo"
          ],
          [
           "drama"
          ],
          [
           "dream pop"
          ],
          [
           "dream trance"
          ],
          [
           "dreamgaze"
          ],
          [
           "dreamo"
          ],
          [
           "drift"
          ],
          [
           "drill"
          ],
          [
           "drill and bass"
          ],
          [
           "drone"
          ],
          [
           "drone folk"
          ],
          [
           "drone metal"
          ],
          [
           "drum and bass"
          ],
          [
           "dub"
          ],
          [
           "dub metal"
          ],
          [
           "dub poetry"
          ],
          [
           "dub techno"
          ],
          [
           "dubstep"
          ],
          [
           "dubsteppe"
          ],
          [
           "duduk"
          ],
          [
           "duluth indie"
          ],
          [
           "dunedin indie"
          ],
          [
           "dunedin sound"
          ],
          [
           "dungeon synth"
          ],
          [
           "duranguense"
          ],
          [
           "dusseldorf electronic"
          ],
          [
           "dutch blues"
          ],
          [
           "dutch cabaret"
          ],
          [
           "dutch classical piano"
          ],
          [
           "dutch death metal"
          ],
          [
           "dutch dnb"
          ],
          [
           "dutch edm"
          ],
          [
           "dutch folk"
          ],
          [
           "dutch hip hop"
          ],
          [
           "dutch house"
          ],
          [
           "dutch indie"
          ],
          [
           "dutch jazz"
          ],
          [
           "dutch metal"
          ],
          [
           "dutch pop"
          ],
          [
           "dutch prog"
          ],
          [
           "dutch rap pop"
          ],
          [
           "dutch rock"
          ],
          [
           "dutch trance"
          ],
          [
           "e6fi"
          ],
          [
           "early american folk"
          ],
          [
           "early avant garde"
          ],
          [
           "early modern classical"
          ],
          [
           "early music"
          ],
          [
           "early music choir"
          ],
          [
           "early music ensemble"
          ],
          [
           "early reggae"
          ],
          [
           "early romantic era"
          ],
          [
           "early synthpop"
          ],
          [
           "early us punk"
          ],
          [
           "east coast hip hop"
          ],
          [
           "east coast reggae"
          ],
          [
           "eastern bloc groove"
          ],
          [
           "easy listening"
          ],
          [
           "easycore"
          ],
          [
           "eau claire indie"
          ],
          [
           "ebm"
          ],
          [
           "ecm-style jazz"
          ],
          [
           "ectofolk"
          ],
          [
           "ecuadorian pop"
          ],
          [
           "edm"
          ],
          [
           "edmonton indie"
          ],
          [
           "egyptian pop"
          ],
          [
           "egyptian traditional"
          ],
          [
           "el paso indie"
          ],
          [
           "electra"
          ],
          [
           "electric bass"
          ],
          [
           "electric blues"
          ],
          [
           "electro"
          ],
          [
           "electro house"
          ],
          [
           "electro jazz"
          ],
          [
           "electro latino"
          ],
          [
           "electro swing"
          ],
          [
           "electro-industrial"
          ],
          [
           "electro-pop francais"
          ],
          [
           "electroclash"
          ],
          [
           "electrofox"
          ],
          [
           "electronic djent"
          ],
          [
           "electronic rock"
          ],
          [
           "electronic trap"
          ],
          [
           "electronica"
          ],
          [
           "electronica argentina"
          ],
          [
           "electropop"
          ],
          [
           "electropowerpop"
          ],
          [
           "emo"
          ],
          [
           "emo mexicano"
          ],
          [
           "emo punk"
          ],
          [
           "emo rap"
          ],
          [
           "emocore"
          ],
          [
           "english baroque"
          ],
          [
           "english indie rock"
          ],
          [
           "english renaissance"
          ],
          [
           "enka"
          ],
          [
           "entehno"
          ],
          [
           "environmental"
          ],
          [
           "epic doom"
          ],
          [
           "epicore"
          ],
          [
           "erhu"
          ],
          [
           "escape room"
          ],
          [
           "esperanto"
          ],
          [
           "essex indie"
          ],
          [
           "estonian hip hop"
          ],
          [
           "estonian pop"
          ],
          [
           "ethereal wave"
          ],
          [
           "etherpop"
          ],
          [
           "ethio-jazz"
          ],
          [
           "ethiopian pop"
          ],
          [
           "ethnomusicology"
          ],
          [
           "ethnotronica"
          ],
          [
           "eugene indie"
          ],
          [
           "euphoric hardstyle"
          ],
          [
           "eurobeat"
          ],
          [
           "eurodance"
          ],
          [
           "europop"
          ],
          [
           "euroska"
          ],
          [
           "eurovision"
          ],
          [
           "exotica"
          ],
          [
           "experimental"
          ],
          [
           "experimental ambient"
          ],
          [
           "experimental big band"
          ],
          [
           "experimental dub"
          ],
          [
           "experimental folk"
          ],
          [
           "experimental guitar"
          ],
          [
           "experimental hip hop"
          ],
          [
           "experimental house"
          ],
          [
           "experimental indie"
          ],
          [
           "experimental jazz"
          ],
          [
           "experimental pop"
          ],
          [
           "experimental rock"
          ],
          [
           "experimental vocal"
          ],
          [
           "fado"
          ],
          [
           "family gospel"
          ],
          [
           "faroese pop"
          ],
          [
           "fast melodic punk"
          ],
          [
           "fidget house"
          ],
          [
           "filmi"
          ],
          [
           "filter house"
          ],
          [
           "filthstep"
          ],
          [
           "final fantasy"
          ],
          [
           "fingerstyle"
          ],
          [
           "finnish alternative rock"
          ],
          [
           "finnish classical"
          ],
          [
           "finnish contemporary classical"
          ],
          [
           "finnish death metal"
          ],
          [
           "finnish edm"
          ],
          [
           "finnish hard rock"
          ],
          [
           "finnish heavy metal"
          ],
          [
           "finnish metal"
          ],
          [
           "finnish power metal"
          ],
          [
           "finnish soul"
          ],
          [
           "flamenco"
          ],
          [
           "flamenco guitar"
          ],
          [
           "flick hop"
          ],
          [
           "flint hip hop"
          ],
          [
           "float house"
          ],
          [
           "florida death metal"
          ],
          [
           "florida rap"
          ],
          [
           "fluxwork"
          ],
          [
           "fo jing"
          ],
          [
           "focus"
          ],
          [
           "focus beats"
          ],
          [
           "focus trance"
          ],
          [
           "folclor afrocolombiano"
          ],
          [
           "folclor colombiano"
          ],
          [
           "folclore extremeno"
          ],
          [
           "folclore jujeno"
          ],
          [
           "folclore navarra"
          ],
          [
           "folclore salteno"
          ],
          [
           "folclore tucumano"
          ],
          [
           "folk"
          ],
          [
           "folk metal"
          ],
          [
           "folk punk"
          ],
          [
           "folk rock"
          ],
          [
           "folk rock italiano"
          ],
          [
           "folk-pop"
          ],
          [
           "folklore argentino"
          ],
          [
           "folklore boliviano"
          ],
          [
           "folklore chileno"
          ],
          [
           "folklore ecuatoriano"
          ],
          [
           "folklore peruano"
          ],
          [
           "folklore venezolano"
          ],
          [
           "folklore veracruzano"
          ],
          [
           "folkmusik"
          ],
          [
           "folktronica"
          ],
          [
           "footwork"
          ],
          [
           "forro"
          ],
          [
           "forro tradicional"
          ],
          [
           "fort worth indie"
          ],
          [
           "fourth world"
          ],
          [
           "francoton"
          ],
          [
           "freak folk"
          ],
          [
           "freakbeat"
          ],
          [
           "free folk"
          ],
          [
           "free improvisation"
          ],
          [
           "free jazz"
          ],
          [
           "freestyle"
          ],
          [
           "french baroque"
          ],
          [
           "french classical piano"
          ],
          [
           "french contemporary classical"
          ],
          [
           "french death metal"
          ],
          [
           "french dnb"
          ],
          [
           "french hip hop"
          ],
          [
           "french indie folk"
          ],
          [
           "french indie pop"
          ],
          [
           "french indietronica"
          ],
          [
           "french jazz"
          ],
          [
           "french metal"
          ],
          [
           "french movie tunes"
          ],
          [
           "french opera"
          ],
          [
           "french orchestra"
          ],
          [
           "french pop"
          ],
          [
           "french post-punk"
          ],
          [
           "french psychedelic"
          ],
          [
           "french reggae"
          ],
          [
           "french rock"
          ],
          [
           "french romanticism"
          ],
          [
           "french shoegaze"
          ],
          [
           "french soundtrack"
          ],
          [
           "french synthpop"
          ],
          [
           "french techno"
          ],
          [
           "frenchcore"
          ],
          [
           "full on"
          ],
          [
           "funana"
          ],
          [
           "funeral doom"
          ],
          [
           "funk"
          ],
          [
           "funk 150 bpm"
          ],
          [
           "funk carioca"
          ],
          [
           "funk das antigas"
          ],
          [
           "funk metal"
          ],
          [
           "funk mexicano"
          ],
          [
           "funk ostentacao"
          ],
          [
           "funk paulista"
          ],
          [
           "funk pop"
          ],
          [
           "funk rock"
          ],
          [
           "funky breaks"
          ],
          [
           "funky tech house"
          ],
          [
           "future bass"
          ],
          [
           "future funk"
          ],
          [
           "future garage"
          ],
          [
           "future house"
          ],
          [
           "future rock"
          ],
          [
           "futurepop"
          ],
          [
           "g funk"
          ],
          [
           "gabba"
          ],
          [
           "gabonese pop"
          ],
          [
           "gaian doom"
          ],
          [
           "gainesville indie"
          ],
          [
           "gaita zuliana"
          ],
          [
           "galante era"
          ],
          [
           "gamelan"
          ],
          [
           "gaming dubstep"
          ],
          [
           "gaming edm"
          ],
          [
           "gangster rap"
          ],
          [
           "garage house"
          ],
          [
           "garage pop"
          ],
          [
           "garage psych"
          ],
          [
           "garage punk"
          ],
          [
           "garage punk blues"
          ],
          [
           "garage rock"
          ],
          [
           "garage rock revival"
          ],
          [
           "gauze pop"
          ],
          [
           "gbvfi"
          ],
          [
           "geek folk"
          ],
          [
           "geek rock"
          ],
          [
           "georgian folk"
          ],
          [
           "german alternative rock"
          ],
          [
           "german baroque"
          ],
          [
           "german choir"
          ],
          [
           "german classical piano"
          ],
          [
           "german country"
          ],
          [
           "german dance"
          ],
          [
           "german hard rock"
          ],
          [
           "german heavy metal"
          ],
          [
           "german house"
          ],
          [
           "german indie"
          ],
          [
           "german jazz"
          ],
          [
           "german literature"
          ],
          [
           "german metal"
          ],
          [
           "german oi"
          ],
          [
           "german opera"
          ],
          [
           "german orchestra"
          ],
          [
           "german pop"
          ],
          [
           "german pop rock"
          ],
          [
           "german post-hardcore"
          ],
          [
           "german power metal"
          ],
          [
           "german punk"
          ],
          [
           "german renaissance"
          ],
          [
           "german rock"
          ],
          [
           "german romanticism"
          ],
          [
           "german show tunes"
          ],
          [
           "german soundtrack"
          ],
          [
           "german techno"
          ],
          [
           "german thrash metal"
          ],
          [
           "german trance"
          ],
          [
           "german underground rap"
          ],
          [
           "ghanaian hip hop"
          ],
          [
           "ghanaian traditional"
          ],
          [
           "ghazal"
          ],
          [
           "ghent indie"
          ],
          [
           "girl group"
          ],
          [
           "glam metal"
          ],
          [
           "glam punk"
          ],
          [
           "glam rock"
          ],
          [
           "glee club"
          ],
          [
           "glitch"
          ],
          [
           "glitch hop"
          ],
          [
           "glitch pop"
          ],
          [
           "glitchcore"
          ],
          [
           "go-go"
          ],
          [
           "goregrind"
          ],
          [
           "gospel"
          ],
          [
           "gospel antigas"
          ],
          [
           "gospel blues"
          ],
          [
           "gospel italiano"
          ],
          [
           "gospel r&b"
          ],
          [
           "gospel rap"
          ],
          [
           "gospel singers"
          ],
          [
           "gospel soul"
          ],
          [
           "gothabilly"
          ],
          [
           "gothenburg indie"
          ],
          [
           "gothenburg metal"
          ],
          [
           "gothic alternative"
          ],
          [
           "gothic americana"
          ],
          [
           "gothic black metal"
          ],
          [
           "gothic metal"
          ],
          [
           "gothic post-punk"
          ],
          [
           "gothic rock"
          ],
          [
           "gothic symphonic metal"
          ],
          [
           "gqom"
          ],
          [
           "grand rapids indie"
          ],
          [
           "grave wave"
          ],
          [
           "greek clarinet"
          ],
          [
           "greek contemporary classical"
          ],
          [
           "greek folk"
          ],
          [
           "greek guitar"
          ],
          [
           "greek house"
          ],
          [
           "greek jazz"
          ],
          [
           "greek pop"
          ],
          [
           "greek swing"
          ],
          [
           "gregorian chant"
          ],
          [
           "grime"
          ],
          [
           "grindcore"
          ],
          [
           "griot"
          ],
          [
           "groove metal"
          ],
          [
           "groove room"
          ],
          [
           "grunge"
          ],
          [
           "grunge pop"
          ],
          [
           "grupera"
          ],
          [
           "gruperas inmortales"
          ],
          [
           "guadalajara indie"
          ],
          [
           "guam indie"
          ],
          [
           "guaracha"
          ],
          [
           "guatemalan pop"
          ],
          [
           "guidance"
          ],
          [
           "guinean pop"
          ],
          [
           "guitarra argentina"
          ],
          [
           "guitarra clasica"
          ],
          [
           "guitarra portuguesa"
          ],
          [
           "gujarati garba"
          ],
          [
           "gujarati pop"
          ],
          [
           "guzheng"
          ],
          [
           "gymcore"
          ],
          [
           "gypsy"
          ],
          [
           "gypsy jazz"
          ],
          [
           "gypsy punk"
          ],
          [
           "haitian traditional"
          ],
          [
           "halifax indie"
          ],
          [
           "halloween"
          ],
          [
           "hamburg electronic"
          ],
          [
           "hammered dulcimer"
          ],
          [
           "hammond organ"
          ],
          [
           "hands up"
          ],
          [
           "hangpan"
          ],
          [
           "happy hardcore"
          ],
          [
           "hard alternative"
          ],
          [
           "hard bop"
          ],
          [
           "hard minimal techno"
          ],
          [
           "hard rock"
          ],
          [
           "hard rock brasileiro"
          ],
          [
           "hardcore"
          ],
          [
           "hardcore hip hop"
          ],
          [
           "hardcore punk"
          ],
          [
           "hardcore techno"
          ],
          [
           "hardstyle"
          ],
          [
           "harlem hip hop"
          ],
          [
           "harlem renaissance"
          ],
          [
           "harmonica blues"
          ],
          [
           "harmonica jazz"
          ],
          [
           "harp"
          ],
          [
           "harpsichord"
          ],
          [
           "haryanvi pop"
          ],
          [
           "hauntology"
          ],
          [
           "hawaiian"
          ],
          [
           "hawaiian hip hop"
          ],
          [
           "hawaiian indie"
          ],
          [
           "healing"
          ],
          [
           "heartland rock"
          ],
          [
           "hi-nrg"
          ],
          [
           "highlife"
          ],
          [
           "hindi hip hop"
          ],
          [
           "hindi indie"
          ],
          [
           "hindustani classical"
          ],
          [
           "hindustani instrumental"
          ],
          [
           "hindustani vocal"
          ],
          [
           "hip hop"
          ],
          [
           "hip hop cubano"
          ],
          [
           "hip house"
          ],
          [
           "hip pop"
          ],
          [
           "hiplife"
          ],
          [
           "histoire pour enfants"
          ],
          [
           "historic classical performance"
          ],
          [
           "historic orchestral performance"
          ],
          [
           "historic piano performance"
          ],
          [
           "historic string quartet"
          ],
          [
           "historical keyboard"
          ],
          [
           "historically informed performance"
          ],
          [
           "hoerspiel"
          ],
          [
           "hokkien pop"
          ],
          [
           "hollywood"
          ],
          [
           "hong kong hip hop"
          ],
          [
           "hong kong indie"
          ],
          [
           "hong kong rock"
          ],
          [
           "honky tonk"
          ],
          [
           "honky-tonk piano"
          ],
          [
           "hopebeat"
          ],
          [
           "horror punk"
          ],
          [
           "horror synth"
          ],
          [
           "horrorcore"
          ],
          [
           "house"
          ],
          [
           "houston rap"
          ],
          [
           "huapango"
          ],
          [
           "huayno"
          ],
          [
           "hula"
          ],
          [
           "humppa"
          ],
          [
           "hungarian choir"
          ],
          [
           "hungarian classical performance"
          ],
          [
           "hungarian classical piano"
          ],
          [
           "hungarian contemporary classical"
          ],
          [
           "hungarian edm"
          ],
          [
           "hungarian folk"
          ],
          [
           "hungarian pop"
          ],
          [
           "hungarian rock"
          ],
          [
           "hungarian techno"
          ],
          [
           "hurdy-gurdy"
          ],
          [
           "hyperpop"
          ],
          [
           "hyphy"
          ],
          [
           "icelandic classical"
          ],
          [
           "icelandic electronic"
          ],
          [
           "icelandic experimental"
          ],
          [
           "icelandic folk"
          ],
          [
           "icelandic indie"
          ],
          [
           "icelandic jazz"
          ],
          [
           "icelandic pop"
          ],
          [
           "icelandic rock"
          ],
          [
           "idaho indie"
          ],
          [
           "idol"
          ],
          [
           "idol rock"
          ],
          [
           "ilahiler"
          ],
          [
           "ilocano pop"
          ],
          [
           "impressionism"
          ],
          [
           "indian classical"
          ],
          [
           "indian edm"
          ],
          [
           "indian folk"
          ],
          [
           "indian fusion"
          ],
          [
           "indian indie"
          ],
          [
           "indian instrumental"
          ],
          [
           "indian jazz"
          ],
          [
           "indiana hip hop"
          ],
          [
           "indie anthem-folk"
          ],
          [
           "indie cafe pop"
          ],
          [
           "indie deutschrap"
          ],
          [
           "indie dream pop"
          ],
          [
           "indie electronica"
          ],
          [
           "indie electropop"
          ],
          [
           "indie folk"
          ],
          [
           "indie game soundtrack"
          ],
          [
           "indie garage rock"
          ],
          [
           "indie hip hop"
          ],
          [
           "indie jazz"
          ],
          [
           "indie pop"
          ],
          [
           "indie pop rap"
          ],
          [
           "indie poptimism"
          ],
          [
           "indie psych-pop"
          ],
          [
           "indie punk"
          ],
          [
           "indie quebecois"
          ],
          [
           "indie r&b"
          ],
          [
           "indie rock"
          ],
          [
           "indie rock mexicano"
          ],
          [
           "indie rockism"
          ],
          [
           "indie shoegaze"
          ],
          [
           "indie singer-songwriter"
          ],
          [
           "indie soul"
          ],
          [
           "indie surf"
          ],
          [
           "indie triste"
          ],
          [
           "indiecoustica"
          ],
          [
           "indietronica"
          ],
          [
           "indonesian hip hop"
          ],
          [
           "indonesian indie"
          ],
          [
           "indonesian pop"
          ],
          [
           "indonesian r&b"
          ],
          [
           "indonesian worship"
          ],
          [
           "industrial"
          ],
          [
           "industrial hardcore"
          ],
          [
           "industrial hip hop"
          ],
          [
           "industrial metal"
          ],
          [
           "industrial rock"
          ],
          [
           "indy indie"
          ],
          [
           "instrumental acoustic guitar"
          ],
          [
           "instrumental bluegrass"
          ],
          [
           "instrumental funk"
          ],
          [
           "instrumental grime"
          ],
          [
           "instrumental math rock"
          ],
          [
           "instrumental post-rock"
          ],
          [
           "instrumental progressive metal"
          ],
          [
           "instrumental rock"
          ],
          [
           "instrumental soul"
          ],
          [
           "instrumental stoner rock"
          ],
          [
           "instrumental surf"
          ],
          [
           "intelligent dance music"
          ],
          [
           "iowa hip hop"
          ],
          [
           "irish accordion"
          ],
          [
           "irish ballad"
          ],
          [
           "irish banjo"
          ],
          [
           "irish classical"
          ],
          [
           "irish country"
          ],
          [
           "irish dance"
          ],
          [
           "irish fiddle"
          ],
          [
           "irish folk"
          ],
          [
           "irish hip hop"
          ],
          [
           "irish indie"
          ],
          [
           "irish metal"
          ],
          [
           "irish pop"
          ],
          [
           "irish pub song"
          ],
          [
           "irish rock"
          ],
          [
           "irish singer-songwriter"
          ],
          [
           "iskelma"
          ],
          [
           "islamic recitation"
          ],
          [
           "isle of wight indie"
          ],
          [
           "israeli classical"
          ],
          [
           "israeli classical piano"
          ],
          [
           "israeli folk"
          ],
          [
           "israeli hip hop"
          ],
          [
           "israeli mediterranean"
          ],
          [
           "israeli pop"
          ],
          [
           "israeli rock"
          ],
          [
           "israeli singer-songwriter"
          ],
          [
           "israeli techno"
          ],
          [
           "italian adult pop"
          ],
          [
           "italian baritone"
          ],
          [
           "italian baroque"
          ],
          [
           "italian baroque ensemble"
          ],
          [
           "italian bass"
          ],
          [
           "italian blues"
          ],
          [
           "italian classical guitar"
          ],
          [
           "italian classical piano"
          ],
          [
           "italian contemporary jazz"
          ],
          [
           "italian disco"
          ],
          [
           "italian gothic"
          ],
          [
           "italian gothic metal"
          ],
          [
           "italian indie pop"
          ],
          [
           "italian jazz"
          ],
          [
           "italian library music"
          ],
          [
           "italian mandolin"
          ],
          [
           "italian metal"
          ],
          [
           "italian mezzo-soprano"
          ],
          [
           "italian modern prog"
          ],
          [
           "italian opera"
          ],
          [
           "italian orchestra"
          ],
          [
           "italian pop rock"
          ],
          [
           "italian power metal"
          ],
          [
           "italian progressive metal"
          ],
          [
           "italian progressive rock"
          ],
          [
           "italian renaissance"
          ],
          [
           "italian romanticism"
          ],
          [
           "italian soprano"
          ],
          [
           "italian soundtrack"
          ],
          [
           "italian techno"
          ],
          [
           "italian tenor"
          ],
          [
           "italian violin"
          ],
          [
           "italo dance"
          ],
          [
           "italo house"
          ],
          [
           "j-acoustic"
          ],
          [
           "j-ambient"
          ],
          [
           "j-dance"
          ],
          [
           "j-division"
          ],
          [
           "j-idol"
          ],
          [
           "j-metal"
          ],
          [
           "j-pixie"
          ],
          [
           "j-pop"
          ],
          [
           "j-pop girl group"
          ],
          [
           "j-poprock"
          ],
          [
           "j-punk"
          ],
          [
           "j-reggae"
          ],
          [
           "j-rock"
          ],
          [
           "jacksonville indie"
          ],
          [
           "jam band"
          ],
          [
           "jamgrass"
          ],
          [
           "jamtronica"
          ],
          [
           "jangle pop"
          ],
          [
           "japanese alternative rock"
          ],
          [
           "japanese chillhop"
          ],
          [
           "japanese city pop"
          ],
          [
           "japanese classical"
          ],
          [
           "japanese classical performance"
          ],
          [
           "japanese classical piano"
          ],
          [
           "japanese concert band"
          ],
          [
           "japanese dream pop"
          ],
          [
           "japanese electronic"
          ],
          [
           "japanese electropop"
          ],
          [
           "japanese emo"
          ],
          [
           "japanese experimental"
          ],
          [
           "japanese folk"
          ],
          [
           "japanese garage rock"
          ],
          [
           "japanese girl punk"
          ],
          [
           "japanese heavy metal"
          ],
          [
           "japanese idm"
          ],
          [
           "japanese indie folk"
          ],
          [
           "japanese indie rock"
          ],
          [
           "japanese instrumental"
          ],
          [
           "japanese jazz"
          ],
          [
           "japanese jazz fusion"
          ],
          [
           "japanese jazztronica"
          ],
          [
           "japanese metalcore"
          ],
          [
           "japanese new wave"
          ],
          [
           "japanese piano"
          ],
          [
           "japanese pop punk"
          ],
          [
           "japanese post-hardcore"
          ],
          [
           "japanese power metal"
          ],
          [
           "japanese prog"
          ],
          [
           "japanese psychedelic"
          ],
          [
           "japanese punk rock"
          ],
          [
           "japanese r&b"
          ],
          [
           "japanese rockabilly"
          ],
          [
           "japanese singer-songwriter"
          ],
          [
           "japanese soundtrack"
          ],
          [
           "japanese traditional"
          ],
          [
           "japanese vgm"
          ],
          [
           "japanese vocal jazz"
          ],
          [
           "jawaiian"
          ],
          [
           "jazz"
          ],
          [
           "jazz accordion"
          ],
          [
           "jazz blues"
          ],
          [
           "jazz boom bap"
          ],
          [
           "jazz brass"
          ],
          [
           "jazz chileno"
          ],
          [
           "jazz clarinet"
          ],
          [
           "jazz colombiano"
          ],
          [
           "jazz cubano"
          ],
          [
           "jazz double bass"
          ],
          [
           "jazz drums"
          ],
          [
           "jazz flute"
          ],
          [
           "jazz funk"
          ],
          [
           "jazz fusion"
          ],
          [
           "jazz guitar"
          ],
          [
           "jazz harp"
          ],
          [
           "jazz metal"
          ],
          [
           "jazz mexicano"
          ],
          [
           "jazz orchestra"
          ],
          [
           "jazz organ"
          ],
          [
           "jazz piano"
          ],
          [
           "jazz pop"
          ],
          [
           "jazz quartet"
          ],
          [
           "jazz rap"
          ],
          [
           "jazz rock"
          ],
          [
           "jazz saxophone"
          ],
          [
           "jazz trio"
          ],
          [
           "jazz trombone"
          ],
          [
           "jazz trumpet"
          ],
          [
           "jazz tuba"
          ],
          [
           "jazz venezolano"
          ],
          [
           "jazz vibraphone"
          ],
          [
           "jazz violin"
          ],
          [
           "jazztronica"
          ],
          [
           "jewish cantorial"
          ],
          [
           "jewish hip hop"
          ],
          [
           "jig and reel"
          ],
          [
           "jordanian pop"
          ],
          [
           "joropo"
          ],
          [
           "jovem guarda"
          ],
          [
           "jug band"
          ],
          [
           "juju"
          ],
          [
           "jump blues"
          ],
          [
           "jump up"
          ],
          [
           "k-indie"
          ],
          [
           "k-pop"
          ],
          [
           "k-pop boy group"
          ],
          [
           "k-pop girl group"
          ],
          [
           "k-rap"
          ],
          [
           "kabarett"
          ],
          [
           "kabyle"
          ],
          [
           "kaneka"
          ],
          [
           "kannada bhava geethe"
          ],
          [
           "kansas city hip hop"
          ],
          [
           "kashmiri pop"
          ],
          [
           "kawaii future bass"
          ],
          [
           "kawaii metal"
          ],
          [
           "kayokyoku"
          ],
          [
           "kc indie"
          ],
          [
           "kent indie"
          ],
          [
           "kentucky hip hop"
          ],
          [
           "kentucky indie"
          ],
          [
           "kentucky metal"
          ],
          [
           "kentucky mountain folk"
          ],
          [
           "kentucky punk"
          ],
          [
           "kentucky roots"
          ],
          [
           "keroncong"
          ],
          [
           "khaleeji iraqi"
          ],
          [
           "khmer"
          ],
          [
           "kids dance party"
          ],
          [
           "kindie rock"
          ],
          [
           "kingston on indie"
          ],
          [
           "kirtan"
          ],
          [
           "kiwi rock"
          ],
          [
           "kizomba antigas"
          ],
          [
           "kleine hoerspiel"
          ],
          [
           "klezmer"
          ],
          [
           "knoxville indie"
          ],
          [
           "kodomo no ongaku"
          ],
          [
           "kolsche karneval"
          ],
          [
           "komedi"
          ],
          [
           "kompa"
          ],
          [
           "kora"
          ],
          [
           "korean classical performance"
          ],
          [
           "korean classical piano"
          ],
          [
           "korean indie rock"
          ],
          [
           "korean mask singer"
          ],
          [
           "korean pop"
          ],
          [
           "korean r&b"
          ],
          [
           "korean trap"
          ],
          [
           "koto"
          ],
          [
           "krautrock"
          ],
          [
           "kundiman"
          ],
          [
           "la indie"
          ],
          [
           "la pop"
          ],
          [
           "laboratorio"
          ],
          [
           "lafayette indie"
          ],
          [
           "laiko"
          ],
          [
           "lancashire indie"
          ],
          [
           "lancaster pa indie"
          ],
          [
           "late romantic era"
          ],
          [
           "latin"
          ],
          [
           "latin afrobeat"
          ],
          [
           "latin alternative"
          ],
          [
           "latin american classical piano"
          ],
          [
           "latin arena pop"
          ],
          [
           "latin christian"
          ],
          [
           "latin classical"
          ],
          [
           "latin funk"
          ],
          [
           "latin hip hop"
          ],
          [
           "latin house"
          ],
          [
           "latin jazz"
          ],
          [
           "latin metal"
          ],
          [
           "latin pop"
          ],
          [
           "latin rock"
          ],
          [
           "latin ska"
          ],
          [
           "latin soundtrack"
          ],
          [
           "latin talent show"
          ],
          [
           "latin tech house"
          ],
          [
           "latin viral pop"
          ],
          [
           "latin worship"
          ],
          [
           "latincore"
          ],
          [
           "latino comedy"
          ],
          [
           "latintronica"
          ],
          [
           "latinx alternative"
          ],
          [
           "latvian pop"
          ],
          [
           "lds"
          ],
          [
           "lds youth"
          ],
          [
           "lebanese pop"
          ],
          [
           "leicester indie"
          ],
          [
           "lexington ky indie"
          ],
          [
           "lgbtq+ hip hop"
          ],
          [
           "library music"
          ],
          [
           "liedermacher"
          ],
          [
           "light music"
          ],
          [
           "lilith"
          ],
          [
           "liquid funk"
          ],
          [
           "lithuanian electronic"
          ],
          [
           "liverpool indie"
          ],
          [
           "livetronica"
          ],
          [
           "lldm"
          ],
          [
           "lo star"
          ],
          [
           "lo-fi"
          ],
          [
           "lo-fi beats"
          ],
          [
           "lo-fi brasileiro"
          ],
          [
           "lo-fi chill"
          ],
          [
           "lo-fi cover"
          ],
          [
           "lo-fi emo"
          ],
          [
           "lo-fi house"
          ],
          [
           "lo-fi indie"
          ],
          [
           "lo-fi vgm"
          ],
          [
           "london rap"
          ],
          [
           "louisiana blues"
          ],
          [
           "louisiana metal"
          ],
          [
           "louisville indie"
          ],
          [
           "louisville underground"
          ],
          [
           "lounge"
          ],
          [
           "louvor"
          ],
          [
           "lovers rock"
          ],
          [
           "lullaby"
          ],
          [
           "lund indie"
          ],
          [
           "lute"
          ],
          [
           "macedonian folk"
          ],
          [
           "madchester"
          ],
          [
           "madrigal"
          ],
          [
           "magyar alternative"
          ],
          [
           "maine hip hop"
          ],
          [
           "maine indie"
          ],
          [
           "mainland chinese pop"
          ],
          [
           "makossa"
          ],
          [
           "malaysian mandopop"
          ],
          [
           "malaysian pop"
          ],
          [
           "malian blues"
          ],
          [
           "mallet"
          ],
          [
           "malmo indie"
          ],
          [
           "mambo"
          ],
          [
           "manchester hip hop"
          ],
          [
           "manchester indie"
          ],
          [
           "mande pop"
          ],
          [
           "mandolin"
          ],
          [
           "mandopop"
          ],
          [
           "manguebeat"
          ],
          [
           "manila sound"
          ],
          [
           "manitoba indie"
          ],
          [
           "mantra"
          ],
          [
           "marathi pop"
          ],
          [
           "marathi traditional"
          ],
          [
           "marching band"
          ],
          [
           "mariachi"
          ],
          [
           "mariachi cristiano"
          ],
          [
           "marimba orquesta"
          ],
          [
           "martial industrial"
          ],
          [
           "mashup"
          ],
          [
           "math rock"
          ],
          [
           "mathcore"
          ],
          [
           "mbalax"
          ],
          [
           "medieval"
          ],
          [
           "medieval folk"
          ],
          [
           "medieval rock"
          ],
          [
           "meditation"
          ],
          [
           "melancholia"
          ],
          [
           "melbourne bounce"
          ],
          [
           "melbourne bounce international"
          ],
          [
           "melbourne indie"
          ],
          [
           "mellow gold"
          ],
          [
           "melodic death metal"
          ],
          [
           "melodic deathcore"
          ],
          [
           "melodic dubstep"
          ],
          [
           "melodic groove metal"
          ],
          [
           "melodic hard rock"
          ],
          [
           "melodic hardcore"
          ],
          [
           "melodic metal"
          ],
          [
           "melodic metalcore"
          ],
          [
           "melodic power metal"
          ],
          [
           "melodic rap"
          ],
          [
           "melodic thrash"
          ],
          [
           "meme rap"
          ],
          [
           "memphis americana"
          ],
          [
           "memphis blues"
          ],
          [
           "memphis hip hop"
          ],
          [
           "memphis indie"
          ],
          [
           "memphis soul"
          ],
          [
           "mento"
          ],
          [
           "merengue"
          ],
          [
           "merengue tipico"
          ],
          [
           "merseybeat"
          ],
          [
           "messianic praise"
          ],
          [
           "metal"
          ],
          [
           "metal guitar"
          ],
          [
           "metal mineiro"
          ],
          [
           "metalcore"
          ],
          [
           "metropopolis"
          ],
          [
           "mexican classic rock"
          ],
          [
           "mexican classical"
          ],
          [
           "mexican hip hop"
          ],
          [
           "mexican indie"
          ],
          [
           "mexican pop"
          ],
          [
           "mexican pop punk"
          ],
          [
           "mexican rock"
          ],
          [
           "mexican rock-and-roll"
          ],
          [
           "mexican son"
          ],
          [
           "mexican traditional"
          ],
          [
           "miami bass"
          ],
          [
           "miami hip hop"
          ],
          [
           "miami indie"
          ],
          [
           "miami metal"
          ],
          [
           "michigan indie"
          ],
          [
           "microhouse"
          ],
          [
           "microtonal"
          ],
          [
           "middle earth"
          ],
          [
           "middle east hip hop"
          ],
          [
           "middle eastern traditional"
          ],
          [
           "midwest americana"
          ],
          [
           "midwest emo"
          ],
          [
           "military cadence"
          ],
          [
           "military rap"
          ],
          [
           "milwaukee indie"
          ],
          [
           "mindfulness"
          ],
          [
           "minecraft"
          ],
          [
           "minimal melodic techno"
          ],
          [
           "minimal tech house"
          ],
          [
           "minimal techno"
          ],
          [
           "minimal wave"
          ],
          [
           "minimalism"
          ],
          [
           "minneapolis indie"
          ],
          [
           "minneapolis metal"
          ],
          [
           "minneapolis punk"
          ],
          [
           "minneapolis sound"
          ],
          [
           "minnesota hip hop"
          ],
          [
           "mississippi hip hop"
          ],
          [
           "mississippi indie"
          ],
          [
           "mizrahi"
          ],
          [
           "mod revival"
          ],
          [
           "modern alternative pop"
          ],
          [
           "modern alternative rock"
          ],
          [
           "modern big band"
          ],
          [
           "modern blues"
          ],
          [
           "modern blues rock"
          ],
          [
           "modern bollywood"
          ],
          [
           "modern country rock"
          ],
          [
           "modern dream pop"
          ],
          [
           "modern folk rock"
          ],
          [
           "modern funk"
          ],
          [
           "modern hard rock"
          ],
          [
           "modern indie pop"
          ],
          [
           "modern jazz piano"
          ],
          [
           "modern jazz trio"
          ],
          [
           "modern old-time"
          ],
          [
           "modern performance"
          ],
          [
           "modern power pop"
          ],
          [
           "modern psychedelic folk"
          ],
          [
           "modern reggae"
          ],
          [
           "modern rock"
          ],
          [
           "modern salsa"
          ],
          [
           "modern ska punk"
          ],
          [
           "modern southern rock"
          ],
          [
           "modern string quartet"
          ],
          [
           "modern swing"
          ],
          [
           "modern uplift"
          ],
          [
           "modular synth"
          ],
          [
           "moldovan pop"
          ],
          [
           "mollywood"
          ],
          [
           "mongolian hip hop"
          ],
          [
           "mongolian pop"
          ],
          [
           "monterrey indie"
          ],
          [
           "montreal indie"
          ],
          [
           "moog"
          ],
          [
           "moombahton"
          ],
          [
           "morna"
          ],
          [
           "motivation"
          ],
          [
           "motown"
          ],
          [
           "mountain dulcimer"
          ],
          [
           "movie tunes"
          ],
          [
           "mpb"
          ],
          [
           "music box"
          ],
          [
           "music hall"
          ],
          [
           "musica afroperuana"
          ],
          [
           "musica alagoana"
          ],
          [
           "musica andina"
          ],
          [
           "musica andina colombiana"
          ],
          [
           "musica antigua"
          ],
          [
           "musica aragonesa"
          ],
          [
           "musica ayacuchana"
          ],
          [
           "musica canaria"
          ],
          [
           "musica costarricense"
          ],
          [
           "musica costena"
          ],
          [
           "musica cristiana guatemalteca"
          ],
          [
           "musica de fondo"
          ],
          [
           "musica gaucha tradicionalista"
          ],
          [
           "musica hondurena"
          ],
          [
           "musica infantil"
          ],
          [
           "musica jibara"
          ],
          [
           "musica juiz-forana"
          ],
          [
           "musica llanera"
          ],
          [
           "musica nicaraguense"
          ],
          [
           "musica para criancas"
          ],
          [
           "musica para ninos"
          ],
          [
           "musica paraibana"
          ],
          [
           "musica piemonteisa"
          ],
          [
           "musica popular colombiana"
          ],
          [
           "musica popular mineira"
          ],
          [
           "musica popular paraense"
          ],
          [
           "musica potosina"
          ],
          [
           "musica prehispanica"
          ],
          [
           "musica sarda"
          ],
          [
           "musica tradicional cubana"
          ],
          [
           "musica tropical guatemalteca"
          ],
          [
           "musical advocacy"
          ],
          [
           "musikkorps"
          ],
          [
           "musique concrete"
          ],
          [
           "musique peule"
          ],
          [
           "musique pour enfant quebecois"
          ],
          [
           "musique pour enfants"
          ],
          [
           "musique touareg"
          ],
          [
           "muzica populara"
          ],
          [
           "muzika l'yeladim"
          ],
          [
           "naija worship"
          ],
          [
           "nantes indie"
          ],
          [
           "narodna muzika"
          ],
          [
           "nashville americana"
          ],
          [
           "nashville hip hop"
          ],
          [
           "nashville indie"
          ],
          [
           "nashville singer-songwriter"
          ],
          [
           "nashville sound"
          ],
          [
           "native american"
          ],
          [
           "native american contemporary"
          ],
          [
           "native american flute"
          ],
          [
           "native american hip hop"
          ],
          [
           "native american spiritual"
          ],
          [
           "navajo"
          ],
          [
           "nederlandse hardstyle"
          ],
          [
           "nederpop"
          ],
          [
           "neo classical metal"
          ],
          [
           "neo kyma"
          ],
          [
           "neo mellow"
          ],
          [
           "neo r&b"
          ],
          [
           "neo soul"
          ],
          [
           "neo-classical"
          ],
          [
           "neo-kraut"
          ],
          [
           "neo-pagan"
          ],
          [
           "neo-progressive"
          ],
          [
           "neo-psychedelic"
          ],
          [
           "neo-rockabilly"
          ],
          [
           "neo-singer-songwriter"
          ],
          [
           "neo-synthpop"
          ],
          [
           "neo-trad metal"
          ],
          [
           "neo-traditional bluegrass"
          ],
          [
           "neo-traditional country"
          ],
          [
           "neoclassical darkwave"
          ],
          [
           "neoclassicism"
          ],
          [
           "neofolk"
          ],
          [
           "neon pop punk"
          ],
          [
           "neotango"
          ],
          [
           "nepali indie"
          ],
          [
           "nepali pop"
          ],
          [
           "nerdcore"
          ],
          [
           "neue deutsche harte"
          ],
          [
           "neue deutsche todeskunst"
          ],
          [
           "neue deutsche welle"
          ],
          [
           "neurofunk"
          ],
          [
           "new age"
          ],
          [
           "new age piano"
          ],
          [
           "new americana"
          ],
          [
           "new beat"
          ],
          [
           "new comedy"
          ],
          [
           "new england americana"
          ],
          [
           "new england emo"
          ],
          [
           "new french touch"
          ],
          [
           "new isolationism"
          ],
          [
           "new jack swing"
          ],
          [
           "new jersey hardcore"
          ],
          [
           "new jersey indie"
          ],
          [
           "new jersey punk"
          ],
          [
           "new jersey rap"
          ],
          [
           "new mexico music"
          ],
          [
           "new orleans blues"
          ],
          [
           "new orleans funk"
          ],
          [
           "new orleans indie"
          ],
          [
           "new orleans jazz"
          ],
          [
           "new orleans rap"
          ],
          [
           "new rave"
          ],
          [
           "new romantic"
          ],
          [
           "new tribe"
          ],
          [
           "new wave"
          ],
          [
           "new wave of thrash metal"
          ],
          [
           "new wave pop"
          ],
          [
           "new weird america"
          ],
          [
           "new york death metal"
          ],
          [
           "new york drill"
          ],
          [
           "new zealand classical"
          ],
          [
           "newcastle indie"
          ],
          [
           "newcastle nsw indie"
          ],
          [
           "nigerian hip hop"
          ],
          [
           "nigerian pop"
          ],
          [
           "nightcore"
          ],
          [
           "nightrun"
          ],
          [
           "ninja"
          ],
          [
           "nintendocore"
          ],
          [
           "nisiotika"
          ],
          [
           "nl folk"
          ],
          [
           "no wave"
          ],
          [
           "noise pop"
          ],
          [
           "noise punk"
          ],
          [
           "noise rock"
          ],
          [
           "nordic classical piano"
          ],
          [
           "nordic contemporary classical"
          ],
          [
           "nordic folk"
          ],
          [
           "nordic house"
          ],
          [
           "nordic orchestra"
          ],
          [
           "nordic post-rock"
          ],
          [
           "nordic soundtrack"
          ],
          [
           "norman ok indie"
          ],
          [
           "norsk lovsang"
          ],
          [
           "norteno"
          ],
          [
           "norteno-sax"
          ],
          [
           "north carolina emo"
          ],
          [
           "north carolina hip hop"
          ],
          [
           "north carolina indie"
          ],
          [
           "north carolina metal"
          ],
          [
           "north carolina roots"
          ],
          [
           "north east england indie"
          ],
          [
           "northern irish indie"
          ],
          [
           "northern irish punk"
          ],
          [
           "northern soul"
          ],
          [
           "norwegian black metal"
          ],
          [
           "norwegian choir"
          ],
          [
           "norwegian classical"
          ],
          [
           "norwegian contemporary jazz"
          ],
          [
           "norwegian death metal"
          ],
          [
           "norwegian experimental"
          ],
          [
           "norwegian hip hop"
          ],
          [
           "norwegian indie"
          ],
          [
           "norwegian jazz"
          ],
          [
           "norwegian metal"
          ],
          [
           "norwegian pop"
          ],
          [
           "norwegian pop rap"
          ],
          [
           "norwegian punk rock"
          ],
          [
           "norwegian rock"
          ],
          [
           "norwegian singer-songwriter"
          ],
          [
           "norwegian space disco"
          ],
          [
           "nottingham indie"
          ],
          [
           "nouvelle chanson francaise"
          ],
          [
           "nova canco"
          ],
          [
           "nova mpb"
          ],
          [
           "nova musica pernambucana"
          ],
          [
           "novelty"
          ],
          [
           "nu age"
          ],
          [
           "nu disco"
          ],
          [
           "nu gaze"
          ],
          [
           "nu jazz"
          ],
          [
           "nu metal"
          ],
          [
           "nu skool breaks"
          ],
          [
           "nu-cumbia"
          ],
          [
           "nu-metalcore"
          ],
          [
           "nubian traditional"
          ],
          [
           "nueva cancion"
          ],
          [
           "nueva ola chilena"
          ],
          [
           "nueva ola peruana"
          ],
          [
           "nuevo flamenco"
          ],
          [
           "nuevo folklore mexicano"
          ],
          [
           "nuevo regional mexicano"
          ],
          [
           "nuevo tango"
          ],
          [
           "nursery"
          ],
          [
           "nwobhm"
          ],
          [
           "nwothm"
          ],
          [
           "ny roots"
          ],
          [
           "nyc pop"
          ],
          [
           "nyc rap"
          ],
          [
           "nyhc"
          ],
          [
           "nz christian"
          ],
          [
           "nz folk"
          ],
          [
           "nz hardcore"
          ],
          [
           "nz indie"
          ],
          [
           "nz pop"
          ],
          [
           "nz punk"
          ],
          [
           "nz reggae"
          ],
          [
           "nz singer-songwriter"
          ],
          [
           "oakland hip hop"
          ],
          [
           "oakland indie"
          ],
          [
           "oc indie"
          ],
          [
           "oc rap"
          ],
          [
           "oceania soundtrack"
          ],
          [
           "ohio hip hop"
          ],
          [
           "ohio indie"
          ],
          [
           "oi"
          ],
          [
           "ok indie"
          ],
          [
           "okc indie"
          ],
          [
           "okinawan pop"
          ],
          [
           "oklahoma country"
          ],
          [
           "old school dancehall"
          ],
          [
           "old school hip hop"
          ],
          [
           "old school rap francais"
          ],
          [
           "old school thrash"
          ],
          [
           "old school uk hip hop"
          ],
          [
           "old west"
          ],
          [
           "old-time"
          ],
          [
           "old-time fiddle"
          ],
          [
           "olympia wa indie"
          ],
          [
           "omaha indie"
          ],
          [
           "one-person band"
          ],
          [
           "ontario indie"
          ],
          [
           "opera"
          ],
          [
           "opera chorus"
          ],
          [
           "opera metal"
          ],
          [
           "operatic pop"
          ],
          [
           "operetta"
          ],
          [
           "opm"
          ],
          [
           "oratory"
          ],
          [
           "orchestra"
          ],
          [
           "orchestral performance"
          ],
          [
           "orebro indie"
          ],
          [
           "organic ambient"
          ],
          [
           "organic electronic"
          ],
          [
           "organic house"
          ],
          [
           "orgcore"
          ],
          [
           "oriental classical"
          ],
          [
           "orkney and shetland folk"
          ],
          [
           "orlando indie"
          ],
          [
           "orquesta tipica"
          ],
          [
           "orthodox chant"
          ],
          [
           "oshare kei"
          ],
          [
           "otacore"
          ],
          [
           "oth indie"
          ],
          [
           "ottawa indie"
          ],
          [
           "ottawa rap"
          ],
          [
           "oud"
          ],
          [
           "outer hip hop"
          ],
          [
           "outlaw country"
          ],
          [
           "outsider"
          ],
          [
           "outsider house"
          ],
          [
           "oxford choir"
          ],
          [
           "oxford indie"
          ],
          [
           "p funk"
          ],
          [
           "pagan black metal"
          ],
          [
           "pagode"
          ],
          [
           "pagode baiano"
          ],
          [
           "paisley underground"
          ],
          [
           "pakistani folk"
          ],
          [
           "pakistani hip hop"
          ],
          [
           "pakistani pop"
          ],
          [
           "palestinian pop"
          ],
          [
           "palm desert scene"
          ],
          [
           "panamanian pop"
          ],
          [
           "panamanian rock"
          ],
          [
           "panpipe"
          ],
          [
           "papuri"
          ],
          [
           "parody"
          ],
          [
           "partido alto"
          ],
          [
           "partyschlager"
          ],
          [
           "pei indie"
          ],
          [
           "permanent wave"
          ],
          [
           "perreo"
          ],
          [
           "persian pop"
          ],
          [
           "persian traditional"
          ],
          [
           "perth indie"
          ],
          [
           "peruvian hip hop"
          ],
          [
           "peruvian rock"
          ],
          [
           "pet calming"
          ],
          [
           "philly indie"
          ],
          [
           "philly rap"
          ],
          [
           "philly soul"
          ],
          [
           "phoenix indie"
          ],
          [
           "phonk"
          ],
          [
           "pianissimo"
          ],
          [
           "piano blues"
          ],
          [
           "piano cover"
          ],
          [
           "piano mpb"
          ],
          [
           "piano rock"
          ],
          [
           "pibroch"
          ],
          [
           "piedmont blues"
          ],
          [
           "pinoy hip hop"
          ],
          [
           "pinoy indie"
          ],
          [
           "pinoy pop punk"
          ],
          [
           "pinoy praise"
          ],
          [
           "pinoy r&b"
          ],
          [
           "pinoy reggae"
          ],
          [
           "pinoy rock"
          ],
          [
           "pinoy traditional"
          ],
          [
           "pinoy trap"
          ],
          [
           "pirate"
          ],
          [
           "pittsburgh indie"
          ],
          [
           "pittsburgh rap"
          ],
          [
           "pittsburgh rock"
          ],
          [
           "pixie"
          ],
          [
           "plunderphonics"
          ],
          [
           "poetry"
          ],
          [
           "polca paraguaya"
          ],
          [
           "polish blues"
          ],
          [
           "polish classical"
          ],
          [
           "polish classical piano"
          ],
          [
           "polish contemporary classical"
          ],
          [
           "polish jazz"
          ],
          [
           "polish modern jazz"
          ],
          [
           "polish pop"
          ],
          [
           "polish post-rock"
          ],
          [
           "polish reggae"
          ],
          [
           "polish rock"
          ],
          [
           "political hip hop"
          ],
          [
           "polka"
          ],
          [
           "polynesian hip hop"
          ],
          [
           "polynesian pop"
          ],
          [
           "polyphony"
          ],
          [
           "pony"
          ],
          [
           "pop"
          ],
          [
           "pop argentino"
          ],
          [
           "pop chileno"
          ],
          [
           "pop dance"
          ],
          [
           "pop edm"
          ],
          [
           "pop electronico"
          ],
          [
           "pop emo"
          ],
          [
           "pop flamenco"
          ],
          [
           "pop folk"
          ],
          [
           "pop house"
          ],
          [
           "pop nacional"
          ],
          [
           "pop nacional antigas"
          ],
          [
           "pop peruano"
          ],
          [
           "pop punk"
          ],
          [
           "pop quebecois"
          ],
          [
           "pop r&b"
          ],
          [
           "pop rap"
          ],
          [
           "pop reggaeton"
          ],
          [
           "pop rock"
          ],
          [
           "pop rock brasileiro"
          ],
          [
           "pop romantico"
          ],
          [
           "pop soul"
          ],
          [
           "pop venezolano"
          ],
          [
           "pop violin"
          ],
          [
           "popgaze"
          ],
          [
           "popping"
          ],
          [
           "pops orchestra"
          ],
          [
           "popwave"
          ],
          [
           "pornogrind"
          ],
          [
           "porro"
          ],
          [
           "portland hip hop"
          ],
          [
           "portland indie"
          ],
          [
           "portland metal"
          ],
          [
           "portland punk"
          ],
          [
           "portuguese early music"
          ],
          [
           "post-disco"
          ],
          [
           "post-disco soul"
          ],
          [
           "post-doom metal"
          ],
          [
           "post-grunge"
          ],
          [
           "post-hardcore"
          ],
          [
           "post-metal"
          ],
          [
           "post-minimalism"
          ],
          [
           "post-post-hardcore"
          ],
          [
           "post-punk"
          ],
          [
           "post-punk argentina"
          ],
          [
           "post-rock"
          ],
          [
           "post-romantic era"
          ],
          [
           "post-screamo"
          ],
          [
           "post-teen pop"
          ],
          [
           "power metal"
          ],
          [
           "power pop"
          ],
          [
           "power thrash"
          ],
          [
           "power-pop punk"
          ],
          [
           "praise"
          ],
          [
           "prepared piano"
          ],
          [
           "preschool children's music"
          ],
          [
           "prog quebec"
          ],
          [
           "progressive alternative"
          ],
          [
           "progressive bluegrass"
          ],
          [
           "progressive deathcore"
          ],
          [
           "progressive electro house"
          ],
          [
           "progressive groove metal"
          ],
          [
           "progressive house"
          ],
          [
           "progressive jazz fusion"
          ],
          [
           "progressive metal"
          ],
          [
           "progressive metalcore"
          ],
          [
           "progressive post-hardcore"
          ],
          [
           "progressive power metal"
          ],
          [
           "progressive psytrance"
          ],
          [
           "progressive rock"
          ],
          [
           "progressive sludge"
          ],
          [
           "progressive trance"
          ],
          [
           "progressive trance house"
          ],
          [
           "progressive uplifting trance"
          ],
          [
           "proto-rap"
          ],
          [
           "proto-techno"
          ],
          [
           "protopunk"
          ],
          [
           "psalmen"
          ],
          [
           "psicodelia brasileira"
          ],
          [
           "psybass"
          ],
          [
           "psychedelic blues-rock"
          ],
          [
           "psychedelic doom"
          ],
          [
           "psychedelic folk"
          ],
          [
           "psychedelic folk rock"
          ],
          [
           "psychedelic hip hop"
          ],
          [
           "psychedelic pop"
          ],
          [
           "psychedelic punk"
          ],
          [
           "psychedelic rock"
          ],
          [
           "psychedelic soul"
          ],
          [
           "psychedelic trance"
          ],
          [
           "psychill"
          ],
          [
           "psychobilly"
          ],
          [
           "pub rock"
          ],
          [
           "puerto rican folk"
          ],
          [
           "puerto rican pop"
          ],
          [
           "puerto rican rock"
          ],
          [
           "punjabi folk"
          ],
          [
           "punjabi hip hop"
          ],
          [
           "punjabi pop"
          ],
          [
           "punk"
          ],
          [
           "punk 'n' roll"
          ],
          [
           "punk blues"
          ],
          [
           "punk rock italiano"
          ],
          [
           "punk rock mexicano"
          ],
          [
           "punta"
          ],
          [
           "purple sound"
          ],
          [
           "qawwali"
          ],
          [
           "quartetto d'archi"
          ],
          [
           "quatuor a cordes"
          ],
          [
           "quebec death metal"
          ],
          [
           "quebec indie"
          ],
          [
           "queens hip hop"
          ],
          [
           "queer country"
          ],
          [
           "queercore"
          ],
          [
           "quiet storm"
          ],
          [
           "quran"
          ],
          [
           "r&b"
          ],
          [
           "r&b en espanol"
          ],
          [
           "rabindra sangeet"
          ],
          [
           "radio symphony"
          ],
          [
           "ragtime"
          ],
          [
           "rai"
          ],
          [
           "ranchera"
          ],
          [
           "rap"
          ],
          [
           "rap chileno"
          ],
          [
           "rap conciencia"
          ],
          [
           "rap conscient"
          ],
          [
           "rap cristiano"
          ],
          [
           "rap dominicano"
          ],
          [
           "rap kreyol"
          ],
          [
           "rap latina"
          ],
          [
           "rap metal"
          ],
          [
           "rap nacional antigo"
          ],
          [
           "rap napoletano"
          ],
          [
           "rap rock"
          ],
          [
           "rap underground mexicano"
          ],
          [
           "rare groove"
          ],
          [
           "rave"
          ],
          [
           "rawstyle"
          ],
          [
           "reading"
          ],
          [
           "reading indie"
          ],
          [
           "rebel blues"
          ],
          [
           "rebetiko"
          ],
          [
           "recorder"
          ],
          [
           "red dirt"
          ],
          [
           "redneck"
          ],
          [
           "reggae"
          ],
          [
           "reggae en espanol"
          ],
          [
           "reggae fusion"
          ],
          [
           "reggae rock"
          ],
          [
           "reggaeton"
          ],
          [
           "reggaeton colombiano"
          ],
          [
           "reggaeton cristiano"
          ],
          [
           "reggaeton flow"
          ],
          [
           "reggaeton mexicano"
          ],
          [
           "regional mexican"
          ],
          [
           "relaxative"
          ],
          [
           "renaissance"
          ],
          [
           "rennes indie"
          ],
          [
           "retro metal"
          ],
          [
           "retro soul"
          ],
          [
           "rhode island indie"
          ],
          [
           "rhode island rap"
          ],
          [
           "rhythm and blues"
          ],
          [
           "riddim"
          ],
          [
           "rif"
          ],
          [
           "riot grrrl"
          ],
          [
           "ritmo kombina"
          ],
          [
           "rochester mn indie"
          ],
          [
           "rochester ny indie"
          ],
          [
           "rock"
          ],
          [
           "rock alternatif francais"
          ],
          [
           "rock alternativo brasileiro"
          ],
          [
           "rock andaluz"
          ],
          [
           "rock baiano"
          ],
          [
           "rock brasiliense"
          ],
          [
           "rock chapin"
          ],
          [
           "rock cristiano"
          ],
          [
           "rock drums"
          ],
          [
           "rock en espanol"
          ],
          [
           "rock gaucho"
          ],
          [
           "rock independant francais"
          ],
          [
           "rock kapak"
          ],
          [
           "rock keyboard"
          ],
          [
           "rock nacional"
          ],
          [
           "rock nacional brasileiro"
          ],
          [
           "rock pernambucano"
          ],
          [
           "rock progressif francais"
          ],
          [
           "rock steady"
          ],
          [
           "rock urbano mexicano"
          ],
          [
           "rock-and-roll"
          ],
          [
           "rockabilly"
          ],
          [
           "rockabilly en espanol"
          ],
          [
           "roda de samba"
          ],
          [
           "romanian classical piano"
          ],
          [
           "romanian electronic"
          ],
          [
           "romanian folk"
          ],
          [
           "romanian pop"
          ],
          [
           "romanian rock"
          ],
          [
           "romantico"
          ],
          [
           "roots americana"
          ],
          [
           "roots reggae"
          ],
          [
           "roots rock"
          ],
          [
           "roots worship"
          ],
          [
           "rosary"
          ],
          [
           "rumba"
          ],
          [
           "rumba congolaise"
          ],
          [
           "rune folk"
          ],
          [
           "russian alternative rock"
          ],
          [
           "russian ccm"
          ],
          [
           "russian chanson"
          ],
          [
           "russian choir"
          ],
          [
           "russian classical piano"
          ],
          [
           "russian dance"
          ],
          [
           "russian edm"
          ],
          [
           "russian folk"
          ],
          [
           "russian folk rock"
          ],
          [
           "russian jazz"
          ],
          [
           "russian metal"
          ],
          [
           "russian metalcore"
          ],
          [
           "russian modern classical"
          ],
          [
           "russian orchestra"
          ],
          [
           "russian pop"
          ],
          [
           "russian post-punk"
          ],
          [
           "russian punk"
          ],
          [
           "russian rock"
          ],
          [
           "russian romanticism"
          ],
          [
           "russian shoegaze"
          ],
          [
           "russian trance"
          ],
          [
           "rva indie"
          ],
          [
           "rwandan traditional"
          ],
          [
           "ryukyu ongaku"
          ],
          [
           "sacramento hip hop"
          ],
          [
           "sacramento indie"
          ],
          [
           "sacred steel"
          ],
          [
           "sad rap"
          ],
          [
           "salsa"
          ],
          [
           "salsa choke"
          ],
          [
           "salsa colombiana"
          ],
          [
           "salsa cubana"
          ],
          [
           "salsa international"
          ],
          [
           "salsa peruana"
          ],
          [
           "salsa puertorriquena"
          ],
          [
           "salsa venezolana"
          ],
          [
           "samba"
          ],
          [
           "samba de roda"
          ],
          [
           "samba moderno"
          ],
          [
           "samba-enredo"
          ],
          [
           "samba-jazz"
          ],
          [
           "samba-rock"
          ],
          [
           "san antonio rap"
          ],
          [
           "san diego indie"
          ],
          [
           "san diego rap"
          ],
          [
           "san marcos tx indie"
          ],
          [
           "sandalwood"
          ],
          [
           "sarod"
          ],
          [
           "saskatchewan indie"
          ],
          [
           "scam rap"
          ],
          [
           "scandinavian r&b"
          ],
          [
           "scandipop"
          ],
          [
           "schlager"
          ],
          [
           "scorecore"
          ],
          [
           "scottish electronic"
          ],
          [
           "scottish fiddle"
          ],
          [
           "scottish folk"
          ],
          [
           "scottish hip hop"
          ],
          [
           "scottish indie"
          ],
          [
           "scottish jazz"
          ],
          [
           "scottish metal"
          ],
          [
           "scottish new wave"
          ],
          [
           "scottish rock"
          ],
          [
           "scottish singer-songwriter"
          ],
          [
           "scratch"
          ],
          [
           "scream rap"
          ],
          [
           "screamo"
          ],
          [
           "seattle hip hop"
          ],
          [
           "seattle indie"
          ],
          [
           "second line"
          ],
          [
           "sefardi"
          ],
          [
           "serbian electronic"
          ],
          [
           "serialism"
          ],
          [
           "sertanejo"
          ],
          [
           "sertanejo pop"
          ],
          [
           "sertanejo tradicional"
          ],
          [
           "sertanejo universitario"
          ],
          [
           "sevdah"
          ],
          [
           "sevillanas"
          ],
          [
           "shaabi"
          ],
          [
           "shabad"
          ],
          [
           "shakuhachi"
          ],
          [
           "shamanic"
          ],
          [
           "shanty"
          ],
          [
           "sheffield indie"
          ],
          [
           "shibuya-kei"
          ],
          [
           "shimmer pop"
          ],
          [
           "shimmer psych"
          ],
          [
           "shiver pop"
          ],
          [
           "shoegaze"
          ],
          [
           "show tunes"
          ],
          [
           "shred"
          ],
          [
           "shush"
          ],
          [
           "sierreno"
          ],
          [
           "singaporean mandopop"
          ],
          [
           "singaporean pop"
          ],
          [
           "singaporean singer-songwriter"
          ],
          [
           "singer-songwriter"
          ],
          [
           "singing bowl"
          ],
          [
           "sitar"
          ],
          [
           "ska"
          ],
          [
           "ska argentino"
          ],
          [
           "ska chileno"
          ],
          [
           "ska jazz"
          ],
          [
           "ska mexicano"
          ],
          [
           "ska punk"
          ],
          [
           "ska revival"
          ],
          [
           "skate punk"
          ],
          [
           "skiffle"
          ],
          [
           "skramz"
          ],
          [
           "sky room"
          ],
          [
           "slack-key guitar"
          ],
          [
           "slam poetry"
          ],
          [
           "slamming deathcore"
          ],
          [
           "slavic folk metal"
          ],
          [
           "slayer"
          ],
          [
           "slc indie"
          ],
          [
           "sleaze rock"
          ],
          [
           "sleep"
          ],
          [
           "slovak electronic"
          ],
          [
           "slovenian electronic"
          ],
          [
           "slovenian metal"
          ],
          [
           "slow game"
          ],
          [
           "slowcore"
          ],
          [
           "sludge metal"
          ],
          [
           "small room"
          ],
          [
           "smooth jazz"
          ],
          [
           "smooth saxophone"
          ],
          [
           "smooth soul"
          ],
          [
           "soca"
          ],
          [
           "socal pop punk"
          ],
          [
           "social media pop"
          ],
          [
           "soda pop"
          ],
          [
           "soft rock"
          ],
          [
           "solipsynthm"
          ],
          [
           "son cubano"
          ],
          [
           "son cubano clasico"
          ],
          [
           "son jarocho"
          ],
          [
           "sophisti-pop"
          ],
          [
           "sotalaulut"
          ],
          [
           "soukous"
          ],
          [
           "soul"
          ],
          [
           "soul blues"
          ],
          [
           "soul flow"
          ],
          [
           "soul jazz"
          ],
          [
           "souldies"
          ],
          [
           "sound"
          ],
          [
           "sound art"
          ],
          [
           "sound effects"
          ],
          [
           "sound team"
          ],
          [
           "soundtrack"
          ],
          [
           "south african alternative"
          ],
          [
           "south african choral"
          ],
          [
           "south african country"
          ],
          [
           "south african hip hop"
          ],
          [
           "south african house"
          ],
          [
           "south african jazz"
          ],
          [
           "south african pop"
          ],
          [
           "south african pop dance"
          ],
          [
           "south african rock"
          ],
          [
           "south carolina hip hop"
          ],
          [
           "south carolina indie"
          ],
          [
           "south carolina metal"
          ],
          [
           "south dakota indie"
          ],
          [
           "southampton indie"
          ],
          [
           "southern americana"
          ],
          [
           "southern gospel"
          ],
          [
           "southern hip hop"
          ],
          [
           "southern metal"
          ],
          [
           "southern rock"
          ],
          [
           "southern soul"
          ],
          [
           "southern soul blues"
          ],
          [
           "soviet synthpop"
          ],
          [
           "sovietwave"
          ],
          [
           "spa"
          ],
          [
           "space age pop"
          ],
          [
           "space ambient"
          ],
          [
           "space rock"
          ],
          [
           "spanish baroque"
          ],
          [
           "spanish classical"
          ],
          [
           "spanish classical piano"
          ],
          [
           "spanish folk metal"
          ],
          [
           "spanish hip hop"
          ],
          [
           "spanish indie pop"
          ],
          [
           "spanish invasion"
          ],
          [
           "spanish metal"
          ],
          [
           "spanish modern rock"
          ],
          [
           "spanish new wave"
          ],
          [
           "spanish noise pop"
          ],
          [
           "spanish pop"
          ],
          [
           "spanish pop rock"
          ],
          [
           "spanish renaissance"
          ],
          [
           "spanish rock"
          ],
          [
           "spanish synthpop"
          ],
          [
           "spanish techno"
          ],
          [
           "speed garage"
          ],
          [
           "speed metal"
          ],
          [
           "speedcore"
          ],
          [
           "spiritual hip hop"
          ],
          [
           "spiritual jazz"
          ],
          [
           "spirituals"
          ],
          [
           "springfield mo indie"
          ],
          [
           "spytrack"
          ],
          [
           "st louis rap"
          ],
          [
           "steampunk"
          ],
          [
           "steel guitar"
          ],
          [
           "steelpan"
          ],
          [
           "stl indie"
          ],
          [
           "stomp and flutter"
          ],
          [
           "stomp and holler"
          ],
          [
           "stomp and whittle"
          ],
          [
           "stomp pop"
          ],
          [
           "stoner metal"
          ],
          [
           "stoner rock"
          ],
          [
           "straight edge"
          ],
          [
           "straight-ahead jazz"
          ],
          [
           "street band"
          ],
          [
           "street punk"
          ],
          [
           "streichquartett"
          ],
          [
           "stride"
          ],
          [
           "string band"
          ],
          [
           "string folk"
          ],
          [
           "string orchestra"
          ],
          [
           "string quartet"
          ],
          [
           "strut"
          ],
          [
           "substep"
          ],
          [
           "sudanese pop"
          ],
          [
           "sufi"
          ],
          [
           "sufi chant"
          ],
          [
           "sunshine pop"
          ],
          [
           "supergroup"
          ],
          [
           "surf music"
          ],
          [
           "surf punk"
          ],
          [
           "svensk progg"
          ],
          [
           "swamp blues"
          ],
          [
           "swamp pop"
          ],
          [
           "swamp rock"
          ],
          [
           "swancore"
          ],
          [
           "swedish alternative rock"
          ],
          [
           "swedish americana"
          ],
          [
           "swedish black metal"
          ],
          [
           "swedish choir"
          ],
          [
           "swedish country"
          ],
          [
           "swedish dancehall"
          ],
          [
           "swedish death metal"
          ],
          [
           "swedish doom metal"
          ],
          [
           "swedish electronic"
          ],
          [
           "swedish electropop"
          ],
          [
           "swedish eurodance"
          ],
          [
           "swedish garage rock"
          ],
          [
           "swedish hard rock"
          ],
          [
           "swedish hardcore"
          ],
          [
           "swedish heavy metal"
          ],
          [
           "swedish house"
          ],
          [
           "swedish idol pop"
          ],
          [
           "swedish indie folk"
          ],
          [
           "swedish indie pop"
          ],
          [
           "swedish indie rock"
          ],
          [
           "swedish jazz"
          ],
          [
           "swedish jazz orkester"
          ],
          [
           "swedish melodic rock"
          ],
          [
           "swedish metal"
          ],
          [
           "swedish metalcore"
          ],
          [
           "swedish pop"
          ],
          [
           "swedish post-hardcore"
          ],
          [
           "swedish power metal"
          ],
          [
           "swedish prog"
          ],
          [
           "swedish progressive metal"
          ],
          [
           "swedish rock-and-roll"
          ],
          [
           "swedish singer-songwriter"
          ],
          [
           "swedish soul"
          ],
          [
           "swedish stoner rock"
          ],
          [
           "swedish synth"
          ],
          [
           "swedish synthpop"
          ],
          [
           "swedish tropical house"
          ],
          [
           "swedish underground rap"
          ],
          [
           "swing"
          ],
          [
           "swing italiano"
          ],
          [
           "swing revival"
          ],
          [
           "swiss black metal"
          ],
          [
           "swiss classical piano"
          ],
          [
           "swiss country"
          ],
          [
           "swiss metal"
          ],
          [
           "swiss pop"
          ],
          [
           "swiss rock"
          ],
          [
           "swiss worship"
          ],
          [
           "sydney indie"
          ],
          [
           "symphonic black metal"
          ],
          [
           "symphonic metal"
          ],
          [
           "symphonic rock"
          ],
          [
           "synth funk"
          ],
          [
           "synthpop"
          ],
          [
           "synthwave"
          ],
          [
           "syrian pop"
          ],
          [
           "tabla"
          ],
          [
           "tagalog rap"
          ],
          [
           "tagalog worship"
          ],
          [
           "taiwan campus folk"
          ],
          [
           "taiwan classical performance"
          ],
          [
           "taiwan hip hop"
          ],
          [
           "taiwan indie"
          ],
          [
           "taiwan pop"
          ],
          [
           "taiwan singer-songwriter"
          ],
          [
           "tajik pop"
          ],
          [
           "talent show"
          ],
          [
           "tamaulipas indie"
          ],
          [
           "tamaulipas rap"
          ],
          [
           "tamborazo"
          ],
          [
           "tamil hip hop"
          ],
          [
           "tamil pop"
          ],
          [
           "tamil worship"
          ],
          [
           "tampa indie"
          ],
          [
           "tango"
          ],
          [
           "tango cancion"
          ],
          [
           "tape club"
          ],
          [
           "tech house"
          ],
          [
           "technical death metal"
          ],
          [
           "technical deathcore"
          ],
          [
           "technical groove metal"
          ],
          [
           "technical melodic death metal"
          ],
          [
           "technical thrash"
          ],
          [
           "techno"
          ],
          [
           "techno kayo"
          ],
          [
           "tecnobanda"
          ],
          [
           "teen pop"
          ],
          [
           "tejano"
          ],
          [
           "tempe indie"
          ],
          [
           "tennessee hip hop"
          ],
          [
           "tennessee metal"
          ],
          [
           "tex-mex"
          ],
          [
           "texas blues"
          ],
          [
           "texas country"
          ],
          [
           "texas latin rap"
          ],
          [
           "texas pop punk"
          ],
          [
           "texas punk"
          ],
          [
           "thai folk"
          ],
          [
           "thai folk rock"
          ],
          [
           "thai idol"
          ],
          [
           "thai indie rock"
          ],
          [
           "thai pop"
          ],
          [
           "thall"
          ],
          [
           "theme"
          ],
          [
           "theremin"
          ],
          [
           "thrash core"
          ],
          [
           "thrash metal"
          ],
          [
           "timba"
          ],
          [
           "tin pan alley"
          ],
          [
           "tipico"
          ],
          [
           "tolkien metal"
          ],
          [
           "tollywood"
          ],
          [
           "tone"
          ],
          [
           "torch song"
          ],
          [
           "toronto indie"
          ],
          [
           "toronto rap"
          ],
          [
           "trad jazz catala"
          ],
          [
           "traditional bluegrass"
          ],
          [
           "traditional blues"
          ],
          [
           "traditional british folk"
          ],
          [
           "traditional country"
          ],
          [
           "traditional folk"
          ],
          [
           "traditional funk"
          ],
          [
           "traditional rockabilly"
          ],
          [
           "traditional ska"
          ],
          [
           "traditional soul"
          ],
          [
           "trance"
          ],
          [
           "trance mexicano"
          ],
          [
           "trancecore"
          ],
          [
           "transpop"
          ],
          [
           "trap"
          ],
          [
           "trap argentino"
          ],
          [
           "trap chileno"
          ],
          [
           "trap dominicano"
          ],
          [
           "trap latino"
          ],
          [
           "trap mexicano"
          ],
          [
           "trap queen"
          ],
          [
           "trap soul"
          ],
          [
           "trap triste"
          ],
          [
           "trap venezolano"
          ],
          [
           "traprun"
          ],
          [
           "trash rock"
          ],
          [
           "triangle indie"
          ],
          [
           "tribal house"
          ],
          [
           "trinidadian reggae"
          ],
          [
           "trio cubano"
          ],
          [
           "trip hop"
          ],
          [
           "trival"
          ],
          [
           "tropical"
          ],
          [
           "tropical house"
          ],
          [
           "tropicalia"
          ],
          [
           "trova"
          ],
          [
           "trova mexicana"
          ],
          [
           "truck-driving country"
          ],
          [
           "tuareg guitar"
          ],
          [
           "tucson indie"
          ],
          [
           "tulsa indie"
          ],
          [
           "tuna estudiantil"
          ],
          [
           "tunisian pop"
          ],
          [
           "turbo folk"
          ],
          [
           "turkish classical"
          ],
          [
           "turkish classical performance"
          ],
          [
           "turkish edm"
          ],
          [
           "turkish experimental"
          ],
          [
           "turkish folk"
          ],
          [
           "turkish jazz"
          ],
          [
           "turkish modern jazz"
          ],
          [
           "turkish pop"
          ],
          [
           "turkish psych"
          ],
          [
           "turkish trap"
          ],
          [
           "turkish trap pop"
          ],
          [
           "turntablism"
          ],
          [
           "twee pop"
          ],
          [
           "twoubadou"
          ],
          [
           "tzadik"
          ],
          [
           "ugandan pop"
          ],
          [
           "uilleann pipes"
          ],
          [
           "uk alternative hip hop"
          ],
          [
           "uk alternative pop"
          ],
          [
           "uk americana"
          ],
          [
           "uk contemporary jazz"
          ],
          [
           "uk contemporary r&b"
          ],
          [
           "uk dance"
          ],
          [
           "uk dancehall"
          ],
          [
           "uk diy punk"
          ],
          [
           "uk dnb"
          ],
          [
           "uk doom metal"
          ],
          [
           "uk dub"
          ],
          [
           "uk experimental electronic"
          ],
          [
           "uk funky"
          ],
          [
           "uk garage"
          ],
          [
           "uk hip hop"
          ],
          [
           "uk house"
          ],
          [
           "uk metalcore"
          ],
          [
           "uk noise rock"
          ],
          [
           "uk pop"
          ],
          [
           "uk pop punk"
          ],
          [
           "uk post-hardcore"
          ],
          [
           "uk post-punk"
          ],
          [
           "uk reggae"
          ],
          [
           "uk rockabilly"
          ],
          [
           "uk stoner rock"
          ],
          [
           "uk worship"
          ],
          [
           "uk82"
          ],
          [
           "ukrainian choir"
          ],
          [
           "ukrainian classical"
          ],
          [
           "ukrainian classical piano"
          ],
          [
           "ukrainian electronic"
          ],
          [
           "ukrainian pop"
          ],
          [
           "ukulele"
          ],
          [
           "umbanda"
          ],
          [
           "underground hip hop"
          ],
          [
           "underground power pop"
          ],
          [
           "underground rap"
          ],
          [
           "university choir"
          ],
          [
           "uplifting trance"
          ],
          [
           "uptempo hardcore"
          ],
          [
           "urban contemporary"
          ],
          [
           "urbano espanol"
          ],
          [
           "us power metal"
          ],
          [
           "utah indie"
          ],
          [
           "uzbek pop"
          ],
          [
           "uzbek traditional"
          ],
          [
           "v-pop"
          ],
          [
           "vallenato"
          ],
          [
           "vallenato moderno"
          ],
          [
           "vancouver indie"
          ],
          [
           "vancouver metal"
          ],
          [
           "vancouver punk"
          ],
          [
           "vapor pop"
          ],
          [
           "vapor soul"
          ],
          [
           "vapor trap"
          ],
          [
           "vapor twitch"
          ],
          [
           "vaporwave"
          ],
          [
           "variete francaise"
          ],
          [
           "vaudeville"
          ],
          [
           "vbs"
          ],
          [
           "veena"
          ],
          [
           "vegan straight edge"
          ],
          [
           "vegas indie"
          ],
          [
           "velha guarda"
          ],
          [
           "venezuelan hip hop"
          ],
          [
           "venezuelan indie"
          ],
          [
           "venezuelan rock"
          ],
          [
           "veracruz indie"
          ],
          [
           "vermont indie"
          ],
          [
           "vgm instrumental"
          ],
          [
           "vgm remix"
          ],
          [
           "victoria bc indie"
          ],
          [
           "victorian britain"
          ],
          [
           "video game music"
          ],
          [
           "vienna indie"
          ],
          [
           "vietnamese bolero"
          ],
          [
           "vietnamese pop"
          ],
          [
           "viking black metal"
          ],
          [
           "viking folk"
          ],
          [
           "viking metal"
          ],
          [
           "villancicos"
          ],
          [
           "vintage chanson"
          ],
          [
           "vintage chinese pop"
          ],
          [
           "vintage classical singing"
          ],
          [
           "vintage country folk"
          ],
          [
           "vintage dutch pop"
          ],
          [
           "vintage french electronic"
          ],
          [
           "vintage gospel"
          ],
          [
           "vintage hollywood"
          ],
          [
           "vintage italian pop"
          ],
          [
           "vintage italian soundtrack"
          ],
          [
           "vintage jazz"
          ],
          [
           "vintage old-time"
          ],
          [
           "vintage rockabilly"
          ],
          [
           "vintage schlager"
          ],
          [
           "vintage spanish pop"
          ],
          [
           "vintage swedish pop"
          ],
          [
           "vintage swing"
          ],
          [
           "vintage tango"
          ],
          [
           "viola"
          ],
          [
           "violao"
          ],
          [
           "violao classico"
          ],
          [
           "violin"
          ],
          [
           "viral pop"
          ],
          [
           "viral rap"
          ],
          [
           "viral trap"
          ],
          [
           "virgin islands reggae"
          ],
          [
           "virginia hip hop"
          ],
          [
           "virginia metal"
          ],
          [
           "virginia punk"
          ],
          [
           "visor"
          ],
          [
           "visual kei"
          ],
          [
           "vocal ensemble"
          ],
          [
           "vocal harmony group"
          ],
          [
           "vocal house"
          ],
          [
           "vocal jazz"
          ],
          [
           "vocal trance"
          ],
          [
           "vocaloid"
          ],
          [
           "vogue"
          ],
          [
           "volksmusik"
          ],
          [
           "warm drone"
          ],
          [
           "washboard"
          ],
          [
           "washington indie"
          ],
          [
           "wassoulou"
          ],
          [
           "water"
          ],
          [
           "wave"
          ],
          [
           "welsh folk"
          ],
          [
           "welsh indie"
          ],
          [
           "welsh metal"
          ],
          [
           "welsh rock"
          ],
          [
           "west african jazz"
          ],
          [
           "west australian hip hop"
          ],
          [
           "west coast rap"
          ],
          [
           "west coast reggae"
          ],
          [
           "west coast trap"
          ],
          [
           "west end"
          ],
          [
           "west virginia indie"
          ],
          [
           "western americana"
          ],
          [
           "western mass indie"
          ],
          [
           "western saharan folk"
          ],
          [
           "western swing"
          ],
          [
           "white noise"
          ],
          [
           "wind ensemble"
          ],
          [
           "wind quintet"
          ],
          [
           "wisconsin indie"
          ],
          [
           "witch house"
          ],
          [
           "women's choir"
          ],
          [
           "women's music"
          ],
          [
           "wonky"
          ],
          [
           "worcester ma indie"
          ],
          [
           "world"
          ],
          [
           "world fusion"
          ],
          [
           "world meditation"
          ],
          [
           "world worship"
          ],
          [
           "worship"
          ],
          [
           "wrestling"
          ],
          [
           "wu fam"
          ],
          [
           "wyoming indie"
          ],
          [
           "wyoming roots"
          ],
          [
           "xhosa"
          ],
          [
           "xtra raw"
          ],
          [
           "yacht rock"
          ],
          [
           "ye ye"
          ],
          [
           "yiddish folk"
          ],
          [
           "yodeling"
          ],
          [
           "yoga"
          ],
          [
           "yoik"
          ],
          [
           "york indie"
          ],
          [
           "yorkshire folk"
          ],
          [
           "yugoslav new wave"
          ],
          [
           "yugoslav rock"
          ],
          [
           "zambian pop"
          ],
          [
           "zeuhl"
          ],
          [
           "zhongguo feng"
          ],
          [
           "zimdancehall"
          ],
          [
           "zolo"
          ],
          [
           "zouglou"
          ],
          [
           "zouk"
          ],
          [
           "zurich indie"
          ],
          [
           "zydeco"
          ]
         ],
         "hovertemplate": "x=%{x}<br>y=%{y}<br>generos=%{customdata[0]}<br>cluster_pca=%{marker.color}<extra></extra>",
         "legendgroup": "",
         "marker": {
          "color": [
           3,
           3,
           4,
           1,
           1,
           2,
           2,
           4,
           1,
           1,
           0,
           2,
           0,
           3,
           1,
           2,
           4,
           2,
           0,
           2,
           1,
           1,
           4,
           1,
           2,
           4,
           4,
           3,
           4,
           4,
           4,
           4,
           4,
           2,
           2,
           0,
           2,
           4,
           0,
           2,
           0,
           4,
           4,
           4,
           2,
           4,
           4,
           2,
           4,
           0,
           4,
           2,
           2,
           0,
           0,
           4,
           0,
           0,
           4,
           4,
           0,
           2,
           4,
           3,
           0,
           2,
           0,
           0,
           2,
           3,
           2,
           2,
           3,
           3,
           3,
           3,
           3,
           1,
           0,
           3,
           2,
           3,
           2,
           3,
           3,
           0,
           1,
           0,
           3,
           4,
           0,
           0,
           0,
           2,
           2,
           0,
           0,
           2,
           1,
           4,
           1,
           3,
           2,
           2,
           2,
           2,
           3,
           2,
           4,
           0,
           4,
           2,
           4,
           4,
           4,
           4,
           4,
           0,
           2,
           4,
           2,
           3,
           2,
           4,
           2,
           3,
           4,
           2,
           4,
           3,
           2,
           4,
           4,
           4,
           0,
           4,
           3,
           0,
           4,
           0,
           4,
           0,
           0,
           1,
           0,
           2,
           2,
           4,
           2,
           4,
           3,
           4,
           3,
           3,
           3,
           2,
           0,
           0,
           4,
           4,
           0,
           0,
           2,
           0,
           4,
           0,
           0,
           4,
           4,
           2,
           0,
           2,
           2,
           4,
           4,
           0,
           2,
           4,
           4,
           3,
           3,
           3,
           2,
           3,
           4,
           1,
           0,
           3,
           3,
           0,
           4,
           1,
           4,
           4,
           4,
           4,
           3,
           3,
           1,
           2,
           1,
           4,
           1,
           1,
           1,
           0,
           2,
           3,
           3,
           1,
           3,
           4,
           0,
           4,
           4,
           4,
           1,
           1,
           1,
           1,
           2,
           3,
           4,
           1,
           1,
           1,
           3,
           3,
           3,
           3,
           2,
           3,
           3,
           1,
           4,
           2,
           0,
           4,
           4,
           0,
           4,
           4,
           4,
           4,
           0,
           4,
           4,
           1,
           2,
           1,
           4,
           2,
           1,
           2,
           4,
           0,
           0,
           0,
           3,
           3,
           0,
           0,
           4,
           2,
           0,
           1,
           0,
           4,
           2,
           2,
           2,
           2,
           1,
           4,
           4,
           2,
           3,
           1,
           4,
           3,
           1,
           0,
           0,
           3,
           3,
           4,
           4,
           0,
           0,
           0,
           4,
           0,
           0,
           0,
           0,
           2,
           0,
           2,
           1,
           2,
           1,
           0,
           0,
           2,
           4,
           1,
           1,
           4,
           4,
           1,
           4,
           4,
           1,
           1,
           2,
           4,
           4,
           4,
           0,
           0,
           2,
           4,
           4,
           1,
           2,
           4,
           4,
           3,
           3,
           3,
           2,
           3,
           3,
           4,
           3,
           3,
           3,
           4,
           0,
           4,
           1,
           1,
           0,
           1,
           1,
           4,
           4,
           4,
           0,
           4,
           0,
           0,
           4,
           2,
           3,
           2,
           2,
           0,
           0,
           0,
           4,
           0,
           0,
           2,
           4,
           3,
           3,
           4,
           3,
           1,
           0,
           2,
           1,
           0,
           0,
           2,
           2,
           2,
           3,
           3,
           2,
           0,
           2,
           4,
           3,
           0,
           2,
           2,
           4,
           4,
           4,
           0,
           0,
           4,
           0,
           2,
           4,
           4,
           4,
           2,
           0,
           3,
           1,
           1,
           2,
           2,
           1,
           4,
           0,
           4,
           3,
           1,
           4,
           3,
           2,
           4,
           1,
           4,
           0,
           4,
           1,
           3,
           3,
           3,
           1,
           4,
           2,
           2,
           0,
           4,
           3,
           1,
           0,
           4,
           0,
           2,
           1,
           2,
           4,
           4,
           0,
           0,
           2,
           4,
           0,
           0,
           3,
           2,
           0,
           0,
           4,
           2,
           3,
           2,
           0,
           2,
           2,
           2,
           1,
           2,
           2,
           1,
           1,
           0,
           1,
           1,
           4,
           1,
           1,
           1,
           4,
           3,
           3,
           3,
           0,
           4,
           3,
           1,
           3,
           0,
           4,
           4,
           1,
           3,
           1,
           3,
           3,
           2,
           3,
           2,
           2,
           0,
           4,
           2,
           2,
           4,
           0,
           1,
           4,
           4,
           0,
           1,
           1,
           4,
           0,
           4,
           0,
           0,
           0,
           4,
           2,
           0,
           4,
           4,
           4,
           1,
           1,
           4,
           1,
           4,
           2,
           2,
           4,
           0,
           3,
           1,
           2,
           1,
           4,
           1,
           0,
           2,
           2,
           3,
           3,
           3,
           0,
           0,
           4,
           2,
           0,
           3,
           2,
           2,
           3,
           3,
           3,
           4,
           3,
           1,
           2,
           1,
           2,
           0,
           4,
           0,
           4,
           4,
           2,
           0,
           0,
           2,
           0,
           0,
           4,
           3,
           0,
           4,
           2,
           3,
           2,
           4,
           4,
           4,
           0,
           0,
           2,
           4,
           1,
           1,
           4,
           4,
           1,
           4,
           2,
           1,
           1,
           1,
           1,
           0,
           1,
           4,
           4,
           4,
           2,
           1,
           0,
           0,
           0,
           1,
           2,
           1,
           2,
           0,
           1,
           1,
           1,
           2,
           4,
           2,
           1,
           2,
           4,
           1,
           2,
           2,
           4,
           2,
           1,
           0,
           1,
           2,
           3,
           4,
           4,
           4,
           2,
           2,
           4,
           3,
           2,
           3,
           3,
           3,
           3,
           3,
           3,
           3,
           3,
           3,
           3,
           3,
           1,
           3,
           3,
           3,
           3,
           3,
           3,
           3,
           2,
           3,
           3,
           3,
           1,
           1,
           4,
           0,
           4,
           4,
           4,
           4,
           4,
           4,
           4,
           4,
           4,
           1,
           4,
           0,
           2,
           0,
           3,
           4,
           3,
           0,
           0,
           4,
           3,
           3,
           3,
           4,
           2,
           2,
           3,
           1,
           1,
           3,
           1,
           1,
           1,
           0,
           4,
           4,
           4,
           0,
           2,
           3,
           4,
           1,
           1,
           2,
           1,
           4,
           4,
           4,
           2,
           1,
           1,
           4,
           4,
           2,
           4,
           4,
           0,
           4,
           0,
           4,
           4,
           4,
           1,
           4,
           4,
           4,
           4,
           4,
           4,
           4,
           4,
           4,
           1,
           4,
           1,
           4,
           4,
           4,
           4,
           0,
           0,
           1,
           3,
           3,
           1,
           0,
           1,
           4,
           4,
           4,
           4,
           0,
           4,
           0,
           0,
           3,
           0,
           3,
           4,
           3,
           0,
           4,
           2,
           0,
           4,
           0,
           0,
           1,
           4,
           1,
           4,
           4,
           0,
           4,
           0,
           3,
           2,
           0,
           2,
           4,
           0,
           0,
           0,
           0,
           2,
           0,
           0,
           0,
           4,
           0,
           0,
           0,
           0,
           4,
           1,
           0,
           0,
           2,
           4,
           1,
           2,
           4,
           1,
           4,
           2,
           0,
           4,
           4,
           4,
           1,
           4,
           0,
           4,
           4,
           0,
           4,
           4,
           3,
           1,
           0,
           1,
           2,
           0,
           2,
           1,
           2,
           4,
           4,
           3,
           0,
           0,
           0,
           4,
           0,
           4,
           4,
           2,
           2,
           2,
           3,
           1,
           4,
           2,
           4,
           2,
           2,
           4,
           4,
           0,
           1,
           4,
           4,
           4,
           4,
           2,
           4,
           2,
           4,
           4,
           0,
           4,
           2,
           0,
           4,
           2,
           1,
           2,
           4,
           1,
           0,
           3,
           4,
           4,
           4,
           4,
           1,
           4,
           1,
           0,
           0,
           4,
           4,
           4,
           1,
           0,
           0,
           2,
           1,
           2,
           0,
           0,
           0,
           3,
           4,
           2,
           3,
           3,
           0,
           0,
           4,
           0,
           4,
           3,
           0,
           2,
           3,
           2,
           1,
           1,
           0,
           4,
           2,
           0,
           1,
           3,
           0,
           0,
           4,
           1,
           4,
           0,
           1,
           3,
           0,
           4,
           0,
           4,
           2,
           0,
           2,
           1,
           1,
           3,
           3,
           3,
           3,
           4,
           3,
           2,
           0,
           4,
           4,
           2,
           1,
           4,
           2,
           0,
           3,
           2,
           4,
           0,
           4,
           4,
           1,
           0,
           0,
           1,
           2,
           4,
           0,
           2,
           4,
           4,
           0,
           2,
           0,
           4,
           0,
           0,
           0,
           2,
           4,
           4,
           4,
           0,
           0,
           0,
           4,
           0,
           3,
           0,
           3,
           2,
           1,
           3,
           0,
           2,
           1,
           4,
           3,
           0,
           1,
           4,
           2,
           2,
           2,
           3,
           1,
           2,
           4,
           0,
           0,
           4,
           4,
           4,
           4,
           1,
           2,
           3,
           3,
           4,
           4,
           3,
           2,
           4,
           0,
           3,
           2,
           2,
           1,
           1,
           2,
           1,
           0,
           4,
           1,
           4,
           0,
           2,
           3,
           0,
           3,
           3,
           0,
           0,
           0,
           0,
           0,
           0,
           4,
           2,
           2,
           3,
           4,
           2,
           0,
           4,
           0,
           2,
           3,
           4,
           0,
           4,
           4,
           1,
           1,
           1,
           1,
           2,
           2,
           0,
           4,
           2,
           2,
           2,
           2,
           4,
           1,
           1,
           4,
           4,
           4,
           1,
           2,
           2,
           4,
           4,
           0,
           3,
           4,
           2,
           2,
           2,
           3,
           3,
           4,
           3,
           3,
           1,
           0,
           0,
           4,
           2,
           2,
           0,
           1,
           0,
           1,
           3,
           3,
           2,
           4,
           0,
           4,
           4,
           3,
           0,
           1,
           4,
           0,
           0,
           0,
           4,
           0,
           2,
           1,
           4,
           4,
           0,
           0,
           1,
           4,
           4,
           4,
           4,
           0,
           0,
           4,
           2,
           4,
           0,
           2,
           4,
           0,
           2,
           0,
           0,
           4,
           1,
           3,
           0,
           0,
           4,
           4,
           0,
           2,
           0,
           2,
           0,
           4,
           0,
           2,
           2,
           4,
           2,
           0,
           3,
           3,
           3,
           2,
           4,
           0,
           0,
           4,
           4,
           3,
           1,
           0,
           0,
           3,
           3,
           4,
           4,
           4,
           0,
           4,
           3,
           0,
           3,
           3,
           3,
           0,
           0,
           0,
           4,
           4,
           1,
           1,
           0,
           4,
           0,
           0,
           2,
           4,
           0,
           0,
           0,
           4,
           4,
           0,
           2,
           1,
           1,
           1,
           2,
           4,
           1,
           2,
           0,
           2,
           0,
           4,
           4,
           0,
           0,
           2,
           0,
           0,
           4,
           4,
           0,
           1,
           3,
           1,
           1,
           0,
           3,
           1,
           1,
           3,
           4,
           0,
           2,
           0,
           4,
           0,
           0,
           4,
           4,
           4,
           4,
           0,
           0,
           1,
           2,
           1,
           3,
           1,
           1,
           1,
           3,
           0,
           1,
           1,
           2,
           1,
           4,
           4,
           4,
           3,
           2,
           4,
           3,
           0,
           0,
           1,
           2,
           0,
           4,
           0,
           4,
           0,
           0,
           0,
           4,
           1,
           1,
           1,
           3,
           3,
           3,
           3,
           1,
           4,
           4,
           3,
           4,
           4,
           4,
           2,
           4,
           3,
           3,
           1,
           4,
           4,
           4,
           4,
           4,
           3,
           3,
           3,
           3,
           3,
           3,
           3,
           1,
           2,
           2,
           4,
           2,
           2,
           1,
           1,
           4,
           0,
           3,
           4,
           4,
           4,
           4,
           4,
           1,
           4,
           3,
           3,
           3,
           3,
           2,
           1,
           1,
           1,
           2,
           2,
           4,
           4,
           3,
           0,
           3,
           2,
           2,
           2,
           2,
           2,
           2,
           2,
           0,
           2,
           1,
           3,
           1,
           4,
           4,
           3,
           4,
           1,
           1,
           4,
           2,
           2,
           1,
           2,
           3,
           4,
           2,
           2,
           2,
           4,
           2,
           2,
           4,
           4,
           2,
           0,
           2,
           4,
           2,
           0,
           4,
           0,
           2,
           2,
           0,
           1,
           2,
           0,
           4,
           0,
           2,
           4,
           3,
           2,
           2,
           4,
           0,
           0,
           2,
           1,
           1,
           2,
           4,
           0,
           0,
           0,
           0,
           2,
           0,
           2,
           2,
           4,
           4,
           1,
           2,
           3,
           2,
           2,
           1,
           1,
           4,
           3,
           0,
           2,
           1,
           0,
           1,
           4,
           1,
           1,
           3,
           3,
           1,
           4,
           0,
           4,
           2,
           2,
           2,
           2,
           3,
           3,
           3,
           3,
           0,
           3,
           3,
           2,
           4,
           0,
           0,
           4,
           3,
           2,
           3,
           0,
           3,
           0,
           3,
           3,
           2,
           0,
           2,
           0,
           3,
           3,
           3,
           3,
           2,
           1,
           1,
           4,
           4,
           0,
           3,
           2,
           0,
           4,
           0,
           0,
           0,
           4,
           0,
           0,
           4,
           0,
           0,
           2,
           2,
           4,
           4,
           0,
           1,
           4,
           3,
           3,
           3,
           3,
           0,
           3,
           4,
           0,
           2,
           2,
           4,
           0,
           0,
           3,
           1,
           4,
           2,
           1,
           2,
           0,
           0,
           2,
           0,
           0,
           0,
           0,
           2,
           0,
           0,
           4,
           4,
           0,
           2,
           3,
           2,
           2,
           4,
           1,
           1,
           1,
           4,
           1,
           1,
           1,
           2,
           1,
           3,
           1,
           1,
           2,
           2,
           1,
           1,
           0,
           3,
           1,
           2,
           1,
           2,
           1,
           4,
           2,
           1,
           3,
           1,
           1,
           1,
           1,
           1,
           1,
           2,
           3,
           4,
           2,
           4,
           4,
           2,
           1,
           4,
           1,
           0,
           4,
           4,
           4,
           4,
           4,
           1,
           1,
           4,
           1,
           4,
           1,
           0,
           0,
           2,
           0,
           2,
           4,
           2,
           4,
           1,
           4,
           4,
           1,
           3,
           4,
           4,
           1,
           4,
           3,
           2,
           2,
           1,
           1,
           4,
           3,
           3,
           3,
           2,
           1,
           3,
           3,
           0,
           4,
           4,
           4,
           4,
           3,
           3,
           1,
           4,
           0,
           3,
           4,
           1,
           2,
           2,
           3,
           4,
           4,
           4,
           3,
           4,
           2,
           1,
           4,
           4,
           4,
           4,
           0,
           4,
           4,
           4,
           1,
           4,
           4,
           4,
           2,
           4,
           4,
           4,
           4,
           1,
           3,
           2,
           2,
           0,
           4,
           4,
           1,
           2,
           3,
           2,
           0,
           2,
           2,
           0,
           1,
           4,
           2,
           1,
           4,
           1,
           2,
           2,
           1,
           2,
           2,
           4,
           1,
           0,
           0,
           0,
           1,
           2,
           4,
           3,
           2,
           1,
           2,
           0,
           3,
           1,
           4,
           2,
           2,
           4,
           2,
           0,
           2,
           3,
           0,
           1,
           4,
           0,
           2,
           2,
           2,
           4,
           1,
           2,
           1,
           4,
           1,
           1,
           2,
           2,
           4,
           2,
           4,
           2,
           0,
           2,
           3,
           2,
           0,
           3,
           2,
           4,
           4,
           0,
           2,
           0,
           0,
           0,
           0,
           0,
           0,
           0,
           0,
           0,
           4,
           0,
           4,
           2,
           1,
           4,
           0,
           2,
           1,
           4,
           4,
           2,
           1,
           0,
           0,
           0,
           0,
           0,
           2,
           3,
           4,
           0,
           4,
           0,
           4,
           1,
           4,
           4,
           4,
           4,
           4,
           0,
           4,
           2,
           3,
           3,
           2,
           3,
           2,
           0,
           1,
           4,
           2,
           3,
           2,
           0,
           4,
           2,
           0,
           3,
           2,
           0,
           0,
           4,
           4,
           4,
           2,
           3,
           0,
           2,
           0,
           2,
           2,
           0,
           4,
           4,
           0,
           2,
           2,
           4,
           2,
           3,
           3,
           4,
           3,
           0,
           4,
           4,
           0,
           4,
           4,
           4,
           3,
           0,
           0,
           3,
           4,
           1,
           1,
           1,
           2,
           4,
           3,
           4,
           1,
           1,
           2,
           1,
           1,
           2,
           1,
           1,
           4,
           2,
           2,
           4,
           3,
           0,
           4,
           4,
           2,
           4,
           2,
           3,
           1,
           4,
           1,
           1,
           4,
           4,
           1,
           4,
           1,
           1,
           1,
           4,
           2,
           4,
           4,
           1,
           1,
           1,
           4,
           2,
           1,
           0,
           0,
           4,
           3,
           2,
           1,
           1,
           0,
           0,
           2,
           2,
           4,
           0,
           2,
           1,
           3,
           4,
           3,
           4,
           3,
           1,
           0,
           2,
           0,
           1,
           2,
           4,
           4,
           3,
           2,
           1,
           2,
           0,
           4,
           2,
           0,
           0,
           2,
           2,
           2,
           3,
           2,
           4,
           2,
           1,
           1,
           2,
           0,
           0,
           4,
           0,
           3,
           3,
           2,
           4,
           4,
           2,
           0,
           2,
           3,
           4,
           0,
           2,
           0,
           4,
           1,
           1,
           4,
           4,
           1,
           4,
           0,
           4,
           2,
           4,
           0,
           4,
           2,
           0,
           4,
           3,
           0,
           0,
           4,
           4,
           0,
           0,
           2,
           0,
           1,
           4,
           2,
           0,
           0,
           0,
           3,
           3,
           2,
           4,
           3,
           2,
           3,
           1,
           0,
           4,
           4,
           0,
           4,
           2,
           0,
           2,
           0,
           4,
           0,
           4,
           0,
           3,
           3,
           3,
           0,
           3,
           4,
           2,
           3,
           0,
           0,
           0,
           0,
           0,
           2,
           0,
           2,
           4,
           2,
           2,
           4,
           4,
           3,
           4,
           0,
           2,
           0,
           0,
           4,
           0,
           1,
           2,
           2,
           2,
           2,
           1,
           4,
           1,
           1,
           0,
           0,
           4,
           4,
           4,
           0,
           3,
           2,
           4,
           2,
           4,
           4,
           0,
           2,
           4,
           4,
           0,
           4,
           3,
           4,
           2,
           0,
           4,
           2,
           4,
           2,
           4,
           4,
           4,
           0,
           4,
           2,
           1,
           1,
           2,
           0,
           4,
           2,
           3,
           3,
           0,
           3,
           3,
           2,
           3,
           3,
           3,
           0,
           3,
           0,
           2,
           0,
           3,
           3,
           1,
           1,
           3,
           4,
           0,
           4,
           4,
           4,
           1,
           4,
           2,
           2,
           3,
           3,
           0,
           4,
           0,
           4,
           4,
           0,
           1,
           4,
           1,
           2,
           2,
           4,
           4,
           3,
           2,
           4,
           4,
           4,
           1,
           2,
           4,
           2,
           1,
           0,
           4,
           4,
           1,
           0,
           4,
           2,
           4,
           4,
           4,
           1,
           3,
           2,
           2,
           3,
           1,
           4,
           0,
           0,
           0,
           1,
           2,
           0,
           2,
           4,
           4,
           4,
           4,
           4,
           0,
           0,
           1,
           3,
           4,
           3,
           3,
           3,
           3,
           3,
           1,
           0,
           1,
           4,
           4,
           1,
           4,
           4,
           3,
           4,
           4,
           4,
           2,
           4,
           0,
           4,
           0,
           4,
           2,
           4,
           4,
           2,
           4,
           0,
           2,
           4,
           4,
           4,
           4,
           0,
           2,
           2,
           4,
           2,
           4,
           4,
           3,
           0,
           1,
           4,
           2,
           2,
           0,
           2,
           3,
           4,
           4,
           0,
           0,
           0,
           0,
           3,
           0,
           2,
           2,
           3,
           3,
           0,
           4,
           0,
           4,
           0,
           0,
           2,
           3,
           4,
           2,
           2,
           2,
           0,
           0,
           0,
           0,
           0,
           0,
           0,
           0,
           0,
           0,
           2,
           0,
           0,
           2,
           0,
           1,
           0,
           2,
           1,
           2,
           0,
           2,
           0,
           1,
           2,
           4,
           2,
           0,
           2,
           2,
           0,
           0,
           0,
           4,
           1,
           2,
           4,
           1,
           4,
           4,
           0,
           0,
           0,
           4,
           0,
           4,
           4,
           1,
           3,
           3,
           0,
           2,
           4,
           4,
           4,
           2,
           1,
           4,
           4,
           1,
           3,
           1,
           2,
           2,
           4,
           4,
           4,
           4,
           2,
           4,
           4,
           4,
           0,
           4,
           3,
           0,
           4,
           2,
           0,
           0,
           1,
           0,
           4,
           1,
           1,
           0,
           4,
           4,
           4,
           4,
           4,
           4,
           4,
           0,
           4,
           4,
           4,
           1,
           3,
           4,
           0,
           4,
           2,
           4,
           1,
           4,
           2,
           0,
           4,
           0,
           4,
           0,
           4,
           4,
           4,
           4,
           2,
           0,
           0,
           2,
           4,
           0,
           0,
           4,
           2,
           2,
           4,
           1,
           2,
           4,
           0,
           2,
           4,
           4,
           1,
           3,
           2,
           3,
           4,
           1,
           2,
           2,
           4,
           2,
           2,
           1,
           2,
           2,
           2,
           0,
           0,
           1,
           3,
           3,
           0,
           0,
           1,
           2,
           1,
           0,
           0,
           3,
           3,
           4,
           0,
           2,
           2,
           3,
           2,
           0,
           4,
           3,
           1,
           4,
           0,
           4,
           4,
           4,
           4,
           4,
           4,
           4,
           4,
           4,
           2,
           1,
           1,
           4,
           4,
           1,
           4,
           4,
           0,
           4,
           2,
           1,
           3,
           1,
           4,
           2,
           4,
           2,
           3,
           4,
           3,
           2,
           4,
           2,
           1,
           4,
           4,
           4,
           4,
           4,
           4,
           0,
           4,
           2,
           4,
           4,
           2,
           3,
           2,
           1,
           1,
           4,
           2,
           2,
           4,
           1,
           3,
           3,
           1,
           0,
           2,
           0,
           2,
           2,
           0,
           2,
           0,
           3,
           4,
           2,
           2,
           0,
           2,
           3,
           3,
           4,
           4,
           4,
           2,
           4,
           4,
           4,
           0,
           1,
           1,
           0,
           1,
           0,
           0,
           0,
           0,
           2,
           0,
           3,
           2,
           4,
           0,
           4,
           2,
           0,
           2,
           2,
           2,
           2,
           4,
           0,
           4,
           1,
           2,
           4,
           2,
           1,
           4,
           4,
           4,
           1,
           2,
           2,
           4,
           1,
           2,
           3,
           3,
           3,
           4,
           3,
           4,
           1,
           4,
           4,
           4,
           1,
           4,
           4,
           0,
           4,
           2,
           0,
           0,
           2,
           4,
           2,
           4,
           0,
           2,
           2,
           4,
           4,
           0,
           3,
           1,
           3,
           2,
           3,
           3,
           3,
           0,
           4,
           2,
           4,
           0,
           2,
           4,
           2,
           4,
           4,
           3,
           4,
           4,
           2,
           4,
           0,
           2,
           4,
           2,
           1,
           2,
           1,
           4,
           4,
           1,
           1,
           4,
           1,
           2,
           1,
           4,
           0,
           0,
           0,
           3,
           4,
           0,
           3,
           1,
           1,
           3,
           3,
           3,
           4,
           0,
           2,
           2,
           2,
           2,
           2,
           2,
           0,
           0,
           4,
           4,
           4,
           0,
           0,
           2,
           0,
           3,
           4,
           4,
           0,
           0,
           2,
           0,
           0,
           4,
           0,
           0,
           2,
           2,
           0,
           2,
           0,
           0,
           3,
           1,
           2,
           0,
           0,
           4,
           0,
           0,
           0,
           0,
           4,
           2,
           2,
           2,
           3,
           2,
           0,
           4,
           1,
           1,
           2,
           0,
           3,
           3,
           0,
           4,
           2,
           3,
           1,
           0,
           0,
           2,
           4,
           4,
           0,
           1,
           1,
           4,
           2,
           2,
           3,
           1,
           2,
           2,
           2,
           1,
           4,
           4,
           4,
           4,
           1,
           1,
           1,
           0,
           1,
           1,
           2,
           2,
           0,
           2,
           0,
           0,
           0,
           2,
           2,
           4,
           4,
           4,
           4,
           4,
           0,
           4,
           2,
           2,
           4,
           4,
           4,
           4,
           4,
           2,
           1,
           4,
           0,
           1,
           3,
           0,
           0,
           4,
           1,
           2,
           2,
           1,
           3,
           1,
           2,
           4,
           1,
           2,
           1,
           2,
           1,
           1,
           2,
           4,
           4,
           4,
           0,
           0,
           0,
           4,
           4,
           4,
           0,
           2,
           4,
           4,
           4,
           4,
           4,
           4,
           0,
           0,
           0,
           4,
           1,
           1,
           2,
           4,
           4,
           4,
           2,
           2,
           1,
           1,
           2,
           4,
           2,
           4,
           4,
           4,
           1,
           3,
           0,
           0,
           1,
           1,
           1,
           2,
           1,
           0,
           2,
           4,
           2,
           1,
           3,
           2,
           1,
           4,
           4,
           2,
           2,
           4,
           4,
           4,
           0,
           0,
           0,
           4,
           2,
           4,
           4,
           4,
           4,
           0,
           4,
           4,
           4,
           0,
           2,
           4,
           4,
           0,
           2,
           0,
           3,
           3,
           3,
           0,
           4,
           1,
           4,
           4,
           4,
           4,
           3,
           0,
           0,
           4,
           4,
           0,
           2,
           1,
           1,
           4,
           4,
           4,
           2,
           0,
           0,
           2,
           2,
           4,
           2,
           0,
           2,
           1,
           4,
           1,
           0,
           0,
           1,
           4,
           4,
           4,
           4,
           2,
           3,
           0,
           4,
           3,
           2,
           2,
           4,
           4,
           0,
           2,
           0,
           1,
           1,
           1,
           3,
           1,
           1,
           2,
           1,
           1,
           1,
           3,
           1,
           1,
           4,
           1,
           1,
           1,
           1,
           1,
           3,
           1,
           1,
           3,
           2,
           4,
           4,
           4,
           4,
           0,
           0,
           1,
           0,
           3,
           1,
           4,
           1,
           0,
           0,
           4,
           1,
           3,
           1,
           4,
           2,
           3,
           4,
           3,
           0,
           0,
           0,
           2,
           4,
           4,
           4,
           4,
           1,
           4,
           2,
           4,
           2,
           1,
           3,
           3,
           3,
           3,
           2,
           0,
           2,
           2,
           4,
           2,
           2,
           3,
           0,
           2,
           0,
           4,
           0,
           2,
           2,
           0,
           2,
           2,
           3,
           1,
           3,
           3,
           1,
           2,
           4,
           4,
           4,
           0,
           4,
           4,
           2,
           4,
           4,
           1,
           4
          ],
          "coloraxis": "coloraxis",
          "symbol": "circle"
         },
         "mode": "markers",
         "name": "",
         "showlegend": false,
         "type": "scattergl",
         "x": [
          5.910268108221793,
          2.7870931528085925,
          -0.7575375383744636,
          1.0205214866168169,
          0.753910514279143,
          1.797106265241942,
          -0.46204960544893636,
          -1.3116722595637267,
          0.5984179553898571,
          0.5982012013950395,
          -1.165652538527716,
          -0.07118124655696009,
          -2.171711585828402,
          3.6732966630297716,
          0.832785588982604,
          0.0014059392111350473,
          -0.9273057420077752,
          0.679620374513937,
          -1.4878005371777194,
          -0.25016976307256594,
          0.9541894103960772,
          0.8894938464845358,
          -0.9349244756981563,
          2.4352422167029135,
          -0.5794096848078708,
          -1.6872704870086692,
          -1.06652907590303,
          3.743308758581936,
          -2.1543016574456955,
          -1.0808503055522527,
          -0.9549632645218937,
          -3.235872651592804,
          -1.7119755341735583,
          -0.4336563737020201,
          -0.6062336832001028,
          -0.9441629326199643,
          -0.21897352791236954,
          -1.5617667209055157,
          -1.3458348880477151,
          -0.6937048482628619,
          -1.6190405446647016,
          -1.5333276858350355,
          -1.6988335792571174,
          -1.8093965083506105,
          1.0018621405554717,
          -1.5505557919539066,
          -2.616201799535104,
          -0.7218561265706741,
          -0.9358284356998539,
          -2.3217190043773916,
          -2.1698597717064203,
          -0.11704076484140143,
          -0.17798254163413826,
          -1.3770978627884982,
          -1.2775706484489124,
          -1.6689082229336603,
          -1.4330066722916905,
          -0.8812940272849352,
          -1.933727851085026,
          -0.9919561769523916,
          -0.8554408012501139,
          -0.45004862859253514,
          -1.0642892702634437,
          3.462606271585079,
          0.6998427652454077,
          1.0246979229312398,
          -0.8535513919608647,
          0.6504792609298515,
          -0.4774877693274713,
          3.654736858516906,
          -0.5680284493815144,
          1.227568557882675,
          6.308184544302047,
          3.3947572178066796,
          4.909954292792234,
          4.521497311111672,
          3.4368402266794438,
          1.7065111212663093,
          -1.9949213104070933,
          2.883522671902228,
          -0.04924041576369396,
          4.251881907817701,
          1.5205339090003147,
          2.757827476352553,
          3.8188688418188868,
          0.5222233385124357,
          0.664066457000712,
          -1.8377265384972332,
          4.307369932725615,
          -0.9793272008623083,
          -1.7532546732907166,
          -2.255179190561469,
          -2.290441566421831,
          -0.2800789416316545,
          0.2229118534726933,
          -1.5101821955287544,
          -0.6192845089796353,
          -0.07420986987072392,
          1.6728243374303784,
          -1.9433530146570508,
          1.0149766128732867,
          2.7195576686454257,
          0.9057166961074978,
          -0.21837300691801087,
          -0.26256655656215494,
          0.8449080453819648,
          2.8327794759317686,
          1.4614957709996286,
          -1.5842602988284022,
          -1.8856176787118515,
          -2.3938664259095854,
          -0.00842292839272636,
          -3.078642085622775,
          -1.6438199733026309,
          -2.0393729844155715,
          -0.9968674357840728,
          -1.9809887425444188,
          -1.973609970676475,
          -0.21426030082170922,
          -2.3201588880940083,
          0.628811493508347,
          5.2627185446411175,
          -0.12166536408823841,
          -1.0121054754613967,
          0.035260963005684536,
          3.4926105143427906,
          -1.2753710449014188,
          0.3282646881366831,
          -1.6951789119860825,
          3.7286177933129574,
          -0.6107015592017132,
          -1.9032893260849415,
          -1.887427393182676,
          -1.4787588103471287,
          -1.687927343644114,
          -2.160665941591211,
          4.65808820750692,
          0.6998427652454077,
          -1.8094474553131537,
          0.644388499944274,
          -2.818281416913887,
          0.644388499944274,
          -1.4716926838801567,
          1.8781753016297527,
          -1.133843484776816,
          -0.7702516670886769,
          -0.5221138504004779,
          -0.9270989547196358,
          0.5931378934821798,
          -1.3843251626688355,
          5.271177784407819,
          -0.9642170705834132,
          3.7543195842804686,
          2.99265270807343,
          4.167831601809077,
          -0.38962807933174587,
          -1.6424751435576148,
          -1.167543393129809,
          -1.7381524969306459,
          -1.9383384408051354,
          -1.6757529454902518,
          -1.187337265148717,
          -0.35419274697547715,
          -1.9748930162104523,
          -1.4332166640427935,
          -1.8599621279939222,
          -1.6285081252103322,
          -1.2616275422044287,
          -1.239736281074941,
          0.18868288124372673,
          -1.20180297916883,
          0.0775439069895694,
          -0.43606997058020913,
          -1.272795338523542,
          -1.0274090397486302,
          -1.8617821657705764,
          -0.8788683358223206,
          -2.622199874478132,
          -1.6576596345415078,
          4.0755630994760965,
          4.894322340584224,
          4.15885471267468,
          0.34415585652526864,
          3.2529655317034636,
          -2.0146663246069765,
          0.1933516169142172,
          0.5398747178532811,
          4.407656001383202,
          2.3595535652176154,
          -1.0134812826832038,
          -1.4775598253498061,
          1.7516550987332946,
          -1.9813204401207751,
          -1.592114847773862,
          -1.8603543986322117,
          -1.6438683942628745,
          4.743511527342344,
          2.164611199122906,
          1.9271058748133278,
          0.2486755325717113,
          0.2640495888153459,
          -3.1062145776446393,
          1.0069292318079608,
          0.7363487998666431,
          0.013770393933030136,
          -0.9862592055897746,
          -0.010758925244005825,
          5.381249937095061,
          3.0311340782567395,
          2.1219579799750288,
          5.37682505488502,
          -1.8715344938197178,
          -0.8257044500186873,
          -1.8050999520940778,
          -1.5965747063171403,
          -1.3903620518490427,
          2.38178498823393,
          0.32671054219402645,
          1.1855448365432089,
          2.2307952333073517,
          0.18273407852012688,
          4.819813386113591,
          -1.8931190472758401,
          1.0877277036361297,
          1.2390028548321217,
          2.394036667746407,
          2.5765941967237227,
          3.7581250644676363,
          3.6033879217230944,
          3.089296631764703,
          -0.29784148837110086,
          4.138457045658256,
          2.68396495573793,
          0.9951124914788215,
          -1.6409269228190302,
          -0.1073365315936829,
          -1.7242942774158072,
          -2.297203719466083,
          -2.151173770862403,
          -1.5759181415763421,
          -1.3487051914956147,
          -2.0265484820804596,
          -2.1206904747689896,
          -1.9307654535976815,
          -0.9234066530601985,
          -1.2516471860681755,
          -1.9113516620063322,
          0.781255091989099,
          -0.523749733866854,
          1.5258122967139605,
          -1.481522903777516,
          -0.8608015003990186,
          2.0664450888696653,
          -0.39181100273553837,
          -0.862742085930503,
          -1.7244851503949103,
          -2.451976422151482,
          -2.451976422151482,
          4.911094086350668,
          2.128422877629838,
          -2.026227680053006,
          -1.7259688400927673,
          -1.7612462995881781,
          -0.3294248445373823,
          -0.7167812722224343,
          2.3599126557972534,
          -0.41095162447510747,
          -2.07249906783173,
          0.49415125488177697,
          0.3947367578461065,
          0.5011147455994406,
          -0.15019477310741167,
          2.264366565829927,
          -1.3540154536804463,
          -1.4700532554453176,
          -0.39148658961175026,
          2.928686830844196,
          1.5627344941817936,
          -1.8046533953228463,
          4.421919934708999,
          1.6666341252458163,
          -0.8630069468661102,
          -1.8240161816083955,
          6.202329832453554,
          2.700729757114224,
          -1.9219988731601123,
          -3.8853351569825385,
          -0.3237352337227922,
          -1.4830437992216368,
          -0.6661581305866581,
          -0.8975313027897446,
          -0.27150010958598975,
          -2.026007496411841,
          0.030668548225325207,
          -0.6661581305866581,
          1.667937617563402,
          -0.962843199003248,
          0.052290470586082896,
          1.434242837067082,
          -0.07440927214208756,
          0.31619568972430345,
          -1.685434830718755,
          -1.3783735498215974,
          -0.5302811239602092,
          -1.9482834157370155,
          0.43768166538024456,
          0.4611651127096502,
          -0.6169217471719332,
          -1.1400256377059386,
          1.253322043592563,
          -1.8065011423621293,
          -2.1058975606514685,
          0.5834156893519928,
          0.615043181334656,
          0.8314068380244772,
          -1.1677498330947196,
          -1.8797451580250857,
          -1.5737313828666795,
          -1.7148709729100624,
          -1.2187163240425556,
          -0.9081075934919381,
          -2.407638506198657,
          -2.631247737130893,
          1.5673168136376312,
          1.260676137476439,
          -1.2731362784415339,
          -1.9933897451720632,
          6.078392568331346,
          6.202329832453554,
          1.880647197466099,
          0.48550384897295196,
          3.724786874647467,
          4.99902285102302,
          -0.650701918806832,
          2.8317540321081114,
          5.157224121091322,
          3.819290274650809,
          -1.8812815325483474,
          -1.017041578089581,
          -2.3431142778733136,
          -0.061394194594860875,
          1.1244973226335102,
          -1.017041578089581,
          1.549987445185145,
          -0.23880439879088838,
          -2.0548948833262495,
          -1.4608536919332904,
          -1.251126848202765,
          -1.432623136909021,
          -0.8322050040893008,
          -1.017041578089581,
          -1.477100259573154,
          -2.628606599334161,
          -0.2103525565903896,
          3.7220411064919325,
          -0.6601937727661525,
          -0.08898081277070403,
          -1.379642428763031,
          0.8934594009314066,
          -0.6029963198787512,
          -0.7120551860400116,
          -0.776983937946849,
          -0.6805758573158156,
          -0.24279844901403586,
          -1.9562315383510156,
          4.118042026063586,
          5.71374103184416,
          -0.7417411626392645,
          4.424095099147774,
          2.3273182406295403,
          0.017763471206447935,
          0.30149399308499775,
          0.9650215283895127,
          0.022468392622496853,
          -1.2199650459691422,
          0.3417751159053105,
          -0.5378912868672482,
          0.864467896047195,
          4.004696577326854,
          4.008320181774836,
          1.3829663131262566,
          -2.057429789142765,
          1.3094774137593315,
          -1.224422354766765,
          3.3013877478747746,
          -1.1107604184765907,
          0.536070275073272,
          -0.24744053697254756,
          -1.9441899850782942,
          -2.133057653760353,
          -1.0891187918604017,
          -1.830246975225967,
          -0.15516416449344128,
          -0.9951653539849207,
          -1.359606053701547,
          -0.6110809564064196,
          -2.549815498266094,
          -0.6067753052647101,
          -0.7288872748469312,
          -0.6427561202341465,
          -0.8384661829154187,
          7.048160534198851,
          3.0862995100788657,
          1.6499160539143833,
          0.5039626516959588,
          -0.7628234779254307,
          1.9098861430974077,
          -0.7381554703584144,
          -1.2105050375339608,
          -1.6165006411449978,
          2.9152852845241655,
          0.7875315395435439,
          -1.4713066508652937,
          3.8405366544879795,
          0.8180105809922922,
          -1.5363920461225518,
          1.5017010248753797,
          -0.8269573928584234,
          -1.2365537984863504,
          -1.1213910396496647,
          0.3532535757130953,
          4.156988672470464,
          4.18114391585283,
          5.87424161794634,
          0.7726737970500193,
          -1.2384651584229955,
          0.17391144426442526,
          -0.291019156821326,
          -1.3643289196729802,
          -1.0013576229512062,
          2.8143610849320844,
          1.01522677482357,
          -0.8997096472317093,
          -1.8161225830951808,
          -0.4069198563664313,
          -0.622250602204156,
          0.9298554236724578,
          -0.03115887481414317,
          -1.8953253854100014,
          -2.086459473772659,
          -1.0330740365002855,
          -1.648478835334429,
          -0.07688967377256156,
          -0.9626729037514553,
          -2.0140350530214675,
          -1.329341300564142,
          2.9602001025583244,
          0.33666129733437333,
          -1.7136150221763613,
          -1.4322797629514947,
          -0.9929724146692331,
          0.3710468481112418,
          2.6387134059669592,
          -0.028077801649979445,
          -1.667664865504654,
          -0.6079060289417971,
          0.022377474382160027,
          0.9645203776907137,
          1.2387761280336032,
          0.32115465675815735,
          0.3993101634015987,
          1.4480493860298351,
          2.2798976418949355,
          -0.22663402010361908,
          0.2531651111744032,
          -0.2148012621778608,
          -2.462853233747324,
          1.3697801765358004,
          1.7508953452310565,
          1.386329849583343,
          -1.2538737101450226,
          5.133050169971328,
          3.526515125883703,
          6.346033202222226,
          -0.6161373499207318,
          -2.3748289472525204,
          2.2533078147803636,
          0.8167571253489772,
          3.65376537881339,
          -1.804742191826131,
          -1.8627951125034807,
          -0.9242152643491616,
          0.7066524688936533,
          4.942598053975867,
          1.125233612783273,
          4.795289250255229,
          2.463567849011501,
          -0.09446247231001594,
          4.247306482872687,
          0.24903576136687003,
          -0.11019294017436548,
          -1.80603193127069,
          -1.4690797127486261,
          -0.025425946360965943,
          0.33700374221790097,
          -1.0272113725970842,
          -1.1806601610443497,
          -0.08462383414741062,
          -1.2131974145350368,
          -1.5289774319052674,
          -1.3378086857797182,
          0.901546075594192,
          0.34704130353341306,
          -1.8391030814300067,
          -1.210592631037002,
          -1.3843046322401933,
          -1.1745523891881091,
          -0.8900534710795281,
          -1.7792525918076763,
          -1.7629015313750145,
          -0.22626369877920566,
          -1.3596743740108528,
          -1.4373298042223686,
          -1.0505476390009734,
          -1.2326907154182065,
          1.3565283499092402,
          -0.31742155846790127,
          -0.8073456954282044,
          0.6294753135461078,
          -2.017437359162994,
          -0.11454795107118985,
          -0.5797367236830118,
          -1.8188905101656414,
          -0.21705098951570168,
          4.529430260517018,
          0.3331897153750485,
          0.9708797436014686,
          -0.1712705426320412,
          -0.7941852500264392,
          0.15892132499726636,
          -1.1876432241511592,
          -0.6402858806840849,
          0.875083845709645,
          3.6087315817291614,
          5.022988638057471,
          5.805832447701813,
          -2.484585586954588,
          -0.06723872685756692,
          -1.8199456802868208,
          -0.16463751050254677,
          -0.9373426065815246,
          3.6959874644486974,
          -0.11499063549310332,
          -0.3119119497426377,
          3.6087315817291614,
          2.962821117328598,
          1.974525554328063,
          -1.8693347569376904,
          3.9265835294224676,
          0.851465596997389,
          0.2516548733824605,
          1.5069037952476556,
          0.8765073635953351,
          -0.8493286256975383,
          -2.767042218285058,
          -1.9426782361716532,
          -1.9404583741889683,
          -2.327714153105753,
          -0.48930088551691997,
          -1.2448085534620572,
          -1.4681887969761536,
          -0.4197705078970216,
          -1.1794041820554684,
          -0.7316519448921268,
          -1.9934477924940703,
          2.6589574687484157,
          -1.8424902425655334,
          -1.97520375413594,
          0.4973821345345371,
          2.803014248045931,
          0.8898853897758197,
          -1.6997216230484256,
          -1.1189657700263966,
          -2.2297276153308543,
          -0.7369155743144539,
          -2.8860579727672406,
          -0.04773120798274699,
          -1.2455077589325843,
          1.5812933821637343,
          0.3862402573486104,
          -1.3826420603119791,
          -2.4775829776870513,
          1.1497627661579266,
          -1.0859697564578688,
          0.6207099620941167,
          -0.07313623450418957,
          0.002695886147724392,
          2.170027229768549,
          0.36718627717097796,
          -0.9314426872002091,
          2.3532485455974843,
          -1.0597890934720609,
          -2.276109855694126,
          -0.7031780913867127,
          -0.29266338241288714,
          1.0280402330301837,
          -1.1648221376777201,
          0.45116045775254754,
          -0.5491172599185646,
          -0.6751459147216355,
          0.29979688154291084,
          2.683412912626818,
          0.5984074638508647,
          -0.5498879058004911,
          1.5305789710549684,
          1.6719273733102396,
          2.365034188094586,
          0.5073760258805262,
          -1.353909825927527,
          0.515131921334454,
          1.060828923229481,
          0.5729789672192863,
          -0.7152407495550084,
          -0.0431781929522106,
          1.6217258746453864,
          0.3675158568404512,
          -0.7640261804664321,
          -0.5419837729171585,
          1.0156004276682964,
          -1.0104901039718697,
          0.34745430653825077,
          -0.28074619404286894,
          3.1877031348523164,
          -0.545260379031777,
          -1.632620562430046,
          -1.1815682360615922,
          0.4831617885888129,
          -0.46624827532572427,
          -0.6461748391001946,
          4.2454755717742465,
          -0.17032794041760146,
          3.4798674918083154,
          3.840975880940372,
          4.963938781947002,
          4.408080150824803,
          4.139496296933865,
          4.031285308102278,
          3.9363214242193982,
          4.187078489713528,
          4.9178081636010225,
          4.959531607032036,
          5.491363812178903,
          1.5324624690552506,
          3.7860049701944307,
          4.224405197605614,
          3.813445724703184,
          4.269047290947432,
          5.355886276386326,
          5.634525317250319,
          5.1313660242134755,
          1.577873484466568,
          3.628399804806301,
          3.3748679584004293,
          3.1366409364731793,
          1.5464616640991646,
          1.773455500166817,
          -0.5736981384083433,
          -1.347476937918508,
          -1.4095676969430235,
          -1.7902349574504646,
          -0.9599392716314981,
          -2.3378502090707287,
          -1.9219232563386324,
          -1.455468336595947,
          -1.907226287672337,
          -0.6716795002770612,
          -2.004656223155101,
          0.32515666255138154,
          -1.1523860720717636,
          -1.455704457106725,
          0.18059071362684345,
          -1.9079350595148412,
          3.523659061137906,
          -2.0491186934792065,
          3.618083406229153,
          -1.7374845146577118,
          -1.4392948516572373,
          -1.5714083380161563,
          6.308184544302047,
          5.008294840003464,
          5.403265664257091,
          -1.4853710029965546,
          0.3311437672951784,
          -0.4641995131727803,
          2.793778628069706,
          2.2293271459533788,
          1.3893334009215692,
          4.269223510110595,
          2.1474447251427846,
          0.7629686163768579,
          0.5313880649539611,
          -1.1115207404332912,
          -1.8204209333872414,
          -2.192137645569148,
          -1.6730626775637127,
          -0.5625611286937767,
          0.45191804574874067,
          1.9195738575431938,
          -0.8702170708257274,
          1.0741748437686007,
          -0.22718136569597688,
          -0.8526204872249913,
          0.43098339581022105,
          -1.5594414900234008,
          -1.7883857649490382,
          -1.2843690828034706,
          -0.3289293614603018,
          1.0518143755809604,
          0.5340816012176949,
          -1.1097151949345359,
          -1.9685741228713418,
          1.3526971314440277,
          -1.1080951590932837,
          -1.1080951590932837,
          -0.7862581323449491,
          -2.1866569882184583,
          -0.7966028054395358,
          -1.8418411545862148,
          -0.7800250543797577,
          -2.4784838201281776,
          0.25976035564036487,
          -1.3550297693817046,
          -1.6177557993272027,
          -1.826077210356712,
          -2.3046905029491955,
          -1.7235553968485766,
          -1.3761949647926446,
          -1.0218757432852517,
          -1.7791379054828045,
          -2.6566225729098742,
          1.0291146255100545,
          -3.0946663512600634,
          0.27246992250829555,
          -1.7900071853916153,
          -2.4793830877712435,
          -1.887169023550592,
          -2.6430738121785367,
          -0.3573801366614931,
          -2.5671936495562435,
          1.3794835128663618,
          4.5251235539366,
          4.7168851866997485,
          2.5950255919710714,
          -1.1366165372990915,
          1.9842254319975159,
          -2.428139142503913,
          -1.3561754011404552,
          -1.6507557002712354,
          -0.9916773688297726,
          -1.4614838432330988,
          -2.1097261247542547,
          -0.5491172599185646,
          -1.9852742550337785,
          4.386572613899498,
          -1.11017229194422,
          3.3776002947938024,
          -2.4344247833985984,
          3.5934938671033763,
          -0.4964313208292136,
          -2.442010816809562,
          1.0393967728352187,
          0.024172636350281367,
          -2.5360436014647676,
          -1.422496176121461,
          0.024172636350281367,
          -0.261299561526969,
          -0.9108428135470132,
          2.0940424856091573,
          -2.5645649137076547,
          -1.2386221853149904,
          -0.3084219235875965,
          -1.5155895125722454,
          -2.0312986146780387,
          3.8631048897343305,
          -0.10838299594407688,
          -0.602255264416074,
          0.5177509655213361,
          -1.7090697231493612,
          -0.2761452223050108,
          -0.7551372548019917,
          -1.376306476042358,
          -0.531226039201658,
          0.23717195172482455,
          -0.3026081729421221,
          -0.5065280021147464,
          -1.2055895512885542,
          -0.8204348260187275,
          0.2660650637100617,
          -0.29884421461537675,
          -0.8728012554034779,
          -1.7175667292646422,
          -1.5155528888804226,
          0.8864093485671771,
          -1.6766468747459689,
          -0.46943459661423387,
          0.8710775895722582,
          -0.8644705676615123,
          -0.7144561741353829,
          -0.440688556949148,
          -2.7902709009224287,
          2.890414617654671,
          -1.1507276718314723,
          -0.8031773216691,
          -1.9473824019540273,
          -2.162963617094737,
          -1.4723654985500976,
          -2.6893121402844176,
          0.9240011933509128,
          -1.747452880959843,
          -0.1457665336864982,
          -1.8983586902445286,
          -2.6693478479357378,
          -0.5221693744493344,
          -1.4548434949416964,
          -1.0283096381666235,
          2.362239771180451,
          0.5436395862813679,
          -1.8689304368530804,
          1.1710036212559032,
          0.6999040042938866,
          -1.704447142955156,
          -0.5920546990026881,
          0.4498649728207433,
          -0.3295745148089149,
          -1.6376693914418619,
          -1.457260990166547,
          2.466070869617821,
          -1.2095953675949755,
          0.5254555899481615,
          0.0754714748481062,
          -1.584713439364369,
          -2.908061928223543,
          -1.1765084408048718,
          -1.911934352663428,
          0.9356036829290546,
          -0.36086600256967244,
          0.967963586119679,
          4.699816675368839,
          -0.47233140556173275,
          -2.0056305322142784,
          1.5727472398500442,
          -0.946408931833472,
          1.4686267276229208,
          0.5011147455994406,
          -1.3537495043623884,
          -1.8434120476123386,
          -0.6537657414667496,
          0.8902655962892364,
          -2.8162591250589313,
          -1.2235095886351695,
          -1.5127849605175308,
          -0.9684779368006287,
          1.1487058582651952,
          -1.0984469249325666,
          0.5022377972137841,
          -1.4812543999862995,
          -0.543566534160995,
          -1.2909649366086229,
          -2.162833307478608,
          -0.8354743294354074,
          -0.03314856246124741,
          -2.01492656924932,
          1.7960332420843472,
          0.7846163460118244,
          0.32114376159708047,
          -2.1901371392226086,
          2.5971373640647015,
          -1.6127967117375037,
          3.026053028947752,
          -2.065705645766962,
          -1.5210993374175876,
          -0.9258655178346517,
          -2.0743795323201737,
          0.751184978113625,
          -1.7164833605229055,
          1.319945573060844,
          -0.2996749088548959,
          -1.060159278317095,
          -1.57938616321675,
          -1.692465651475793,
          -3.1331777327955406,
          -0.037246232862970165,
          -0.08421121464130094,
          -0.7467746719958059,
          -0.1647082456687925,
          1.4022482201741098,
          0.46779897642367263,
          -1.337321684088965,
          0.08110278845448503,
          -1.3779265458413685,
          5.0311078449036435,
          -1.8983922147789354,
          0.5995552083481096,
          3.5252046394474545,
          2.268319149636233,
          0.9096299592015575,
          -1.0264189143478986,
          -1.0690904627080782,
          0.6556631320797373,
          -2.02376901941226,
          2.1959209999050597,
          -1.9202674340983554,
          0.6521268829335793,
          5.2627185446411175,
          -0.6974112188432162,
          0.7820338260369201,
          -0.20904323278860842,
          0.6998427652454077,
          -2.022433523975872,
          0.47120716399528273,
          -1.260480286683124,
          1.8271454550885473,
          6.08331832860931,
          -0.8508696332442802,
          -2.0825048372647585,
          -2.2243366255023735,
          1.4014298850676439,
          -2.7228295299586804,
          -1.6085417664418031,
          1.6013054390496702,
          3.3170485154906753,
          -0.8936287712527997,
          -1.0459539727090397,
          -0.7263218841933009,
          -2.943648169892282,
          0.06221403756445267,
          -1.1663865563967555,
          -0.51324835628549,
          0.6525178740460734,
          2.2136234284814895,
          4.157689233042858,
          3.9952644486572777,
          3.7441441343435904,
          3.3340361292652156,
          -0.6706922862361598,
          3.721083602469271,
          -0.7220199150774421,
          -1.5037488884709551,
          -1.820806344317432,
          -1.3092499530556865,
          -0.5828274996029219,
          1.876743018100115,
          -2.3135721971896452,
          0.7099128201293105,
          -0.7812682277707916,
          3.3949279818682627,
          0.9032880273730489,
          -1.5365804542172716,
          -1.6283452043117543,
          -1.7022684814942104,
          -2.435285435228311,
          2.018654282616747,
          -0.31661555156393534,
          -0.8941954290264572,
          1.1047609784727366,
          -0.19612740703368453,
          -1.3280200419065078,
          -1.8704463127127664,
          -0.732558834657366,
          -2.432210455632509,
          -1.0631051517428245,
          -0.9018458559798224,
          -0.5690495861384958,
          -1.7303866732825894,
          -2.100771809255366,
          0.12062405251041546,
          -1.528097331953765,
          -1.9108022973619918,
          -0.21031089609908885,
          -1.7943548127338858,
          -1.5361213058279384,
          -2.2160001367279687,
          -1.4955985695299732,
          -2.550058975169804,
          -1.098226216720646,
          -1.239327734038692,
          -0.8577092210584606,
          3.6603956645131968,
          -2.6601514416636047,
          4.22504304139731,
          0.4150807814857093,
          1.1880597387996021,
          2.753189107588194,
          -0.29049845972909094,
          0.5136929486351997,
          1.8792188806685475,
          -1.6657745499794452,
          4.166293634806011,
          -0.5221693744493344,
          1.04343371046622,
          -1.8730996534974447,
          0.8500285353730019,
          -0.33185038438281483,
          0.27442997513218714,
          3.4812762404541306,
          2.331775500646687,
          -0.07084590733890456,
          -1.20928374340631,
          -1.3631427295039158,
          -2.4502227813858077,
          -2.08847699347886,
          -1.805754980814371,
          -3.39958373108244,
          -1.6998225891375294,
          1.520901822244389,
          0.7646308800896885,
          4.478609512834526,
          2.4661133198039717,
          -2.235490459928444,
          -0.8246614851720216,
          3.432450645076328,
          -0.4882362322682686,
          -2.0813223551309643,
          0.1498940040555172,
          1.897388952891097,
          -0.13683775308019508,
          0.4502592342354188,
          2.0957686662777864,
          0.9153914685653919,
          0.5857264273779651,
          2.23335953330614,
          -3.0450765877715447,
          -2.3291508714311786,
          0.4543220270451257,
          -1.6301207350897284,
          -1.414322988460635,
          0.24435456870028233,
          3.2107996485644117,
          -0.9304532954544281,
          5.15003575398485,
          5.004281707388853,
          -1.3148675759101849,
          -0.7597385878813322,
          -1.6628375487419675,
          -1.8902303297831156,
          -1.53284673525227,
          -1.2536233695640098,
          -1.2302352255235964,
          0.1046116258134561,
          0.5222047642496485,
          4.431045401922307,
          -1.1896884868417061,
          0.3826515107286241,
          -0.7773625634585389,
          -1.495295918987517,
          1.6675267223983996,
          1.4852428780681366,
          4.356729544123441,
          -0.9108592533331862,
          0.18164272293418565,
          -1.8732582454237798,
          -1.6946786996734697,
          0.435831431758877,
          0.4879910198583249,
          2.7658581502204442,
          1.954087668179731,
          -0.17613599599091617,
          0.422793122938533,
          -1.611735936982192,
          -1.041991552846554,
          -0.12021237473150584,
          -0.1114023380185057,
          -0.3443427862674368,
          0.6672750904822246,
          -1.2131974145350368,
          2.5136903101093666,
          1.1845545043666201,
          -1.7553890311473133,
          -0.6992418306210507,
          -1.0580195579562373,
          2.3119403786115753,
          -0.13688948178293048,
          -0.8741749815567256,
          -0.9304422088236268,
          -0.9840382097343723,
          -1.3564305630785596,
          3.39662872879295,
          -1.7688160662074728,
          0.25324946539756954,
          -0.562543296673326,
          0.13894980838009316,
          2.9951823246963127,
          2.3219296947796315,
          -1.4964895263633489,
          3.2743693149316226,
          5.335536638163784,
          1.1970948667173502,
          -0.9325106706495234,
          -1.0348098358027822,
          -2.0251481991515754,
          1.0657747825801036,
          -0.38574105649317136,
          -0.6253799907794836,
          1.5479900682861587,
          -0.9325106706495234,
          1.1810200528402162,
          3.680927642400893,
          3.757014733272657,
          0.012415187357943775,
          -3.0305697190318286,
          -0.9098410453161856,
          -1.5191912139342898,
          -0.919581428861851,
          3.828456183828898,
          -1.1117133103932155,
          2.2673373620579826,
          -1.5150721309734045,
          -1.392503325761309,
          -1.299584666673284,
          -0.12266151502753701,
          -1.8668753039071246,
          -1.5018729408205709,
          -0.5700160017381589,
          3.039882270510463,
          -1.8005405433301174,
          -3.6632315599681724,
          -1.4679455092351457,
          -1.0800614696303612,
          0.8055109936842513,
          -2.8202672391359043,
          -3.452971033776212,
          -1.111063517255606,
          -2.7918970904646643,
          -0.6542529218710768,
          -1.2316328350265482,
          -1.309238317676979,
          -0.44699410320141103,
          -2.1147938594355318,
          -0.8486770478305632,
          -0.9409778444685293,
          -1.8320832439959558,
          -1.4789288509342502,
          -0.2603117476767202,
          0.7062856706652352,
          -0.9472312383775648,
          -1.8280677033103934,
          2.8968869857554767,
          4.209593201660841,
          -2.754870819905934,
          -1.5459459240384141,
          -1.8925052109960372,
          -1.706778425524511,
          -1.6774539508660655,
          -0.45635185837174197,
          -1.3346043453735321,
          -0.32162950035436927,
          -1.5006475935961938,
          -1.4595938170239813,
          -0.8243341544860175,
          -0.6580875903276753,
          0.28642701434719275,
          -1.2796134458978512,
          -0.3704970587555016,
          -1.2343513887207482,
          3.9963005471458812,
          3.3395779158555374,
          5.384016484346955,
          0.21837706806185894,
          -2.306768848291026,
          -0.5021981388206954,
          -1.0068978534182296,
          -2.1476944439402637,
          -2.396863743557696,
          2.709606964693456,
          1.7560435745437573,
          -0.9443973872998487,
          -1.1396430988151272,
          3.5578638142965198,
          3.8535198201214182,
          -0.8855858941782228,
          -0.9829651653205783,
          -2.3201254212705917,
          -1.2569492976214993,
          -1.723149846204399,
          5.961074281238082,
          -0.9304306817837588,
          3.7923096640832368,
          2.5338939245783854,
          2.4003469329064777,
          -1.7878372257776938,
          -0.23352895324163742,
          -1.8863702813551428,
          -3.0007847223145756,
          -2.0888534256576947,
          1.0430639994862425,
          1.4753691607777784,
          -0.7167812722224343,
          -1.824163976086664,
          -1.0939818264875396,
          -1.417375980675603,
          -0.9227672156589175,
          -1.1044280464120817,
          0.06735268474735846,
          -0.789536593046345,
          -0.07072149456798874,
          -1.8517630213186205,
          -1.860127146773632,
          -0.08828355973957737,
          -0.2554410311634318,
          1.8793807339843212,
          0.9116853878805063,
          0.10012379315177934,
          -0.6039439779725396,
          -2.929817585496707,
          0.19839714092277655,
          -0.4491867303360417,
          -0.793796098653857,
          -0.6206510300666296,
          -1.4459240490094978,
          -2.3369061253580075,
          -1.4633820680402192,
          -1.220884751098554,
          -1.1296546207459428,
          -0.17787330371714735,
          -0.6960752028433909,
          -1.3678339527436494,
          -2.344688244689031,
          -1.5994355501742892,
          -0.6953135901672178,
          1.622938852032899,
          2.782399844533676,
          2.2858744287363884,
          2.1555507987969507,
          -0.2647829444104708,
          2.827606248898017,
          0.6100656850450624,
          1.3174805042783144,
          2.7468007751696355,
          -2.2523754075787226,
          0.7036343124900774,
          -0.0011837602491468102,
          -1.4829619080699736,
          -1.1075232058518314,
          -0.6971997960267923,
          -1.9568620208735605,
          -1.1054970278095253,
          -1.3264831935701509,
          -1.784902560038935,
          -1.2811371791205042,
          -2.8860579727672406,
          -1.241834856815291,
          -0.15427203546753426,
          0.566830228379573,
          3.163873829531571,
          5.04703122456476,
          1.248707545291638,
          0.6273736799906454,
          0.07539853780510551,
          4.04642335398865,
          -2.094841489535946,
          1.7704705061504307,
          1.3428053485486453,
          -0.6281159028604069,
          2.700757100788002,
          -2.896459582461674,
          -0.4890714865795575,
          -2.415360371635472,
          3.3505970687397966,
          0.1178583818857715,
          -2.081831504077909,
          3.383381376861087,
          -2.028868370344413,
          -1.9296895864420236,
          1.962435287510814,
          -0.1147378176740244,
          -0.897618532336108,
          -0.6162589382614427,
          -1.3398506344220287,
          -1.86050945819256,
          -1.125616515157265,
          -1.3471905127214168,
          -1.6634667301389159,
          -1.7937172212243655,
          1.7116070792188436,
          0.6875307868210211,
          2.3599126557972534,
          3.4077455863709982,
          3.4201634173555147,
          3.170408043356186,
          4.189709436743143,
          0.8861883023723554,
          -1.2041336806401508,
          -2.4332660384219995,
          4.396257729264008,
          -0.9943458450544886,
          -1.6640786009656185,
          -0.6530120732992517,
          -0.7024160963306586,
          -1.6162721975405994,
          2.700067123399995,
          3.133230314213808,
          2.623033645020913,
          -1.7234064226917918,
          -2.8800245580393926,
          -1.8011679111545575,
          -1.636987104349849,
          -1.891480966064497,
          4.618935780161164,
          4.050843042184684,
          4.35266305126899,
          5.122067061563875,
          3.9068164100335836,
          3.9866789809149905,
          2.7852234093895096,
          0.9999800069643611,
          0.6799719491218109,
          0.014298306941483816,
          -3.1561527611479905,
          0.022755347441269207,
          0.022755347441269207,
          0.16215521835046634,
          1.8848249364406577,
          -1.6357883699260118,
          -1.4405368092396216,
          1.959586255259376,
          -1.9643963626404652,
          -1.5973738646502862,
          -2.0894463149704254,
          -1.8026658189060814,
          -1.2917710621025642,
          1.612295797796426,
          -1.0597890934720609,
          4.601631831528848,
          4.450568176559053,
          5.210196579660407,
          5.777399769903292,
          0.20076562572775708,
          2.1326120989580457,
          1.7459968094343292,
          1.7459968094343292,
          0.20076562572775708,
          0.3454668439277412,
          -1.5154226810918991,
          -1.6922378597241026,
          4.310681878249159,
          0.4692689472391073,
          2.324208231380986,
          0.9381121233998023,
          1.1841252442734738,
          -0.3743066976564628,
          1.0133098935057998,
          1.0103085340590088,
          0.7875315203113392,
          -0.585804328425291,
          -2.643227313951731,
          0.7454678649645964,
          1.04374389613843,
          4.839564142521278,
          2.289658143604801,
          -1.3025333410462447,
          -1.3212499387413403,
          4.033258007856049,
          -0.9054653279761945,
          1.4077154542863615,
          1.8197767618637948,
          -2.0266801412988698,
          0.40697399193667594,
          -0.1789885307304622,
          0.48476181187359657,
          0.2637378078660118,
          1.9490472897705737,
          -1.261784182150273,
          0.14921514800553595,
          -0.2175504008646515,
          -0.7624724066787735,
          -0.9387029953969076,
          0.2794997792688247,
          -0.7588630483770615,
          -2.1527959857986363,
          -1.5357814618078707,
          0.829015428588906,
          -0.9817137056298618,
          0.0007320463538187525,
          -1.0590701782309833,
          -0.7529011708788536,
          -2.517514521755166,
          -2.319940517122192,
          -0.23471491664775287,
          -0.22120729624415494,
          -0.681030571993421,
          -1.3423911334200629,
          0.9329099433229758,
          -0.3313859860091325,
          -1.3663419235685066,
          -1.0192775239661642,
          -0.5491172599185646,
          0.05306629499184326,
          -1.2567107324055808,
          5.259661506974292,
          -0.2965634305110335,
          -0.20192591787070024,
          -2.0246023398504875,
          -1.4443686593542011,
          -0.9751839182365095,
          0.054527146408119676,
          1.452352453421727,
          0.8192739231873555,
          0.07698261684037504,
          -2.4241133476805645,
          -1.0499396836036354,
          1.3593481661758229,
          -0.8437018248035696,
          -0.40543864743120517,
          0.6101227140817005,
          0.12017397103911868,
          -1.0084097097668365,
          1.2229974720456422,
          -1.1031682937994682,
          -1.4083418571679762,
          2.5756303060219787,
          -0.15864834545483478,
          2.9154589235875887,
          0.01496819292810989,
          1.4088806725999032,
          0.8082967149746674,
          0.4464945802762565,
          -1.2795600059785803,
          2.827260081154487,
          -0.42771336379759983,
          -0.88374510469284,
          -0.2309309414336455,
          -0.5371447045574778,
          1.3880784370526702,
          -1.0597890934720609,
          0.8795324448096485,
          1.4764147298242967,
          2.7650016272370355,
          5.637075618753222,
          3.500235764018908,
          -1.5104184002125947,
          -1.2334843591545117,
          -0.7529405029218759,
          0.08511187324309122,
          0.3205109851451512,
          -0.9120762581936733,
          -0.2785807002941413,
          3.088433624767482,
          4.143247777999699,
          2.3997163163978628,
          3.176957929846901,
          -0.6044283440694077,
          5.574219688203975,
          5.333727896640728,
          -0.17032794041760146,
          -1.4427210612478683,
          -1.3399879370214893,
          -1.3399879370214893,
          -1.080245898570194,
          3.916659393187204,
          1.1333539879918564,
          3.131924063360546,
          -1.3399879370214893,
          3.1351717246654656,
          0.05296106361416795,
          3.8242286853002576,
          3.3139603610314214,
          0.6376433975357708,
          -1.3678276494516486,
          1.4795949689527153,
          0.5075398114106466,
          4.025163763893031,
          3.3976341754496966,
          3.302529115701347,
          2.8311288224741102,
          0.4298703987209263,
          2.6526038200999014,
          1.9894395187425353,
          -2.445134837706251,
          -1.9828992824413252,
          -2.908813880378371,
          4.910713009747101,
          -0.6498036654322966,
          -1.5303444494937997,
          -2.715389745415453,
          -2.0687544157967657,
          -2.254254299700384,
          -2.010052679611556,
          -2.1099099573153453,
          -2.2236326075156025,
          -2.313210306482979,
          -0.9502346814249346,
          -2.1364027095393263,
          -1.006533548946021,
          -0.5635117535932604,
          -0.5452437114590938,
          -2.269809098860972,
          -1.2016336137926902,
          -1.3117714960738556,
          0.11607867116484728,
          -1.1573319711835892,
          2.8442612084686405,
          4.816971047050104,
          5.388502137886452,
          4.9022340214782565,
          0.1780400797411073,
          3.129629623900942,
          -2.6715653444756353,
          -1.4732881003033538,
          1.2109456547170134,
          -0.6283268472049907,
          -1.8232159852586605,
          -2.7616267192664967,
          -0.8038412941572959,
          3.129629623900942,
          1.2775355899569332,
          -3.499987153766303,
          1.3589483043899588,
          1.738555446280321,
          -0.22573449118776892,
          -2.2740673463887164,
          -2.72229202716874,
          -0.5665714728194747,
          -0.7245547433332953,
          -1.8992419894110681,
          -2.8397395979008895,
          -2.0779173370881705,
          -0.8771721526876283,
          -0.4066838677898669,
          -2.4626824440774846,
          -0.9502346814249346,
          -0.8848052512508228,
          -1.4759715630515946,
          1.0340563390737687,
          3.92665308822839,
          1.35041894916264,
          0.40228114438331397,
          -0.7883433217568945,
          2.027965414020066,
          2.0402179546875288,
          0.8979910073856022,
          -1.370362281983276,
          2.1959478767859344,
          -0.3257151107438942,
          2.1667905160060252,
          -0.1084996387962511,
          0.5555801926793551,
          2.685527235091845,
          2.062971850274052,
          1.9327789730120886,
          0.582387466372392,
          1.4280076694700536,
          2.227950207798836,
          2.0141117237244623,
          -1.7548260472472823,
          3.1452711577365067,
          1.8851878311394756,
          0.5461741363291336,
          2.3563966282033193,
          0.8590333940405683,
          1.57500362257824,
          -1.4254079176047514,
          0.1322950570473496,
          1.6585341861753569,
          2.6330801007313855,
          1.2919858967101818,
          1.5307731412375454,
          1.8030112846657091,
          0.06706942676045972,
          1.804540350598171,
          1.3745874347744322,
          -0.08395614302769279,
          4.049749172711462,
          -2.127550029030417,
          0.5273523375187059,
          -3.091473789327695,
          -0.9291176379098598,
          -0.40155489571023417,
          1.1987811941730069,
          -1.448948698980292,
          0.4216419583783458,
          -1.0348098358027822,
          -0.6337420572126483,
          -2.1834965098510484,
          -2.1758672952105025,
          -2.824356856047122,
          -1.5657851439064703,
          2.4888524869873843,
          1.7069952938522643,
          -1.7699525413624657,
          2.094428753589455,
          -2.538940561074891,
          1.7757562576013017,
          -1.3673813815784819,
          -2.3217190043773916,
          -0.07145510003716114,
          -0.1295351565608205,
          0.01705652057736761,
          -1.6918615662065613,
          0.24788898634041986,
          -3.371949005692061,
          1.810943972534715,
          -2.9563167102804084,
          -0.9326576513945369,
          1.5453563721904253,
          2.0175676302543053,
          -0.9777384825203531,
          -1.808804585148051,
          -0.197649389337015,
          -1.7360045350795765,
          3.6842201989297227,
          -0.6847094485509618,
          -0.2603117476767202,
          1.542298888804765,
          0.5930026646121637,
          -1.7912959670136788,
          3.118021498922634,
          3.358014491875235,
          3.5099309650882855,
          -0.19461924016161897,
          2.4805279637902258,
          4.517776810914009,
          6.091867137337178,
          -1.386425812758799,
          -1.6590894291934803,
          -0.8451615089399581,
          -1.0417192548785008,
          -2.2126328441140077,
          3.9047624185662864,
          2.3576582971520197,
          0.039926016615873125,
          -1.1004953247578726,
          -1.3293394373721157,
          2.417923441713888,
          -1.8494158071698896,
          0.619458989438916,
          0.7007141496868075,
          -0.22131099576619404,
          4.069805840259912,
          -1.69151985894296,
          -1.6480326701342511,
          -1.6266757262409501,
          5.070598490109721,
          -1.2012069430765235,
          -0.2016148315962883,
          2.2123779499001275,
          -2.4649248397008887,
          -1.9249814682117183,
          -2.4080164096721774,
          -0.3981606546944898,
          -1.1481127843950483,
          -1.2373304643909684,
          -1.462818136550946,
          -2.642991534637258,
          1.9533017033003979,
          -2.119572558061232,
          -1.014042185781766,
          -1.8430894155768587,
          -0.17434341580478302,
          -1.8079063743752268,
          -1.0770098667738885,
          -1.4905481769240276,
          -1.2980784897176674,
          2.3650341880945858,
          2.8056902680785325,
          0.4847235106188627,
          0.8549288236322987,
          -1.5013922149508796,
          -1.367356561588801,
          -1.5786623309290861,
          1.94609138749102,
          0.03174403073604873,
          3.5189870964878107,
          -0.12194207361813164,
          -0.8643826427197125,
          -0.3431640158084618,
          0.14879956982851655,
          -0.7021345155769471,
          2.526890730193049,
          -1.5907428957012464,
          -0.0408192218456319,
          0.7899298288307441,
          -0.9108592533331862,
          0.5345492960066758,
          1.7118640514247763,
          0.3291372387869489,
          1.1931202253106965,
          1.0958689907088615,
          1.254568198711425,
          -1.6454912421714356,
          0.06998303323160464,
          -0.6562708849308362,
          -0.8025844842561628,
          1.02886706326227,
          1.5503148149597896,
          0.7522544149888793,
          -1.359475279504688,
          3.0180003913879485,
          1.071295741294714,
          3.221728737298459,
          -0.09309152149855189,
          -1.298577997346759,
          3.218628062553707,
          2.1326120989580457,
          -2.344673001682558,
          0.40529331240226657,
          -0.5726023021440046,
          -0.8831651240421451,
          0.2864992879018394,
          -1.1602891468274366,
          0.7158496154657075,
          3.5107534356200025,
          -0.20646597214665618,
          0.1389363915921862,
          -1.8058188159171578,
          -1.769051266009558,
          0.8116576480875329,
          0.33752469190627304,
          -0.010394775910613527,
          -0.8944573785036682,
          0.213874736176231,
          0.23100452434814037,
          2.0308782271879853,
          -2.2995204704233054,
          2.46411111954667,
          2.1192178617213595,
          0.03900046465196513,
          -0.6538759240822307,
          -2.5086272188807204,
          0.8123565472634451,
          -1.5787530557618965,
          0.21465726009403835,
          -1.8370165087569903,
          0.9229565319598536,
          5.656350818133165,
          1.2758796109944484,
          -0.5087977010750431,
          4.278428722085265,
          0.6992100078765244,
          -2.3841364242986853,
          -1.7777308426945029,
          -1.7803898860126572,
          -0.41675396826810784,
          -1.189441828975478,
          -1.3168814365839538,
          -1.3415980593024468,
          -1.9057076077566915,
          -0.9399967293329505,
          -1.6808685152004803,
          -1.1904065555535002,
          -1.4119055620195085,
          -1.9190223555873633,
          -1.6818203902001205,
          -1.4359027004171443,
          -2.011230902479245,
          0.09121406890156458,
          0.5055869622129673,
          -2.399124947771617,
          -1.4878005371777194,
          0.09012877718788259,
          0.31014652749821414,
          -1.446821106315742,
          -1.8879364766330253,
          -0.430809975904047,
          1.9127398992549014,
          -0.9340739420096696,
          -0.0924542470274304,
          -1.017041578089581,
          -1.4337106390703664,
          -1.1513085587600573,
          -0.35053272601344243,
          4.891728612485046,
          -2.262035465700968,
          -1.1646239535239478,
          -1.4194876518446784,
          -2.1789826747725147,
          -1.7048467653411057,
          0.0872351630348979,
          -1.5513713971895935,
          -1.1305919329747023,
          -2.0086014603024744,
          -1.971984908729132,
          -0.7603552441700434,
          -1.7081845936205509,
          -1.4526447883764575,
          1.0936536290838421,
          4.70729731693538,
          4.066416551661851,
          0.8449080453819648,
          2.0175676302543053,
          -0.5221029502555894,
          -1.0819030183511789,
          0.936360349541089,
          -1.6901930633720716,
          -0.06734437755377377,
          3.1284096100847676,
          -0.013372924890362334,
          0.9315488370480697,
          -1.1078988413689925,
          0.9836845171357769,
          -0.6216384167307972,
          4.176384153224834,
          -0.8174650647916109,
          -0.9844049327521112,
          -1.9340208521383087,
          -0.9150586306583652,
          -1.9024375077661249,
          -1.59911918999787,
          -0.39791226734428164,
          3.189010773438728,
          -1.3604505665769029,
          -0.7141034047337284,
          -1.5914938986038458,
          -0.2698179011474344,
          -0.3205716019590927,
          -0.9748467556979403,
          -0.6346112423952774,
          -1.485246786990907,
          -0.6488361413093124,
          -0.6875208972982048,
          -0.5235210522524473,
          -1.2997644179330263,
          -0.39374742517973893,
          3.4924077989945763,
          2.576357723271179,
          -1.2550502056471342,
          3.8527580670263846,
          -1.3963654042352842,
          -1.5970419948490968,
          -1.688632875815763,
          -1.3774550293604102,
          -1.3690729524620981,
          -2.082618199581341,
          -1.1954018276570275,
          3.402751152566496,
          -1.9587229941745254,
          -2.6463148412916944,
          2.335312795097438,
          -2.3458247510817474,
          1.395742623948654,
          0.3091765784289817,
          0.3091765784289817,
          0.04825874689567955,
          -1.0823520722647513,
          3.049088181041765,
          -2.0975769095841956,
          0.2531651111744032,
          -0.15427203546753426,
          -0.41240181977992485,
          2.8948856676427686,
          0.9925700176837304,
          -0.10380387445274455,
          1.8938195243268832,
          0.9398182903443844,
          -2.2190070001920614,
          -0.4028999508832659,
          0.48555984194642055,
          -1.6946786996734697,
          4.45326383337146,
          -1.7698042251005002,
          -1.2917710621025642,
          -1.8456441547473585,
          0.09262464006245273,
          -1.8537718049763499,
          -0.3241240622174611,
          5.699030304877432,
          2.38178498823393,
          -1.5609102360473253,
          -0.2799174074815636,
          -0.554255057269902,
          -0.6637454999146559,
          -0.3292698306096522,
          0.6663435469489163,
          -0.8145720543150369,
          0.6939265197491395,
          1.4162075885952456,
          0.5778186477553666,
          -1.2584741789017162,
          -0.18772365879072328,
          -0.8836013757068095,
          -1.6875506785986962,
          1.5211340327985525,
          0.2195908194829499,
          0.28850205362561054,
          -1.4926217671802824,
          -0.2117569244755807,
          -0.17581020496163255,
          -0.8875625801717639,
          -1.2556219866206986,
          -1.2269361604283746,
          4.618935780161164,
          1.3552239026426234,
          1.93361640935356,
          0.3436840728473266,
          -0.5690376399407601,
          -1.8919920103002268,
          -0.5841890549176633,
          0.33276996189999664,
          -1.917555081893607,
          -1.2392356281844938,
          -0.09546520325791756,
          0.5577786585832494,
          3.0028015739045237,
          -0.5753522125886531,
          4.161022525837935,
          -1.9988770057703376,
          3.746890986528972,
          2.2244782603334103,
          -2.060176960058502,
          -0.765174794011319,
          -0.8818233752987562,
          2.200828587032448,
          -0.5335105742105527,
          -0.5913765417068708,
          -0.8686121365386251,
          3.126929191169631,
          1.5727472398500442,
          1.8241788630931577,
          0.94876316958006,
          -0.7979632686424231,
          -1.5274385093734062,
          -0.040310068174893555,
          -1.4688940844932519,
          -1.5189484652220921,
          -0.333639030384125,
          -0.2874184653253747,
          1.9173914860919672,
          4.217793257754894,
          0.8123565472634451,
          -2.026822876035976,
          -0.9888603025879971,
          1.3505978175446602,
          1.3505978175446602,
          -0.2244825369564925,
          -1.559982375387885,
          -0.9445110188851545,
          -0.9687374941369984,
          -1.9473824019540273,
          3.2626195808960103,
          3.3357502012362765,
          -0.08400104548677023,
          -1.8353016618474374,
          -1.0147768860330912,
          0.6805879787852325,
          -0.9288952404986114,
          -0.967363156729088,
          4.168363339147136,
          -0.8950461905575412,
          -1.6554978350332155,
          -0.6736705457075539,
          -1.5694794034452275,
          -1.6619836307825164,
          -0.15889958107504173,
          0.6637508483382965,
          -0.8307561706234646,
          -2.2833156359466384,
          0.8752453390642232,
          -2.4277401058841876,
          -1.422406598148056,
          -1.1037662140332816,
          1.5650671095135882,
          -1.08956123713763,
          -1.1687147925779533,
          -0.9946974720841749,
          0.7352426388393163,
          0.05685055929293631,
          -2.3649098795794243,
          4.904751130878141,
          -2.8030403909571486,
          -2.2525620808187843,
          -1.8959245730757288,
          -2.091751605201152,
          -2.508317131163249,
          -1.0932669094952778,
          0.2300271283486477,
          -1.7664024000158325,
          0.6845546448708271,
          -0.9024606571237705,
          -0.47940453613652856,
          -0.7455458630228244,
          -0.9013326790547911,
          -0.7150579071819959,
          5.521484025398486,
          4.330780758381723,
          1.0507517772310697,
          -1.6734809168327214,
          4.236594177348255,
          -0.2745021491914584,
          4.055818049656478,
          2.135766913281722,
          -0.8330021081673917,
          -1.827929892684261,
          -1.7462095781463178,
          -1.4292748016739312,
          -1.8043356480433594,
          -0.03892607223898078,
          -1.360949264209696,
          0.4479854069546509,
          -1.6881966197421545,
          -2.2605554980822586,
          -1.6032958665289643,
          -0.5719868279724862,
          0.22680621843925644,
          3.0007464182467136,
          5.262058618140634,
          2.885869948160055,
          -0.6661581305866581,
          4.647416850813506,
          -2.3259805083008893,
          -0.8749418351069355,
          3.435844753643246,
          -0.18592056996048217,
          -1.3252577961419496,
          -1.645482650470817,
          -2.2743637727692696,
          -1.1375489854458392,
          -0.305946490821104,
          -0.263210361464838,
          0.3682343908784766,
          -0.7749919598416071,
          -0.17119199961990741,
          -0.06981557094042509,
          -1.2072588326020266,
          -0.6241021127308285,
          5.4198747410235235,
          -1.5972222455784262,
          -0.3638951753809374,
          -0.3445021725092962,
          -1.6165697131635026,
          -1.1021594097961762,
          -1.2273516660222628,
          -2.045214098687466,
          2.018654282616747,
          0.4298289927167259,
          0.6052682794470803,
          -0.4423537865870967,
          0.022947141944436637,
          0.0015944771473530978,
          -1.8238846076569715,
          2.2317541681982713,
          0.7642748141635721,
          -0.8433282919666298,
          -1.323087579081341,
          -1.3298929349932969,
          -1.226722089484789,
          -2.149994931085678,
          -1.216392087713246,
          3.463484711466786,
          0.4539412166357163,
          -3.061338303198416,
          0.2272961451813853,
          -1.134476832563175,
          -3.061338303198416,
          -0.7072963438992379,
          0.3418433804143051,
          -1.56711825912349,
          -0.8696666900612375,
          -1.5795590761486489,
          -0.8772502462786007,
          3.5825006834571194,
          -2.226834278061471,
          -0.20126115331103767,
          -1.6675215191123856,
          -1.16768693864109,
          -0.09594405636152767,
          -2.382066424984604,
          -0.12872264422547483,
          -1.5822498519629946,
          -1.638743461776029,
          -2.025148199151575,
          -0.6993509873932001,
          -1.8764670933076546,
          0.3544325608968116,
          0.5717167306430497,
          3.1019647144481826,
          -0.5188294035461434,
          -1.0126741219338125,
          -0.7097641046725914,
          -0.7276269751785637,
          3.3634624924175163,
          2.9752226817107963,
          -0.8219366599034389,
          2.208962871622312,
          2.785064005343368,
          0.29814635203571455,
          1.8664884741638679,
          4.1404114883537915,
          4.133048817017734,
          0.5282838272987546,
          2.6055721017645634,
          -0.2647829444104708,
          -0.17832420764440787,
          -1.9380303715726257,
          2.9039050390292243,
          3.649677021506467,
          -0.012929923744353412,
          0.9703843368446695,
          4.840030364876464,
          -2.382120428766228,
          -1.5441689772345781,
          -1.3888697809804087,
          -1.9542613765865011,
          -1.5849819030822287,
          2.446695535789584,
          -1.3666480483746384,
          -0.2676245317046496,
          0.4023034180521387,
          2.3745705662041585,
          5.050054496026235,
          -0.905318042994244,
          -1.269841984644333,
          0.5398747178532811,
          -0.9479576954954885,
          -3.0324499813922885,
          -1.112151754758309,
          1.0543642222548277,
          -2.174826059050463,
          0.8783391882405467,
          0.8449080453819648,
          -0.28380427510568895,
          -1.8083647450254487,
          -3.2024704591966753,
          3.3215521054488226,
          0.8539122759964454,
          -1.0527079835431903,
          -1.6233526075106723,
          -1.4951842716237849,
          1.7519453777759324,
          -0.8298967446281693,
          -2.1873335437017483,
          -0.24944080664634827,
          1.10747236011123,
          -2.085935541408212,
          -2.4125115180318635,
          -1.2499990583699137,
          1.291866958177363,
          -1.4808604861756582,
          -2.014442970023501,
          -0.5413481296670039,
          -1.6534058002388425,
          -1.4317917003045733,
          -0.98713590243363,
          1.1655411567729195,
          3.0002356858668837,
          0.1500087255874902,
          -0.5219177664341917,
          3.0474287586662046,
          0.8524577565344768,
          -1.8419708771379109,
          -1.4212505387436196,
          -1.5990912760966656,
          -0.092452317029284,
          0.7589239174389402,
          -0.38861753676292676,
          -0.4886912992334438,
          0.1860174465239185,
          -0.5767423202391138,
          -1.0445259856521212,
          -1.4103425017750713,
          -0.9467174638564452,
          -1.5570907577492827,
          -2.031656522376277,
          -1.5050207141774004,
          2.0330414338414142,
          2.9972411903138934,
          -1.1131903712057174,
          3.4143457476927654,
          5.320867729182729,
          4.085991435509485,
          2.127442535834885,
          4.947269754284726,
          0.4726197924305073,
          -2.2016868255719335,
          0.4316718530586414,
          -1.1131903712057174,
          -1.6057702396471827,
          0.8312197050104078,
          -1.7642479233188506,
          -1.159073207027635,
          4.081447099437761,
          -1.126683759092417,
          -1.2919547680535053,
          -1.7723311723076083,
          0.021900563903480236,
          -1.8333368443589528,
          -1.760275888862842,
          -1.8693460615922186,
          -2.046542277096345,
          -1.0561390468606324,
          1.1770516789703722,
          -1.87629909602881,
          -2.425224032256409,
          -0.12210277573933546,
          -1.626006632578299,
          -1.844549491208008,
          -0.3033082971030342,
          -1.2048764587975178,
          -1.818276597506005,
          -1.4422094887527552,
          -1.0947009976647617,
          -1.9236465210710902,
          0.06349215750229709,
          -0.7967643032374759,
          -1.3089600393569714,
          0.5354649061742404,
          -1.153842177042881,
          -1.1326586912829244,
          3.1056989824074233,
          -0.5655314564562385,
          1.6711847582607378,
          -1.6903592808965606,
          -0.1728241122606239,
          -0.1534234424262181,
          -1.121393573413249,
          -0.35601148920323933,
          4.2643932634458706,
          -0.9702087331231127,
          -1.4795207011403106,
          -0.019163938022137932,
          -1.6262673095858833,
          -1.072934906636468,
          0.6594213427915582,
          4.066995385985659,
          -1.7593947139165327,
          -0.6148631774543121,
          -0.5328443733186655,
          2.1951310166489773,
          4.2110733842281505,
          -2.0951936831935876,
          -1.712677312219175,
          -1.3176226052793831,
          -1.2398389440352922,
          -0.6365159443123252,
          -1.8680718365870301,
          -0.20774898984439652,
          4.663158190213197,
          -0.717290249287605,
          1.4126375362115104,
          -0.05348159629165104,
          0.12258449104649287,
          -0.6930082747630693,
          -1.6842462616801221,
          -0.999714346230427,
          -0.9925277416519366,
          -0.4055455246851515,
          -0.7943307030855639,
          -1.41797668820237,
          -1.5077618691738792,
          -0.11864752625194075,
          0.06513251514329983,
          0.44790618060021914,
          -0.5905352698295558,
          -0.6656940772015781,
          -0.12568353651020564,
          -0.2968239783275783,
          -0.30208503695033034,
          -0.44315387676607754,
          -0.8497568273164453,
          1.5069037952476556,
          0.48036613331287925,
          -0.6970804646138766,
          -0.10347402499997174,
          0.4261184411829119,
          1.718198895670899,
          -0.14880872420562727,
          -0.8608961760184046,
          -0.21186655948989536,
          -1.207440562477616,
          -0.2444728652772306,
          -0.1110836144580939,
          0.433182891307163,
          -0.46666599304565815,
          -1.8413507629642525,
          -1.0214066744382946,
          -0.4975884880865198,
          -0.6844849178178248,
          -1.6697028500088262,
          1.94352783340526,
          -2.5904012105039675,
          -0.9832888022778713,
          -1.5102450456487515,
          -1.5772672834448844,
          -1.3747547479445201,
          -1.2001953198664037,
          -2.550058975169804,
          -1.5609102360473253,
          -1.8902776392732583,
          1.658754391001417,
          2.793143587037336,
          3.393669730358817,
          -0.30781971693868226,
          -0.5170085720229929,
          -1.9380674914976446,
          -0.8915763547993782,
          -0.9886668262046713,
          -0.5696178874425263,
          0.8795324448096485,
          -1.1447334158703657,
          -2.006545406729143,
          2.8205742097621753,
          4.028986191210215,
          1.7372253796499784,
          1.5655853810053766,
          0.0780212287873702,
          -1.827487688685228,
          -1.9502075389529854,
          -1.7354065296445786,
          -1.8699631356031992,
          -0.5644354650111926,
          -2.0061121385605527,
          -1.7634140784138808,
          -1.8723008941323522,
          -1.8639932204222447,
          -2.1058975606514685,
          2.957539714316921,
          -1.9232812200626488,
          -1.729194502848707,
          -0.3394603933605104,
          -1.4817947434057162,
          -1.3648272900680087,
          1.6184380633196103,
          0.6731669759445239,
          -1.3981525797114398,
          1.4897707598582162,
          1.0157432689846027,
          -1.0568509529743562,
          -1.7518249634932714,
          -1.2421958404602669,
          -1.9336938727708386,
          -1.7598217040333748,
          -1.4555523482943338,
          -2.108294479868846,
          -2.060666043906394,
          -1.4904194189397029,
          -2.0734945064138413,
          -3.9937547184628515,
          -1.7804503009224812,
          0.4188013767860372,
          4.0742528668893545,
          -1.6540996021001364,
          -0.8706935586305734,
          -1.2311045301288572,
          -0.07788453537429912,
          -2.443401395671396,
          -0.07625660353628189,
          -2.1318590249117157,
          -0.16461671372417544,
          -1.7771222855258442,
          -2.2929023354570384,
          -1.2277075421191317,
          -2.427003125158,
          -1.0198781946837485,
          -0.6385744256983861,
          -0.6162589382614427,
          -1.5903114999670274,
          -1.1226867924008352,
          -0.7780117610925487,
          -1.241834856815291,
          -0.41877224870219926,
          -0.5887610453578073,
          -1.4255157505699632,
          -1.9236465210710902,
          -0.8321122702871249,
          -0.7103155395647766,
          -0.4545789745055098,
          -0.5006469673618132,
          -1.3433860165170102,
          -0.5586881735072355,
          0.7183670596719585,
          -0.8757146430848193,
          -1.0684891129569076,
          -0.3791907206345882,
          -0.5255270518176559,
          -0.4899308370179321,
          -0.15972671026188476,
          4.813777021504077,
          -0.869000942686586,
          3.3215521054488226,
          -2.5792042125307084,
          1.5603981597326748,
          0.8888968989143614,
          -0.4769077058258346,
          -1.317398016401202,
          -0.49625704700887907,
          0.33757641276583544,
          2.148755017920208,
          0.520589622339092,
          0.0023903786712640876,
          1.4438543702229805,
          -1.7722920756714402,
          -0.21138765775075435,
          0.9097158032319776,
          4.844601565033676,
          5.666384156661318,
          -1.9417108967056642,
          -2.106550982409218,
          1.1407962580835327,
          0.2310346378694854,
          0.42561757819746515,
          -1.5657114923930828,
          -1.5657114923930828,
          4.244480994355996,
          5.176708744973616,
          -0.8596027093370093,
          -1.0270738870476324,
          0.3751242769202268,
          0.05181137151232451,
          4.58255384520449,
          0.5168944033678442,
          0.0605742697299045,
          -1.7784927255694196,
          5.408174041012421,
          2.5327757019918766,
          -1.5302866131478012,
          -1.0610339222842122,
          -1.0947736380529196,
          -0.922774133932336,
          -0.9605533109182786,
          -2.1322400770566374,
          -1.6689001793002785,
          -1.4351673016485864,
          -0.7169772246162467,
          -0.9568264963416659,
          -0.9416875707314994,
          -0.41333850470528455,
          0.16883070258110125,
          1.4322493420169802,
          -0.7813213297476462,
          -1.127128114759532,
          0.6524595908390054,
          -0.6927403014042198,
          -0.673287822923073,
          -1.141479992617013,
          -1.489277070264691,
          -0.3553585485210675,
          1.8294487165805176,
          3.656077271822231,
          0.7261799401622577,
          -1.8969714198549823,
          -0.4193939514430092,
          -1.2730663318838364,
          0.10397499296520908,
          2.0964836415896624,
          -0.8776788935290598,
          2.5299097893625846,
          1.008200351906176,
          -1.8902776392732583,
          -0.4220782534476122,
          2.10900571434995,
          -2.3715612187519324,
          -1.0444388347634852,
          -1.2311316155798784,
          -1.1776970800546387,
          -1.0345327312064307,
          -2.7234666403161034,
          -1.710442011355731,
          -1.9914059300228169,
          -0.6226927475906404,
          -1.0468527623234292,
          -1.2900248382332742,
          0.12309112973266206,
          4.652403689691263,
          -0.40462364134067336,
          0.4430017973536219,
          0.7869224265474074,
          -0.5605651851159849,
          -0.12843809243295404,
          -0.5314028806277056,
          -1.0238290888621415,
          3.1748797341320376,
          3.8595387667647434,
          2.6026231331657743,
          0.15833263461928238,
          -0.771040365579827,
          -0.4995419530279299,
          -1.2938074605601013,
          -0.3580542688912642,
          -0.8371847600040483,
          0.23327622655162264,
          -0.08852138585591829,
          -0.6084691009396406,
          3.8798628593031776,
          -1.6480835900823716,
          -0.07920628817761183,
          0.18122554674263494,
          -0.7235894288501388,
          0.38067681393629843,
          7.226544609014924,
          3.40153971352208,
          -1.4159279091453278,
          -1.9127960305645075,
          -2.017437359162994,
          -0.8956325749527952,
          -2.26034960431119,
          -1.9407337361195256,
          -1.4539395308420222,
          -1.9899331345222513,
          0.5563608894958338,
          1.3655741274589226,
          -0.6778354788931389,
          1.4872586279570366,
          -1.4237008451336226,
          -1.274810419849745,
          -2.552461167194016,
          -1.737566270810137,
          0.890358580475929,
          -1.3514066895790267,
          3.673495161639021,
          0.23893979548550567,
          -1.8009380597154072,
          -0.6930082747630693,
          -1.1302346153383853,
          1.0424609969554544,
          -0.38549302852157946,
          0.4808026898470222,
          0.36960151506622385,
          -0.24312431299061185,
          -0.31429896661330287,
          -2.12299054254093,
          -1.7729246995643384,
          -1.617369675471302,
          0.2381084538749689,
          -0.4833916699937418,
          -1.7273711551849702,
          -0.10198804553304708,
          0.505514480308404,
          -0.7131430817527233,
          -0.8951228201123649,
          -1.0597890934720609,
          0.36743215471166685,
          -0.3275524799958204,
          -0.15392290335129097,
          -1.0079751959068284,
          1.331226750839262,
          0.14879178398842183,
          2.5937576493924195,
          5.280198100270838,
          2.612540123623398,
          -1.2429187294667834,
          2.883460748025335,
          -0.8454958932986623,
          2.125563179636892,
          -1.2848447129982992,
          -2.333529043949486,
          -2.3874608455512805,
          0.47081022186238525,
          -1.8703654091300101,
          -2.604864563143927,
          -1.5249585479981826,
          -1.9311352130461596,
          0.1592591431131281,
          -0.3368542746747278,
          -1.7238132206500623,
          -0.14523173932935943,
          -1.1513324744387918,
          0.5329054203221864,
          -1.9612249102027288,
          -1.2399292163761029,
          -0.9213520425348982,
          -0.2934493481289038,
          -0.7878251517408996,
          -1.981764158962401,
          -1.72448515039491,
          3.9255172860697365,
          1.5942931299634604,
          3.186335317997051,
          0.9775969311537848,
          3.586743250825524,
          2.647745049799364,
          5.270217759644976,
          -1.7082485977385533,
          -2.1998039804602207,
          -0.06578081779005392,
          -0.836870628455965,
          -0.7854677175050853,
          -0.20916402742117846,
          -1.7085754585994826,
          -0.20916402742117846,
          -1.399732077712707,
          -1.0909590554136062,
          4.169466471505723,
          -1.3684630603624217,
          -1.932428367187304,
          0.11061706995923491,
          -1.8318071541194507,
          -0.959857138764153,
          -0.20192591787070024,
          -2.322482104084648,
          1.2956242638589621,
          2.4399389680424712,
          -0.003429977050850804,
          1.9689878707923272,
          -1.811039455868161,
          -1.2760228016973996,
          1.7512646091908486,
          0.04735484250802922,
          -1.4262864308855536,
          0.8119245867926481,
          -0.3351614731377258,
          -0.28854191440585986,
          -1.913521712971657,
          -0.44506574689565687,
          -0.38980135923955966,
          -1.0965604946490635,
          2.8632445586955484,
          -1.0064366536641478,
          -1.6679956265557832,
          5.037072097193792,
          2.3072516687894216,
          0.9817234747421222,
          3.023290887104783,
          4.117010734472985,
          4.113361444554918,
          -1.764088793306545,
          0.152003973011546,
          1.0100574747776063,
          -0.09826825918659728,
          0.7454678649645964,
          -0.07912913968776583,
          -0.5869929672815055,
          0.06137656758641638,
          -1.2493185544417877,
          -1.1625329569665992,
          -0.5446464357178707,
          -0.5257359411169926,
          -0.6973969041449736,
          -0.9719600477668991,
          -1.7113924337417714,
          0.6626099536052522,
          0.3799066704611541,
          4.353172762386837,
          -1.7505111883218236,
          -2.60828191479524,
          -0.7744430956484728,
          -0.29049845972909094,
          0.19347918400083852,
          -1.500564841771933,
          -1.3802231760043528,
          -2.520149113309611,
          -0.6742590697690072,
          -1.2280633296074606,
          0.4229742125954439,
          0.19347918400083852,
          -1.6139893679672443,
          0.2459207013415709,
          -0.9320241203449579,
          -2.029188215364682,
          3.086164823529947,
          3.28963023562895,
          -0.8430280926050705,
          -1.019108026012152,
          -1.258131171944333,
          -1.4293847145323808,
          -1.2280633296074606,
          -0.8918518314853039,
          -1.1625329569665992,
          0.3320094024663938,
          -1.4006157751179213,
          0.47495516260105475,
          -0.32853831112165627,
          1.2317234135229211,
          1.8982351464781355,
          -0.8272044736771347,
          -1.118295337591036,
          -1.214097999997427,
          1.410280915572894,
          1.116255824414094,
          -0.9625261685035065,
          -0.22774342883917334,
          4.820483671447008,
          2.806672678167793,
          -0.8910597762575792,
          -1.4197100225439556,
          -0.6373053624231063,
          2.667811075962947,
          1.3709647550842823,
          -0.8509927620370429,
          -1.1349369532310436,
          0.3083139857621747,
          -1.4183221756409603,
          -1.109325273601509,
          -0.7858824490959344,
          2.1433565649047144,
          1.6998034813955682,
          -0.5767423202391135,
          1.1753290502836993,
          0.7683249437917393,
          3.067247968624569,
          2.1713827731880713,
          0.09109228763953141,
          0.1742419604951196,
          0.31907993640081,
          0.527708375746863,
          -1.5891418340117447,
          -1.8079063743752268,
          -3.0009494117128,
          -1.5683430554100029,
          1.2531320966526072,
          0.4800788069577348,
          1.1470176346512198,
          -1.3095170917389252,
          1.592938815983417,
          1.07104201324913,
          -0.6277790692076225,
          -0.704989190263326,
          -0.3660994904340937,
          -0.48717640946067053,
          -0.7621598571323519,
          -0.0900542800847308,
          -0.14868520555969028,
          -0.25077834940821103,
          -0.7043224955062207,
          -2.109018269583259,
          -1.8793340708111221,
          -1.4483273104314522,
          -1.6855200932596472,
          -1.8814813682552238,
          -1.4090316369170133,
          -1.8761815210993225,
          -0.4113534767140595,
          -0.8662032598582584,
          -1.584362410576006,
          -2.4428347518126086,
          -1.0024189493957547,
          -0.747011061310791,
          -1.2099907754251207,
          0.8179688501593774,
          -0.32126428074581037,
          -1.139852234731844,
          -0.8437018248035696,
          2.0422528852061297,
          4.763938610263665,
          -0.8284168584098438,
          -0.6352570447275032,
          -0.8515059856345195,
          2.2461767341646808,
          -0.39823929265682856,
          0.6404987805565759,
          1.2643075804942303,
          5.199354627810797,
          1.8583829004360766,
          0.7197917125418745,
          -1.8100918480866646,
          -0.051435894770322975,
          0.3738921019551176,
          0.7611727109350761,
          0.8241113127768869,
          0.5550844565870738,
          0.7400410988074473,
          0.43047588600987774,
          -1.1913376013534478,
          -2.0196290838920716,
          -1.0362298519507231,
          -0.6266858975965721,
          -1.761743557811229,
          -1.9484506333422849,
          -1.000808035812245,
          -1.9465609399407124,
          -2.4761756352926865,
          -2.657580092427619,
          -0.7988177186083171,
          -2.1323643057110804,
          -2.5641686556704384,
          -2.130563835869557,
          -1.0271095058981734,
          -2.2711827620735554,
          -2.9955679707193235,
          -2.013777147378139,
          -1.5437600629004635,
          -0.564165747821066,
          -1.9539615900671436,
          0.13531177462094038,
          1.524083050884101,
          -0.3897913275357005,
          -2.1472490541110067,
          -1.7165767230653315,
          -1.7102416567782461,
          -0.2945681091475026,
          0.6183200167275007,
          1.1050523168212678,
          0.013477089149457016,
          1.3552239026426234,
          -1.4987842085344665,
          -0.8367365709615107,
          -1.0892869241339997,
          -1.1815682360615922,
          -0.8359986265401649,
          1.8064229455207201,
          4.5735222855358515,
          -2.3895472039585024,
          -0.8875625801717639,
          1.5623932472527682,
          1.61299214063469,
          2.378287010706774,
          0.24814725641207505,
          0.8731453432239896,
          -1.7647645267425442,
          -0.13139150759423346,
          -1.6129773081287344,
          -0.5758965096135347,
          0.07342012773008694,
          5.948310252700199,
          -0.2603117476767202,
          2.3439529774231604,
          -2.0317748746875965,
          -1.3422308343188227,
          0.525704994311735,
          0.22042439977145029,
          -1.4231533307505315,
          -1.9680325183749658,
          -2.4900041877896326,
          -3.640317013994532,
          -0.710068983452881,
          0.18037744575466474,
          -2.7307792390101304,
          0.6051493269356287,
          -2.0122268085743866,
          -2.988237786590674,
          -1.9881226567087897,
          -1.1001811056752324,
          -1.6322560102481394,
          -1.558521278536874,
          -1.200376905617609,
          -1.151803565517246,
          -1.5626575408762549,
          -0.7030185679656779,
          -1.5109878564250239,
          -2.0949762564053707,
          0.21820803727111973,
          0.28102092564734626,
          -1.5999015985109135,
          3.636437671895398,
          4.377634569812749,
          5.5178326207774475,
          -0.15593220469833258,
          -2.7823545006812167,
          1.7058186045512949,
          -0.33256344644116215,
          -1.5606335978828199,
          -1.4666166729454664,
          -1.672037749395683,
          5.050054496026235,
          -0.42113023519586973,
          -1.4156805781784696,
          -1.031017531753144,
          -2.0594619338254345,
          -1.1993121002513596,
          0.8418391167498284,
          0.527708375746863,
          3.2000540604664507,
          -1.0918956593169198,
          -1.66403213702907,
          -1.7940379519331622,
          0.26759154444683025,
          -1.1761461616742341,
          -0.923660880093344,
          -0.738387859273793,
          -0.7370115676562272,
          -1.7260061487881733,
          -0.827674982646756,
          -1.0981889258275146,
          -0.06860373314219223,
          -0.19842300499808632,
          -1.7252882884251943,
          1.9027041250642704,
          -1.2041377469319998,
          -2.146761574037715,
          0.5675226390225955,
          -2.737860585635958,
          -2.3646735229993054,
          -1.5159051852544079,
          -1.199182015542417,
          -0.2390187911039024,
          3.7555101009976446,
          -0.9172187524603739,
          -0.6027578678703445,
          4.36512855303185,
          1.3570526592632628,
          1.061080500188175,
          -1.0918956593169198,
          -1.0918956593169198,
          0.3799066704611541,
          1.0507517772310695,
          -0.8347222062998004,
          -0.4362902449973939,
          1.8393460147500846,
          0.9749323262388521,
          3.5998474603595314,
          1.3878500421641178,
          1.8808998932641383,
          -0.24102161445379275,
          2.52428814184137,
          1.8226454879784881,
          2.382405468796728,
          2.7160711465674634,
          1.3400521098127443,
          2.067508571190601,
          -1.3774147805614494,
          2.116901712809414,
          0.4725370812856816,
          1.7005090330279213,
          1.012413873477642,
          1.4638489861406874,
          4.517415285770569,
          1.6062390664664286,
          1.5090985483914174,
          3.328173071321645,
          -0.7586867391814034,
          -1.9710893785207466,
          -2.6279453478185086,
          -1.0959217221133764,
          -1.7330340393361583,
          -1.550942156958276,
          -1.915326423082569,
          3.2865430676300713,
          -1.88530125983665,
          4.031929446383436,
          1.0917032949632044,
          -2.0995891751226234,
          1.6077515138179566,
          -0.733899633149504,
          -2.3299231668522866,
          -1.6714994013804205,
          1.322793692923373,
          3.2245788048711392,
          0.8493078136160149,
          -0.8991050041159996,
          -0.2596369783110554,
          2.487845989688521,
          -1.0057381074581442,
          3.782652702099692,
          -1.9157679231230476,
          -2.0026233957398767,
          -1.6696448272331217,
          0.3515054625690081,
          -2.4460483692044,
          -1.7619019356353514,
          -1.651777456767839,
          -1.623754762123404,
          0.8957766323986629,
          -1.8642286743270609,
          0.05337344824099872,
          -1.6425344618411408,
          1.3552239026426234,
          0.14624608874565334,
          5.858209721616869,
          3.7180312609607906,
          4.993793590175097,
          1.8999455539621677,
          -0.8127854597663117,
          -0.988275170688037,
          0.6321516301100982,
          0.013416667960795443,
          -1.2772504087424374,
          0.5751095293838526,
          1.8650579113698984,
          4.510568593122149,
          -0.08449905553375568,
          -0.24164638031297872,
          -1.9830682310610874,
          -1.849485056837714,
          -2.5072492769425185,
          -0.31208753852228305,
          -0.1979951627638792,
          -1.9132406824951957,
          -0.46675708557075907,
          0.5301321114835891,
          2.805989237136699,
          0.6503978876248573,
          4.008015267389636,
          3.0007464182467136,
          0.3032852502015849,
          0.7826398955578461,
          -1.4792219052824116,
          -1.3563827742337016,
          -0.966070926083057,
          -0.05259932417507897,
          -1.377652309174927,
          -3.0725256635991207,
          -0.4751356317600321,
          -3.0267560599545087,
          -0.8325111872744718,
          1.7747900310136366,
          -1.0280691588067057
         ],
         "xaxis": "x",
         "y": [
          -0.011146290126823947,
          4.498483040491567,
          -1.2584950530912435,
          -0.9316902391794348,
          -0.9998605575699316,
          1.4491987952161294,
          -0.15349105666352197,
          -1.0976948285917054,
          -1.2029511963611905,
          -1.67207101858259,
          0.624581607711947,
          0.354279518334097,
          0.621886259504114,
          -0.7257260770647095,
          -1.7533744258913722,
          0.09456002264657415,
          -0.7607765416859086,
          0.09023324070522627,
          0.6354891072036852,
          0.9549247299482817,
          -0.8173396601849979,
          -1.2470979651002123,
          -1.0384504583107186,
          -1.847753052436397,
          0.36640565879192916,
          -1.0939423326821662,
          -0.5130725914703972,
          0.19285191038163513,
          -0.40850583478902314,
          -0.4019127768691354,
          -0.5390360868356439,
          -0.50932971164111,
          -1.5551823065201948,
          -0.3275202482615807,
          -0.11881659332814462,
          0.6359085300784638,
          -0.5876810821821725,
          -1.6234813101233754,
          0.9261554472362549,
          -0.0025837146344457303,
          0.9482384115361016,
          -0.43252723603061216,
          -1.0477234546789915,
          -0.5884127949167803,
          0.10962376719394683,
          -0.17631562638303372,
          -2.23131085252052,
          0.3421759568804066,
          -0.1339372487144576,
          1.8282937839211082,
          -1.5586608599510363,
          0.3941377070229443,
          -0.16899555980659334,
          0.6402870848131587,
          0.7535261568595849,
          -1.0071979202008514,
          1.2513815447321528,
          0.7283795254050477,
          -0.31558709207069363,
          -0.3743084277381329,
          0.6971582660739027,
          0.490781502284653,
          -1.449631329393617,
          1.402223715478252,
          3.1825154078065796,
          -0.13343620635138387,
          0.7231412843907893,
          2.4356732324127672,
          -0.662445295966799,
          0.8828610649268483,
          -0.453997424336855,
          1.2895652026945361,
          0.7021569500086005,
          -0.03212034941795097,
          0.15589311833335032,
          0.044837405588017236,
          0.7644853720457677,
          -1.870083008671787,
          1.942401413073397,
          -0.5355532328520152,
          -0.7101916522494017,
          0.6821340814378544,
          1.5096042889137309,
          1.0677125248492447,
          -0.20319345565050298,
          1.9000703759917108,
          -0.9569272319374202,
          1.7957948181498642,
          -0.5045512816835341,
          -3.0351142354928857,
          1.1858743295178054,
          0.8760206158908881,
          1.065871083144339,
          0.8982598530428648,
          -0.1098468893573999,
          0.7719022721632354,
          1.1990816803218625,
          -0.05275616015040454,
          -1.856989490046593,
          -0.32643552532892195,
          -1.6939481840668285,
          -0.10438796376461654,
          -0.14531043781235486,
          -0.4996968944645947,
          0.3260647888357151,
          0.5077876996619042,
          -0.05048147181217244,
          0.4746966598255507,
          -0.38797355248059684,
          0.9981145621078827,
          -0.06458868577411814,
          -0.16680607960514135,
          0.6183612930258761,
          0.3466789772890164,
          -0.8498816694047585,
          0.028285354530938965,
          -0.4309880876226699,
          0.971643375806565,
          -1.0005494442087886,
          0.566529012538568,
          1.1465811195267992,
          1.3964744337563009,
          0.4331926430237935,
          0.09286868670805486,
          0.28271702966358175,
          -0.4675119546435418,
          0.3005906656279855,
          -0.2568312192639185,
          -0.7082299299146122,
          1.9653556872423232,
          0.540266092058838,
          -0.47330522451280715,
          -0.4590570749385395,
          0.17712840735323707,
          1.3226057430132454,
          -0.1836457211918566,
          0.5715418725763832,
          3.1825154078065796,
          -0.22520769265871526,
          3.3372777729058756,
          -1.1787016560533599,
          3.3372777729058756,
          0.8919286352285122,
          -1.6621229341015191,
          0.9126518916872681,
          0.045442205047155876,
          0.15799090914535072,
          -0.38811167466529706,
          0.7693841067862265,
          0.3165200353751109,
          1.5899977353431303,
          -1.904786800046839,
          -0.9570850389300141,
          0.22303451284726014,
          2.105384987244774,
          -0.6995465461225111,
          0.7111076327776095,
          1.0092401714194603,
          0.32381188266964417,
          -0.1631943487323815,
          1.040437590492313,
          0.6564793989659142,
          0.3951741514894202,
          1.2410104338213015,
          0.3769590932264076,
          2.461888645237076,
          1.2357005578886233,
          0.2634743406935077,
          -0.3149803062308461,
          0.5105081730241839,
          1.1597876950391826,
          -0.15864705407279153,
          0.2960584459910333,
          0.08484118937578729,
          -0.7467089182464857,
          2.2114132179374675,
          0.08320541248182058,
          -1.0443441784920702,
          0.1912344681748924,
          0.6089226265344339,
          0.778995261963893,
          0.9523723915944757,
          1.0296391405424667,
          -0.36267015960538224,
          -0.9711390263760907,
          -2.6424864233452143,
          3.103331962225938,
          0.2161930877317957,
          0.014957619740982062,
          3.9190384728573697,
          -0.5723148273970253,
          -0.9986452552999876,
          -0.9516486023188417,
          -0.6906988660514807,
          -1.184084181842629,
          -1.3006189908905772,
          0.5947979963623199,
          0.08054162638613456,
          -1.879038751232315,
          -0.3388521257419336,
          -1.630949174398552,
          -1.0941715165686405,
          -2.446461747927902,
          -1.140705993026643,
          -1.845328678666049,
          0.6507379346285578,
          -0.47118087570082073,
          1.019732591308466,
          -0.2733651563736531,
          0.017367780195284302,
          0.7744178910726944,
          -1.165349075284618,
          1.582927537076041,
          -1.2845530401926484,
          -1.3462327707720685,
          -1.1924586912170838,
          -2.3552209829195085,
          -1.635092028252464,
          -0.7943134394819872,
          -1.5948015187911284,
          -1.0367744163767678,
          0.2383420258656923,
          -0.91503299181041,
          -1.6791143643828925,
          -1.114008183778782,
          -0.4264153508845715,
          0.19720315170070105,
          -0.7675781583836266,
          -0.6634064026910869,
          0.018494863427137784,
          0.032393957429233455,
          0.5429849610833242,
          -0.5502293308844964,
          -2.5877559470825364,
          0.07003755588592865,
          0.7387646468178265,
          0.8517448089595092,
          -1.0045392123559733,
          0.022744918930618467,
          1.102884007023602,
          -0.9711482695074357,
          -0.5747759434969202,
          -0.704166570853373,
          -1.2590290776964823,
          0.5110837248386937,
          -0.44739293027467225,
          -0.7770987572885064,
          -1.5128098061317312,
          -0.01011907228130094,
          -2.656517044283648,
          -1.8578537653499534,
          0.0296783487515422,
          -0.488117660084049,
          -0.46263501008077534,
          -0.6323213193002117,
          0.8689648267049015,
          3.240477508030488,
          3.240477508030488,
          0.023892287317248802,
          0.670396394814686,
          0.7996627431599487,
          0.5833737164149398,
          -0.11689578549234203,
          0.712368320902414,
          1.5310948073312314,
          -1.6069800221607171,
          1.8559942570662091,
          0.04437539980395353,
          1.210545105235947,
          -0.6133121765032419,
          1.0809283795560005,
          -0.2120533698888614,
          -1.1818910023338207,
          -0.7775444494726161,
          -0.6234088227383912,
          0.5694778943370091,
          1.7175189370213626,
          -1.0189490622171693,
          -1.1180976339575945,
          0.5457794249420191,
          -1.220320439422535,
          0.8906898331423558,
          0.9608276029309001,
          -1.267261303422765,
          1.6835784222939225,
          -0.7047166607825199,
          -0.6445389710374191,
          1.7118067203121359,
          2.070033591790965,
          3.7740953500324266,
          -2.52640204388233,
          3.0277051545857137,
          0.7863022708009564,
          2.8536627519810116,
          3.7740953500324266,
          2.0513570557630834,
          1.401227742855317,
          -0.9266969511957176,
          -0.6326476919953268,
          -1.127956307161736,
          -1.18103838102757,
          1.957537768774417,
          1.9979683623798496,
          0.06784792539787243,
          0.5362425827548233,
          -1.4777415250203865,
          -1.9777901671231997,
          -1.1096645491064105,
          -0.7895282956595112,
          -1.4068333771286465,
          -0.8359585182991206,
          -1.5475653090428982,
          -1.2046762480700823,
          -1.6143833336086209,
          -0.531499854640387,
          0.1802771201047225,
          -0.7320794166920246,
          -0.03506686939659906,
          1.9807742361710294,
          0.4223294232920453,
          0.2836067607286728,
          -0.625593263936542,
          0.7112353207108758,
          -1.107710188561171,
          0.48824908011310536,
          -0.22795730447657872,
          0.19717824977674045,
          0.31503199804626947,
          -1.267261303422765,
          1.1177165541627034,
          -0.44571727774836245,
          -0.8138693535483429,
          0.31786427908998266,
          -1.1464663024558046,
          -0.17714161009327928,
          0.34844421110531965,
          2.4064049724463206,
          -0.0003525217776428564,
          1.8873203415832405,
          -1.3725204164548286,
          -1.2657688377536696,
          -0.6949733179444155,
          1.8873203415832405,
          -0.8101213187323146,
          -2.9183415164682787,
          -0.9151402576715298,
          -0.9894869373615397,
          -0.2992327208272399,
          0.4760198718631181,
          -1.5094498562717877,
          1.8873203415832405,
          1.1113603909961733,
          -0.3749760147515927,
          -1.2545771481814088,
          0.9048464943468981,
          0.14491983213610274,
          -1.0798413560153635,
          0.8958070512138039,
          2.0607557633872706,
          1.3380694906666484,
          -0.7927850799344988,
          0.7801239402947859,
          2.389002631678658,
          0.010923878415343315,
          -2.7011628810914114,
          0.3071600666562859,
          0.40601777210735385,
          -1.7931461706698175,
          0.6582528726690443,
          -1.5634644260717618,
          2.4150542414887286,
          0.5843336029259842,
          -0.6038418556220878,
          2.282537677712434,
          0.5348228328720821,
          0.4434997849539598,
          -0.6515118089357845,
          1.053350465893429,
          -0.056845935110180726,
          0.7667072369066994,
          1.9924299245585075,
          1.6650019235103044,
          0.09891338575271505,
          -0.2103044597197817,
          1.4049591878689227,
          0.6572987131801545,
          -0.7572609888099845,
          -0.42897885501636696,
          -1.1663827255438732,
          -1.0375737857811504,
          0.3177602599695199,
          1.1770272825990242,
          2.5220133022988462,
          -0.35565697175471445,
          1.273915947111186,
          0.12552664107295963,
          -0.044436888535214374,
          -0.9598826795695862,
          -0.9994617694103661,
          -0.17192238560156872,
          2.082504766964756,
          9.808615665275756,
          -1.9109995363880028,
          -1.5953448853504675,
          -0.20772046078352766,
          0.3837984365774665,
          -1.6622338726879446,
          -0.5449138158014994,
          0.39260421140156354,
          -1.08163663736799,
          0.25331032353653987,
          -2.3938747210539573,
          -0.47150127593609614,
          -0.1756116728172262,
          0.7451440430086228,
          -1.6873495018785998,
          -0.20380451675243566,
          -0.6772495315786107,
          0.45154411590279253,
          -0.4727486064660548,
          -2.61247889452299,
          -0.5263262266185552,
          0.8079535533547795,
          0.1138316848656261,
          -0.8406691236039668,
          -0.07662975110137678,
          -0.5132639481080152,
          -0.5820581328286771,
          1.496618915147974,
          0.2159129418191693,
          0.8749333087385136,
          -0.4958347243325979,
          1.2667969389178957,
          -0.6352214968617703,
          1.7116862484490978,
          -0.05981311705814002,
          -0.6497724736162346,
          -0.6584021042342969,
          -0.11984531532774846,
          -0.649892721693873,
          1.658324769406948,
          2.0021393264062306,
          0.1046709494493271,
          0.1259307123953039,
          0.9211842808505281,
          1.1566985880876248,
          4.137971827721909,
          0.4510339910091265,
          0.7392753979079747,
          0.7802223761612846,
          -2.00101153009077,
          -0.5462424385825626,
          1.2886913072683848,
          -0.41389348527970854,
          0.5142060333389605,
          -0.19834002790450075,
          -1.132519116842592,
          1.0888335146592392,
          -0.8852774981108751,
          -0.2595736667103291,
          -0.33655960124604095,
          -1.4383020605948762,
          -0.8553689297851257,
          2.037415663490336,
          -1.084980509930826,
          -2.624972510429547,
          -0.29118493718810884,
          -0.9406771827196828,
          -0.8619638727305446,
          -0.7446552433346785,
          -1.5806404300447314,
          -0.24540199652620454,
          0.16613234798095391,
          0.2552234665149201,
          0.8974807722274409,
          0.6208671719375549,
          0.28059253069265994,
          -0.6340873085014088,
          1.0661851762831915,
          1.5503964871266405,
          -0.7612398420860166,
          -0.06922749235527356,
          -2.1577156365998014,
          2.187271309515396,
          -1.3215548520622282,
          0.7356238326523741,
          0.7673642510824706,
          -0.06979929244776334,
          0.48866766504332165,
          0.26698121988756496,
          0.7328123563979587,
          0.5861214875061426,
          -0.9953858151396185,
          -0.1775952252056418,
          -0.6764116893753358,
          -1.29892132241174,
          0.8921496309187891,
          -2.267536479736288,
          -0.6406026434243631,
          0.08160718107044443,
          0.7976536903440731,
          -2.5319163057702405,
          -1.0799014176355541,
          -0.196155869693214,
          1.1384170320766445,
          0.2870754908025124,
          0.42268510345319205,
          1.580405897300446,
          0.7663364597659549,
          -0.6146786963745638,
          -1.1175193421862724,
          0.6785761172927798,
          -1.1806363394390693,
          -1.2359788765089337,
          -0.31955324249624606,
          -0.3744071069079014,
          -1.864070874914771,
          -1.777328743654024,
          -1.981360854814618,
          0.25707335983406915,
          -0.6155426574374921,
          0.24292559938267785,
          -1.1616324224085057,
          1.89586227985588,
          -0.3356606365168604,
          -1.0694624857178205,
          1.7513158520768195,
          -2.4367945237996897,
          -0.7722764505011087,
          -1.1810989500449776,
          1.9317052289038212,
          0.5716358610330136,
          -0.4666957497791053,
          0.7085487574433714,
          0.2816180026787553,
          0.3907796891399527,
          1.8664572644859476,
          1.2570515395744668,
          -0.025989927797276224,
          0.08292369316000621,
          2.212558250703966,
          0.3250617645608716,
          -1.1703087112108905,
          0.2742683209909466,
          0.7085487574433714,
          1.1437392895821457,
          1.3752645944313229,
          -0.5836498678916401,
          0.19823214236746112,
          -1.6148947810199694,
          1.06208648105679,
          -0.9361637998069979,
          -0.022866776118989504,
          0.6613537913076031,
          0.38530631843082275,
          1.2299781646381966,
          -0.07782348751577092,
          -0.15923645755136406,
          0.46279131029195336,
          0.8672704536836477,
          1.585483571819162,
          0.7367549070529646,
          0.7140682739125932,
          0.9688369678118366,
          0.2512680239153437,
          0.5132039117659927,
          0.8372222203501722,
          -0.3573670748157759,
          0.7717816493276999,
          -0.6074502986416014,
          -0.26946117978952056,
          -0.8556227790287763,
          -1.1068158657389355,
          0.18685711887944653,
          0.6816277954199123,
          0.9788842536594285,
          0.45208387285022317,
          -0.7983021441809096,
          -0.13385525664812561,
          -1.3796314186286878,
          -0.21078138640284416,
          -0.9811799170595041,
          -1.3319948163180708,
          -0.19328093980775224,
          -0.2770836557895634,
          -1.9783775271564625,
          -1.3738927533892704,
          -1.2024447361796213,
          -1.3080694576617184,
          1.7650475397544299,
          -1.1229156368814144,
          -2.730925832158355,
          -0.8706224842112547,
          -0.5243173469086179,
          -1.1097479863616224,
          -1.230803983194947,
          1.1494624022273874,
          1.9641977657477847,
          2.178529382318972,
          -2.813561060773161,
          -0.4446860762774564,
          -1.3634716348410416,
          -0.6220149462494264,
          1.0416800370699897,
          -0.39521771665802197,
          -0.19449469553584212,
          -0.385260835491472,
          -0.06318642030526998,
          -0.06793988912861165,
          0.0475252724437501,
          -1.2880149374051058,
          -0.47422450868317173,
          -1.381531159972168,
          -1.4991282734577824,
          0.10597497457687904,
          1.2977230389711802,
          -1.4864565185645962,
          -0.04309271241806775,
          -2.3328311797700807,
          0.9425352116267066,
          -0.9782852103707472,
          -0.8375933378434278,
          0.2418211945751763,
          -0.8490077081291293,
          0.06737530831032301,
          -1.1745357862551777,
          -0.6271315392818426,
          -0.5770669957486696,
          -1.344871269746923,
          0.23196544102466882,
          0.8445197390903179,
          -0.40290098978720773,
          -0.005736214361111803,
          0.4499143340358735,
          0.6750056141422726,
          0.2826921428424757,
          1.2696072180370275,
          -0.48718018052215983,
          0.6108104896236382,
          -0.4948587314914119,
          0.11817817238234217,
          0.7334875142917899,
          -0.5180917961506769,
          0.18106416040858195,
          0.7146230917208743,
          0.7428997971628281,
          0.5593656303835156,
          0.484905331082782,
          -1.0171259983707708,
          0.38781049055471034,
          1.622637784339552,
          -0.17809704794334646,
          -0.12476503646773987,
          -0.2961779604109363,
          -0.27379892263627564,
          -0.9268841480713053,
          -2.038010112230414,
          1.4506337137912273,
          -2.0579085201675196,
          0.03302731056234064,
          -0.6887356962529696,
          -0.5190815328898647,
          -0.7472663186110973,
          -0.8682390206907918,
          -0.2343391656178311,
          -1.4053392824479287,
          -1.29818610984,
          -1.1127467506287054,
          -0.9768526143068048,
          0.6741636247927297,
          -0.9814765781246814,
          1.0934127148953336,
          1.138391010814421,
          0.0696539695882767,
          1.9959801067556333,
          0.9755122541602325,
          0.6623848700199311,
          -0.8861233320777749,
          0.7021569500086005,
          0.7363870858767168,
          0.23300896490672013,
          0.15532837478584238,
          -0.7151335683911881,
          0.45346230447626457,
          0.5953873912830419,
          -0.12083862405770066,
          -0.7904677532104017,
          0.7442943549477106,
          -0.5173945461923823,
          -1.3671815537397132,
          -2.1647606862810402,
          2.406575770189154,
          -1.249114229575506,
          -1.713805745486366,
          -1.1199854719256799,
          1.6019710557732256,
          -0.7298052345060038,
          2.6962725990358885,
          -0.35149643953172927,
          -1.7024709074298854,
          -2.6028083441033236,
          -0.0018618573810420239,
          -1.6785787472575247,
          0.17100843015583692,
          -0.2664486511200116,
          0.07288441826828097,
          -0.5148061391081226,
          -3.6521473312229307,
          -1.5229955970088491,
          -0.3615044442366945,
          0.33209914601970625,
          0.06386128061298507,
          -0.06798773550581652,
          -0.06798773550581652,
          1.6600878927881175,
          -0.5499230709138868,
          1.1657589760111944,
          -0.5731714708818131,
          -1.6661836834923505,
          -1.4165624627850468,
          -1.4308328180936025,
          -1.194397175358904,
          -1.4274095208739368,
          -1.151120997077038,
          -1.486919097107161,
          -1.5228713473950601,
          -1.4516382091534177,
          0.17590165038654867,
          -1.2007541057312026,
          -1.1574513304114873,
          -0.8775905383634289,
          -0.5753777267466663,
          -2.0477466943732643,
          -1.2612019677118822,
          -1.6578915972040777,
          -0.9738377876979724,
          -1.3021828325620195,
          2.030428652041032,
          0.7354293886633624,
          -1.4150905188259968,
          0.5545644883197957,
          0.4961085640844243,
          -1.430563963798721,
          1.607580280841643,
          -0.8012284798287411,
          0.6747351899313587,
          0.12194654885889707,
          -0.09902124256603949,
          -0.06924925887923146,
          0.6715536596689543,
          -1.1968649079150147,
          2.178529382318972,
          0.7120396547541878,
          1.071911729382903,
          1.147852074059685,
          0.648128319059752,
          -0.5960966025054215,
          0.2210938757975815,
          1.9766866328626072,
          0.06676449711304934,
          0.9143713972798211,
          2.846770826534305,
          0.1470187709122571,
          1.2816469698098116,
          2.846770826534305,
          -1.9407940206375192,
          0.045940278560431876,
          -2.1062436150146935,
          -0.7473077818496993,
          0.38133053707087233,
          1.1563480223931868,
          0.09832857235023705,
          1.3195450645550864,
          0.6838502211062925,
          0.9286327150239297,
          1.2197449477602844,
          1.1812618877138918,
          -0.2462677983935707,
          1.0543507232367981,
          1.6346249482684603,
          1.12085263751878,
          1.166500400610696,
          0.3592048896803267,
          2.9368444395740796,
          2.359411015343149,
          1.5909270645632718,
          -0.2191057186528515,
          2.2780569687552243,
          2.6215188359867794,
          1.5149446421866526,
          2.1521154668475493,
          0.35273715504116787,
          -1.5239595469806981,
          0.8283125934152238,
          1.4516358923430022,
          -0.07205021415422896,
          -1.1760735761202983,
          -3.1982178651250592,
          -0.8201818438122845,
          0.6486029919662077,
          -1.8391905524002883,
          -0.2958332784407954,
          -0.08593625358313271,
          2.1616477161589374,
          -1.55665117313304,
          -0.19148102107685913,
          -0.7299870431004484,
          -0.7726676252422109,
          -0.8789815373159131,
          2.596594940330127,
          -0.9684721849669105,
          -0.012415922773762866,
          2.777631799250742,
          0.00814624004937444,
          -0.12915323542917997,
          0.6678652880289514,
          -1.510702170379666,
          3.0731493555380647,
          -1.4438610416065316,
          -0.5025097048772156,
          1.3242077355585704,
          0.5827095805282648,
          -2.197356875373613,
          -0.14753873569748752,
          -0.4880953525546383,
          -1.3450083943612792,
          0.326853261308387,
          0.8459249238174394,
          2.2524644820304136,
          3.304993154608964,
          0.038395247395703234,
          0.9816545686601073,
          -1.7461053753967264,
          -1.4139744288995448,
          0.10598670322735969,
          -1.1229631780375933,
          1.384410689220137,
          -0.1616719729889403,
          -2.2544696238792836,
          -0.6869253409334285,
          0.79024075935823,
          -0.14973732308851176,
          2.028445670364842,
          1.0809283795560005,
          0.25328243485601204,
          -0.13986980407637517,
          1.5193532518080124,
          -1.5507576235702523,
          -0.8088935101256495,
          0.15044670458467038,
          -0.0450023401891389,
          0.18720132576080892,
          1.2968594264079591,
          -0.4626240158171092,
          1.0988180711853741,
          -0.4246271861727927,
          -0.8185606053174724,
          1.119792628100463,
          -0.6119842950529524,
          0.29474561896679097,
          1.455103871116189,
          -0.41001794748550185,
          0.5691942254362465,
          -2.5905991500480128,
          -0.18202951374809764,
          -0.860701303674583,
          -2.296075607260324,
          1.3167076465878853,
          -0.2725169039811774,
          -0.556673886299599,
          -0.7152170885868773,
          -0.7028362760612356,
          0.0630303323161833,
          -0.9902208730061534,
          0.019724106704528028,
          -1.5601392302159722,
          1.2645522348952978,
          1.7383022229355856,
          -0.249573228519339,
          -1.0702528843505692,
          -1.284429515008697,
          -1.2464356433071089,
          2.299329986298233,
          1.1641245992756344,
          0.7015448503931592,
          -1.5291054878331307,
          1.2451125043197082,
          1.2631399169680335,
          2.2103714360060214,
          0.8690317957680915,
          1.7953295321679035,
          -0.22799795098332137,
          1.0354966936301397,
          1.7471850168622887,
          0.6393512413680971,
          2.732274605758199,
          1.938569561698777,
          -1.4797811365083349,
          2.626893231713913,
          -0.9871339708869405,
          1.5030130287038022,
          1.0529794513877146,
          1.2377964378668693,
          1.3964744337563009,
          -0.40502039300439135,
          -0.9982484808587205,
          -1.5468837439767436,
          3.1825154078065796,
          -1.5412634785360093,
          0.8001407315361072,
          1.6262958353849513,
          -3.4389885917616003,
          0.5753938621894716,
          2.212216389479006,
          2.4836772733522987,
          0.5885938945441699,
          -4.121183392702426,
          -1.3940325838598768,
          0.7540240214844219,
          -0.9321725445352353,
          3.028110069143343,
          2.28811316302797,
          -0.4078631192511299,
          1.1182369660441551,
          -1.3045923139922653,
          -1.011471505430448,
          1.4550998217037536,
          -0.11640318223675851,
          -2.41611065906003,
          -1.979628892770835,
          0.16213361299954154,
          -0.4682875272625695,
          0.5913167294180833,
          -0.3108898220591165,
          -2.5200907369768566,
          -0.09431542449179593,
          -0.13783072116580378,
          0.6444051988424153,
          -1.1620644660524424,
          -0.561063777932776,
          0.23168889026857512,
          -0.5581193468046414,
          0.21538909230151573,
          0.38654712958519,
          0.9889416595795417,
          0.7515095953074539,
          -0.23329405373395848,
          -1.2297478871028995,
          0.820164376941095,
          -0.15882043442039448,
          -0.7565388853115714,
          -2.1120286151716234,
          1.840536966980793,
          0.5764743024800875,
          -0.6914969477991735,
          -0.31577070586742273,
          -0.8810996699177824,
          0.8021470798848575,
          0.19347997695700483,
          -0.4260196653524421,
          -0.5943416563048262,
          1.4291872876100455,
          -0.16409245911004802,
          0.812099364301531,
          -1.5026498422538643,
          2.5987795097546678,
          0.5293587436794357,
          0.7783608326259305,
          0.6238136690580923,
          -0.12191949193504821,
          0.2679161610638056,
          0.42379064874774974,
          1.0686408169382258,
          1.402657428801809,
          1.3879816561431066,
          -0.21462188479536645,
          1.5320826718596186,
          -0.6503647631977202,
          1.302203303034631,
          -1.3393116405859726,
          0.09681015173227846,
          -1.3155880062177085,
          3.2836447682990086,
          2.7994210517958242,
          1.3470804164822843,
          -0.18101845690861126,
          -0.17543690178552085,
          0.6064345226532623,
          2.777631799250742,
          -1.823061749328645,
          0.13057729102599314,
          1.2313845008695994,
          0.3466045216035868,
          -0.09832938999496166,
          -0.09436777659232914,
          -1.8418970721984316,
          0.5570265612360732,
          0.33874116018653605,
          1.0151455031556156,
          0.7643506416929164,
          0.08291424450270354,
          -0.10603512351487371,
          -0.049998715508897285,
          -0.8471965335775001,
          -0.7625426989529586,
          0.44949717893278446,
          1.1125741175253234,
          0.6084618967296066,
          -1.2541278438638543,
          -0.6314035129261283,
          1.2962849057650514,
          0.24621207217738023,
          0.05394140392631888,
          1.4956554144984189,
          1.7899910019342082,
          0.47066581613317987,
          0.5196573621206048,
          -0.09702344877198751,
          -1.6289827036759472,
          -0.14762103535583304,
          -1.053848339287198,
          2.575473897310149,
          0.3269827008452077,
          -1.058483553091861,
          0.2810292146864911,
          1.4795346263809037,
          0.872625265797751,
          0.019121467791141853,
          0.8287698711128333,
          1.1378368096175708,
          0.26354457909270257,
          2.270796542627965,
          1.30772061990926,
          0.8185767880870015,
          0.6650768549335031,
          1.7874380723812973,
          2.0664051307236826,
          -0.34639268363053366,
          -0.8577415633782183,
          -0.3466429693933363,
          -1.0922817043651092,
          -1.3118166173906016,
          0.8976326080505225,
          2.538527767313561,
          -1.1870387717949185,
          2.7869826184936666,
          0.254514372318733,
          0.3893614766751987,
          -1.1071412055199406,
          1.6107705074878296,
          -1.173952508855417,
          -2.061682013256686,
          -2.805394596387113,
          -0.8831663371685493,
          -2.0633678994235902,
          -1.7987616717190238,
          -0.42073147532697824,
          -0.6148024213290786,
          2.2743934499220657,
          0.18599348650960335,
          -0.5898593904191545,
          -1.2018199465962707,
          -0.11050871698377274,
          -0.5749320975573802,
          -0.6406026434243631,
          -1.3543005202399958,
          -1.572566092403899,
          -0.6421207488010806,
          -1.7657936503406617,
          -1.4009596285162904,
          -0.5103533356941587,
          0.31366695973061215,
          0.10148720546280342,
          -2.227761661146161,
          -2.166398930590741,
          0.9798370766144228,
          1.2933397156417656,
          -0.187374785146814,
          0.35437199497886773,
          -0.4940457410139049,
          0.40820241461265383,
          0.0754588972510811,
          -0.020097489442544997,
          -0.5232755081075601,
          -1.1151845701111438,
          -0.035245472188088704,
          -1.7256356053318573,
          2.565355550971352,
          3.785598078144564,
          -0.5196969124319147,
          2.022522949103082,
          -0.3273361120999759,
          0.9020944113643257,
          -0.931021953981989,
          2.565355550971352,
          -0.9971014093097099,
          -0.29762929933797005,
          0.32410340956387323,
          -0.39729658274353363,
          -0.2918528030421976,
          1.2589704060075462,
          -1.11527168450223,
          -0.6068327709989887,
          -0.019608718525090062,
          1.8576890270533724,
          -0.44601320040822634,
          -0.0888866746490171,
          1.2226267391788128,
          1.3180419447934772,
          2.834779660631986,
          -1.6881739103057378,
          0.8702582499121729,
          -0.6016329590871636,
          -1.652021668228837,
          -0.6742172913753645,
          -0.16801077379186596,
          0.6829368856864012,
          1.0166141420885193,
          -1.15735137008318,
          -0.9920311725425541,
          -0.30940759541017615,
          0.27314354771894656,
          0.015838701558656163,
          0.7240235934694037,
          0.8707080592041266,
          0.21601977979558107,
          0.41830866017892426,
          -0.7748456390260211,
          1.6700907754335639,
          0.21471234273482345,
          -1.1733447838065587,
          1.0707460862605098,
          -0.5757347764161708,
          2.7914806372152126,
          0.8073484220482425,
          -1.0511858033336994,
          -1.1638906002201044,
          -0.9323783000383258,
          1.4338452229528609,
          1.5482517667523967,
          -0.8243053696849093,
          -0.21727761748933655,
          0.7408819707686028,
          0.7766444874755659,
          1.2466074522256265,
          0.7996077501042848,
          0.7098984500909348,
          0.15738238233608773,
          0.8291981600164896,
          0.41152118484001,
          0.18507012194700984,
          -1.0699889202336417,
          0.5477835991559198,
          1.0667926679701076,
          -0.8775491680441372,
          -0.4112771774398246,
          0.09562702241928532,
          0.07627133581846005,
          -0.41211540420469256,
          1.2651376595429622,
          1.1350518360935893,
          -0.0633777149328413,
          -0.4354620140625763,
          0.7196787549342644,
          -4.4025789125244374,
          1.9687208683682604,
          0.6555126013851436,
          -0.056040088055309696,
          0.3601484392440377,
          -0.3393310530515735,
          -0.05618864061895124,
          -0.7620360756541401,
          2.2765844364760235,
          -0.18097852487374783,
          0.04741030706685089,
          0.9977781862139044,
          -0.10368604875802481,
          0.0847765192555848,
          0.8612425944740132,
          0.7906107892066127,
          2.22215316889803,
          0.9271137572827813,
          -0.9330765738277939,
          -0.8988029806520134,
          -2.3137946958988955,
          -1.2620312997889196,
          1.5310948073312314,
          -0.46980024727535624,
          0.821528685207603,
          0.7262953082237087,
          0.3474608869182154,
          0.19331601407251753,
          1.4030209257013273,
          1.413647275085948,
          1.4846899884981588,
          -0.3107178863439609,
          -0.10512270723038866,
          2.788588196063789,
          0.6942665279067914,
          -1.6221205168196706,
          -1.535889125896975,
          -5.390230091324012,
          -0.05382714583808467,
          -0.289866541759317,
          -1.2603822989769282,
          -0.7803224545641396,
          1.5051495770311576,
          0.580311250117594,
          2.0866649366493744,
          -0.18161001740644334,
          -0.6501600677716772,
          2.80050812955058,
          2.0106846318145064,
          1.026192975704614,
          0.8826209995591437,
          1.4018861885732552,
          -0.16219622891775914,
          0.2559954609722756,
          0.8691497060902614,
          -1.501184848873207,
          -0.32005972773275526,
          -1.2944994042026108,
          -0.5456178840144867,
          1.888824320869707,
          -0.5729396178889059,
          -1.4908371626662966,
          -2.1898217107727187,
          -0.6979816378653618,
          -0.23905295474811716,
          2.409294352998539,
          0.9257675849876734,
          1.5566745603483791,
          -1.0069374967242786,
          1.0084966732206204,
          0.9323963957092474,
          -1.052730327675282,
          -1.2373064742887576,
          -1.0619565111290772,
          -0.5555449222733374,
          0.9788842536594285,
          1.0408259298766651,
          -2.842826397149741,
          0.5180488529611259,
          -1.6905110652741524,
          -0.32628851114170343,
          -2.1300316136128097,
          -1.1278168907275656,
          -1.2815634859617304,
          2.468497036072902,
          1.083858335805403,
          -3.1349782903342938,
          -1.641330681062714,
          -0.45250278470661276,
          -1.9522743211029643,
          0.48362291075191494,
          -1.4563425687414213,
          -0.1098731438504199,
          0.615857613709947,
          -0.5868950184257319,
          0.576907940712114,
          0.9088328834540064,
          0.9740543609654411,
          1.4055402227803455,
          -0.4515041144129967,
          0.8918181728173358,
          0.8975360796648472,
          -0.6621999979037603,
          0.9635875557455995,
          -1.2252005169240596,
          0.870703987564465,
          0.8253771930222147,
          1.0561426926150963,
          -0.9405407931339528,
          -1.8287828386842493,
          -1.3540124493050325,
          -1.6069800221607171,
          0.34601176774672343,
          -0.48224370036170255,
          -1.0797421576520245,
          2.049442378801729,
          -0.6863589864441046,
          -1.231205815556137,
          -0.4408077734631792,
          1.910392882739903,
          0.03270583740353575,
          -0.2099679603913366,
          -0.6289580764774866,
          0.5105359440905765,
          -0.9591936739663649,
          -0.6258817633061399,
          0.06520142346467815,
          -1.7822998845983389,
          -0.8405755615134068,
          -0.682436977430611,
          -0.305066735750706,
          -0.668385540937419,
          -1.2952094103434548,
          4.826559931350423,
          -0.3360372733285929,
          0.5404265351754736,
          -0.12259444631687096,
          0.4040503109581144,
          -0.43068633033445075,
          -0.2423190885498139,
          -3.7463039154987845,
          0.39035402921086776,
          -0.3559583563930902,
          0.060018862612229114,
          -0.8933600247286186,
          -0.8933600247286186,
          -2.0865163953577035,
          -1.701079587230736,
          0.26067694030079874,
          1.0922593933929898,
          1.2345506751356452,
          -0.4882407877851644,
          0.45241863132259563,
          -0.8399721363552335,
          -1.5610763688475275,
          -0.5750562636036353,
          -0.8381301731828612,
          -2.730925832158355,
          0.7874939756284255,
          0.49119509274400713,
          0.3774487375210152,
          -0.9967827441174467,
          1.2010413815187733,
          -1.681859153775352,
          -1.460115509427207,
          -1.460115509427207,
          1.2010413815187733,
          1.0670428479199008,
          -0.456794659984861,
          -1.2245378851001365,
          0.6475400473459297,
          1.7194337387580352,
          0.47215205017965295,
          0.13514671558855054,
          -0.2806337788637945,
          -0.35412608462657746,
          1.0318573930800454,
          1.7208456743530511,
          1.30093440930142,
          0.478997591263234,
          1.8697348981141602,
          -0.5914828614287021,
          -2.059037664516553,
          0.2675743062137779,
          -0.98532662394716,
          -0.4604816004754554,
          -0.5391510807840085,
          0.9443175429761798,
          -0.25995302986961794,
          -1.0649853089125974,
          -0.23905742054502616,
          -0.7345811253619402,
          -0.08720400421958129,
          -0.048942049376890034,
          -2.865759634712722,
          0.6414594616910203,
          0.6520037893508115,
          0.27478687873120256,
          -0.08784013708631334,
          0.6768356895737312,
          0.35920674858526785,
          -1.3101377947307806,
          -0.06956410118681529,
          0.21875627038952764,
          -0.10658644268281188,
          0.32576837086843796,
          -0.2924354141491245,
          0.6336547576565372,
          0.3133456930887116,
          -0.5032505939465282,
          0.5371220456325397,
          2.374337714272004,
          0.2790429935717405,
          3.192275068124046,
          0.08380126477325342,
          -0.3451750248005223,
          0.6167098993104867,
          -1.0792900548148587,
          0.14936143468669896,
          0.4447099327029942,
          -0.5114790901334094,
          2.178529382318972,
          0.4572206020731484,
          -0.2555612326053287,
          -0.8074208670098897,
          0.947238630875797,
          -1.2426905814373934,
          -0.3364176185262617,
          1.0736651373184183,
          1.1904782212570617,
          0.7623681292410825,
          -0.6732696472195207,
          -0.6440393410699293,
          -0.4569795729109633,
          -0.9355214742832698,
          2.9929437226692377,
          2.726004010412566,
          0.5718932501658407,
          1.5889260213849852,
          -0.20647348498483117,
          2.5038347489576864,
          0.29615014757155045,
          1.084618979639961,
          -2.202209531135038,
          -1.4404515406505778,
          -1.2821572583643757,
          -1.0392645050027731,
          -0.8359784282430499,
          -0.3047987156006017,
          2.072970576974863,
          -1.8586859035534276,
          -1.2049475634533078,
          -0.5032153485091942,
          0.33624312056904176,
          2.564961981122824,
          0.30175743185269543,
          -1.766792729143777,
          0.8235435410088726,
          -0.2255132979823915,
          -2.730925832158355,
          -1.6613392304245769,
          -0.5014512201902234,
          -0.609282071618017,
          0.8458223801724126,
          -1.9773985178392317,
          -1.0538519726242692,
          1.8607976208546795,
          -0.33956864941393544,
          -0.9174984834704705,
          -0.8125754547368482,
          0.14301701527301525,
          -0.43627379330685745,
          -0.9044991715514338,
          -0.2767892181150549,
          -0.24579307422651067,
          -0.8244011946355007,
          0.9298124473763054,
          -0.5950664354754096,
          0.4412507041863296,
          0.8445197390903179,
          -0.4650701320324821,
          2.1319338498127385,
          2.1319338498127385,
          -0.33139835788936217,
          0.4415323021122126,
          0.07998978375631742,
          -0.39632114260764273,
          2.1319338498127385,
          -0.8155413081291459,
          3.171873475784774,
          -0.5190281872867465,
          -0.049923364538180304,
          -0.5719527809990392,
          1.4382986039502847,
          1.0900669684738828,
          1.7843626906751464,
          0.10095590734267963,
          -0.6444052078607299,
          -0.6061843984291269,
          0.5550883374467249,
          1.5481209530840527,
          -0.781705170667404,
          -0.6388486423779062,
          -0.170902234011075,
          -0.32611218191329666,
          2.3012225966724347,
          1.7357442769118507,
          0.04692563163928372,
          1.334490315292297,
          -0.3115125472162553,
          1.5407603460529946,
          1.5085799273169203,
          0.8075604130275313,
          -0.4410685895903908,
          1.1461892091104076,
          1.0750781640158065,
          -0.02528769687673777,
          1.0359956773490926,
          0.7940371917879283,
          0.010298079972031419,
          -0.23136664446222174,
          -1.1263578380899046,
          0.348273568307387,
          0.7188007759804171,
          -1.2006685866016795,
          -0.48874919385379506,
          1.0511329441517363,
          0.7337050641208376,
          0.5801340207770186,
          1.7465185489496882,
          1.5845399675574994,
          1.2293627570567147,
          -0.069437853976068,
          1.3142245990799315,
          0.3466877992177141,
          -0.3224727914058877,
          0.29009240219455196,
          1.2744631039301626,
          1.9501468899176158,
          1.2293627570567147,
          -2.3742008151056533,
          0.8097924046763012,
          0.32574938288037747,
          -0.11367229774894554,
          0.523944333976467,
          1.6637469576513095,
          1.7453471747826599,
          0.1983225982378706,
          1.725868171022631,
          1.4745753880275605,
          1.622811358698717,
          2.1264928384127186,
          0.30837059075439555,
          1.1642030880653809,
          1.1415398106539263,
          -0.02528769687673777,
          -0.6942782995410592,
          0.6062441505324676,
          0.8056575915427326,
          -0.9718696038331122,
          1.1846475025888177,
          0.22260393120987604,
          -1.1380333885721872,
          -0.42294171070276876,
          -0.9603842841299484,
          -1.2655864882816,
          -1.6743094682762167,
          -0.9592325696676601,
          -2.2082757823500114,
          -0.7614311127461252,
          -0.9283602915772443,
          -1.0003872778034182,
          0.3330594280435986,
          -0.19978661479337062,
          -0.09779050727088526,
          -0.32732316638661896,
          0.32999149224547975,
          -0.17328787315154326,
          -0.21810390747021413,
          2.077877064765503,
          0.025489112912357035,
          -0.9418507803283745,
          -0.48049402993067,
          -0.4777960559294717,
          -0.5236326235491926,
          -0.9163671842424623,
          -1.2884126387002173,
          0.7256755059981299,
          -0.5361754770471571,
          -0.20004831834695175,
          -1.5613522001109852,
          -0.6142121203837282,
          -1.1941311908090244,
          -2.112375819129676,
          -0.7475462109839724,
          -1.0862550094175327,
          0.6072921779752904,
          -0.35977774728872725,
          -1.5821085055818642,
          -0.13876869479145879,
          -0.003982163539611765,
          -1.7721004542251853,
          -0.10800633824616114,
          -1.7184551482442951,
          -0.7220600773571373,
          -2.008498131172688,
          3.785598078144564,
          -0.6245323153977071,
          -0.18114110937883596,
          -0.022800292142005997,
          -0.1526302556077661,
          -0.18879500559028398,
          -2.323447975853464,
          -1.61295857562998,
          -1.925973818653646,
          -1.4099877285403815,
          0.10661860207796992,
          -3.205538486710092,
          0.532307265292734,
          1.8282937839211082,
          -0.6155007542491473,
          1.3122550950150005,
          0.6822192108782604,
          -1.0354897180880471,
          -0.4567652894288645,
          -0.845313101007238,
          -1.9210975153315708,
          -0.6527180829080141,
          0.0242625054514355,
          -1.1247553043951912,
          0.4014556948454177,
          0.05346625837849222,
          -1.7065805207387774,
          -1.9235702921852236,
          -0.6810658577223936,
          1.6164448236652176,
          0.09441690780118886,
          -0.5757347764161708,
          -5.324849710991151,
          -1.8070057827169623,
          -0.021224692335781593,
          -0.8179812815431752,
          -1.3805997531516416,
          -0.4252552251575268,
          -1.1523424561827986,
          -0.6194712237286729,
          0.27354114752551867,
          -1.2756162640421778,
          1.7770619659271707,
          -0.4548824173651375,
          -0.4217610806862273,
          -0.6384313705147721,
          0.39834270537014643,
          -0.18775644327673355,
          1.6973069926470359,
          -1.5495981205691753,
          0.1937997624785183,
          0.4813935019603183,
          -0.20512310302811193,
          -1.0982469509351984,
          -1.5081390298152686,
          1.4235176038388087,
          0.8841847068181825,
          0.209329511380739,
          -0.5197990686970082,
          -0.7780011535498251,
          -0.0847733901420291,
          0.7143393983015873,
          0.13736835214689597,
          0.7007718477066588,
          -1.009197651514126,
          -1.0020222624106294,
          -0.7434581785609015,
          -0.7805593020332109,
          -1.312234165882725,
          1.0170344495471022,
          -0.3040733125345671,
          0.08946315030054337,
          -0.312306812701718,
          -0.16456801441916036,
          -0.20494956985883103,
          -0.07991557811551495,
          -0.4800402335682121,
          1.041874629670967,
          0.4183237628628018,
          -1.0277443701394013,
          -0.6611049658549458,
          -0.6489680497255801,
          -0.38526083549147194,
          0.17448410537177786,
          0.5248339009637605,
          -0.435291399361648,
          1.1609463777718718,
          0.2589852009041743,
          -0.4269145394355853,
          -0.6464046362867752,
          0.4281503175252148,
          0.432738846033825,
          -0.10281476747520311,
          1.7409198864727378,
          0.5389720184815601,
          0.2021375589873275,
          0.7995084254451712,
          -2.223335855145661,
          -0.2981841698859295,
          0.4103470932355607,
          -1.1839367028471601,
          -1.1071412055199406,
          -1.1559737393615062,
          0.44715157638806996,
          0.7108677100843058,
          -0.4873342819660078,
          0.6078594827312322,
          0.14936260868723228,
          -0.5306247834551387,
          -1.4600986525329198,
          2.158879972144933,
          1.4175724059415618,
          2.3234746462337355,
          -0.726434092470406,
          0.5380051620704794,
          -1.5551401795197872,
          -0.23681909680485907,
          0.48309881468210886,
          -1.6654053221269052,
          -0.771483360804541,
          0.43587842058410786,
          -0.9528768477392686,
          -1.681859153775352,
          -1.1853532984892665,
          0.03981564058480945,
          0.4276802732664074,
          -1.143932010167259,
          0.4881200392686803,
          1.0666625856504612,
          0.011626124047278063,
          0.5060631780243194,
          1.4863001605179242,
          -1.2844967685177469,
          -0.3713389048807125,
          1.9640017001666519,
          -0.16778180715887198,
          -0.6040355782456613,
          0.29178307745409754,
          -1.4741218575235393,
          -1.1120222115701321,
          0.3059623637210826,
          -0.43793654039099733,
          -0.5672204471636618,
          -1.4898328117949868,
          -0.43677317153654943,
          -0.9923148417845825,
          -0.2090243774305255,
          -1.0654567706274043,
          0.7770097252992108,
          0.334017017143828,
          0.5252445248516953,
          1.815560967878748,
          0.508108258396571,
          -1.71176264102256,
          0.495944844973745,
          1.7418772023653053,
          1.4017740558582361,
          0.28192218743011443,
          0.1353671250446769,
          0.07841349962985535,
          0.6245229490939107,
          -0.3594263708981447,
          1.7406762762745653,
          1.781079013239128,
          1.6140113589621858,
          1.6826908295445573,
          1.2215784649122428,
          0.9220277790772236,
          1.7617395286963515,
          1.5690767467252897,
          2.7233564576301745,
          -0.4776370803199396,
          2.123302287001613,
          -1.1063612328205006,
          0.10993501322157789,
          -1.6569223971159335,
          -0.7710263136821054,
          0.6354891072036852,
          -0.9350760961442328,
          -3.1540523613575244,
          -1.213793872987985,
          -0.8438981481839083,
          -0.9125375098004526,
          0.2368117634647008,
          1.78458420304795,
          1.9879280654500113,
          1.8873203415832405,
          1.3890820852305392,
          0.5250577760428035,
          -0.6949754865209055,
          -1.6187760969086633,
          -1.0019065974555326,
          0.4632721312759789,
          -0.1628034037795072,
          0.9104905958323053,
          0.4298723392551108,
          -1.1802309291515338,
          -1.1011781151568265,
          -2.409564022889258,
          -1.1367904663450685,
          -0.48103855836933795,
          -1.2429177650114958,
          0.6135342320569044,
          0.06955499887095123,
          0.8825057082452472,
          5.661064469750133,
          -0.16173252619485545,
          0.5077876996619042,
          0.4014556948454177,
          0.6099267306357651,
          0.7221971732916741,
          -1.148249704227902,
          -0.3069504230571494,
          -0.754549980995697,
          2.327751738173517,
          0.24686911448379592,
          2.4368300251600594,
          0.343485208959827,
          0.589334215402154,
          1.0175082866881136,
          0.6428230485845228,
          0.0860127515403324,
          1.3216325337985853,
          1.7160008601508714,
          -0.5715956896217791,
          -0.8386394424269162,
          -0.37632737319680054,
          -0.004324987100126268,
          0.8203433536037065,
          0.91616675108715,
          -0.1494127167046781,
          0.6042109943935754,
          1.0137097562146609,
          0.13603763028618576,
          0.5283163487891239,
          -0.7549928952607788,
          0.16600454255353264,
          0.9505098176612271,
          -0.12126743768402237,
          -0.27660102442963946,
          0.2823440524192897,
          -0.6505340216336387,
          0.5842145967287766,
          0.5598043266791871,
          -0.45918743614202373,
          1.1835659275212287,
          0.7476109366159924,
          0.09042435986383214,
          -1.1641913972188538,
          0.5884791515413861,
          -0.9406279038400537,
          0.18524942989997714,
          0.19004799950629775,
          0.8947453894033404,
          1.5051506536341925,
          0.8918238940497756,
          2.9135456906314956,
          0.195350405488507,
          -2.134704275267385,
          -1.0963441427170515,
          -1.0963441427170515,
          -0.17984935525889567,
          -0.895054267302874,
          0.4247555799804483,
          0.5831053065264425,
          -1.084980509930826,
          -2.842826397149741,
          -0.9306059402806289,
          -1.2361284238426453,
          -0.9994364223214952,
          -0.8532624380946275,
          -1.2052063378789581,
          -3.0064137891182523,
          -0.7091852339985271,
          -1.0871716684012847,
          -0.5411080761057518,
          -2.061682013256686,
          -1.860614398221934,
          1.0730684436328797,
          -0.5750562636036353,
          -1.4422160971020903,
          0.18867895860108685,
          -1.375892005964171,
          -0.5901899611195283,
          0.9140536000059526,
          -2.3552209829195085,
          -1.1982458217628,
          -1.435492445988597,
          -2.2823724017631117,
          -1.4495411317022104,
          -1.3961646106574375,
          -1.2322459853919867,
          -0.6873446047620473,
          -1.3331003309856098,
          -0.3457065151016577,
          -1.65102063896473,
          -1.2550499258583416,
          -0.6079438902660642,
          -1.3761751048259698,
          -1.5947288333897776,
          -2.7568151461037544,
          -2.0975174481531917,
          -1.7890453009986345,
          0.26938140551561307,
          0.6810389452681532,
          -1.484654882515984,
          0.7411803149126481,
          1.92358784367443,
          -3.1653627866074694,
          4.826559931350423,
          -0.08741851902060419,
          -2.067410691673392,
          -2.96873444075403,
          0.9064658020706787,
          0.7987656364710443,
          -0.5571382455449462,
          -0.2985993159826262,
          -1.143049858764687,
          0.48171047250429505,
          0.24316610774922562,
          -1.2805711408949865,
          -0.5518033813859764,
          -1.1406132411762961,
          -0.6281451448687277,
          -1.8650987670142056,
          -0.07153712703738101,
          -1.5947560608544447,
          1.482939194100999,
          -0.030417443991499434,
          1.902544692499396,
          -0.6947868184198258,
          0.14542983433201243,
          -0.7902420934319353,
          -0.4958217071530858,
          0.42339057899310156,
          0.79024075935823,
          -0.3263511848736157,
          1.1445857085486648,
          0.879931158111246,
          -0.9439438340615414,
          -0.4296076407966293,
          0.6670912404694644,
          2.2933766544371146,
          -0.4854428229005891,
          -0.7261160220214993,
          0.622314947123814,
          0.1614331792893253,
          0.7770097252992108,
          0.44940732397601924,
          0.2917261998932665,
          -2.8559660325114784,
          -2.8559660325114784,
          0.6559230533819519,
          1.4062937358818364,
          1.0147877716635736,
          -0.2578256762650226,
          2.1616477161589374,
          0.9725077360054134,
          0.556687765998364,
          -0.12451622959310184,
          0.3868410938488658,
          -2.274267147404071,
          -0.503274530928062,
          0.4632574382839299,
          0.24131108774215926,
          0.43473066937475846,
          -0.48608191553885066,
          1.3493684929291598,
          0.5291162113167028,
          1.3688832383135692,
          -0.7445120828736257,
          -1.4873373485364954,
          -1.4723501299578938,
          -0.5094951483576836,
          -0.6626360277993801,
          -1.039748547422061,
          -0.5147913976645218,
          0.6622361023624521,
          -0.1298494266082229,
          2.5095452655965005,
          0.034388253828875615,
          1.682011814506188,
          -0.22151898410253937,
          -0.41545765369234666,
          1.8643364588341313,
          -0.6931916182715594,
          3.3892843225133227,
          1.6888125651475738,
          0.7724804102748078,
          -0.02711420406282364,
          -0.4415817358862899,
          0.8066569243264333,
          1.300960592576557,
          0.8036905200841306,
          1.455185427801066,
          -0.9668417120819888,
          -1.6011254016144763,
          0.42396345440319255,
          0.976869341411481,
          1.6643262992104495,
          0.6616282733623565,
          -0.07493749940943088,
          -0.05341915052323419,
          1.5817331684268603,
          0.2508037832268127,
          1.415016755302176,
          0.9464624614115387,
          1.7854208091586636,
          -1.8986513450642568,
          1.660281990069678,
          -1.2797034194713321,
          -1.2278698439781461,
          1.5382079251100909,
          -0.9416686159264944,
          0.25954218045523153,
          1.0825135388044291,
          -0.47956502032335635,
          2.5234170447632334,
          0.579912808986946,
          0.8994140052267783,
          -1.1652508706177407,
          3.5410661345301535,
          -0.6151603064563368,
          1.203779723677566,
          -0.19189490558533995,
          3.7740953500324266,
          1.4190247050955003,
          0.4605236227815383,
          0.19506465400557674,
          0.8894868952712848,
          3.4923409189643353,
          0.5095306889194491,
          2.558033727453956,
          2.9413296035633705,
          2.9585376283879414,
          0.6664854167602046,
          1.2751122185382016,
          1.0858549905634773,
          -1.02238748938287,
          -0.4896122311522352,
          -0.8883453305418885,
          -1.0527146426813936,
          -1.5979672130884677,
          2.420543579808563,
          -0.018409808694464427,
          1.3150039075834288,
          0.050344281538857706,
          1.2175238766675398,
          1.4513188974470872,
          -0.7764384500968182,
          1.4989831502198439,
          -2.1120286151716234,
          -0.8242950319505029,
          -0.7193176773642312,
          -0.5324102979469502,
          -0.7377570441587147,
          -1.7549264883420448,
          -1.1175832891565374,
          -0.8167610018597041,
          -1.4246076648562256,
          1.921009491852299,
          2.5107890898612357,
          -1.0983810149208897,
          -0.3190782424130798,
          -0.7018982279762412,
          1.1118432949722465,
          -0.4392512404293231,
          0.22403578221356277,
          0.6909457256744249,
          0.13117975779423138,
          0.17250022808780335,
          0.6909457256744249,
          0.8801445212944194,
          -0.17264943240538486,
          -0.9571843923901066,
          -0.34187442727366657,
          1.235422319519919,
          -0.4772773599784347,
          0.6744175097128822,
          -0.4013353354818043,
          0.024502695165668168,
          1.0114888345052582,
          -0.8582289768525561,
          0.9394174796720559,
          0.41812138172327284,
          -0.8914675871467136,
          -1.5430309314244635,
          -1.047886453613887,
          -0.5196969124319146,
          2.0933789127353672,
          0.040953024526694484,
          0.9543876770247642,
          -1.2613527108263536,
          -1.3497698875032405,
          0.10155215220948782,
          1.139522497877639,
          -0.6224926824437762,
          -0.29961093997960087,
          -0.03876120335108387,
          -0.33284134816921024,
          2.1948710462685392,
          0.39266547523340795,
          -0.7082917138338317,
          0.29023198327406596,
          1.3922680305446269,
          0.6626605141152964,
          0.6693446790274975,
          3.8268321408784534,
          1.035855680449111,
          1.888824320869707,
          0.9430672461585823,
          1.2597163972076544,
          -0.8635581785887427,
          -1.6236929721271716,
          -1.2939500198084342,
          -1.6971954084152021,
          1.9663728384182084,
          0.5163649992285011,
          0.5004206553924487,
          0.1409209811682239,
          -1.3864965358510812,
          -0.02516930509483053,
          -1.1102871922238304,
          -0.7901974202446419,
          -0.8316780531167177,
          -0.6670526559898643,
          1.4554367646834012,
          0.9890710951795667,
          0.9287715899499608,
          -0.5819582864843326,
          3.103331962225938,
          -1.2547084597372222,
          -0.5922012386468015,
          0.44359553061128754,
          -1.1720025427993506,
          0.13010784025672226,
          -0.826309714140056,
          0.5077876996619042,
          0.939143923316604,
          -0.8361202369462655,
          -0.4171044591698205,
          0.7424716521704824,
          0.6133935006749387,
          -0.6458383516302336,
          -1.7510201157210288,
          -0.3198383314567181,
          -1.4596407954660398,
          0.3245641073323002,
          -0.43057562980432634,
          -1.1280657628897408,
          -0.46563576744897517,
          1.2702245745656184,
          -0.21965273572097788,
          -0.6328920510936797,
          -0.6988975412606968,
          0.7686819591582681,
          -0.8578855206836876,
          -0.6751035437408781,
          -0.4860554777818974,
          -0.6387093576147185,
          -2.3003554276697606,
          -1.4089869637399506,
          0.5329524166170272,
          -0.5503229283988345,
          0.2649669251071371,
          0.16553005113670288,
          -1.7294067262714854,
          -1.5577347517846185,
          0.767282180352976,
          1.2004658861734063,
          1.4061401453545943,
          -2.35019320359805,
          -0.08627299783939914,
          0.8446557092574335,
          -0.6487851809748283,
          -1.7149594650926832,
          0.0013927407355500323,
          -0.6547324029555944,
          -0.6716498259605344,
          -0.23597623740894375,
          0.9064187971729887,
          0.8189954933017434,
          -3.965753596410908,
          -0.11703497197782761,
          -2.2567515427796647,
          -0.09410452304932253,
          0.38125867172018074,
          2.697646336612399,
          0.5131120537669309,
          0.9959213711304576,
          -1.240268993045711,
          1.5628972442439983,
          -1.0607416100157343,
          -2.2567515427796647,
          -0.9567877399978003,
          -1.7290648744164634,
          0.20449305184851368,
          -1.423900417611846,
          0.24505719072753335,
          -0.25033575125748975,
          -0.05687280290597594,
          -0.06143591839480758,
          0.738566949401593,
          0.21719128364849868,
          0.7781800659952578,
          -0.6563513629989127,
          0.6651735153459136,
          -0.8660248605849094,
          0.10023142404119102,
          0.435556997539726,
          -0.20416279444805763,
          -0.23066117701024969,
          -0.8316304566337285,
          0.7676614983898056,
          -0.24079201735998598,
          -0.26152158860559926,
          -0.4112232069567608,
          -0.8988800994715404,
          0.3336941223407035,
          0.6860578631441834,
          -0.4951214050625928,
          -0.05956019009530116,
          0.12075812107373271,
          0.44441784379878774,
          -0.6616514069680515,
          -1.411753952298212,
          0.2781575732523075,
          1.2439293597589156,
          -0.23523107582540861,
          -1.2922767646910283,
          0.13248114283798063,
          -0.5926544520710968,
          3.1162867697322634,
          0.23782341079723765,
          -0.6096458997580968,
          -0.6930003232440008,
          -1.1323136221586472,
          2.198696819625904,
          1.1580810480104022,
          1.2457790474239898,
          2.390098384649924,
          0.24373481668966596,
          1.0924350472163011,
          0.29035429531492174,
          -0.22221128725046008,
          1.8975682273569154,
          0.021286560459714356,
          1.3744385074292973,
          0.01571081049752999,
          1.9290845928997922,
          0.19741899494320078,
          2.3161896559614834,
          0.8430468316977237,
          0.7314162765751071,
          -0.7154802731599018,
          -2.200464925014331,
          0.7920409187021256,
          -0.5335446105803933,
          -0.6116306323663963,
          3.603182112776722,
          1.0162723217827367,
          2.5978306373195386,
          1.0108598689274595,
          1.0938512321728917,
          2.251323592944939,
          1.5770042098068637,
          1.346752702755335,
          4.185024132169872,
          2.0897495005941056,
          1.038383244391957,
          2.350845883738035,
          1.2583716721302391,
          0.7401609265457808,
          2.160228863385684,
          -1.7852850671989036,
          1.0456398874007051,
          0.0281541772878744,
          -0.9361637998069979,
          -0.5220718237448779,
          3.5139698314658863,
          1.1131804574029134,
          2.537556457175947,
          -0.29017001406721843,
          -0.5300761897294438,
          -0.25693064754724604,
          -0.31426621774134506,
          2.5566765197541934,
          -0.03293520236964076,
          -0.19885795871475256,
          2.4016454281870874,
          1.035177826791819,
          0.6444849876155515,
          0.028306074933143785,
          -2.116290243984474,
          0.0023635999375389905,
          0.11962982789440227,
          -2.347549242540533,
          -0.9201381858245026,
          -0.9743563680480029,
          0.6855028852755772,
          1.1370901144624268,
          0.5578793427893982,
          0.2654487617243393,
          1.402657428801809,
          -1.1982458217628,
          -0.459839980998595,
          0.004144946964961249,
          -0.12385926837783191,
          0.9074993270322179,
          2.9661176348304337,
          0.23373058553335144,
          -1.0639389150223277,
          -0.4622098125985708,
          -0.29805267115109607,
          -0.5943153326486947,
          -1.6613392304245769,
          -0.36790667229535573,
          -1.0497134604561382,
          -1.3494016832394526,
          0.7991499058784424,
          -1.6325913148629312,
          1.6707445011481465,
          -0.9660544362186664,
          -0.6556564907066484,
          -2.0606593454143654,
          -0.9655688502559298,
          -0.6386814446471746,
          0.39223597708810365,
          -0.8850916940287193,
          -0.37443829851879074,
          -0.877685111506058,
          1.0174448376284797,
          -1.5475653090428982,
          -0.34767541953337056,
          0.7476935362147719,
          -1.7158149473483124,
          -0.10726619418296292,
          1.1371005994234749,
          1.1252714892569775,
          -3.393722940762158,
          2.0080019600142682,
          0.34064027018072207,
          -1.937835895681661,
          -1.6406240108949242,
          0.3611379628164937,
          -0.11848794556724368,
          -1.3859775972109294,
          -0.801082531343606,
          -0.6575570841874522,
          -0.8394366975160804,
          -0.5271531372802959,
          -0.611421277488058,
          1.5845151521137255,
          -0.4643760537535928,
          -1.3018832532958402,
          -1.1516668256705385,
          -0.8751633821228636,
          -0.8847666158004623,
          -1.169323386379571,
          1.7741759054637432,
          -0.08797624049417771,
          0.0031216044997829247,
          -0.21948269271775817,
          -1.4655689988816671,
          -1.5463730166337193,
          0.40327617661500814,
          0.7755578306120943,
          -0.70596579061629,
          0.5503898665299497,
          -1.1182317836598308,
          0.5624036751698462,
          -1.454991112591586,
          -0.6621999979037603,
          -0.4681495641372776,
          -0.4870410138231996,
          0.3301093954190269,
          1.0408259298766651,
          1.4738730430602947,
          0.515653188906145,
          -0.01571567175588145,
          0.6860578631441834,
          1.2872874286237397,
          -1.7328518095993404,
          0.6959769757292268,
          -0.007669339267967622,
          -0.026276856447329647,
          -2.3639641186732727,
          1.1631494108116498,
          -1.963869438165939,
          0.5622885515036888,
          -1.1870319739345856,
          -1.2154061426403062,
          -1.4566505898126147,
          -2.2659149056848746,
          0.1794845077670376,
          0.098553303311487,
          0.7424716521704824,
          -0.08219381352159823,
          -0.823635861121468,
          -0.48352969560009046,
          -0.16310794825620245,
          -1.3903335627467295,
          -0.252390039017783,
          0.4873161663950976,
          -0.4786048260815308,
          -0.3195944017333605,
          -0.42283836051147533,
          0.46157248994392036,
          1.3345949133414936,
          2.1353388542792677,
          -1.2603689420633668,
          0.6396464239450949,
          0.7174376136046099,
          2.345272967063733,
          1.3733289406188702,
          -0.5966630580451405,
          -0.8228496570941342,
          -2.4169422454436003,
          0.9336350514741294,
          0.9336350514741294,
          0.23664873280865223,
          1.238691114648769,
          -0.5418841654097452,
          0.8575279188846292,
          -0.7605992017394514,
          -0.23040106781687575,
          0.5411367955330919,
          1.361841351970975,
          2.4571862199258594,
          -1.4898216303774803,
          -1.0689235689502807,
          -2.0465134097188793,
          -0.9547823761436198,
          0.8758128302585253,
          -0.5020453808359144,
          -0.8450034896699785,
          -1.1505866051408806,
          -1.0162719172751997,
          -0.66331428812162,
          -1.6697928510711915,
          -1.353373890288779,
          -0.9919352561058714,
          -1.0803934023175574,
          -0.6401416299877914,
          -1.3024094498395513,
          -1.5274633223822707,
          -1.881636991596236,
          -0.6241541934765724,
          -1.1087513872616184,
          -1.093743778545185,
          -0.576965556910766,
          1.350116593760211,
          -0.6835707776461979,
          -0.21333495891230805,
          -1.720888166739296,
          0.6069933473401382,
          -0.948557890908825,
          0.3406380049689784,
          -0.6728024875104743,
          0.009588568549987839,
          -0.3318682072964206,
          1.2099337331859215,
          -0.04351653889015328,
          0.4724973084177488,
          0.16670061782509793,
          -0.459839980998595,
          0.8379678502770371,
          -1.866808391639634,
          0.3913490107035047,
          0.030032344428860172,
          0.3334601091239046,
          -0.4109946285590805,
          -0.7476281108276696,
          -0.5327999702766598,
          1.4165753877023464,
          -0.9778755269931457,
          0.5343302360287044,
          -1.1023076661037057,
          -0.8610990263499421,
          -0.7747711983975591,
          -0.14363907758537175,
          -0.9146586648127373,
          -0.9765413938527034,
          -1.7663661393860068,
          -1.1307289608189774,
          -0.7087335536763935,
          -0.5947383472184753,
          0.07306755370479472,
          -1.5158796949645619,
          0.6613108686606781,
          1.1286274880828167,
          -2.0581977671876985,
          1.0677052103269231,
          -0.30124592352344176,
          0.4257801498878047,
          -0.4026393357126648,
          0.29896759070687856,
          1.6285636697961763,
          -0.6663501829263644,
          1.86643346837399,
          2.4203579302843825,
          -1.109234749299672,
          0.3200841475174349,
          0.031691890126978414,
          1.1160776457145425,
          -0.4394565205823331,
          2.0898309796232177,
          -0.7570751399473803,
          -0.7746598120563291,
          -0.3865389189137337,
          0.25707335983406915,
          0.06329890129218542,
          0.33736198173459125,
          0.22643180698531182,
          -1.354610726080657,
          0.8002025039600892,
          -0.8889081107644085,
          -0.7286812887095776,
          1.3078694865346485,
          -0.6114302591907731,
          0.5466667600703207,
          1.8234840719083276,
          2.2518211503014918,
          1.5327451810884472,
          1.6920378828976892,
          0.7022921431888598,
          1.9109285289174893,
          0.2804484614653249,
          -1.0498417887903464,
          3.603182112776722,
          -0.5242582112536089,
          0.7861182653546203,
          2.0403271912218037,
          0.16893016132376149,
          -0.08526345403740719,
          -0.01102414073962963,
          -0.791675538642383,
          -1.2147270836405069,
          0.7724463413233443,
          -0.30374574130359416,
          -2.3335427199807506,
          -0.3562168495073644,
          0.12430303586946574,
          -1.1706210899866956,
          -2.3606274464677366,
          -1.6367819175495621,
          -0.5023576395671446,
          -2.730925832158355,
          -1.2423446127955202,
          -0.8386470327706337,
          -1.0079198521398585,
          -0.22761893527392557,
          -0.4216055322863328,
          -0.9631389674046085,
          2.489831978249963,
          0.7343740197596864,
          2.1153640634076183,
          0.1372487388050834,
          1.0125213152896386,
          -0.37005291574945576,
          -1.7815300896312845,
          -1.188730482761493,
          -0.2404274433168948,
          -0.6167239342012055,
          -0.9734476761826607,
          -0.568890647744474,
          -0.4861672206217966,
          1.0076600514519924,
          -0.30150576336683393,
          0.12897294715117677,
          2.530930018505618,
          0.9337858603263653,
          0.8418091510500221,
          -0.9333434321358256,
          -0.1939749631170651,
          -0.5671126380023025,
          1.5106561492724926,
          0.18074855667507683,
          -1.046362782222971,
          -0.7333067303892993,
          -1.0246191375816276,
          0.8689648267049014,
          2.4131387627924785,
          -1.0475814842246278,
          0.9736919192976625,
          1.7212392934745602,
          -1.3429003712914214,
          -0.5792383396463358,
          1.3474157429635794,
          1.2378265189856137,
          -0.627734490543866,
          -0.46693744531297715,
          -0.619543801452286,
          1.4249282490014088,
          0.964338107750591,
          0.11165727459268053,
          0.964338107750591,
          -0.12094841593244944,
          -0.4345154977397188,
          -0.8717228134320282,
          0.1507974647085952,
          0.27797908953691763,
          1.1894891272965926,
          0.13692337593368775,
          2.295129874378309,
          -1.2426905814373934,
          -0.34856941623503657,
          0.3027643122628114,
          -0.9565041870588183,
          -0.03455778115238355,
          -0.2352821550030324,
          -0.287711606523074,
          0.33490144838208746,
          -0.5519801147930525,
          -1.6671675160620294,
          0.34836557143281127,
          -0.6829322826912646,
          0.10279951612119743,
          -1.9959511402427077,
          0.26851184677195183,
          1.994616924866821,
          1.8483060822592712,
          1.0554925588676236,
          0.21879040449048218,
          -0.13570197581660715,
          0.9851968861900025,
          1.0680519747125823,
          -0.9423944222871224,
          -1.3267365895545915,
          0.23792831775974185,
          1.090673035438092,
          0.8260360840052882,
          -0.1146172395106155,
          1.8404077114195627,
          1.08235409199407,
          -0.8687738626484459,
          -0.5914828614287021,
          -0.8089063660175047,
          0.6170449549147401,
          -0.03580072293818571,
          1.5913428281037107,
          1.3560670015995675,
          -1.6287481707392586,
          -1.293349042832219,
          -0.6763485851962383,
          1.1830106693009672,
          0.6030493268732672,
          0.382390483715774,
          3.024148516645299,
          1.4320445004928848,
          0.3422829734150187,
          -1.4187000715910494,
          1.6814999864821383,
          2.7994210517958242,
          -0.04549238763922557,
          0.46574141694873633,
          1.4198239456029393,
          0.5888953615807223,
          1.0444386933204335,
          0.5964434905315018,
          0.08844995393029563,
          -0.04549238763922557,
          0.8977977758332181,
          -0.16885058170458406,
          0.5983088128366463,
          0.6667441748139556,
          0.1148524739915609,
          -2.57692520530168,
          0.23909640755806114,
          2.248756190662396,
          2.5387340249432437,
          -0.05632591154783327,
          0.5964434905315018,
          1.9783020811682746,
          1.3560670015995675,
          2.9160689759183773,
          -0.6225797561996664,
          0.25594206718460233,
          -0.29072442076003796,
          0.3757386950204449,
          1.5556309456722153,
          0.4506309276092242,
          0.7757854374142272,
          0.07431941987263728,
          -1.308092523098241,
          -1.3524345982935697,
          0.2936091768199983,
          3.3099155081569447,
          -0.5551636406866725,
          0.5675987166081065,
          2.6461398776378893,
          0.03399799833089634,
          0.678604005661554,
          0.14923360423841261,
          -0.4559136008402421,
          2.9465579423623565,
          1.9486015356312543,
          0.6937156146030246,
          -0.6479161411275285,
          -0.1683264356040666,
          0.9206331889506487,
          -0.4507613510772782,
          -1.623854810793242,
          -1.7149594650926832,
          0.8246937348674293,
          -0.6046810983191557,
          0.9951455987502036,
          -0.4943961431689736,
          -0.19789301436615436,
          -0.1776336120395288,
          -0.08113594162833297,
          -3.5919281845082534,
          0.015192898637175812,
          0.4183237628628018,
          -1.3430396251065224,
          -1.1533387805480813,
          -1.5144988077562573,
          -1.5909581557697052,
          -2.345699961945217,
          0.518792945509983,
          -2.006887843116536,
          -1.5610744785887463,
          0.4027243215517703,
          0.3885717411713817,
          2.4711907619370588,
          -0.21414035832917977,
          3.00204295813908,
          2.4311389903409237,
          2.8822811672315214,
          0.9642980521378565,
          0.007995287376183529,
          -1.4448575644382045,
          -0.2155865258574762,
          -1.0494337432873828,
          -0.1688143132993549,
          -0.7392065333258862,
          2.179099357735236,
          -1.082026356732058,
          -0.5618613817516005,
          0.05919103367562504,
          -1.0420534653157885,
          0.12324047273321315,
          -0.06624184533439097,
          -1.5632894769170866,
          -0.20455517338153004,
          -0.2825690317516727,
          -1.737347289424939,
          -1.0465870893288522,
          0.5718932501658407,
          0.031844458972236235,
          -0.012659131268620186,
          1.0406554362647789,
          2.080718977326507,
          -2.221579005793502,
          -1.2942306228088347,
          -0.9232671973085139,
          1.6648500226504839,
          -2.251716443317534,
          2.227919979383778,
          -1.4934305722339827,
          0.06759763053873866,
          -0.4220085249074859,
          -1.6224994565962727,
          -0.8568498421627413,
          -1.715611908351697,
          -0.40181400052585076,
          -1.9183111465675233,
          -1.0284176661154831,
          0.5662509076481913,
          -1.936092129048507,
          -1.3661970267771624,
          -0.47905326674772125,
          1.5323961175618492,
          0.6372584903149975,
          1.373379897638389,
          -0.5126351469976393,
          -0.47065776417615374,
          0.0005851604650558191,
          0.8136001906911903,
          0.38997026358277437,
          -0.39546104811196825,
          -1.5825523645928814,
          -0.9178690058179525,
          -0.38203090899092385,
          0.15708317010829598,
          -0.9806604314366222,
          1.2573912397734008,
          0.5631582113333857,
          1.1114556668423152,
          0.1930943075400792,
          -3.0573576367230806,
          -2.7964050900954343,
          0.44419319813298824,
          -0.5425621727635137,
          -0.8201583062849643,
          0.3751431940363812,
          -1.0223780840942382,
          -0.607071287647228,
          -0.962449206877955,
          -2.023747135601467,
          -0.08741851902060419,
          -0.20462864179538945,
          -0.08910926007141488,
          -2.0591628392523136,
          -1.1745357862551777,
          -0.6346088648189899,
          -0.549174573545592,
          0.5095716897531233,
          0.8065406104992414,
          0.7411803149126481,
          -0.8558821629061238,
          -0.3657681542279291,
          -0.5309994855824128,
          -0.521399451920894,
          -0.8095689157079915,
          1.1265825463110517,
          -0.20982947444075326,
          -1.1323946066926887,
          0.22119401719295226,
          -1.1950493627964516,
          1.4025390812695417,
          -0.5757347764161708,
          -0.726486910637437,
          -0.7415878471844194,
          0.06951336384573194,
          -0.20446565868521052,
          -0.01879031406313722,
          0.03139289071178959,
          0.35067005623607395,
          -1.1128956328696047,
          1.8195868927959178,
          1.871301395156877,
          1.9181525956534933,
          -1.7186688480437666,
          0.8757893106119153,
          0.17563027053701138,
          -0.6929183840508935,
          -0.2872600209762631,
          0.20809406613316966,
          1.7764954026041309,
          -0.40857318509327395,
          0.029405535122961665,
          0.30289029594966416,
          0.992358370766577,
          0.4337799548368586,
          -1.3564329550862635,
          0.5863758368736323,
          2.923932736424932,
          1.0230580147774817,
          0.8397768146241372,
          2.5716091789550597,
          -0.39274683629951157,
          0.3103645893388271,
          1.2122221199360652,
          -0.9105271986614457,
          -0.4231354934946333,
          -1.5022933704705304,
          -0.39581140385400465,
          0.11057980583580505,
          -1.1364627595215073,
          0.9890710951795667,
          1.6893322614019706,
          0.9299479085907879,
          -0.4525968776137774,
          -0.7448746955627233,
          1.857421981839317,
          0.3162113284328069,
          -3.5919281845082534,
          -2.771569951986064,
          -1.0936649608603821,
          -0.8987367758535378,
          -0.7144851932041149,
          0.08471793830475347,
          3.4023252585367234,
          0.5915376393811417,
          0.1959460261916818,
          0.03596508498121741,
          -0.7572787491134738,
          0.4800421604906762,
          0.5277834265150191,
          -0.0702995198805366,
          -2.6459203144839623,
          -1.3983743516341565,
          -1.7875077633778873,
          0.8485646204971742,
          1.205932979210661,
          -1.7241610708089123,
          -0.4721562361789356,
          -0.820698087830448,
          -0.9083842640904399,
          -0.7454847813329046,
          -0.7426614340923887,
          -0.5761116798393056,
          1.2630604906993101,
          -0.9648409921390916,
          0.1936862231344013,
          0.9996039142658486,
          1.1575246422378045,
          -1.0936649608603821,
          -1.0936649608603821,
          3.024148516645299,
          1.58173316842686,
          1.6452582761714494,
          -2.4045788380748374,
          -2.4574249906447085,
          -0.547571572591134,
          -1.3098373709567714,
          -2.0126521925813567,
          -2.4620510303808425,
          0.48391822240133175,
          -1.4091483830778577,
          -1.555787843924433,
          -1.7104659017896533,
          -0.14939377576964907,
          -2.002703398075282,
          -2.220458417816705,
          -0.9119564427723738,
          -2.2209031233141734,
          -1.7536558307851053,
          -1.376443720504267,
          -2.5396808993309925,
          -1.9288195091233955,
          0.4586528028759607,
          -0.7370750659682053,
          -1.4238717798777543,
          0.3131378501572331,
          0.03164626132905411,
          -0.9437787672942021,
          0.42203314767341826,
          -0.1918911909384092,
          -0.521167904818491,
          1.8836076923570373,
          1.2546259176505108,
          -1.7980071100359751,
          1.604658133395807,
          0.5308244007763755,
          -1.467705069239334,
          -0.07553356999426578,
          -0.9371300061780334,
          0.9744129361419297,
          1.0808327860734253,
          -1.3498838940521116,
          -2.6382976097380877,
          1.1075741810946953,
          -1.1968544636420653,
          -0.04985157001773365,
          -1.3368586236919506,
          3.380206235874211,
          -0.9362765548657946,
          -0.8512302225203618,
          0.8312994793303612,
          1.1474159317775225,
          0.8692814620397299,
          -0.06373150398819453,
          -0.4524259118905687,
          -1.0487895677819885,
          -0.9786629053950869,
          -1.1203219593181082,
          -0.6009018213810909,
          0.41862414869311565,
          -0.3053760309640843,
          0.18024535423151175,
          -0.08741851902060419,
          -2.1446915046004675,
          0.8614420346143528,
          0.1307140789749226,
          -0.22775045896727816,
          1.1093919174553248,
          0.5061696894655032,
          2.5114509290464606,
          -0.3562583850385015,
          0.26395567276692306,
          0.27161526261914476,
          -0.33962311293372793,
          0.8138121170061807,
          1.64521143998989,
          1.2386818562700985,
          0.8050649466533375,
          0.5777097466141742,
          -0.7454513238920487,
          0.7691464789300272,
          -0.2300995333427995,
          -1.1625225503153782,
          1.0967477999866961,
          -0.7762878624655957,
          -0.5844671710446084,
          -0.6061979063641791,
          -1.4869471807666155,
          1.7503448743454812,
          -0.6151603064563368,
          -1.6531344263407721,
          0.7427151707507365,
          -0.7054157806980517,
          -0.03251912330296462,
          -2.3414449224888605,
          1.8408479769371713,
          0.41506437622651454,
          -0.5229064046857326,
          -0.01712586072171426,
          -1.3049828462456532,
          -1.089725570464691,
          -3.6952327527777555,
          -1.3907085464763493
         ],
         "yaxis": "y"
        }
       ],
       "layout": {
        "coloraxis": {
         "colorbar": {
          "title": {
           "text": "cluster_pca"
          }
         },
         "colorscale": [
          [
           0,
           "#0d0887"
          ],
          [
           0.1111111111111111,
           "#46039f"
          ],
          [
           0.2222222222222222,
           "#7201a8"
          ],
          [
           0.3333333333333333,
           "#9c179e"
          ],
          [
           0.4444444444444444,
           "#bd3786"
          ],
          [
           0.5555555555555556,
           "#d8576b"
          ],
          [
           0.6666666666666666,
           "#ed7953"
          ],
          [
           0.7777777777777778,
           "#fb9f3a"
          ],
          [
           0.8888888888888888,
           "#fdca26"
          ],
          [
           1,
           "#f0f921"
          ]
         ]
        },
        "legend": {
         "tracegroupgap": 0
        },
        "margin": {
         "t": 60
        },
        "template": {
         "data": {
          "bar": [
           {
            "error_x": {
             "color": "#2a3f5f"
            },
            "error_y": {
             "color": "#2a3f5f"
            },
            "marker": {
             "line": {
              "color": "#E5ECF6",
              "width": 0.5
             },
             "pattern": {
              "fillmode": "overlay",
              "size": 10,
              "solidity": 0.2
             }
            },
            "type": "bar"
           }
          ],
          "barpolar": [
           {
            "marker": {
             "line": {
              "color": "#E5ECF6",
              "width": 0.5
             },
             "pattern": {
              "fillmode": "overlay",
              "size": 10,
              "solidity": 0.2
             }
            },
            "type": "barpolar"
           }
          ],
          "carpet": [
           {
            "aaxis": {
             "endlinecolor": "#2a3f5f",
             "gridcolor": "white",
             "linecolor": "white",
             "minorgridcolor": "white",
             "startlinecolor": "#2a3f5f"
            },
            "baxis": {
             "endlinecolor": "#2a3f5f",
             "gridcolor": "white",
             "linecolor": "white",
             "minorgridcolor": "white",
             "startlinecolor": "#2a3f5f"
            },
            "type": "carpet"
           }
          ],
          "choropleth": [
           {
            "colorbar": {
             "outlinewidth": 0,
             "ticks": ""
            },
            "type": "choropleth"
           }
          ],
          "contour": [
           {
            "colorbar": {
             "outlinewidth": 0,
             "ticks": ""
            },
            "colorscale": [
             [
              0,
              "#0d0887"
             ],
             [
              0.1111111111111111,
              "#46039f"
             ],
             [
              0.2222222222222222,
              "#7201a8"
             ],
             [
              0.3333333333333333,
              "#9c179e"
             ],
             [
              0.4444444444444444,
              "#bd3786"
             ],
             [
              0.5555555555555556,
              "#d8576b"
             ],
             [
              0.6666666666666666,
              "#ed7953"
             ],
             [
              0.7777777777777778,
              "#fb9f3a"
             ],
             [
              0.8888888888888888,
              "#fdca26"
             ],
             [
              1,
              "#f0f921"
             ]
            ],
            "type": "contour"
           }
          ],
          "contourcarpet": [
           {
            "colorbar": {
             "outlinewidth": 0,
             "ticks": ""
            },
            "type": "contourcarpet"
           }
          ],
          "heatmap": [
           {
            "colorbar": {
             "outlinewidth": 0,
             "ticks": ""
            },
            "colorscale": [
             [
              0,
              "#0d0887"
             ],
             [
              0.1111111111111111,
              "#46039f"
             ],
             [
              0.2222222222222222,
              "#7201a8"
             ],
             [
              0.3333333333333333,
              "#9c179e"
             ],
             [
              0.4444444444444444,
              "#bd3786"
             ],
             [
              0.5555555555555556,
              "#d8576b"
             ],
             [
              0.6666666666666666,
              "#ed7953"
             ],
             [
              0.7777777777777778,
              "#fb9f3a"
             ],
             [
              0.8888888888888888,
              "#fdca26"
             ],
             [
              1,
              "#f0f921"
             ]
            ],
            "type": "heatmap"
           }
          ],
          "heatmapgl": [
           {
            "colorbar": {
             "outlinewidth": 0,
             "ticks": ""
            },
            "colorscale": [
             [
              0,
              "#0d0887"
             ],
             [
              0.1111111111111111,
              "#46039f"
             ],
             [
              0.2222222222222222,
              "#7201a8"
             ],
             [
              0.3333333333333333,
              "#9c179e"
             ],
             [
              0.4444444444444444,
              "#bd3786"
             ],
             [
              0.5555555555555556,
              "#d8576b"
             ],
             [
              0.6666666666666666,
              "#ed7953"
             ],
             [
              0.7777777777777778,
              "#fb9f3a"
             ],
             [
              0.8888888888888888,
              "#fdca26"
             ],
             [
              1,
              "#f0f921"
             ]
            ],
            "type": "heatmapgl"
           }
          ],
          "histogram": [
           {
            "marker": {
             "pattern": {
              "fillmode": "overlay",
              "size": 10,
              "solidity": 0.2
             }
            },
            "type": "histogram"
           }
          ],
          "histogram2d": [
           {
            "colorbar": {
             "outlinewidth": 0,
             "ticks": ""
            },
            "colorscale": [
             [
              0,
              "#0d0887"
             ],
             [
              0.1111111111111111,
              "#46039f"
             ],
             [
              0.2222222222222222,
              "#7201a8"
             ],
             [
              0.3333333333333333,
              "#9c179e"
             ],
             [
              0.4444444444444444,
              "#bd3786"
             ],
             [
              0.5555555555555556,
              "#d8576b"
             ],
             [
              0.6666666666666666,
              "#ed7953"
             ],
             [
              0.7777777777777778,
              "#fb9f3a"
             ],
             [
              0.8888888888888888,
              "#fdca26"
             ],
             [
              1,
              "#f0f921"
             ]
            ],
            "type": "histogram2d"
           }
          ],
          "histogram2dcontour": [
           {
            "colorbar": {
             "outlinewidth": 0,
             "ticks": ""
            },
            "colorscale": [
             [
              0,
              "#0d0887"
             ],
             [
              0.1111111111111111,
              "#46039f"
             ],
             [
              0.2222222222222222,
              "#7201a8"
             ],
             [
              0.3333333333333333,
              "#9c179e"
             ],
             [
              0.4444444444444444,
              "#bd3786"
             ],
             [
              0.5555555555555556,
              "#d8576b"
             ],
             [
              0.6666666666666666,
              "#ed7953"
             ],
             [
              0.7777777777777778,
              "#fb9f3a"
             ],
             [
              0.8888888888888888,
              "#fdca26"
             ],
             [
              1,
              "#f0f921"
             ]
            ],
            "type": "histogram2dcontour"
           }
          ],
          "mesh3d": [
           {
            "colorbar": {
             "outlinewidth": 0,
             "ticks": ""
            },
            "type": "mesh3d"
           }
          ],
          "parcoords": [
           {
            "line": {
             "colorbar": {
              "outlinewidth": 0,
              "ticks": ""
             }
            },
            "type": "parcoords"
           }
          ],
          "pie": [
           {
            "automargin": true,
            "type": "pie"
           }
          ],
          "scatter": [
           {
            "fillpattern": {
             "fillmode": "overlay",
             "size": 10,
             "solidity": 0.2
            },
            "type": "scatter"
           }
          ],
          "scatter3d": [
           {
            "line": {
             "colorbar": {
              "outlinewidth": 0,
              "ticks": ""
             }
            },
            "marker": {
             "colorbar": {
              "outlinewidth": 0,
              "ticks": ""
             }
            },
            "type": "scatter3d"
           }
          ],
          "scattercarpet": [
           {
            "marker": {
             "colorbar": {
              "outlinewidth": 0,
              "ticks": ""
             }
            },
            "type": "scattercarpet"
           }
          ],
          "scattergeo": [
           {
            "marker": {
             "colorbar": {
              "outlinewidth": 0,
              "ticks": ""
             }
            },
            "type": "scattergeo"
           }
          ],
          "scattergl": [
           {
            "marker": {
             "colorbar": {
              "outlinewidth": 0,
              "ticks": ""
             }
            },
            "type": "scattergl"
           }
          ],
          "scattermapbox": [
           {
            "marker": {
             "colorbar": {
              "outlinewidth": 0,
              "ticks": ""
             }
            },
            "type": "scattermapbox"
           }
          ],
          "scatterpolar": [
           {
            "marker": {
             "colorbar": {
              "outlinewidth": 0,
              "ticks": ""
             }
            },
            "type": "scatterpolar"
           }
          ],
          "scatterpolargl": [
           {
            "marker": {
             "colorbar": {
              "outlinewidth": 0,
              "ticks": ""
             }
            },
            "type": "scatterpolargl"
           }
          ],
          "scatterternary": [
           {
            "marker": {
             "colorbar": {
              "outlinewidth": 0,
              "ticks": ""
             }
            },
            "type": "scatterternary"
           }
          ],
          "surface": [
           {
            "colorbar": {
             "outlinewidth": 0,
             "ticks": ""
            },
            "colorscale": [
             [
              0,
              "#0d0887"
             ],
             [
              0.1111111111111111,
              "#46039f"
             ],
             [
              0.2222222222222222,
              "#7201a8"
             ],
             [
              0.3333333333333333,
              "#9c179e"
             ],
             [
              0.4444444444444444,
              "#bd3786"
             ],
             [
              0.5555555555555556,
              "#d8576b"
             ],
             [
              0.6666666666666666,
              "#ed7953"
             ],
             [
              0.7777777777777778,
              "#fb9f3a"
             ],
             [
              0.8888888888888888,
              "#fdca26"
             ],
             [
              1,
              "#f0f921"
             ]
            ],
            "type": "surface"
           }
          ],
          "table": [
           {
            "cells": {
             "fill": {
              "color": "#EBF0F8"
             },
             "line": {
              "color": "white"
             }
            },
            "header": {
             "fill": {
              "color": "#C8D4E3"
             },
             "line": {
              "color": "white"
             }
            },
            "type": "table"
           }
          ]
         },
         "layout": {
          "annotationdefaults": {
           "arrowcolor": "#2a3f5f",
           "arrowhead": 0,
           "arrowwidth": 1
          },
          "autotypenumbers": "strict",
          "coloraxis": {
           "colorbar": {
            "outlinewidth": 0,
            "ticks": ""
           }
          },
          "colorscale": {
           "diverging": [
            [
             0,
             "#8e0152"
            ],
            [
             0.1,
             "#c51b7d"
            ],
            [
             0.2,
             "#de77ae"
            ],
            [
             0.3,
             "#f1b6da"
            ],
            [
             0.4,
             "#fde0ef"
            ],
            [
             0.5,
             "#f7f7f7"
            ],
            [
             0.6,
             "#e6f5d0"
            ],
            [
             0.7,
             "#b8e186"
            ],
            [
             0.8,
             "#7fbc41"
            ],
            [
             0.9,
             "#4d9221"
            ],
            [
             1,
             "#276419"
            ]
           ],
           "sequential": [
            [
             0,
             "#0d0887"
            ],
            [
             0.1111111111111111,
             "#46039f"
            ],
            [
             0.2222222222222222,
             "#7201a8"
            ],
            [
             0.3333333333333333,
             "#9c179e"
            ],
            [
             0.4444444444444444,
             "#bd3786"
            ],
            [
             0.5555555555555556,
             "#d8576b"
            ],
            [
             0.6666666666666666,
             "#ed7953"
            ],
            [
             0.7777777777777778,
             "#fb9f3a"
            ],
            [
             0.8888888888888888,
             "#fdca26"
            ],
            [
             1,
             "#f0f921"
            ]
           ],
           "sequentialminus": [
            [
             0,
             "#0d0887"
            ],
            [
             0.1111111111111111,
             "#46039f"
            ],
            [
             0.2222222222222222,
             "#7201a8"
            ],
            [
             0.3333333333333333,
             "#9c179e"
            ],
            [
             0.4444444444444444,
             "#bd3786"
            ],
            [
             0.5555555555555556,
             "#d8576b"
            ],
            [
             0.6666666666666666,
             "#ed7953"
            ],
            [
             0.7777777777777778,
             "#fb9f3a"
            ],
            [
             0.8888888888888888,
             "#fdca26"
            ],
            [
             1,
             "#f0f921"
            ]
           ]
          },
          "colorway": [
           "#636efa",
           "#EF553B",
           "#00cc96",
           "#ab63fa",
           "#FFA15A",
           "#19d3f3",
           "#FF6692",
           "#B6E880",
           "#FF97FF",
           "#FECB52"
          ],
          "font": {
           "color": "#2a3f5f"
          },
          "geo": {
           "bgcolor": "white",
           "lakecolor": "white",
           "landcolor": "#E5ECF6",
           "showlakes": true,
           "showland": true,
           "subunitcolor": "white"
          },
          "hoverlabel": {
           "align": "left"
          },
          "hovermode": "closest",
          "mapbox": {
           "style": "light"
          },
          "paper_bgcolor": "white",
          "plot_bgcolor": "#E5ECF6",
          "polar": {
           "angularaxis": {
            "gridcolor": "white",
            "linecolor": "white",
            "ticks": ""
           },
           "bgcolor": "#E5ECF6",
           "radialaxis": {
            "gridcolor": "white",
            "linecolor": "white",
            "ticks": ""
           }
          },
          "scene": {
           "xaxis": {
            "backgroundcolor": "#E5ECF6",
            "gridcolor": "white",
            "gridwidth": 2,
            "linecolor": "white",
            "showbackground": true,
            "ticks": "",
            "zerolinecolor": "white"
           },
           "yaxis": {
            "backgroundcolor": "#E5ECF6",
            "gridcolor": "white",
            "gridwidth": 2,
            "linecolor": "white",
            "showbackground": true,
            "ticks": "",
            "zerolinecolor": "white"
           },
           "zaxis": {
            "backgroundcolor": "#E5ECF6",
            "gridcolor": "white",
            "gridwidth": 2,
            "linecolor": "white",
            "showbackground": true,
            "ticks": "",
            "zerolinecolor": "white"
           }
          },
          "shapedefaults": {
           "line": {
            "color": "#2a3f5f"
           }
          },
          "ternary": {
           "aaxis": {
            "gridcolor": "white",
            "linecolor": "white",
            "ticks": ""
           },
           "baxis": {
            "gridcolor": "white",
            "linecolor": "white",
            "ticks": ""
           },
           "bgcolor": "#E5ECF6",
           "caxis": {
            "gridcolor": "white",
            "linecolor": "white",
            "ticks": ""
           }
          },
          "title": {
           "x": 0.05
          },
          "xaxis": {
           "automargin": true,
           "gridcolor": "white",
           "linecolor": "white",
           "ticks": "",
           "title": {
            "standoff": 15
           },
           "zerolinecolor": "white",
           "zerolinewidth": 2
          },
          "yaxis": {
           "automargin": true,
           "gridcolor": "white",
           "linecolor": "white",
           "ticks": "",
           "title": {
            "standoff": 15
           },
           "zerolinecolor": "white",
           "zerolinewidth": 2
          }
         }
        },
        "xaxis": {
         "anchor": "y",
         "domain": [
          0,
          1
         ],
         "title": {
          "text": "x"
         }
        },
        "yaxis": {
         "anchor": "x",
         "domain": [
          0,
          1
         ],
         "title": {
          "text": "y"
         }
        }
       }
      }
     },
     "metadata": {},
     "output_type": "display_data"
    }
   ],
   "source": [
    "fig = px.scatter(\n",
    "    projection, x='x', y='y', color='cluster_pca', hover_data=['x', 'y', 'generos'])\n",
    "fig.show()"
   ]
  },
  {
   "cell_type": "code",
   "execution_count": 46,
   "metadata": {},
   "outputs": [
    {
     "data": {
      "text/plain": [
       "0.4927066994726645"
      ]
     },
     "execution_count": 46,
     "metadata": {},
     "output_type": "execute_result"
    }
   ],
   "source": [
    "# quanto que explica as variaveis do clustering, cerca de 50% dos dados estão sendo explicados pelo modelo\n",
    "pca_pipeline[1].explained_variance_ratio_.sum()"
   ]
  },
  {
   "cell_type": "code",
   "execution_count": 47,
   "metadata": {},
   "outputs": [
    {
     "data": {
      "text/plain": [
       "5.421597305805701"
      ]
     },
     "execution_count": 47,
     "metadata": {},
     "output_type": "execute_result"
    }
   ],
   "source": [
    "# das 11 colunas do dataframe inicial, 5 colunas explicam o modelo\n",
    "pca_pipeline[1].explained_variance_.sum()"
   ]
  },
  {
   "attachments": {},
   "cell_type": "markdown",
   "metadata": {},
   "source": [
    "### Atividade complementar\n",
    "\n",
    "- Alterar o valor de clusters e plotar novamente com o auxilio do plotly."
   ]
  }
 ],
 "metadata": {
  "kernelspec": {
   "display_name": "Python 3",
   "language": "python",
   "name": "python3"
  },
  "language_info": {
   "codemirror_mode": {
    "name": "ipython",
    "version": 3
   },
   "file_extension": ".py",
   "mimetype": "text/x-python",
   "name": "python",
   "nbconvert_exporter": "python",
   "pygments_lexer": "ipython3",
   "version": "3.9.7"
  },
  "orig_nbformat": 4
 },
 "nbformat": 4,
 "nbformat_minor": 2
}
